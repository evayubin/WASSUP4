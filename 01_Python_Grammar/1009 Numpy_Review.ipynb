{
 "cells": [
  {
   "cell_type": "markdown",
   "id": "0c99025e-9e4c-4f83-8064-fd1641fc3ce6",
   "metadata": {},
   "source": [
    "# Review\n",
    "## Numpy"
   ]
  },
  {
   "cell_type": "code",
   "execution_count": 3,
   "id": "7b502424-b3f7-476f-bc48-ee893517b4fa",
   "metadata": {},
   "outputs": [],
   "source": [
    "#정해진 형식의 N차원 배열 생성\n",
    "import numpy as np"
   ]
  },
  {
   "cell_type": "code",
   "execution_count": 13,
   "id": "fda8c6cd-5c0b-492c-838c-5ba84a1601fc",
   "metadata": {},
   "outputs": [
    {
     "name": "stdout",
     "output_type": "stream",
     "text": [
      "[[0. 0.]\n",
      " [0. 0.]]\n",
      "[[1. 1. 1. 1. 1.]\n",
      " [1. 1. 1. 1. 1.]\n",
      " [1. 1. 1. 1. 1.]]\n",
      "[[5 5 5]\n",
      " [5 5 5]]\n",
      "[[1. 0. 0. 0.]\n",
      " [0. 1. 0. 0.]\n",
      " [0. 0. 1. 0.]]\n"
     ]
    }
   ],
   "source": [
    "# np.zeros()\n",
    "arr = np.zeros([2,2])\n",
    "print(arr)\n",
    "\n",
    "# np.ones()\n",
    "arr = np.ones([3,5])\n",
    "print(arr)\n",
    "\n",
    "# np.full()\n",
    "arr = np.full((2,3), 5)\n",
    "print(arr)\n",
    "\n",
    "# np.eye()\n",
    "arr = np.eye(3,4,k=0) #k는 대각선위치 1은 오른쪽으로 -1은 왼쪽으로 | n값을 하나로 지정하면 정방형으로 만들어짐\n",
    "print(arr)"
   ]
  },
  {
   "cell_type": "code",
   "execution_count": 17,
   "id": "5b414af5-89a3-47d3-8982-78142e1f334b",
   "metadata": {},
   "outputs": [
    {
     "name": "stdout",
     "output_type": "stream",
     "text": [
      "[[0 0 0]\n",
      " [0 0 0]]\n",
      "[[1 1 1]\n",
      " [1 1 1]]\n",
      "[[9 9 9]\n",
      " [9 9 9]]\n"
     ]
    }
   ],
   "source": [
    "arr = np.array([[1,2,3],\n",
    "               [4,5,6]])\n",
    "\n",
    "#np.zeros_like()\n",
    "arr_z = np.zeros_like(arr)\n",
    "print(arr_z)\n",
    "\n",
    "#np.ones_like()\n",
    "arr_o = np.ones_like(arr)\n",
    "print(arr_o)\n",
    "\n",
    "#np.full_like()\n",
    "arr_f = np.full_like(arr, 9)\n",
    "print(arr_f)"
   ]
  },
  {
   "cell_type": "code",
   "execution_count": 19,
   "id": "c4697e2d-ad90-4648-880d-e6f6c8997557",
   "metadata": {},
   "outputs": [],
   "source": [
    "# 특정 범위의 값을 가지는 N차원 배열 생성하기\n"
   ]
  },
  {
   "cell_type": "code",
   "execution_count": 21,
   "id": "7c2a774e-31e5-426a-8ecc-83121ecb37af",
   "metadata": {},
   "outputs": [
    {
     "name": "stdout",
     "output_type": "stream",
     "text": [
      "[0, 2, 4, 6, 8]\n"
     ]
    }
   ],
   "source": [
    "lst = list(range(0, 9, 2))\n",
    "print(lst)"
   ]
  },
  {
   "cell_type": "code",
   "execution_count": 37,
   "id": "94f651bd-af8e-4dd1-9d07-458d818ef41b",
   "metadata": {},
   "outputs": [
    {
     "name": "stdout",
     "output_type": "stream",
     "text": [
      "[ 3  6  9 12]\n",
      "[ 2  4  6  8 10]\n"
     ]
    }
   ],
   "source": [
    "# arr = np.arange(start, stop, step) #step은 단계, 수준을 의미함\n",
    "arr = np.arange(9)\n",
    "arr = np.arange(3,13, 3)\n",
    "print(arr)\n",
    "\n",
    "arr = np.arange(start=2,stop=11, step=2)\n",
    "print(arr)"
   ]
  },
  {
   "cell_type": "code",
   "execution_count": 43,
   "id": "d0411410-65ef-45f6-b113-9af1ac049d62",
   "metadata": {},
   "outputs": [
    {
     "name": "stdout",
     "output_type": "stream",
     "text": [
      "[  0.  10.  20.  30.  40.  50.  60.  70.  80.  90. 100.]\n"
     ]
    }
   ],
   "source": [
    "# np.linspace()\n",
    "arr = np.linspace(0, 100, 11) #0~100까지 균등한 간격으로 출력됨. #stop값까지 출력함. arange와 차이점!!\n",
    "print(arr)"
   ]
  },
  {
   "cell_type": "code",
   "execution_count": 47,
   "id": "c9eaa973-d30f-471e-bcc7-118d8ec9b668",
   "metadata": {},
   "outputs": [
    {
     "name": "stdout",
     "output_type": "stream",
     "text": [
      "[ 1.  2.  3.  4.  5.  6.  7.  8.  9. 10.]\n",
      "\n",
      "[   2.    4.    8.   16.   32.   64.  128.  256.  512. 1024.]\n"
     ]
    }
   ],
   "source": [
    "#np.logspace()  #log값이 나옴.\n",
    "arr = np.linspace(1,10,10)\n",
    "print(arr, end=\"\\n\\n\")\n",
    "\n",
    "arr = np.logspace(1, 10,10, base =2)\n",
    "print(arr)"
   ]
  },
  {
   "cell_type": "code",
   "execution_count": null,
   "id": "4feea6b5-f6df-4643-acee-9d49976a8caf",
   "metadata": {},
   "outputs": [],
   "source": [
    "#난수로 이루어진 N차원 배열 생성하기"
   ]
  },
  {
   "cell_type": "code",
   "execution_count": 53,
   "id": "717f8eb6-77b1-48a2-86c9-5f54ed429f21",
   "metadata": {},
   "outputs": [
    {
     "name": "stdout",
     "output_type": "stream",
     "text": [
      "[ 0.11978907  1.38274388 -0.74807482  1.2100506   1.27103308  1.5390882\n",
      "  0.69611392 -0.77604497 -1.01411885 -0.34700386]\n",
      "[[ 0.23729669  0.29468945  0.7160609 ]\n",
      " [-2.15939209 -0.16519988 -0.1479761 ]]\n"
     ]
    }
   ],
   "source": [
    "# arr = np.random.normal() 정규분포 함수에서 밀도를 추출함.\n",
    "# arr = np.random.normal(log. scale, size)\n",
    "arr = np.random.normal(0, 1, 10)\n",
    "print(arr)\n",
    "arr = np.random.normal(0, 1, (2,3))\n",
    "print(arr)"
   ]
  },
  {
   "cell_type": "code",
   "execution_count": 57,
   "id": "dfd0c35a-b99d-47d7-9061-acd9508012b2",
   "metadata": {},
   "outputs": [],
   "source": [
    "import matplotlib.pyplot as plt"
   ]
  },
  {
   "cell_type": "markdown",
   "id": "e37ef74f-8235-4541-bb17-67f1d51468f8",
   "metadata": {},
   "source": [
    "* 균등한 분포 rand()\n",
    "* 정규분포 randn()\n",
    "* 정수 randint()"
   ]
  },
  {
   "cell_type": "code",
   "execution_count": 59,
   "id": "21eb180b-d679-46b9-a08d-343b93a76db3",
   "metadata": {},
   "outputs": [
    {
     "data": {
      "image/png": "[encoded data removed]",
      "text/plain": [
       "<Figure size 640x480 with 1 Axes>"
      ]
     },
     "metadata": {},
     "output_type": "display_data"
    }
   ],
   "source": [
    "arr = np.random.normal(0,1,1000) #1000개의 난수와 100개 구간으로 갯수를 늘린다.\n",
    "plt.hist(arr, bins=100)\n",
    "plt.show()"
   ]
  },
  {
   "cell_type": "code",
   "execution_count": 61,
   "id": "34429243-69a4-42ad-a221-189eaf89df61",
   "metadata": {},
   "outputs": [
    {
     "data": {
      "image/png": "[encoded data removed]",
      "text/plain": [
       "<Figure size 640x480 with 1 Axes>"
      ]
     },
     "metadata": {},
     "output_type": "display_data"
    }
   ],
   "source": [
    "# np.random.rand()\n",
    "arr = np.random.rand(100)\n",
    "plt.hist(arr, bins=100)\n",
    "plt.show()"
   ]
  },
  {
   "cell_type": "code",
   "execution_count": 63,
   "id": "1a79e3eb-5ec8-4ce0-a072-5c0379f84488",
   "metadata": {},
   "outputs": [
    {
     "data": {
      "image/png": "[encoded data removed]",
      "text/plain": [
       "<Figure size 640x480 with 1 Axes>"
      ]
     },
     "metadata": {},
     "output_type": "display_data"
    }
   ],
   "source": [
    "#np.random.randn()\n",
    "arr = np.random.randn(1000)\n",
    "plt.hist(arr, bins = 100)\n",
    "plt.show()"
   ]
  },
  {
   "cell_type": "code",
   "execution_count": 69,
   "id": "a0a1f0f7-ad49-4c35-ab2e-35d3d3e4ac45",
   "metadata": {},
   "outputs": [
    {
     "name": "stdout",
     "output_type": "stream",
     "text": [
      "[2 2 1 1 3 3 4 4 4 2]\n",
      "[[4 2 2]\n",
      " [4 4 2]\n",
      " [4 4 3]]\n",
      "2\n"
     ]
    }
   ],
   "source": [
    "# np.random.randint()\n",
    "arr = np.random.randint(low=1, high=5, size=10) #low~high 까지 size 로 만들어줌.\n",
    "print(arr)\n",
    "arr = np.random.randint(low=1, high=5, size=(3,3)) #low~high 까지 size(배열형성도가능) 로 만들어줌.\n",
    "print(arr)\n",
    "arr = np.random.randint(5)\n",
    "print(arr)"
   ]
  },
  {
   "cell_type": "code",
   "execution_count": 71,
   "id": "2466509b-690e-47ee-bfba-bc18e8f45203",
   "metadata": {},
   "outputs": [
    {
     "data": {
      "image/png": "[encoded data removed]",
      "text/plain": [
       "<Figure size 640x480 with 1 Axes>"
      ]
     },
     "metadata": {},
     "output_type": "display_data"
    }
   ],
   "source": [
    "arr = np.random.randint(100,200,1000)\n",
    "plt.hist(arr, bins=100)\n",
    "plt.show()"
   ]
  },
  {
   "cell_type": "code",
   "execution_count": null,
   "id": "cbcddd78-8acf-4600-afad-0a8add79928a",
   "metadata": {},
   "outputs": [],
   "source": [
    "Seed값을 통한 난수 생성제어"
   ]
  },
  {
   "cell_type": "code",
   "execution_count": 74,
   "id": "2ab36ab3-67d3-4602-bae2-4953b85ed230",
   "metadata": {},
   "outputs": [
    {
     "name": "stdout",
     "output_type": "stream",
     "text": [
      "난수 발생1 \n",
      " [0.46607818 0.86661175 0.72309331 0.39175402 0.4600206  0.57165197\n",
      " 0.8753217  0.95440937 0.85663182 0.63518662]\n",
      "난수 발생2 \n",
      " [0.98746826 0.16207435 0.85573805 0.33477673 0.25201129 0.19388391\n",
      " 0.77174016 0.596287   0.12621151 0.39489544]\n"
     ]
    }
   ],
   "source": [
    "arr = np.random.rand(10)\n",
    "print(\"난수 발생1 \\n\", arr)\n",
    "\n",
    "arr = np.random.rand(10)\n",
    "print(\"난수 발생2 \\n\", arr)"
   ]
  },
  {
   "cell_type": "code",
   "execution_count": 76,
   "id": "391d7d65-d0cc-426e-a58c-5cbfee5ee901",
   "metadata": {},
   "outputs": [
    {
     "name": "stdout",
     "output_type": "stream",
     "text": [
      "난수 발생1 \n",
      " [4.17022005e-01 7.20324493e-01 1.14374817e-04 3.02332573e-01\n",
      " 1.46755891e-01 9.23385948e-02 1.86260211e-01 3.45560727e-01\n",
      " 3.96767474e-01 5.38816734e-01]\n",
      "난수 발생2 \n",
      " [4.17022005e-01 7.20324493e-01 1.14374817e-04 3.02332573e-01\n",
      " 1.46755891e-01 9.23385948e-02 1.86260211e-01 3.45560727e-01\n",
      " 3.96767474e-01 5.38816734e-01]\n"
     ]
    }
   ],
   "source": [
    "# seed 값만 같으면 동일한 값 나옴\n",
    "np.random.seed(1)\n",
    "arr = np.random.rand(10)\n",
    "print(\"난수 발생1 \\n\", arr)\n",
    "\n",
    "np.random.seed(1)\n",
    "arr = np.random.rand(10)\n",
    "print(\"난수 발생2 \\n\", arr)"
   ]
  },
  {
   "cell_type": "code",
   "execution_count": null,
   "id": "782c32e4-26f5-4f31-8b3e-da4f2efa078d",
   "metadata": {},
   "outputs": [],
   "source": [
    "# 배열 index 접근하기\n",
    "# 특정범위 탐색하기"
   ]
  },
  {
   "cell_type": "code",
   "execution_count": 88,
   "id": "bd4b39c3-b9ea-49ec-a6a5-f7bd7275c024",
   "metadata": {},
   "outputs": [
    {
     "name": "stdout",
     "output_type": "stream",
     "text": [
      "[0 1 2 3 4 5 6 7 8 9]\n",
      "3\n",
      "9\n",
      "9\n"
     ]
    }
   ],
   "source": [
    "# 1차원 배열\n",
    "arr = np.arange(10)\n",
    "print(arr)\n",
    "#index\n",
    "print(arr[3])\n",
    "print(arr[9])\n",
    "print(arr[-1])"
   ]
  },
  {
   "cell_type": "code",
   "execution_count": 92,
   "id": "1d36d0c9-e74f-45aa-8255-b36bc0a03bf8",
   "metadata": {},
   "outputs": [
    {
     "name": "stdout",
     "output_type": "stream",
     "text": [
      "[[ 1  2  3  4]\n",
      " [ 5  6  7  8]\n",
      " [ 9 10 11 12]] (3, 4) 2\n",
      "4\n"
     ]
    }
   ],
   "source": [
    "#2차원 배열\n",
    "arr = np.array([[1,2,3,4],\n",
    "                [5,6,7,8],\n",
    "                [9,10,11,12]])\n",
    "print(arr, arr.shape, arr.ndim)\n",
    "print(arr[0,3])"
   ]
  },
  {
   "cell_type": "code",
   "execution_count": 96,
   "id": "80354d9c-9cbd-42db-b225-8db45ac616a2",
   "metadata": {},
   "outputs": [
    {
     "name": "stdout",
     "output_type": "stream",
     "text": [
      "[3 4]\n",
      "[0 1 2 3 4 5 6 7 8 9]\n"
     ]
    }
   ],
   "source": [
    "arr = np.array([0,1,2,3,4,5,6,7,8,9,10])\n",
    "print(arr[3:5])\n",
    "print(arr[:-1])"
   ]
  },
  {
   "cell_type": "code",
   "execution_count": 108,
   "id": "26e941cb-62ce-477a-86c8-b8d8b0e89824",
   "metadata": {},
   "outputs": [
    {
     "name": "stdout",
     "output_type": "stream",
     "text": [
      "[1 2 3 4]\n",
      "[ 2  6 10]\n"
     ]
    }
   ],
   "source": [
    "arr = np.array([[1,2,3,4],\n",
    "                [5,6,7,8],\n",
    "                [9,10,11,12]])\n",
    "print(arr[0, :]) #0번째 행의 모든 요소\n",
    "print(arr[:, 1]) #모든 행의 두번재 열 요소"
   ]
  },
  {
   "cell_type": "code",
   "execution_count": 112,
   "id": "866b7c35-de93-4a70-8409-28b2303552ec",
   "metadata": {},
   "outputs": [
    {
     "name": "stdout",
     "output_type": "stream",
     "text": [
      "[[ 1  2  3  4]\n",
      " [ 5  6  7  8]\n",
      " [ 9 10 11 12]]\n",
      "[[3 4]\n",
      " [7 8]]\n"
     ]
    }
   ],
   "source": [
    "print(arr[:3, :])\n",
    "print(arr[:2, 2:])"
   ]
  },
  {
   "cell_type": "code",
   "execution_count": null,
   "id": "54042b18-6077-46ef-8aa5-1536114f927f",
   "metadata": {},
   "outputs": [],
   "source": [
    "#배열의 fancy 인덱싱\n",
    "# 특정인덱스를 여러개 선택해서 탐색하는 방법임"
   ]
  },
  {
   "cell_type": "code",
   "execution_count": 116,
   "id": "0c5a1f00-439c-4b38-bc89-0fabbce0b3e4",
   "metadata": {},
   "outputs": [
    {
     "name": "stdout",
     "output_type": "stream",
     "text": [
      "[ 5 15 25]\n"
     ]
    }
   ],
   "source": [
    "# 1차원배열\n",
    "arr = np.array([5,10,15,20,25,30])\n",
    "print(arr[[0,2,4]])"
   ]
  },
  {
   "cell_type": "code",
   "execution_count": 118,
   "id": "89b55c8a-bb14-49ad-b2a3-f296a8dc5b8d",
   "metadata": {},
   "outputs": [
    {
     "name": "stdout",
     "output_type": "stream",
     "text": [
      "[[15 20]\n",
      " [55 60]]\n"
     ]
    }
   ],
   "source": [
    "#2차원 배열\n",
    "arr = np.array([[5,10,15,20],\n",
    "                [25,30,35,40],\n",
    "                [45,50,55,60]])\n",
    "print(arr[[0,2],2:])"
   ]
  },
  {
   "cell_type": "code",
   "execution_count": 120,
   "id": "e43b9d07-3b44-4584-a9cb-57e885da3691",
   "metadata": {},
   "outputs": [
    {
     "name": "stdout",
     "output_type": "stream",
     "text": [
      "[1 3 4]\n"
     ]
    }
   ],
   "source": [
    "#boolean인덱싱 true or false\n",
    "arr = np.array([1,2,3,4])\n",
    "print(arr[[True, False, True, True]])"
   ]
  },
  {
   "cell_type": "code",
   "execution_count": 126,
   "id": "c5d1098e-d1cd-46fa-8d88-8e462ec21ff1",
   "metadata": {},
   "outputs": [
    {
     "name": "stdout",
     "output_type": "stream",
     "text": [
      "[[1 2 3 4]]\n"
     ]
    }
   ],
   "source": [
    "arr = np.array([[1,2,3,4],\n",
    "                [5,6,7,8]])\n",
    "print(arr[[True, False], True]) #0행만 가져오고, 1행은 안가져오고, 열은 모두 가져온다."
   ]
  },
  {
   "cell_type": "code",
   "execution_count": 136,
   "id": "4ede65e2-c3f2-47ba-9e38-34d565f26657",
   "metadata": {},
   "outputs": [
    {
     "name": "stdout",
     "output_type": "stream",
     "text": [
      "[[ 1  2  3  4]\n",
      " [ 5  6  7  8]\n",
      " [ 9 10 11 12]]\n",
      "[[2 2 2 2]\n",
      " [2 2 2 2]\n",
      " [2 2 2 2]]\n"
     ]
    }
   ],
   "source": [
    "# 배열의 연산, shape가 같아야함.\n",
    "arr1 = np.array([[1,2,3,4],\n",
    "                 [5,6,7,8],\n",
    "                 [9,10,11,12]])\n",
    "arr2 = np.full((3,4),2)\n",
    "print(arr1)\n",
    "print(arr2)"
   ]
  },
  {
   "cell_type": "code",
   "execution_count": 138,
   "id": "9074b9c8-b56a-4f89-8c8b-196ff2931e89",
   "metadata": {},
   "outputs": [
    {
     "name": "stdout",
     "output_type": "stream",
     "text": [
      "[[ 2  4  6  8]\n",
      " [10 12 14 16]\n",
      " [18 20 22 24]]\n"
     ]
    }
   ],
   "source": [
    "print(arr1 * arr2)"
   ]
  },
  {
   "cell_type": "code",
   "execution_count": null,
   "id": "4b49b82a-620c-4177-95dc-ac8792ee30c0",
   "metadata": {},
   "outputs": [],
   "source": []
  },
  {
   "cell_type": "code",
   "execution_count": null,
   "id": "c21ac52c-86cb-4266-adab-ec83bb313196",
   "metadata": {},
   "outputs": [],
   "source": []
  },
  {
   "cell_type": "code",
   "execution_count": null,
   "id": "5faf3033-65ec-404c-8c95-4b16b85552fe",
   "metadata": {},
   "outputs": [],
   "source": []
  },
  {
   "cell_type": "code",
   "execution_count": null,
   "id": "3d0a3e37-5881-4533-9111-a71ed215b404",
   "metadata": {},
   "outputs": [],
   "source": []
  },
  {
   "cell_type": "code",
   "execution_count": null,
   "id": "43013ea9-997a-4387-a290-c8b83f7697ae",
   "metadata": {},
   "outputs": [],
   "source": []
  },
  {
   "cell_type": "code",
   "execution_count": null,
   "id": "de39d0b3-a46c-4331-bf51-5ba1144af066",
   "metadata": {},
   "outputs": [],
   "source": []
  },
  {
   "cell_type": "code",
   "execution_count": null,
   "id": "38b294e5-8b16-4f19-b3fd-e22aaeb66985",
   "metadata": {},
   "outputs": [],
   "source": []
  },
  {
   "cell_type": "code",
   "execution_count": null,
   "id": "70f47af7-2d1c-4081-8f23-cedb45308364",
   "metadata": {},
   "outputs": [],
   "source": []
  },
  {
   "cell_type": "code",
   "execution_count": null,
   "id": "155e23e4-9aa5-4976-82a7-a3611f3e5174",
   "metadata": {},
   "outputs": [],
   "source": []
  },
  {
   "cell_type": "code",
   "execution_count": null,
   "id": "a35daceb-8f07-405e-974a-bbe45362fc15",
   "metadata": {},
   "outputs": [],
   "source": []
  },
  {
   "cell_type": "code",
   "execution_count": null,
   "id": "f8e6012b-e91a-47ff-801e-e3da3a2d760e",
   "metadata": {},
   "outputs": [],
   "source": []
  }
 ],
 "metadata": {
  "kernelspec": {
   "display_name": "Python 3 (ipykernel)",
   "language": "python",
   "name": "python3"
  },
  "language_info": {
   "codemirror_mode": {
    "name": "ipython",
    "version": 3
   },
   "file_extension": ".py",
   "mimetype": "text/x-python",
   "name": "python",
   "nbconvert_exporter": "python",
   "pygments_lexer": "ipython3",
   "version": "3.12.4"
  }
 },
 "nbformat": 4,
 "nbformat_minor": 5
}
