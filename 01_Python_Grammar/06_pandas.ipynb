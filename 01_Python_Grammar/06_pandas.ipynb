{
 "cells": [
  {
   "cell_type": "markdown",
   "id": "48cbcd6c-e084-4785-99e0-eda6d4831611",
   "metadata": {},
   "source": [
    "# PANDAS\n",
    "- Series - 1차원\n",
    "    - 컬럼에 다른 데이터 없으면 자동으로 숫자가 입력됨\n",
    "    - 1줄인 경우 왼쪽이 인덱스인데 숫자입력불가이므로 위쪽 컬럼이 자동 인덱스가 됨.\n",
    "- DataFrame - 2차원 이상"
   ]
  },
  {
   "cell_type": "code",
   "execution_count": 13,
   "id": "03ed013e-dd5e-4e80-ade7-4f0eec9b1cbc",
   "metadata": {},
   "outputs": [
    {
     "name": "stdout",
     "output_type": "stream",
     "text": [
      "<class 'pandas.core.series.Series'>\n",
      "RangeIndex(start=0, stop=9, step=1)\n",
      "int64\n",
      "0    1\n",
      "1    2\n",
      "2    3\n",
      "3    4\n",
      "4    5\n",
      "5    6\n",
      "6    7\n",
      "7    8\n",
      "8    9\n",
      "dtype: int64\n"
     ]
    }
   ],
   "source": [
    "import pandas as pd\n",
    "import numpy as np\n",
    "\n",
    "# Series - index를 따로 지정하지 않는 경우\n",
    "s = pd.Series( [1, 2, 3, 4, 5, 6, 7, 8, 9] )\n",
    "print( type( s ) )\n",
    "print( s.index )\n",
    "print( s.dtype )\n",
    "print( s )"
   ]
  },
  {
   "cell_type": "code",
   "execution_count": 17,
   "id": "e1d6bc1c-4e6f-4e7d-9b61-33273acd5a81",
   "metadata": {},
   "outputs": [
    {
     "name": "stdout",
     "output_type": "stream",
     "text": [
      "A    1\n",
      "B    2\n",
      "C    3\n",
      "D    4\n",
      "E    5\n",
      "F    6\n",
      "G    7\n",
      "H    8\n",
      "I    9\n",
      "dtype: int64\n"
     ]
    }
   ],
   "source": [
    "# Series - index를 따로 지정하는 경우\n",
    "s = pd.Series( [1, 2, 3, 4, 5, 6, 7, 8, 9] )\n",
    "s.index = [ 'A', 'B', 'C', 'D', 'E', 'F', 'G', 'H', 'I' ]\n",
    "print(s)"
   ]
  },
  {
   "cell_type": "code",
   "execution_count": 31,
   "id": "780fbde3-0410-4939-8872-cf203baac3e4",
   "metadata": {},
   "outputs": [
    {
     "name": "stdout",
     "output_type": "stream",
     "text": [
      "A    1\n",
      "B    2\n",
      "C    3\n",
      "D    4\n",
      "E    5\n",
      "F    6\n",
      "G    7\n",
      "H    8\n",
      "I    9\n",
      "dtype: int64\n",
      "Index(['A', 'B', 'C', 'D', 'E', 'F', 'G', 'H', 'I'], dtype='object')\n",
      "[1 2 3 4 5 6 7 8 9]\n",
      "1\n",
      "1\n",
      "A    1\n",
      "B    2\n",
      "C    3\n",
      "D    4\n",
      "E    5\n",
      "dtype: int64\n",
      "A    1\n",
      "B    2\n",
      "C    3\n",
      "D    4\n",
      "dtype: int64\n"
     ]
    }
   ],
   "source": [
    "s = pd.Series( [1, 2, 3, 4, 5, 6, 7, 8, 9], [ 'A', 'B', 'C', 'D', 'E', 'F', 'G', 'H', 'I' ] )\n",
    "print(s)\n",
    "print( s.index )       #index export\n",
    "print( s.values )      #valuses export\n",
    "# print( s[0] ) error~!~\n",
    "print( s['A'] )\n",
    "print(s.A)\n",
    "print( s[0:5] )\n",
    "print( s['A' : 'D'] )"
   ]
  },
  {
   "cell_type": "markdown",
   "id": "1cb7b59c-8f23-49e3-9983-475f88f5ad0f",
   "metadata": {},
   "source": [
    "### Dictionary로 Series 만들기\n",
    "(map, JSON)"
   ]
  },
  {
   "cell_type": "code",
   "execution_count": 54,
   "id": "f9672d2f-7a55-4ef5-8863-cf658746d4a2",
   "metadata": {},
   "outputs": [
    {
     "name": "stdout",
     "output_type": "stream",
     "text": [
      "<class 'dict'>\n",
      "A : 10\n",
      "D : 20\n",
      "F : 30\n",
      "H : 40\n",
      "10\n",
      "Index(['A', 'D', 'F', 'H'], dtype='object')\n",
      "[10 20 30 40]\n",
      "10\n",
      "10\n",
      "A    10\n",
      "D    20\n",
      "F    30\n",
      "dtype: int64\n",
      "A    10\n",
      "D    20\n",
      "F    30\n",
      "dtype: int64\n"
     ]
    }
   ],
   "source": [
    "d = { 'A':10, 'D':20, 'F':30, 'H':40 }\n",
    "print(type(d))\n",
    "\n",
    "for key, value in d.items() : #모든 key, value를 튜플로 받아서 꺼내줌.\n",
    "    print( key, \":\", value )\n",
    "\n",
    "\n",
    "print( d['A'] )\n",
    "# print( d.A )  # ERROR!!!\n",
    "\n",
    "s = pd.Series( d )   #dictionary를 pandas로 바꾸기!(Series)\n",
    "print( s.index )\n",
    "print( s.values )\n",
    "print( s[ 'A' ])\n",
    "print( s.A )\n",
    "print( s[0:3] )\n",
    "print( s['A': 'F'])"
   ]
  },
  {
   "cell_type": "markdown",
   "id": "5b9ed416-edf7-479b-a068-2ae98cdfc279",
   "metadata": {},
   "source": [
    "### DataFrame\n",
    "- numpy.array 로 데이터를 만드는 방법도 있고!\n",
    "- dictionary -> dataframe   \n",
    "      * key하나에 data가 여러인 경우 생성~!"
   ]
  },
  {
   "cell_type": "code",
   "execution_count": 77,
   "id": "f3b9b876-d544-4c81-b7ad-d9418bd553db",
   "metadata": {},
   "outputs": [
    {
     "name": "stdout",
     "output_type": "stream",
     "text": [
      "<class 'dict'>\n",
      "   name  age        tel\n",
      "0   kim   25  1111-2222\n",
      "1   lee   30  1223-3434\n",
      "2  park   35  4553-4444\n",
      "3  jung   26  2453-4566\n",
      "RangeIndex(start=0, stop=4, step=1)\n",
      "Index(['name', 'age', 'tel'], dtype='object')\n",
      "[['kim' 25 '1111-2222']\n",
      " ['lee' 30 '1223-3434']\n",
      " ['park' 35 '4553-4444']\n",
      " ['jung' 26 '2453-4566']]\n",
      "User  name  age        tel\n",
      "Num                       \n",
      "0      kim   25  1111-2222\n",
      "1      lee   30  1223-3434\n",
      "2     park   35  4553-4444\n",
      "3     jung   26  2453-4566\n",
      "RangeIndex(start=0, stop=4, step=1, name='Num')\n",
      "Index(['name', 'age', 'tel'], dtype='object', name='User')\n"
     ]
    }
   ],
   "source": [
    "# key \"name, age, tel\" = column\n",
    "d = {\n",
    "    'name' : [ 'kim', 'lee', 'park', 'jung' ],\n",
    "    'age' : [ 25, 30, 35, 26 ],\n",
    "    'tel' : ['1111-2222', '1223-3434', '4553-4444', '2453-4566' ]\n",
    "}\n",
    "print( type(d) )\n",
    "\n",
    "df = pd.DataFrame( d )\n",
    "print( df )\n",
    "print( df.index )\n",
    "print( df.columns )\n",
    "print( df.values )   #값만 꺼내면, numpy array로 만들어서 출력해 줌. 호환이 되니까. \n",
    "\n",
    "df.index.name = 'Num'\n",
    "df.columns.name = 'User'\n",
    "print( df )\n",
    "print( df.index )\n",
    "print( df.columns )"
   ]
  },
  {
   "cell_type": "code",
   "execution_count": 81,
   "id": "6e73dce0-c17b-4ee1-9fd3-cf13547443dc",
   "metadata": {},
   "outputs": [],
   "source": [
    "# numpy -> DataFrame"
   ]
  },
  {
   "cell_type": "code",
   "execution_count": 97,
   "id": "7a881d0b-8254-409d-a459-c1a054404f9d",
   "metadata": {},
   "outputs": [
    {
     "name": "stdout",
     "output_type": "stream",
     "text": [
      "<class 'numpy.ndarray'>\n",
      "   name age        tel\n",
      "A   kim  25  1111-2222\n",
      "B   lee  30  1223-3434\n",
      "C  park  35  4553-4444\n",
      "D  jung  26  2453-4566\n",
      "Index(['A', 'B', 'C', 'D'], dtype='object')\n",
      "Index(['name', 'age', 'tel'], dtype='object')\n",
      "   name age        tel\n",
      "A   kim  25  1111-2222\n",
      "B   lee  30  1223-3434\n",
      "C  park  35  4553-4444\n",
      "D  jung  26  2453-4566\n",
      "       name age        tel\n",
      "count     4   4          4\n",
      "unique    4   4          4\n",
      "top     kim  25  1111-2222\n",
      "freq      1   1          1\n"
     ]
    }
   ],
   "source": [
    "n = np.array(\n",
    "    [['kim', 25, '1111-2222'],\n",
    "     ['lee', 30, '1223-3434'],\n",
    "     ['park', 35, '4553-4444'],\n",
    "     ['jung', 26, '2453-4566']]\n",
    ")\n",
    "print( type(n) )\n",
    "df = pd.DataFrame( n )\n",
    "#column & index 바꾸는 방법\n",
    "df.columns = [ 'name', 'age', 'tel' ]\n",
    "df.index = [ 'A', 'B', 'C', 'D' ]\n",
    "\n",
    "print(df)\n",
    "print(df.index)\n",
    "print(df.columns)\n",
    "\n",
    "df = pd.DataFrame( n, columns = ['name','age', 'tel'], index =[ 'A', 'B', 'C', 'D' ] )\n",
    "print(df)\n",
    "\n",
    "#data를 가져왔을 때 전처리 전에 비어있는 데이터 확인하는 함수\n",
    "# count: 갯수\n",
    "# unique: 데이터 특징\n",
    "# top: 제일 위쪽 값\n",
    "# freq: \n",
    "print(df.describe())"
   ]
  },
  {
   "cell_type": "code",
   "execution_count": 113,
   "id": "d2df8180-ab6d-46f0-8bc8-ad8652473a8b",
   "metadata": {},
   "outputs": [
    {
     "name": "stdout",
     "output_type": "stream",
     "text": [
      "A     kim\n",
      "B     lee\n",
      "C    park\n",
      "D    jung\n",
      "Name: name, dtype: object\n",
      "   name        tel\n",
      "A   kim  1111-2222\n",
      "B   lee  1223-3434\n",
      "C  park  4553-4444\n",
      "D  jung  2453-4566\n",
      "park\n",
      "B     lee\n",
      "C    park\n",
      "D    jung\n",
      "Name: name, dtype: object\n"
     ]
    }
   ],
   "source": [
    "print( df['name'] )             #열 기준 작업\n",
    "print( df[['name', 'tel']] )\n",
    "# print( df['name'][2] ) #'2'라는 인덱스가 없어서 경고\n",
    "print( df['name'].C )\n",
    "print( df['name']['B':'D'] )"
   ]
  },
  {
   "cell_type": "code",
   "execution_count": 115,
   "id": "2c24adba-67cd-4467-8152-f1402864ab2d",
   "metadata": {},
   "outputs": [
    {
     "name": "stdout",
     "output_type": "stream",
     "text": [
      "   name age        tel\n",
      "A   kim  25  1111-2222\n",
      "B   lee  30  1223-3434\n",
      "C  park  35  4553-4444\n",
      "D  jung  26  2453-4566\n"
     ]
    }
   ],
   "source": [
    "print( df[:][:] )  #데이터 전체 다뽑기! 2차원 그대로"
   ]
  },
  {
   "cell_type": "code",
   "execution_count": 125,
   "id": "61279a8d-3d6e-4441-b0da-aea7e5c6fec4",
   "metadata": {},
   "outputs": [],
   "source": [
    "#데이터 변경, 삭제"
   ]
  },
  {
   "cell_type": "code",
   "execution_count": 123,
   "id": "4e57df62-ae36-45b9-bbac-e229c82219e3",
   "metadata": {},
   "outputs": [],
   "source": [
    "# df[ 'address' ] = [ 'seoul', 'suwon', 'incheon', 'ansan' ]\n",
    "# df.loc[ 'age', 'A'] = 30\n",
    "# df['adult'] = df['age'].astype( np.int64 ) > 30\n",
    "# print(df)"
   ]
  },
  {
   "cell_type": "code",
   "execution_count": 133,
   "id": "387d405e-1fb9-4ad3-9cfd-322e408f7742",
   "metadata": {},
   "outputs": [
    {
     "name": "stdout",
     "output_type": "stream",
     "text": [
      "a    10\n",
      "d    40\n",
      "f    50\n",
      "g    20\n",
      "b    70\n",
      "c    60\n",
      "dtype: int64\n",
      "a    10\n",
      "g    20\n",
      "d    40\n",
      "f    50\n",
      "c    60\n",
      "b    70\n",
      "dtype: int64\n"
     ]
    }
   ],
   "source": [
    "# 데이터 정렬하기\n",
    "# Series 정렬\n",
    "s = pd.Series( [ 10, 40, 50, 20, 70, 60 ] , index = ['a', 'd','f','g','b','c'] )\n",
    "print( s )\n",
    "s = s.sort_index()\n",
    "s = s.sort_values()\n",
    "print(s)"
   ]
  },
  {
   "cell_type": "code",
   "execution_count": 294,
   "id": "5615c961-0a6d-460a-8283-77a5e87c208e",
   "metadata": {},
   "outputs": [
    {
     "name": "stdout",
     "output_type": "stream",
     "text": [
      "     D    C    A    B\n",
      "c    4    5    1    2\n",
      "a  300  400  200  100\n",
      "b   20   10   40   30\n",
      "     D    C    B    A\n",
      "a  300  400  100  200\n",
      "b   20   10   30   40\n",
      "c    4    5    2    1\n"
     ]
    }
   ],
   "source": [
    "# DataFrame 정렬\n",
    "df = pd.DataFrame( [[ 4, 5, 1, 2 ],\n",
    "                    [300, 400, 200, 100],\n",
    "                    [ 20, 10, 40, 30 ]], index=[ 'c', 'a', 'b' ], columns=['D', 'C', 'A', 'B'])\n",
    "print(df)\n",
    "\n",
    "# index & column & value\n",
    "df = df.sort_index()          #index\n",
    "# df = df.sort.index( axis=0 )  #행끼리 정리 axis 0,1 = 행끼리 열끼리\n",
    "df = df.sort_index( axis=1, ascending=False )    #column #행을 내림차순으로\n",
    "\n",
    "df= df.sort_values( by='A', ascending=False )   #A를 기준으로 내림차순, 행끼리\n",
    "\n",
    "print(df)\n"
   ]
  },
  {
   "cell_type": "code",
   "execution_count": 157,
   "id": "b374ae19-7d3b-4369-90d8-c097ff62fb4e",
   "metadata": {},
   "outputs": [
    {
     "name": "stdout",
     "output_type": "stream",
     "text": [
      "[[1, 2, 3], [4, 5, 6], [7, 8, 9]]\n",
      "9\n",
      "[[1, 2, 3], [4, 5, 6], [7, 8, 9]]\n",
      "[[1, 2, 3], [4, 5, 6]]\n",
      "[[1 2 3]\n",
      " [4 5 6]\n",
      " [7 8 9]]\n",
      "9\n",
      "[[1 2 3]\n",
      " [4 5 6]\n",
      " [7 8 9]]\n",
      "[[1 2 3]\n",
      " [4 5 6]]\n",
      "[[1 2]\n",
      " [4 5]]\n"
     ]
    }
   ],
   "source": [
    "# 슬라이싱\n",
    "# .iloc\n",
    "# .loc      라벨 인덱싱\n",
    "# .ix       deprecated\n",
    "\n",
    "#list\n",
    "m = [ [1,2,3,], [4,5,6,], [7,8,9] ]\n",
    "print(m)\n",
    "print(m[2][2])\n",
    "print(m[:][:])\n",
    "print(m[:2][:2])\n",
    "\n",
    "#print(m[:2, :2]) error!!!\n",
    "\n",
    "#Numpy\n",
    "n = np.array( m )\n",
    "print( n )\n",
    "print(n[2][2])\n",
    "print(n[:][:])\n",
    "print(n[:2][:2])\n",
    "print(n[:2, :2])"
   ]
  },
  {
   "cell_type": "code",
   "execution_count": 161,
   "id": "8cb6f482-5f53-4122-a6d5-ac2028e8411e",
   "metadata": {},
   "outputs": [
    {
     "name": "stdout",
     "output_type": "stream",
     "text": [
      "   0  1  2\n",
      "0  1  2  3\n",
      "1  4  5  6\n",
      "2  7  8  9\n",
      "9\n"
     ]
    }
   ],
   "source": [
    "#pandas\n",
    "df = pd.DataFrame( n )\n",
    "print( df )\n",
    "print( df[2][2] )"
   ]
  },
  {
   "cell_type": "code",
   "execution_count": 167,
   "id": "619d80ff-b0c1-4eb9-af81-99e43e68cee4",
   "metadata": {},
   "outputs": [
    {
     "name": "stdout",
     "output_type": "stream",
     "text": [
      "    A   B   C   D\n",
      "0   1   2   3   4\n",
      "1   5   6   7   8\n",
      "2   9  10  11  12\n",
      "3  13  14  15  16\n",
      "4  17  18  19  20\n",
      "    A   B   C   D\n",
      "0   1   2   3   4\n",
      "1   5   6   7   8\n",
      "2   9  10  11  12\n",
      "3  13  14  15  16\n",
      "4  17  18  19  20\n"
     ]
    }
   ],
   "source": [
    "# iloc\n",
    "df = pd.DataFrame( np.arange(1, 21).reshape( 5, 4 ), columns=['A', 'B', 'C', 'D'])\n",
    "print(df)\n",
    "\n",
    "# print(df.iloc[2][2] )\n",
    "\n",
    "#loc\n",
    "print(df)\n",
    "\n"
   ]
  },
  {
   "cell_type": "code",
   "execution_count": 189,
   "id": "33b8bdf4-3053-4c3c-b2e9-7adfab545fea",
   "metadata": {},
   "outputs": [
    {
     "name": "stdout",
     "output_type": "stream",
     "text": [
      "     A    B    C\n",
      "0   99    2    3\n",
      "1  100  101  102\n",
      "2    9   10   11\n",
      "3  203   14  344\n",
      "4   17   18   19\n",
      "     A    B    C      E\n",
      "0   99    2    3    NaN\n",
      "1  100  101  102    NaN\n",
      "2    9   10   11    NaN\n",
      "3  203   14  344  565.0\n",
      "4   17   18   19    NaN\n"
     ]
    }
   ],
   "source": [
    "df.loc[0,'A'] = 99\n",
    "df.loc[1, 'A':'C'] = [100, 101, 102]\n",
    "print(df)\n",
    "\n",
    "df.loc[3, ['A','C', 'E']] = [203,344,565]\n",
    "\n",
    "print(df)"
   ]
  },
  {
   "cell_type": "code",
   "execution_count": 193,
   "id": "88cf9d24-356a-4d28-8cd7-89397dd02268",
   "metadata": {},
   "outputs": [],
   "source": [
    "# #delete\n",
    "\n",
    "# del(df['E'])\n",
    "\n",
    "# # drop 은 완전 데이터 제거\n",
    "# # df.drop( 'F' ) #delete column //error, why-? \n",
    "# df = df.drop( 'D', axis=1 )\n",
    "# df = df.drop(4)\n",
    "\n",
    "# print(df)"
   ]
  },
  {
   "cell_type": "code",
   "execution_count": 229,
   "id": "be0eb7cf-10e9-4338-a25e-81e8d9c3d5c2",
   "metadata": {},
   "outputs": [
    {
     "name": "stdout",
     "output_type": "stream",
     "text": [
      "   name  age        tel adrress\n",
      "0   kim   25  1111-2222   seoul\n",
      "1   lee   30  1223-3434     NaN\n",
      "2  park   35  4553-4444   suwon\n",
      "3  jung   26  2453-4566     NaN\n",
      "4   cho   33  5454-1111     NaN\n",
      "   name   age        tel adrress  income\n",
      "0   kim  25.0  1111-2222   seoul   300.0\n",
      "1   lee  30.0  1223-3434     NaN   425.0\n",
      "2  park  35.0  4553-4444   suwon   500.0\n",
      "3  jung  26.0  2453-4566     NaN   600.0\n",
      "4   cho  33.0  5454-1111     NaN   425.0\n",
      "5   NaN   NaN        NaN     NaN   300.0\n"
     ]
    }
   ],
   "source": [
    "df = pd.DataFrame(\n",
    "    [['kim', 25, '1111-2222', 'seoul'],\n",
    "     ['lee', 30, '1223-3434', np.nan],\n",
    "     ['park', 35, '4553-4444', 'suwon'],\n",
    "     ['jung', 26, '2453-4566', np.nan],\n",
    "     ['cho', 33, '5454-1111', np.nan]], columns=[ 'name', 'age', 'tel', 'adrress' ]\n",
    ")\n",
    "print(df)\n",
    "\n",
    "df.loc[ 5, : ] = [ np.nan, np.nan, np.nan, np.nan ]\n",
    "\n",
    "df['income'] = [ 300, np.nan, 500, 600, np.nan, 300 ]\n",
    "# df['address'].fillna(value='seoul', inplace=True)\n",
    "df.fillna( {'address' : 'seoul'}, inplace=True )\n",
    "df.fillna( {'income' : np.mean(df['income']) }, inplace =True)\n",
    "\n",
    "\n",
    "\n",
    "print(df)"
   ]
  },
  {
   "cell_type": "code",
   "execution_count": null,
   "id": "31aff694-623e-4ea5-8315-1510cee64aaa",
   "metadata": {},
   "outputs": [],
   "source": []
  },
  {
   "cell_type": "code",
   "execution_count": 231,
   "id": "c5898ce1-b5e0-4a82-9425-fe81300a9f29",
   "metadata": {},
   "outputs": [],
   "source": [
    "#결측치 대체\n",
    "# df.loc[ 5, : ] = [ np.nan, np.nan, np.nan, np.nan ]\n",
    "\n",
    "# df['income'] = [ 300, np.nan, 500, 600, np.nan, 300 ]\n",
    "# # df['address'].fillna(value='seoul', inplace=True)\n",
    "# df.fillna( {'address' : 'seoul'}, inplace=True )\n",
    "# df.fillna( {'income' : np.mean(df['income']) } )\n",
    "\n",
    "\n",
    "# print(df)"
   ]
  },
  {
   "cell_type": "code",
   "execution_count": null,
   "id": "47147347-5208-4eb5-8100-c33deca88890",
   "metadata": {},
   "outputs": [],
   "source": [
    "# df[ 'address' ] = [ 'seoul', np.nan, np.nan, 'suwon', np.nan ]\n",
    "\n",
    "# df.loc[ df['address'] == np.nan, 'address' ]\n",
    "\n",
    "\n",
    "# print(df)"
   ]
  },
  {
   "cell_type": "code",
   "execution_count": null,
   "id": "3987836c-2c08-414a-90ab-306cd035bc51",
   "metadata": {},
   "outputs": [],
   "source": [
    "# 결측값 제거\n",
    "# drop, del\n",
    "df.loc[ ::2, 'tel' ] = np.nan\n",
    "print(df)"
   ]
  },
  {
   "cell_type": "code",
   "execution_count": 292,
   "id": "7d0200ba-d6b3-49a7-9567-5ae161d9458d",
   "metadata": {},
   "outputs": [
    {
     "name": "stdout",
     "output_type": "stream",
     "text": [
      "    name   kor   eng  math\n",
      "0    kim  40.0  56.0  64.0\n",
      "1    lee  54.0   NaN  23.0\n",
      "2    soo  56.0  64.0  55.0\n",
      "3    cho   NaN   NaN  34.0\n",
      "4  chang  53.0  65.0  66.0\n",
      "5   hong   NaN   NaN   NaN\n",
      "-0.40493220663933044\n",
      "    name   kor   eng  math    tot        avg\n",
      "0    kim  40.0  56.0  64.0  160.0  53.333333\n",
      "1    lee  54.0   NaN  23.0   77.0  38.500000\n",
      "2    soo  56.0  64.0  55.0  175.0  58.333333\n",
      "3    cho   NaN   NaN  34.0   34.0  34.000000\n",
      "4  chang  53.0  65.0  66.0  184.0  61.333333\n",
      "5   hong   NaN   NaN   NaN    0.0        NaN\n"
     ]
    }
   ],
   "source": [
    "# pandas 함수\n",
    "\n",
    "df = pd.DataFrame(\n",
    "    [[ 'kim', 40, 56, 64 ],\n",
    "     [ 'lee', 54, np.nan, 23 ],\n",
    "     [ 'soo', 56, 64, 55 ],\n",
    "     [ 'cho', np.nan, np.nan, 34 ],\n",
    "     [ 'chang', 53, 65, 66],\n",
    "    ['hong', np.nan, np.nan, np.nan]], columns = ['name', 'kor','eng','math']\n",
    ")\n",
    "\n",
    "print(df)\n",
    "\n",
    "# print(df.count( axis=1 )) #행 갯수 세는 건데 별로 안 쓸듯..!!!\n",
    "\n",
    "# print(df.min())\n",
    "# print(df.loc[:, 'kor':'math'].min( axis=1 ))\n",
    "# print(df.max())\n",
    "# # print(df.mean) # 이름은 평균 못내니까 에러남\n",
    "# print(df.loc[:, 'kor':'math'].mean())        #과목별 평균점수\n",
    "# print(df.loc[:, 'kor':'math'].mean(axis=1))  #학생별 평균점수\n",
    "# print(df.sum())\n",
    "# print(df.loc[:, 'kor':'math'].sum(axis=1))\n",
    "\n",
    "# print(df.loc[:, 'kor':'math'].median())        #중앙값\n",
    "\n",
    "\n",
    "df['tot'] = df.loc[:, 'kor':'math'].sum( axis =1 )\n",
    "df['avg'] = df.loc[:, 'kor':'math'].mean(axis =1 )\n",
    "\n",
    "# 상관관계를 분석할 때\n",
    "# 가설'국어를 잘하는 애는 수학도 잘한다.'을 증명하고 싶을 때\n",
    "# 국어점수와 수학점수의 상관관계를 분석해야 한다.\n",
    "print( df['kor'].corr(df['math']))\n",
    "\n",
    "# 숫자가 1에 가까우면 양의 상관관계\n",
    "# 숫자가 0에 가까우면 상관관계가 낮다\n",
    "# 숫자가 -1에 가까우면 음의 상관관계\n",
    "\n",
    "print(df)"
   ]
  },
  {
   "cell_type": "code",
   "execution_count": null,
   "id": "2fe4c4ba-b6d2-4103-b556-a0c893102850",
   "metadata": {},
   "outputs": [],
   "source": []
  },
  {
   "cell_type": "code",
   "execution_count": null,
   "id": "44ac4901-4ade-4cbf-ac4c-f84feadfb631",
   "metadata": {},
   "outputs": [],
   "source": []
  },
  {
   "cell_type": "code",
   "execution_count": null,
   "id": "de099f62-3bd1-4a55-a288-1830b2ccc176",
   "metadata": {},
   "outputs": [],
   "source": []
  },
  {
   "cell_type": "code",
   "execution_count": null,
   "id": "bf6668b9-0742-4090-98cb-935a4abee11e",
   "metadata": {},
   "outputs": [],
   "source": []
  },
  {
   "cell_type": "code",
   "execution_count": null,
   "id": "e4275c6c-5c79-4a2a-8d77-75cf63bdf0e6",
   "metadata": {},
   "outputs": [],
   "source": []
  },
  {
   "cell_type": "code",
   "execution_count": null,
   "id": "08c238a6-f200-4f09-8378-5e1aa12f062a",
   "metadata": {},
   "outputs": [],
   "source": []
  },
  {
   "cell_type": "code",
   "execution_count": null,
   "id": "5990b931-477b-4783-88c8-202a67bfb380",
   "metadata": {},
   "outputs": [],
   "source": []
  },
  {
   "cell_type": "code",
   "execution_count": null,
   "id": "feb98518-e333-4092-95ee-7c44250fc547",
   "metadata": {},
   "outputs": [],
   "source": []
  },
  {
   "cell_type": "code",
   "execution_count": null,
   "id": "e9439c4b-39aa-4eb5-95ea-d0220c008a61",
   "metadata": {},
   "outputs": [],
   "source": []
  },
  {
   "cell_type": "code",
   "execution_count": null,
   "id": "e8781389-bab7-4726-a0d7-fc1607bd3f1b",
   "metadata": {},
   "outputs": [],
   "source": []
  },
  {
   "cell_type": "code",
   "execution_count": null,
   "id": "4de3a6e1-0344-4dca-a6fb-5f93079548b6",
   "metadata": {},
   "outputs": [],
   "source": []
  },
  {
   "cell_type": "code",
   "execution_count": null,
   "id": "2f0e124a-7331-4944-8d10-8c747f88dae2",
   "metadata": {},
   "outputs": [],
   "source": []
  },
  {
   "cell_type": "code",
   "execution_count": null,
   "id": "e6b926a2-7bf3-4674-afb1-4c020ef713ff",
   "metadata": {},
   "outputs": [],
   "source": []
  }
 ],
 "metadata": {
  "kernelspec": {
   "display_name": "Python 3 (ipykernel)",
   "language": "python",
   "name": "python3"
  },
  "language_info": {
   "codemirror_mode": {
    "name": "ipython",
    "version": 3
   },
   "file_extension": ".py",
   "mimetype": "text/x-python",
   "name": "python",
   "nbconvert_exporter": "python",
   "pygments_lexer": "ipython3",
   "version": "3.12.4"
  }
 },
 "nbformat": 4,
 "nbformat_minor": 5
}
