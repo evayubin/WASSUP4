{
 "cells": [
  {
   "cell_type": "markdown",
   "id": "da6d28b6-2ad9-4c00-9930-9cb5dd2219a6",
   "metadata": {},
   "source": [
    "# numpy & pandas"
   ]
  },
  {
   "cell_type": "code",
   "execution_count": null,
   "id": "8849c665-8d8d-4a08-ae99-54823ef484d6",
   "metadata": {},
   "outputs": [],
   "source": [
    "# numpy\n",
    "# numerical python\n",
    "# 고성능 수치 계산을 위한 라이브러리\n",
    "# 벡터나 행렬 연산에 편리한 기능 제공\n",
    "# 모든 원소는 같은 지료형만 가능"
   ]
  },
  {
   "cell_type": "code",
   "execution_count": 3,
   "id": "b33ae42b-7c8f-40a3-b72c-b9cb559f78d7",
   "metadata": {},
   "outputs": [
    {
     "name": "stdout",
     "output_type": "stream",
     "text": [
      "[ 0  1  2  3  4  5  6  7  8  9 10 11 12 13 14]\n",
      "[[ 0  1  2  3  4]\n",
      " [ 5  6  7  8  9]\n",
      " [10 11 12 13 14]]\n"
     ]
    }
   ],
   "source": [
    "import numpy as np\n",
    "a = np.arange(15) #1차원 데이터\n",
    "print(a)\n",
    "a = a.reshape(3, 5)  #2차원 데이터\n",
    "print(a)"
   ]
  },
  {
   "cell_type": "code",
   "execution_count": 25,
   "id": "82689fac-886d-4a48-85e6-a98e3132022a",
   "metadata": {},
   "outputs": [
    {
     "name": "stdout",
     "output_type": "stream",
     "text": [
      "[[ 0  1  2  3  4]\n",
      " [ 5  6  7  8  9]\n",
      " [10 11 12 13 14]]\n",
      "<class 'numpy.ndarray'>\n",
      "(3, 5)\n",
      "int32\n",
      "2\n",
      "15\n"
     ]
    }
   ],
   "source": [
    "import numpy as np\n",
    "a = np.arange(15)\n",
    "a = a.reshape(3, 5)  #2차원 데이터\n",
    "print(a)\n",
    "print(type(a))\n",
    "print(a.shape)\n",
    "print(a.dtype)\n",
    "print(a.ndim)\n",
    "print(a.size) #data갯수\n",
    "\n",
    "# print(dir(np))"
   ]
  },
  {
   "cell_type": "code",
   "execution_count": 90,
   "id": "77a83c7f-84a4-4fa7-bdca-a214e013baad",
   "metadata": {},
   "outputs": [
    {
     "name": "stdout",
     "output_type": "stream",
     "text": [
      "[-1  2  5 -3  0  7 -9  6 -4 -8] <class 'numpy.ndarray'>\n"
     ]
    }
   ],
   "source": [
    "b = np.array( [-1, 2, 5, -3, 0, 7, -9, 6, -4, -8] ) #list나 튜플로 호환가능\n",
    "print(b, type(b))\n",
    "#array 하는 이유는 리스트는 연산이 안되니까 연산하기 위함. 숫자로만 받음.\n"
   ]
  },
  {
   "cell_type": "code",
   "execution_count": 96,
   "id": "7afc20e4-a0d8-4662-848b-91bd999ad6bb",
   "metadata": {},
   "outputs": [
    {
     "name": "stdout",
     "output_type": "stream",
     "text": [
      "(10,)\n",
      "1\n",
      "int32\n",
      "[1 2 5 3 0 7 9 6 4 8]\n",
      "[1.         1.41421356 2.23606798 1.73205081 0.         2.64575131\n",
      " 3.         2.44948974 2.         2.82842712]\n",
      "[ 1  4 25  9  0 49 81 36 16 64]\n",
      "[False False False False False False False False False False]\n",
      "-5\n",
      "-0.5\n",
      "7\n",
      "-9\n",
      "5\n",
      "6\n",
      "[-9 -8 -4 -3 -1  0  2  5  6  7]\n",
      "[ 7  6  5  2  0 -1 -3 -4 -8 -9]\n"
     ]
    }
   ],
   "source": [
    "print(b.shape)\n",
    "print(b.ndim)\n",
    "print(b.dtype)\n",
    "print(np.abs(b)) #절대값\n",
    "# print(np.sqrt(b)) #제곱근을 구하는 함수\n",
    "print(np.sqrt(np.abs(b)))\n",
    "print(np.square(b)) # 제곱\n",
    "print(np.isnan(b)) # nan여부를 묻는 함수 true or false(데이터가 없는 지 있는지 확인함).\n",
    "print(np.sum(b)) #합계\n",
    "print(np.mean(b)) #평균\n",
    "print(np.max(b)) #최대값\n",
    "print(np.min(b)) #최솟값\n",
    "print(np.argmax(b)) #최대값의 인덱스를 알려줌\n",
    "print(np.argmin(b)) #최대값의 인덱스를 알려줌\n",
    "print(np.sort(b)) # 정렬 오름차순\n",
    "print(np.sort(b)[::-1]) # 정렬 내림차순 [시작: 끝 : ]일부 데이터만 꺼내 올때 슬라이싱 기법ㄱㄱ"
   ]
  },
  {
   "cell_type": "code",
   "execution_count": null,
   "id": "83921be5-9e53-45a7-85d0-cfb12e0504db",
   "metadata": {},
   "outputs": [],
   "source": []
  },
  {
   "cell_type": "code",
   "execution_count": null,
   "id": "c09f8be3-d85d-412c-8afd-cd28e66f0a85",
   "metadata": {},
   "outputs": [],
   "source": []
  },
  {
   "cell_type": "code",
   "execution_count": null,
   "id": "9a8d53a1-da9e-4ad9-916f-c4a205de4682",
   "metadata": {},
   "outputs": [],
   "source": []
  },
  {
   "cell_type": "code",
   "execution_count": null,
   "id": "f3f5f220-a618-418c-9a2c-a2911c714048",
   "metadata": {},
   "outputs": [],
   "source": []
  },
  {
   "cell_type": "code",
   "execution_count": null,
   "id": "8fc44107-452e-4790-8f4b-ddc0e78bd8c4",
   "metadata": {},
   "outputs": [],
   "source": []
  },
  {
   "cell_type": "code",
   "execution_count": null,
   "id": "cca1feb5-687c-4ea5-a0ce-6d42b9eda713",
   "metadata": {},
   "outputs": [],
   "source": []
  },
  {
   "cell_type": "code",
   "execution_count": null,
   "id": "760bfdae-19db-42da-8b8a-008a32ff6cb0",
   "metadata": {},
   "outputs": [],
   "source": []
  },
  {
   "cell_type": "code",
   "execution_count": null,
   "id": "1edddfbc-205f-4e0d-a513-7ebac3fc7496",
   "metadata": {},
   "outputs": [],
   "source": []
  },
  {
   "cell_type": "code",
   "execution_count": null,
   "id": "b505f7ed-7119-470a-9cb8-22d3d6b9815e",
   "metadata": {},
   "outputs": [],
   "source": []
  },
  {
   "cell_type": "code",
   "execution_count": null,
   "id": "a048dd8e-6117-46ec-a7b8-457fedfe0538",
   "metadata": {},
   "outputs": [],
   "source": []
  }
 ],
 "metadata": {
  "kernelspec": {
   "display_name": "Python 3 (ipykernel)",
   "language": "python",
   "name": "python3"
  },
  "language_info": {
   "codemirror_mode": {
    "name": "ipython",
    "version": 3
   },
   "file_extension": ".py",
   "mimetype": "text/x-python",
   "name": "python",
   "nbconvert_exporter": "python",
   "pygments_lexer": "ipython3",
   "version": "3.12.4"
  }
 },
 "nbformat": 4,
 "nbformat_minor": 5
}
