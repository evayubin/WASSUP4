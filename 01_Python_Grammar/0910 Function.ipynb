{
 "cells": [
  {
   "cell_type": "markdown",
   "id": "a4df49a8-12f2-4c6b-92f4-65966c6c3382",
   "metadata": {},
   "source": [
    "# 04장 파이썬의 입출력\r\n"
   ]
  },
  {
   "cell_type": "markdown",
   "id": "e1b8378c-417c-4850-8571-016ec8140795",
   "metadata": {},
   "source": [
    "## 함수와 입출력"
   ]
  },
  {
   "cell_type": "markdown",
   "id": "c63604d8-a2ce-4588-8225-a88ca5c369a2",
   "metadata": {},
   "source": [
    "### 함수의 구조"
   ]
  },
  {
   "cell_type": "code",
   "execution_count": 5,
   "id": "054e7247-5bdb-4c8e-a20f-aaba8d1037a7",
   "metadata": {},
   "outputs": [],
   "source": [
    "def add(a,b): \n",
    "    return a + b"
   ]
  },
  {
   "cell_type": "code",
   "execution_count": 7,
   "id": "b56812fc-0732-43a2-8d32-532afa907405",
   "metadata": {},
   "outputs": [
    {
     "name": "stdout",
     "output_type": "stream",
     "text": [
      "7\n"
     ]
    }
   ],
   "source": [
    "a = 3\n",
    "b = 4\n",
    "c = add(a,b)\n",
    "print(c)"
   ]
  },
  {
   "cell_type": "markdown",
   "id": "c51ea9aa-c2ec-4ded-bb29-dc346cccbccf",
   "metadata": {},
   "source": [
    "### 매개변수와 인수"
   ]
  },
  {
   "cell_type": "code",
   "execution_count": 11,
   "id": "4a49c82c-ccbd-49e4-a4da-5ebd5dc52703",
   "metadata": {},
   "outputs": [
    {
     "name": "stdout",
     "output_type": "stream",
     "text": [
      "12\n"
     ]
    }
   ],
   "source": [
    "def add(a,b): # a.b는 매개변수\n",
    "    return a * b\n",
    "\n",
    "print(add(3,4)) #3,4는 인수"
   ]
  },
  {
   "cell_type": "markdown",
   "id": "20696e92-cf00-456e-9335-cebc1f56db82",
   "metadata": {},
   "source": [
    "### 입력값과 리턴값에 따른 함수의 형태"
   ]
  },
  {
   "cell_type": "code",
   "execution_count": 32,
   "id": "e4671aaa-6663-4fb2-a87b-8574ade59fa1",
   "metadata": {},
   "outputs": [],
   "source": [
    "# 일반적인 함수\n",
    "def add1(a, b): \n",
    "    result = a + b \n",
    "    return result"
   ]
  },
  {
   "cell_type": "code",
   "execution_count": 34,
   "id": "810e29fa-f97d-4636-976f-a4ca1adaf901",
   "metadata": {},
   "outputs": [
    {
     "name": "stdout",
     "output_type": "stream",
     "text": [
      "7\n"
     ]
    }
   ],
   "source": [
    "c = add1(3, 4)\n",
    "print(c)"
   ]
  },
  {
   "cell_type": "code",
   "execution_count": 20,
   "id": "509b825f-d3d0-46cc-8ded-4d71df4d318b",
   "metadata": {},
   "outputs": [],
   "source": [
    "# 입력값이 없는 함수\n",
    "def say():\n",
    "    return 'Hi'"
   ]
  },
  {
   "cell_type": "code",
   "execution_count": 22,
   "id": "1e81b26f-256b-4482-8291-f0f9d999bc6c",
   "metadata": {},
   "outputs": [
    {
     "data": {
      "text/plain": [
       "'Hi'"
      ]
     },
     "execution_count": 22,
     "metadata": {},
     "output_type": "execute_result"
    }
   ],
   "source": [
    "say()"
   ]
  },
  {
   "cell_type": "code",
   "execution_count": 36,
   "id": "0d95250c-55c5-44f4-947c-3a5f6d813a76",
   "metadata": {},
   "outputs": [],
   "source": [
    "#리턴값이 없는 함수\n",
    "def add2(a,b):\n",
    "    print(\"%d, %d의 합은 %d입니다.\" %(a,b,a*b))"
   ]
  },
  {
   "cell_type": "code",
   "execution_count": 38,
   "id": "c6edbc05-d700-4113-8bda-d492cab97dec",
   "metadata": {},
   "outputs": [
    {
     "name": "stdout",
     "output_type": "stream",
     "text": [
      "3, 4의 합은 12입니다.\n"
     ]
    }
   ],
   "source": [
    "add2(3,4)"
   ]
  },
  {
   "cell_type": "code",
   "execution_count": 40,
   "id": "d6fb378d-29d9-478f-88e2-eeeab8dbe9c1",
   "metadata": {},
   "outputs": [
    {
     "name": "stdout",
     "output_type": "stream",
     "text": [
      "3, 4의 합은 12입니다.\n"
     ]
    }
   ],
   "source": [
    "c = add2(3, 4)"
   ]
  },
  {
   "cell_type": "code",
   "execution_count": 42,
   "id": "117f5ab3-fdb6-4706-b253-df3806bfa2f0",
   "metadata": {},
   "outputs": [
    {
     "name": "stdout",
     "output_type": "stream",
     "text": [
      "None\n"
     ]
    }
   ],
   "source": [
    "print(c)"
   ]
  },
  {
   "cell_type": "code",
   "execution_count": 47,
   "id": "f0d0931f-0a0e-42d1-b855-6d8cb4d13ebe",
   "metadata": {},
   "outputs": [],
   "source": [
    "# 입력값도, 리턴값도 없는 함수\r",
    "def say2():\n",
    "    print('Hi')\n"
   ]
  },
  {
   "cell_type": "code",
   "execution_count": 49,
   "id": "cbefc72e-4db0-44a8-8d54-d1418929d85e",
   "metadata": {},
   "outputs": [
    {
     "name": "stdout",
     "output_type": "stream",
     "text": [
      "Hi\n"
     ]
    }
   ],
   "source": [
    "say2()"
   ]
  },
  {
   "cell_type": "code",
   "execution_count": 51,
   "id": "50932274-6070-4e54-8707-90bfbc39d1df",
   "metadata": {},
   "outputs": [
    {
     "name": "stdout",
     "output_type": "stream",
     "text": [
      "Hi\n"
     ]
    }
   ],
   "source": [
    "d = say2()"
   ]
  },
  {
   "cell_type": "code",
   "execution_count": 53,
   "id": "89d58b8d-7896-4681-93b7-4c3c487d04bf",
   "metadata": {},
   "outputs": [
    {
     "name": "stdout",
     "output_type": "stream",
     "text": [
      "None\n"
     ]
    }
   ],
   "source": [
    "print(d)"
   ]
  },
  {
   "cell_type": "markdown",
   "id": "e2bf9ef1-ea8c-4c58-b67b-d6ccddee98f1",
   "metadata": {},
   "source": [
    "### 매개변수를 지정하여 호출하기\r\n"
   ]
  },
  {
   "cell_type": "code",
   "execution_count": 60,
   "id": "7c5668d9-4bf9-4aaa-84b5-0e419be09062",
   "metadata": {},
   "outputs": [],
   "source": [
    "def sub(a, b):\n",
    "    return a-b"
   ]
  },
  {
   "cell_type": "code",
   "execution_count": 62,
   "id": "b015f024-dcd0-4693-a7a7-425beaef8410",
   "metadata": {},
   "outputs": [
    {
     "name": "stdout",
     "output_type": "stream",
     "text": [
      "4\n"
     ]
    }
   ],
   "source": [
    "result = sub(a=7, b=3)\n",
    "print(result)"
   ]
  },
  {
   "cell_type": "code",
   "execution_count": 64,
   "id": "e8131cf5-08e4-4ae2-ba02-02fe8f50d732",
   "metadata": {},
   "outputs": [
    {
     "name": "stdout",
     "output_type": "stream",
     "text": [
      "-4\n"
     ]
    }
   ],
   "source": [
    "result = sub(b=7, a=3)\n",
    "print(result)"
   ]
  },
  {
   "cell_type": "markdown",
   "id": "5d33dd28-019f-404b-b518-d90a2583c78f",
   "metadata": {},
   "source": [
    "### 입력값이 몇 개가 될지 모를 때는 어떻게 해야 할까?\r\n"
   ]
  },
  {
   "cell_type": "code",
   "execution_count": 71,
   "id": "b88f3c75-b6aa-4e48-9792-763eabf0643c",
   "metadata": {},
   "outputs": [],
   "source": [
    "#사용자의 입력이 몇개든지 전부다 누적해서 더해주는 함수\n",
    "def add_many(*args):\n",
    "    result = 0 #저장소 만들기\n",
    "    for i in args:\n",
    "        result = result + i # *args에 입력받은 모든 값을 더한다.\n",
    "    return result"
   ]
  },
  {
   "cell_type": "code",
   "execution_count": 69,
   "id": "85724980-a722-4a49-80c3-5669715971ad",
   "metadata": {},
   "outputs": [
    {
     "data": {
      "text/plain": [
       "120"
      ]
     },
     "execution_count": 69,
     "metadata": {},
     "output_type": "execute_result"
    }
   ],
   "source": [
    "add_many(1,2,3,4,5,6,7,8,9,10,11,12,13,14,15)"
   ]
  },
  {
   "cell_type": "code",
   "execution_count": 73,
   "id": "0b138b30-5c9b-4211-9b5e-3b2dbb9458a8",
   "metadata": {},
   "outputs": [
    {
     "data": {
      "text/plain": [
       "55"
      ]
     },
     "execution_count": 73,
     "metadata": {},
     "output_type": "execute_result"
    }
   ],
   "source": [
    "add_many(1,2,3,4,5,6,7,8,9,10)"
   ]
  },
  {
   "cell_type": "code",
   "execution_count": 89,
   "id": "abd77de7-be5c-4ee5-bd00-3f054af8f49f",
   "metadata": {},
   "outputs": [
    {
     "name": "stdin",
     "output_type": "stream",
     "text": [
      "합(add) 또는 곱(mul)을 입력하세요:  add\n"
     ]
    }
   ],
   "source": [
    "user = (input(\"합(add) 또는 곱(mul)을 입력하세요: \"))\n",
    "def add_mul(choice, *args):\n",
    "    if choice == \"add\": #누적합\n",
    "        result = 0\n",
    "        for i in args:\n",
    "            result = result + i\n",
    "            \n",
    "    elif choice == \"mul\": #choice에 누적곱\n",
    "        result = 1\n",
    "        for i in args:\n",
    "            result = result * i\n",
    "            \n",
    "    return result"
   ]
  },
  {
   "cell_type": "code",
   "execution_count": 132,
   "id": "48c889d5-ee0c-467d-aab3-e0df467377fa",
   "metadata": {},
   "outputs": [],
   "source": [
    "###강사님 제작###"
   ]
  },
  {
   "cell_type": "code",
   "execution_count": 91,
   "id": "22be1e03-e2e9-4f63-8f0d-c0c95baaa558",
   "metadata": {},
   "outputs": [],
   "source": [
    "def add_mul(choice, *args):\n",
    "    if choice == 'mul':\n",
    "        data = 1\n",
    "        for i in args:\n",
    "            data = data * i\n",
    "            return data\n",
    "\n",
    "    elif choice == 'add':\n",
    "        data = 0\n",
    "        for i in args:\n",
    "            data = data + i\n",
    "        return data"
   ]
  },
  {
   "cell_type": "code",
   "execution_count": 93,
   "id": "14483e8b-618a-4f99-b241-cf40f4a8b125",
   "metadata": {},
   "outputs": [
    {
     "data": {
      "text/plain": [
       "1"
      ]
     },
     "execution_count": 93,
     "metadata": {},
     "output_type": "execute_result"
    }
   ],
   "source": [
    "add_mul('mul', 1,2,3,4,5)"
   ]
  },
  {
   "cell_type": "code",
   "execution_count": 95,
   "id": "5626a5f3-d01a-41a4-bbcf-2828d087198a",
   "metadata": {},
   "outputs": [
    {
     "data": {
      "text/plain": [
       "15"
      ]
     },
     "execution_count": 95,
     "metadata": {},
     "output_type": "execute_result"
    }
   ],
   "source": [
    "add_mul('add', 1,2,3,4,5)"
   ]
  },
  {
   "cell_type": "markdown",
   "id": "fad14e9b-5c19-4eb3-8163-59e3709a6577",
   "metadata": {},
   "source": [
    "### 키워드 매개변수, kwargs\r\n"
   ]
  },
  {
   "cell_type": "code",
   "execution_count": 98,
   "id": "260c1180-ebbb-4283-98ee-7dc2de49ab55",
   "metadata": {},
   "outputs": [],
   "source": [
    "def print_kwargs(**kwargs):\n",
    "    print(kwargs)"
   ]
  },
  {
   "cell_type": "code",
   "execution_count": 100,
   "id": "7d6f9390-296e-40e1-8615-b3df817522a5",
   "metadata": {},
   "outputs": [
    {
     "name": "stdout",
     "output_type": "stream",
     "text": [
      "{'a': 1}\n"
     ]
    }
   ],
   "source": [
    "print_kwargs(a=1)"
   ]
  },
  {
   "cell_type": "code",
   "execution_count": 102,
   "id": "88185240-373f-4cd2-833b-10fe75979f6b",
   "metadata": {},
   "outputs": [
    {
     "name": "stdout",
     "output_type": "stream",
     "text": [
      "{'name': 'eva', 'age': 28}\n"
     ]
    }
   ],
   "source": [
    "print_kwargs(name = 'eva', age=28)"
   ]
  },
  {
   "cell_type": "markdown",
   "id": "96d1a6f2-66b1-4de4-8c51-a694e7711d18",
   "metadata": {},
   "source": [
    "### 함수의 리턴값은 언제나 하나이다\r\n"
   ]
  },
  {
   "cell_type": "code",
   "execution_count": 117,
   "id": "96b12922-fb00-422a-aec3-392ba95c6cea",
   "metadata": {},
   "outputs": [],
   "source": [
    "def add_and_mul(a,b):\n",
    "    return a+b, a*b"
   ]
  },
  {
   "cell_type": "code",
   "execution_count": 119,
   "id": "f6de4f47-1b25-4701-90ec-2f1908912a89",
   "metadata": {},
   "outputs": [
    {
     "data": {
      "text/plain": [
       "(7, 12)"
      ]
     },
     "execution_count": 119,
     "metadata": {},
     "output_type": "execute_result"
    }
   ],
   "source": [
    "add_and_mul(3, 4)"
   ]
  },
  {
   "cell_type": "code",
   "execution_count": 121,
   "id": "4acc6543-a42f-48a1-9ad0-919abef04b00",
   "metadata": {},
   "outputs": [],
   "source": [
    "def add_and_mul(a,b):\n",
    "    return a+b\n",
    "    return a*b"
   ]
  },
  {
   "cell_type": "code",
   "execution_count": 123,
   "id": "2ee263d9-743f-4083-a2e6-917fe9b25574",
   "metadata": {},
   "outputs": [
    {
     "data": {
      "text/plain": [
       "5"
      ]
     },
     "execution_count": 123,
     "metadata": {},
     "output_type": "execute_result"
    }
   ],
   "source": [
    "result = add_and_mul(2,3)\n",
    "result"
   ]
  },
  {
   "cell_type": "markdown",
   "id": "c382a3a5-fbfd-4234-9130-fc0ada6891d4",
   "metadata": {},
   "source": [
    "### return으로 함수 이탈하기"
   ]
  },
  {
   "cell_type": "code",
   "execution_count": 126,
   "id": "3a1411e1-7e58-43b2-9f1e-06cdf2cb11eb",
   "metadata": {},
   "outputs": [],
   "source": [
    "def say_nick(nick):\n",
    "    if nick == 'idiot':\n",
    "        return 'hey, fxxxx'\n",
    "    print(f'my nickname is {nick}.')"
   ]
  },
  {
   "cell_type": "code",
   "execution_count": 128,
   "id": "b9d2ae7f-ff21-4ff0-8b98-7aadb47a00d1",
   "metadata": {},
   "outputs": [
    {
     "name": "stdout",
     "output_type": "stream",
     "text": [
      "my nickname is beautiful.\n"
     ]
    }
   ],
   "source": [
    "say_nick('beautiful')"
   ]
  },
  {
   "cell_type": "code",
   "execution_count": 130,
   "id": "9a4a31a2-efeb-4ade-9ce4-59ae424c0704",
   "metadata": {},
   "outputs": [
    {
     "data": {
      "text/plain": [
       "'hey, fxxxx'"
      ]
     },
     "execution_count": 130,
     "metadata": {},
     "output_type": "execute_result"
    }
   ],
   "source": [
    "say_nick('idiot')"
   ]
  },
  {
   "cell_type": "markdown",
   "id": "fd020c87-d942-4ce2-ad1d-5dd59fd7f79c",
   "metadata": {},
   "source": [
    "### 매개변수에 초깃값 미리 설정하기\n"
   ]
  },
  {
   "cell_type": "code",
   "execution_count": 141,
   "id": "3c1135ed-c315-4d24-b854-4dc039839a21",
   "metadata": {},
   "outputs": [],
   "source": [
    "def say_myself(name, age, men = True):\n",
    "    print(f'my name is {name}.')\n",
    "    print(f'my age is {age}.')\n",
    "    if men:\n",
    "        print(\"oh, I'm manly men~~\")\n",
    "    else:\n",
    "        print(\"oh, You're girly girl~~\")"
   ]
  },
  {
   "cell_type": "code",
   "execution_count": 143,
   "id": "e2adbd7b-8eb3-4af4-915b-92f967da3161",
   "metadata": {},
   "outputs": [
    {
     "name": "stdout",
     "output_type": "stream",
     "text": [
      "my name is eva.\n",
      "my age is 28.\n",
      "oh, You're girly girl~~\n"
     ]
    }
   ],
   "source": [
    "say_myself('eva', 28, False)"
   ]
  },
  {
   "cell_type": "markdown",
   "id": "5ae0f7ab-8da5-4bed-8947-23064c6e8ca1",
   "metadata": {},
   "source": [
    "### 함수 안에서 선언한 변수의 효력 범위\r\n"
   ]
  },
  {
   "cell_type": "code",
   "execution_count": 146,
   "id": "cd53c093-4bdb-40e4-9051-a9aa4e6acf37",
   "metadata": {},
   "outputs": [],
   "source": [
    "a = 1 # 글로벌 영역\n",
    "def vartest(a): # 로컬영역\n",
    "    a = a +1"
   ]
  },
  {
   "cell_type": "code",
   "execution_count": 148,
   "id": "65097738-c9e8-49bb-aecc-b6edf24bd84c",
   "metadata": {},
   "outputs": [],
   "source": [
    "vartest(a)"
   ]
  },
  {
   "cell_type": "code",
   "execution_count": 150,
   "id": "c0690940-0af4-4a3d-8cb1-66655d2704bf",
   "metadata": {},
   "outputs": [
    {
     "name": "stdout",
     "output_type": "stream",
     "text": [
      "1\n"
     ]
    }
   ],
   "source": [
    "print(a)"
   ]
  },
  {
   "cell_type": "markdown",
   "id": "ac9ef794-f9cf-4ff2-afdc-dae51873da6b",
   "metadata": {},
   "source": [
    "### 함수 안에서 함수 밖의 변수를 변경하는 방법\r\n"
   ]
  },
  {
   "cell_type": "code",
   "execution_count": 155,
   "id": "7e728052-4193-445f-ae7e-a771164b82b7",
   "metadata": {},
   "outputs": [
    {
     "name": "stdout",
     "output_type": "stream",
     "text": [
      "2\n"
     ]
    }
   ],
   "source": [
    "# 1. return 사용하기\n",
    "a = 1\n",
    "def vartest(a): \n",
    "    a = a +1 \n",
    "    return a\n",
    "\n",
    "a=vartest(a)\n",
    "print(a)"
   ]
  },
  {
   "cell_type": "code",
   "execution_count": 157,
   "id": "0946c3c0-0330-4381-9239-858276cd2d2f",
   "metadata": {},
   "outputs": [
    {
     "name": "stdout",
     "output_type": "stream",
     "text": [
      "3\n"
     ]
    }
   ],
   "source": [
    "#2. global 명령어 사용하기\n",
    "def vartest(): \n",
    "    global a \n",
    "    a = a+1\n",
    "\n",
    "vartest() \n",
    "print(a)"
   ]
  },
  {
   "cell_type": "markdown",
   "id": "923cba13-e447-4a60-a0be-4907a6a43874",
   "metadata": {},
   "source": [
    "### lambda 예약어 \n",
    "    * 1회성 함수"
   ]
  },
  {
   "cell_type": "code",
   "execution_count": 161,
   "id": "9a90cf41-6311-41f0-bba1-dffd0e5a48eb",
   "metadata": {},
   "outputs": [
    {
     "name": "stdout",
     "output_type": "stream",
     "text": [
      "7\n"
     ]
    }
   ],
   "source": [
    "def add(a, b):\n",
    "    return a+b\n",
    "result = add(3, 4)\n",
    "print(result)"
   ]
  },
  {
   "cell_type": "code",
   "execution_count": 163,
   "id": "1ab259c4-e98f-46ac-be48-3e53a0be0425",
   "metadata": {},
   "outputs": [
    {
     "data": {
      "text/plain": [
       "7"
      ]
     },
     "execution_count": 163,
     "metadata": {},
     "output_type": "execute_result"
    }
   ],
   "source": [
    "add = lambda a, b: a+b\n",
    "add(3,4)"
   ]
  },
  {
   "cell_type": "markdown",
   "id": "549e671f-fc67-409c-8fbc-77a2c3d6a619",
   "metadata": {},
   "source": [
    "## 파일 읽고 쓰기\r\n"
   ]
  },
  {
   "cell_type": "code",
   "execution_count": 185,
   "id": "b5f66d15-232d-4077-82b0-a7bff0d26cf4",
   "metadata": {},
   "outputs": [],
   "source": [
    "f = open('test.txt', 'w')\n",
    "for i in range(1, 11):\n",
    "    f.write(f'{i}번째 줄입니다. \\n')\n",
    "f.close()"
   ]
  },
  {
   "cell_type": "code",
   "execution_count": 189,
   "id": "16081e8e-5aba-4bff-a210-fc5bc56e2cbc",
   "metadata": {},
   "outputs": [
    {
     "name": "stdout",
     "output_type": "stream",
     "text": [
      "1번째 줄입니다. \n",
      "\n"
     ]
    }
   ],
   "source": [
    "# readline\n",
    "f = open('test.txt', 'r')\n",
    "line = f.readline()\n",
    "print(line)\n",
    "f.close()"
   ]
  },
  {
   "cell_type": "code",
   "execution_count": 191,
   "id": "ed527f2d-92bf-41f7-b236-d8e97ae1aab5",
   "metadata": {},
   "outputs": [
    {
     "name": "stdout",
     "output_type": "stream",
     "text": [
      "1번째 줄입니다. \n",
      "\n",
      "2번째 줄입니다. \n",
      "\n",
      "3번째 줄입니다. \n",
      "\n",
      "4번째 줄입니다. \n",
      "\n",
      "5번째 줄입니다. \n",
      "\n"
     ]
    }
   ],
   "source": [
    "f = open('test.txt', 'r')\n",
    "for i in range(5):\n",
    "    line = f.readline()\n",
    "    print(line)\n",
    "f.close()"
   ]
  },
  {
   "cell_type": "code",
   "execution_count": 193,
   "id": "03b73926-4234-4610-a002-4080f74a5db5",
   "metadata": {},
   "outputs": [
    {
     "name": "stdout",
     "output_type": "stream",
     "text": [
      "['1번째 줄입니다. \\n', '2번째 줄입니다. \\n', '3번째 줄입니다. \\n', '4번째 줄입니다. \\n', '5번째 줄입니다. \\n', '6번째 줄입니다. \\n', '7번째 줄입니다. \\n', '8번째 줄입니다. \\n', '9번째 줄입니다. \\n', '10번째 줄입니다. \\n']\n"
     ]
    }
   ],
   "source": [
    "# readlines\n",
    "f = open('test.txt', 'r')\n",
    "lines = f.readlines()\n",
    "print(lines)"
   ]
  },
  {
   "cell_type": "code",
   "execution_count": 195,
   "id": "fe525349-29ab-4fe2-98f6-4b80fd5d0248",
   "metadata": {},
   "outputs": [
    {
     "name": "stdout",
     "output_type": "stream",
     "text": [
      "1번째 줄입니다. \n",
      "\n",
      "2번째 줄입니다. \n",
      "\n",
      "3번째 줄입니다. \n",
      "\n",
      "4번째 줄입니다. \n",
      "\n",
      "5번째 줄입니다. \n",
      "\n",
      "6번째 줄입니다. \n",
      "\n",
      "7번째 줄입니다. \n",
      "\n",
      "8번째 줄입니다. \n",
      "\n",
      "9번째 줄입니다. \n",
      "\n",
      "10번째 줄입니다. \n",
      "\n"
     ]
    }
   ],
   "source": [
    "f = open('test.txt', 'r')\n",
    "lines = f.readlines()\n",
    "for line in lines:\n",
    "    print(line)\n",
    "f.close()"
   ]
  },
  {
   "cell_type": "code",
   "execution_count": 197,
   "id": "ab1565ea-b1e0-42c6-8488-11a6511e36a9",
   "metadata": {},
   "outputs": [],
   "source": [
    "# 메모장을 읽어올 때 줄바꿈 1개를 없애보세요."
   ]
  },
  {
   "cell_type": "code",
   "execution_count": 199,
   "id": "aa2ea25d-7da0-4f3f-893d-62e4c6ceb45d",
   "metadata": {},
   "outputs": [
    {
     "name": "stdout",
     "output_type": "stream",
     "text": [
      "1번째 줄입니다. \n",
      "\n",
      "2번째 줄입니다. \n",
      "\n",
      "3번째 줄입니다. \n",
      "\n",
      "4번째 줄입니다. \n",
      "\n",
      "5번째 줄입니다. \n",
      "\n",
      "6번째 줄입니다. \n",
      "\n",
      "7번째 줄입니다. \n",
      "\n",
      "8번째 줄입니다. \n",
      "\n",
      "9번째 줄입니다. \n",
      "\n",
      "10번째 줄입니다. \n",
      "\n"
     ]
    }
   ],
   "source": [
    "f = open('test.txt', 'r')\n",
    "lines = f.readlines()\n",
    "for line in lines:\n",
    "    print(line)\n",
    "f.close()"
   ]
  },
  {
   "cell_type": "code",
   "execution_count": 203,
   "id": "bbf4f463-8923-4a14-9aa5-9082364893c7",
   "metadata": {},
   "outputs": [
    {
     "name": "stdout",
     "output_type": "stream",
     "text": [
      "1번째 줄입니다. \n",
      "2번째 줄입니다. \n",
      "3번째 줄입니다. \n",
      "4번째 줄입니다. \n",
      "5번째 줄입니다. \n",
      "6번째 줄입니다. \n",
      "7번째 줄입니다. \n",
      "8번째 줄입니다. \n",
      "9번째 줄입니다. \n",
      "10번째 줄입니다. \n"
     ]
    }
   ],
   "source": [
    "f = open('test.txt', 'r')\n",
    "lines = f.readlines()\n",
    "for line in lines:\n",
    "    print(line, end='')\n",
    "f.close()"
   ]
  },
  {
   "cell_type": "code",
   "execution_count": 205,
   "id": "1864b6c7-77f0-4e7b-9a28-c26a0ade1f2c",
   "metadata": {},
   "outputs": [
    {
     "name": "stdout",
     "output_type": "stream",
     "text": [
      "1번째 줄입니다.\n",
      "2번째 줄입니다.\n",
      "3번째 줄입니다.\n",
      "4번째 줄입니다.\n",
      "5번째 줄입니다.\n",
      "6번째 줄입니다.\n",
      "7번째 줄입니다.\n",
      "8번째 줄입니다.\n",
      "9번째 줄입니다.\n",
      "10번째 줄입니다.\n"
     ]
    }
   ],
   "source": [
    "f = open('test.txt', 'r')\n",
    "lines = f.readlines()\n",
    "for line in lines : \n",
    "    print(line.strip())\n",
    "f.close()"
   ]
  },
  {
   "cell_type": "code",
   "execution_count": 209,
   "id": "ddb6b509-fa84-4ead-9d8d-d8eed67972e5",
   "metadata": {},
   "outputs": [
    {
     "name": "stdout",
     "output_type": "stream",
     "text": [
      "<class 'str'>\n",
      "1번째 줄입니다. \n",
      "2번째 줄입니다. \n",
      "3번째 줄입니다. \n",
      "4번째 줄입니다. \n",
      "5번째 줄입니다. \n",
      "6번째 줄입니다. \n",
      "7번째 줄입니다. \n",
      "8번째 줄입니다. \n",
      "9번째 줄입니다. \n",
      "10번째 줄입니다. \n",
      "\n"
     ]
    }
   ],
   "source": [
    "# read함수 사용하기\n",
    "# 전체 통을 사용할 때\n",
    "f = open(\"test.txt\", 'r')\n",
    "data = f.read()\n",
    "print(type(data))\n",
    "print(data)\n",
    "f.close()"
   ]
  },
  {
   "cell_type": "markdown",
   "id": "7be1c7b7-fc30-49c5-ad68-f3c1d35c8a55",
   "metadata": {},
   "source": [
    "### 파일에 새로운 내용 추가하기\r\n"
   ]
  },
  {
   "cell_type": "code",
   "execution_count": 216,
   "id": "b27ab56e-4fff-40f4-98f5-00097419a7dc",
   "metadata": {},
   "outputs": [],
   "source": [
    "f = open(\"test.txt\", 'a')\n",
    "for i in range(11, 21):\n",
    "    data = f\"{i}번째 줄입니다.\\n\"\n",
    "    f.write(data)\n",
    "f.close()"
   ]
  },
  {
   "cell_type": "markdown",
   "id": "3f9d312c-e240-4306-9a67-10e72e65b5f5",
   "metadata": {},
   "source": [
    "### with문"
   ]
  },
  {
   "cell_type": "code",
   "execution_count": 219,
   "id": "2c13e4fe-acc5-4e2a-9708-1249970100d1",
   "metadata": {},
   "outputs": [],
   "source": [
    "#파일열고 매번 닫아줘야 하는 게 귀찮아!\n",
    "#알아서 닫아주기~~~!!!"
   ]
  },
  {
   "cell_type": "code",
   "execution_count": 225,
   "id": "d4e9d425-a2b2-4ac3-802d-e1aea8466638",
   "metadata": {},
   "outputs": [],
   "source": [
    "f = open(\"foo.txt\", 'w')\n",
    "f.write(\"Life is too short, you need python\")\n",
    "f.close()"
   ]
  },
  {
   "cell_type": "code",
   "execution_count": 227,
   "id": "9dd229c7-bbe9-4229-af9f-0b19f32a5c4c",
   "metadata": {},
   "outputs": [],
   "source": [
    "with open(\"foo.txt\", 'w') as f:\n",
    "    f.write(\"Your leg is too short\")"
   ]
  },
  {
   "cell_type": "code",
   "execution_count": 251,
   "id": "9e8ebe72-1dba-4386-88d5-e2d74be55441",
   "metadata": {},
   "outputs": [],
   "source": [
    "f = open('output/test.txt', 'w')\n",
    "for i in range(1, 11):\n",
    "    f.write(f'{i}번째 줄입니다. \\n')\n",
    "f.close()"
   ]
  },
  {
   "cell_type": "code",
   "execution_count": null,
   "id": "c33f2c5f-bc8b-421c-ad4a-cbad259bd34f",
   "metadata": {},
   "outputs": [],
   "source": []
  },
  {
   "cell_type": "markdown",
   "id": "c839896d-c4ef-4bfa-8817-72908cbb39a2",
   "metadata": {},
   "source": [
    "# 0910 Task"
   ]
  },
  {
   "cell_type": "code",
   "execution_count": 237,
   "id": "1c23fa5f-42c7-4245-85d2-46ff842726e2",
   "metadata": {},
   "outputs": [],
   "source": [
    "def is_odd(number):\n",
    "    if number % 2 ==1:\n",
    "        return True\n",
    "    else:\n",
    "        return False"
   ]
  },
  {
   "cell_type": "code",
   "execution_count": 239,
   "id": "366ed599-9dca-4cf8-b52a-6ea92abe1730",
   "metadata": {},
   "outputs": [
    {
     "data": {
      "text/plain": [
       "False"
      ]
     },
     "execution_count": 239,
     "metadata": {},
     "output_type": "execute_result"
    }
   ],
   "source": [
    "is_odd(72)"
   ]
  },
  {
   "cell_type": "code",
   "execution_count": 241,
   "id": "3b51ede8-1132-4521-83a8-2e581d653faf",
   "metadata": {},
   "outputs": [],
   "source": [
    "is_odd = lambda number: True if number %2 ==1 else False"
   ]
  },
  {
   "cell_type": "code",
   "execution_count": 243,
   "id": "76b067f2-4efd-4d59-a1c4-58e1db5df3d1",
   "metadata": {},
   "outputs": [
    {
     "data": {
      "text/plain": [
       "True"
      ]
     },
     "execution_count": 243,
     "metadata": {},
     "output_type": "execute_result"
    }
   ],
   "source": [
    "is_odd(3)"
   ]
  },
  {
   "cell_type": "code",
   "execution_count": 248,
   "id": "03187c34-95a6-4bc6-9d6b-4b170c9c8416",
   "metadata": {},
   "outputs": [
    {
     "data": {
      "text/plain": [
       "'C:\\\\workspace\\\\WASSUP4\\\\01_Python_Grammar'"
      ]
     },
     "execution_count": 248,
     "metadata": {},
     "output_type": "execute_result"
    }
   ],
   "source": [
    "pwd"
   ]
  },
  {
   "cell_type": "code",
   "execution_count": null,
   "id": "be127b93-43c5-4437-bf25-2113a647e901",
   "metadata": {},
   "outputs": [],
   "source": [
    "d"
   ]
  },
  {
   "cell_type": "code",
   "execution_count": null,
   "id": "d8700f6d-3d14-4740-ba5d-fb620b1f395c",
   "metadata": {},
   "outputs": [],
   "source": []
  },
  {
   "cell_type": "code",
   "execution_count": null,
   "id": "590d49cf-a9b2-42b6-85b0-cd480b407512",
   "metadata": {},
   "outputs": [],
   "source": []
  }
 ],
 "metadata": {
  "kernelspec": {
   "display_name": "Python 3 (ipykernel)",
   "language": "python",
   "name": "python3"
  },
  "language_info": {
   "codemirror_mode": {
    "name": "ipython",
    "version": 3
   },
   "file_extension": ".py",
   "mimetype": "text/x-python",
   "name": "python",
   "nbconvert_exporter": "python",
   "pygments_lexer": "ipython3",
   "version": "3.12.4"
  }
 },
 "nbformat": 4,
 "nbformat_minor": 5
}
