{
 "cells": [
  {
   "cell_type": "markdown",
   "id": "7602811a-1ab0-41c6-b409-e907fecca8ab",
   "metadata": {},
   "source": [
    "## 오류 예외 처리 기법 Try-except문..\r\n"
   ]
  },
  {
   "cell_type": "markdown",
   "id": "38c52bf5-ee6f-44b4-8713-5dc50ba79026",
   "metadata": {},
   "source": [
    "## 1.  try-except만 쓰는 방법"
   ]
  },
  {
   "cell_type": "code",
   "execution_count": 1,
   "id": "fb98e2ba-0e6b-478b-9a3c-bcaee599caa2",
   "metadata": {},
   "outputs": [
    {
     "name": "stdout",
     "output_type": "stream",
     "text": [
      "divison error by zero.\n"
     ]
    }
   ],
   "source": [
    "try:\n",
    "    4/0\n",
    "except :\n",
    "    print('divison error by zero.')"
   ]
  },
  {
   "cell_type": "code",
   "execution_count": 6,
   "id": "1b79f6e5-8a3f-402b-be46-b98485c37c26",
   "metadata": {},
   "outputs": [
    {
     "name": "stdout",
     "output_type": "stream",
     "text": [
      "divison error by zero.\n"
     ]
    }
   ],
   "source": [
    "try:\n",
    "    4 / 0\n",
    "except ZeroDivisionError :\n",
    "    print('divison error by zero.')"
   ]
  },
  {
   "cell_type": "code",
   "execution_count": 8,
   "id": "fb9b4402-4a99-4e3a-8af6-2724825f64f3",
   "metadata": {},
   "outputs": [
    {
     "ename": "IndexError",
     "evalue": "list index out of range",
     "output_type": "error",
     "traceback": [
      "\u001b[1;31m--------------------------------------------------------------------------\u001b[0m",
      "\u001b[1;31mIndexError\u001b[0m                               Traceback (most recent call last)",
      "Cell \u001b[1;32mIn[8], line 4\u001b[0m\n\u001b[0;32m      1\u001b[0m \u001b[38;5;28;01mtry\u001b[39;00m:\n\u001b[0;32m      2\u001b[0m    \u001b[38;5;66;03m# 4 / 0\u001b[39;00m\n\u001b[0;32m      3\u001b[0m     a \u001b[38;5;241m=\u001b[39m [\u001b[38;5;241m1\u001b[39m, \u001b[38;5;241m2\u001b[39m, \u001b[38;5;241m3\u001b[39m]\n\u001b[1;32m----> 4\u001b[0m     a[\u001b[38;5;241m3\u001b[39m]\n\u001b[0;32m      5\u001b[0m \u001b[38;5;28;01mexcept\u001b[39;00m \u001b[38;5;167;01mZeroDivisionError\u001b[39;00m :\n\u001b[0;32m      6\u001b[0m     \u001b[38;5;28mprint\u001b[39m(\u001b[38;5;124m'\u001b[39m\u001b[38;5;124mdivison error by zero.\u001b[39m\u001b[38;5;124m'\u001b[39m)\n",
      "\u001b[1;31mIndexError\u001b[0m: list index out of range"
     ]
    }
   ],
   "source": [
    "try:\n",
    "   # 4 / 0\n",
    "    a = [1, 2, 3]\n",
    "    a[3]\n",
    "except ZeroDivisionError :\n",
    "    print('divison error by zero.')"
   ]
  },
  {
   "cell_type": "code",
   "execution_count": 10,
   "id": "1db8d643-1153-43ea-a15e-366f330fb05b",
   "metadata": {},
   "outputs": [
    {
     "name": "stdout",
     "output_type": "stream",
     "text": [
      "division error by zero\n",
      "division by zero\n"
     ]
    }
   ],
   "source": [
    "try:\n",
    "    4 / 0\n",
    "except ZeroDivisionError as e:\n",
    "    print('division error by zero')\n",
    "    print(e)"
   ]
  },
  {
   "cell_type": "markdown",
   "id": "0b3a6b5a-2a22-421d-abfc-744a6b6f2700",
   "metadata": {},
   "source": [
    "## try-finally 문\n",
    "- try 문 수행 도중 예외 발생 여부에 상관없이 항상 수행"
   ]
  },
  {
   "cell_type": "code",
   "execution_count": null,
   "id": "a455c085-345e-4642-a790-ea7f8ae8f660",
   "metadata": {},
   "outputs": [],
   "source": [
    "# try_finally.py\n",
    "try:\n",
    "    f = open('foo.txt', 'w')\n",
    "    # 무언가를 수행한다.\n",
    "\n",
    "    (... 생략 ...)\n",
    "\n",
    "finally:\n",
    "    f.close()  # 중간에 오류가 발생하더라도 무조건 실행된다.\n"
   ]
  },
  {
   "cell_type": "code",
   "execution_count": 15,
   "id": "441e890c-054e-40c0-8c54-42e2b3dbf595",
   "metadata": {},
   "outputs": [
    {
     "name": "stdout",
     "output_type": "stream",
     "text": [
      "인덱싱 할 수 없습니다.\n"
     ]
    }
   ],
   "source": [
    "# 여러개의 오류 처리하기\n",
    "try:\n",
    "    a = [1,2]\n",
    "    print(a[3])\n",
    "    4/0\n",
    "except ZeroDivisionError:\n",
    "    print(\"0으로 나눌 수 없습니다.\")\n",
    "except IndexError:\n",
    "    print(\"인덱싱 할 수 없습니다.\")"
   ]
  },
  {
   "cell_type": "code",
   "execution_count": 17,
   "id": "51148838-6dd8-48d7-b4b1-1c909be66335",
   "metadata": {},
   "outputs": [
    {
     "name": "stdout",
     "output_type": "stream",
     "text": [
      "list index out of range\n"
     ]
    }
   ],
   "source": [
    "try:\n",
    "    a = [1,2]\n",
    "    print(a[3])\n",
    "    4/0\n",
    "except ZeroDivisionError as e:\n",
    "    print(e)\n",
    "except IndexError as e:\n",
    "    print(e)\n"
   ]
  },
  {
   "cell_type": "markdown",
   "id": "11003949-e4e0-42bf-ad42-4089bcc45d7a",
   "metadata": {},
   "source": [
    "### try-else 문"
   ]
  },
  {
   "cell_type": "code",
   "execution_count": null,
   "id": "ce90e7bb-808a-45b3-92a4-abd579b142da",
   "metadata": {},
   "outputs": [],
   "source": [
    "# try_else.py\n",
    "try: #오류 코드\n",
    "    age=int(input('나이를 입력하세요: '))\n",
    "except:\n",
    "    print('입력이 정확하지 않습니다.')\n",
    "else: #의심없이 작동되는 정상코드\n",
    "    if age <= 18:\n",
    "        print('미성년자는 출입금지입니다.')\n",
    "    else:\n",
    "        print('환영합니다.')"
   ]
  },
  {
   "cell_type": "markdown",
   "id": "df02e6b8-67db-42c7-8ec3-dc9f184b6549",
   "metadata": {},
   "source": [
    "### 오류 회피하기\r",
    "- pass 사용\n"
   ]
  },
  {
   "cell_type": "code",
   "execution_count": null,
   "id": "02e4bcc1-4e7a-4454-b085-1f9892c3387c",
   "metadata": {},
   "outputs": [],
   "source": []
  },
  {
   "cell_type": "code",
   "execution_count": null,
   "id": "2d0b6d95-9dcc-4301-8e63-51f2a0959a42",
   "metadata": {},
   "outputs": [],
   "source": []
  },
  {
   "cell_type": "code",
   "execution_count": null,
   "id": "dc07d215-cc99-4ac1-8e65-6eca9f430856",
   "metadata": {},
   "outputs": [],
   "source": []
  },
  {
   "cell_type": "code",
   "execution_count": null,
   "id": "a66f01ad-f106-493b-af8c-e1d908d23fa2",
   "metadata": {},
   "outputs": [],
   "source": []
  },
  {
   "cell_type": "code",
   "execution_count": null,
   "id": "59e4613b-8160-4f29-8f23-ca7d770c3cf6",
   "metadata": {},
   "outputs": [],
   "source": []
  }
 ],
 "metadata": {
  "kernelspec": {
   "display_name": "Python 3 (ipykernel)",
   "language": "python",
   "name": "python3"
  },
  "language_info": {
   "codemirror_mode": {
    "name": "ipython",
    "version": 3
   },
   "file_extension": ".py",
   "mimetype": "text/x-python",
   "name": "python",
   "nbconvert_exporter": "python",
   "pygments_lexer": "ipython3",
   "version": "3.12.4"
  }
 },
 "nbformat": 4,
 "nbformat_minor": 5
}
