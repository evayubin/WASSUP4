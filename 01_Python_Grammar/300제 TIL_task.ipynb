{
 "cells": [
  {
   "cell_type": "markdown",
   "id": "81019996-287a-4019-9660-f17bfd120a68",
   "metadata": {},
   "source": [
    "### 001 print 기초\n"
   ]
  },
  {
   "cell_type": "code",
   "execution_count": 2,
   "id": "d8afeade-293f-4d42-b8b3-6350ce31e569",
   "metadata": {},
   "outputs": [
    {
     "name": "stdout",
     "output_type": "stream",
     "text": [
      "Hello world\n"
     ]
    }
   ],
   "source": [
    "a = \"Hello world\"\n",
    "print(a)"
   ]
  },
  {
   "cell_type": "markdown",
   "id": "d81c282a-2e6f-4827-b098-35501a8a8034",
   "metadata": {},
   "source": [
    "### 002 Print 기초"
   ]
  },
  {
   "cell_type": "code",
   "execution_count": 4,
   "id": "045c0429-15a7-4f7a-8f92-1e15eeaa48ed",
   "metadata": {},
   "outputs": [
    {
     "data": {
      "text/plain": [
       "\"mary's cosmetics\""
      ]
     },
     "execution_count": 4,
     "metadata": {},
     "output_type": "execute_result"
    }
   ],
   "source": [
    "a = \"mary's cosmetics\"\n",
    "a"
   ]
  },
  {
   "cell_type": "markdown",
   "id": "6e76c31f-30b4-4532-9ee3-f6d8b8de9a56",
   "metadata": {},
   "source": [
    "### 003 print 기초\r\n"
   ]
  },
  {
   "cell_type": "code",
   "execution_count": 6,
   "id": "00352bb8-8a9c-4bea-929a-57d8267dc5b8",
   "metadata": {},
   "outputs": [
    {
     "data": {
      "text/plain": [
       "'신씨가 소리질렀다. \"도둑이야\".'"
      ]
     },
     "execution_count": 6,
     "metadata": {},
     "output_type": "execute_result"
    }
   ],
   "source": [
    "a = '신씨가 소리질렀다. \"도둑이야\".'\n",
    "a"
   ]
  },
  {
   "cell_type": "markdown",
   "id": "23023574-3411-4e0e-90dd-fd11b52ecc18",
   "metadata": {},
   "source": [
    "### 004 print 기초\r\n"
   ]
  },
  {
   "cell_type": "code",
   "execution_count": 25,
   "id": "a895b8c3-2a63-40d4-a2f8-def51005cb49",
   "metadata": {},
   "outputs": [
    {
     "name": "stdout",
     "output_type": "stream",
     "text": [
      "C:\\Windows\n"
     ]
    },
    {
     "name": "stderr",
     "output_type": "stream",
     "text": [
      "<>:1: SyntaxWarning: invalid escape sequence '\\W'\n",
      "<>:1: SyntaxWarning: invalid escape sequence '\\W'\n",
      "C:\\Users\\USER\\AppData\\Local\\Temp\\ipykernel_14208\\3675048665.py:1: SyntaxWarning: invalid escape sequence '\\W'\n",
      "  a = \"C:\\Windows\"\n"
     ]
    }
   ],
   "source": [
    "a = \"C:\\Windows\"\n",
    "print(a)"
   ]
  },
  {
   "cell_type": "markdown",
   "id": "9c0797f8-1f41-4918-9818-e8fa58c8f431",
   "metadata": {},
   "source": [
    "### 005 print 탭과 줄바꿈\r\n"
   ]
  },
  {
   "cell_type": "code",
   "execution_count": 28,
   "id": "66c036e4-0121-43d6-811c-81ec2751d964",
   "metadata": {},
   "outputs": [
    {
     "name": "stdout",
     "output_type": "stream",
     "text": [
      "안녕하세요.\n",
      "만나서\t\t반갑습니다.\n"
     ]
    }
   ],
   "source": [
    "print(\"안녕하세요.\\n만나서\\t\\t반갑습니다.\")"
   ]
  },
  {
   "cell_type": "markdown",
   "id": "c5925194-05e7-4413-a72f-460c99e8e7e6",
   "metadata": {},
   "source": [
    "### 006 print 여러 데이터 출력\r\n"
   ]
  },
  {
   "cell_type": "code",
   "execution_count": 31,
   "id": "64081966-ea5a-4ac1-b66f-2592ad53d8dd",
   "metadata": {},
   "outputs": [
    {
     "name": "stdout",
     "output_type": "stream",
     "text": [
      "오늘은 일요일\n"
     ]
    }
   ],
   "source": [
    "print (\"오늘은\", \"일요일\")"
   ]
  },
  {
   "cell_type": "markdown",
   "id": "76d63feb-0dcb-4c26-8bdd-2dc9a2154577",
   "metadata": {},
   "source": [
    "### 007 print 기초\r\n"
   ]
  },
  {
   "cell_type": "code",
   "execution_count": 45,
   "id": "bc806e58-26b4-4d70-b5b5-269e3f2ef1d4",
   "metadata": {},
   "outputs": [
    {
     "name": "stdout",
     "output_type": "stream",
     "text": [
      "naver;kakao;sk;samsung\n"
     ]
    }
   ],
   "source": [
    "print(\"naver\",\"kakao\",\"sk\",\"samsung\", sep=\";\")"
   ]
  },
  {
   "cell_type": "markdown",
   "id": "32f81dd6-7685-4446-910b-54bfd4f304b3",
   "metadata": {},
   "source": [
    "### 008 print 기초\r\n"
   ]
  },
  {
   "cell_type": "code",
   "execution_count": 48,
   "id": "7e2e0ec0-63da-471b-bc09-1ab777df1e39",
   "metadata": {},
   "outputs": [
    {
     "name": "stdout",
     "output_type": "stream",
     "text": [
      "naver/kakao/sk/samsung\n"
     ]
    }
   ],
   "source": [
    "print(\"naver\",\"kakao\",\"sk\",\"samsung\", sep=\"/\")"
   ]
  },
  {
   "cell_type": "markdown",
   "id": "76c47b3b-298d-40e3-a68c-ef03b597fd58",
   "metadata": {},
   "source": [
    "### 009 print 줄바꿈\r\n"
   ]
  },
  {
   "cell_type": "code",
   "execution_count": 61,
   "id": "0e5e1c2b-a92f-4f8f-adee-3d034a68527d",
   "metadata": {},
   "outputs": [
    {
     "name": "stdout",
     "output_type": "stream",
     "text": [
      "first second\n"
     ]
    }
   ],
   "source": [
    "print(\"first\", end=\" \");print(\"second\")"
   ]
  },
  {
   "cell_type": "markdown",
   "id": "59c2083d-09f5-4965-94aa-fe01676bd713",
   "metadata": {},
   "source": [
    "### 010 연산 결과 출력\r\n"
   ]
  },
  {
   "cell_type": "code",
   "execution_count": 65,
   "id": "01bb6774-95a6-42e1-adc6-46ee40b60459",
   "metadata": {},
   "outputs": [
    {
     "data": {
      "text/plain": [
       "1.6666666666666667"
      ]
     },
     "execution_count": 65,
     "metadata": {},
     "output_type": "execute_result"
    }
   ],
   "source": [
    "5/3"
   ]
  },
  {
   "cell_type": "markdown",
   "id": "13606ee4-c4c1-4c8c-9c98-7a51234f81e6",
   "metadata": {},
   "source": [
    "### 011 변수 사용하기\r\n"
   ]
  },
  {
   "cell_type": "code",
   "execution_count": 78,
   "id": "9da78cc8-1f0f-40f5-b4a6-d1b88cf397e8",
   "metadata": {},
   "outputs": [
    {
     "name": "stdout",
     "output_type": "stream",
     "text": [
      "500000\n"
     ]
    }
   ],
   "source": [
    "삼성전자 = 50000\n",
    "총평가금액 = 삼성전자 * 10\n",
    "print(총평가금액)"
   ]
  },
  {
   "cell_type": "markdown",
   "id": "8ff0b013-5ba6-4c4e-93ea-82a953687ce3",
   "metadata": {},
   "source": [
    "============================"
   ]
  },
  {
   "cell_type": "markdown",
   "id": "13ec2234-fd3d-4cd6-9cee-4e786229fdf9",
   "metadata": {},
   "source": [
    "### 012 변수 사용하기\r\n"
   ]
  },
  {
   "cell_type": "code",
   "execution_count": 19,
   "id": "404e72c0-2c09-4322-9360-c93ac0ff3bcb",
   "metadata": {},
   "outputs": [
    {
     "name": "stdout",
     "output_type": "stream",
     "text": [
      "298000000000000 <class 'int'>\n",
      "50000 <class 'int'>\n",
      "15.79 <class 'float'>\n"
     ]
    }
   ],
   "source": [
    "시가총액 = 298000000000000\n",
    "현재가 = 50000\n",
    "PER = 15.79\n",
    "print(시가총액, type(시가총액))\n",
    "print(현재가, type(현재가))\n",
    "print(PER, type(PER))"
   ]
  },
  {
   "cell_type": "code",
   "execution_count": 21,
   "id": "f5796534-5e01-453f-93ad-df0c699f13f5",
   "metadata": {},
   "outputs": [
    {
     "data": {
      "text/plain": [
       "(298000000000000, 50000, 15.79)"
      ]
     },
     "execution_count": 21,
     "metadata": {},
     "output_type": "execute_result"
    }
   ],
   "source": [
    "시가총액, 현재가, PER"
   ]
  },
  {
   "cell_type": "markdown",
   "id": "92ae36e0-562a-4af9-ade9-cb4a0de1d125",
   "metadata": {},
   "source": [
    "### 013 문자열 출력\n"
   ]
  },
  {
   "cell_type": "code",
   "execution_count": 36,
   "id": "b452f55b-3a52-4a89-92f2-34c44fc9a657",
   "metadata": {},
   "outputs": [
    {
     "data": {
      "text/plain": [
       "('hello', 'python', str, str)"
      ]
     },
     "execution_count": 36,
     "metadata": {},
     "output_type": "execute_result"
    }
   ],
   "source": [
    "s = \"hello\"\n",
    "t = \"python\"\n",
    "s, t, type(s), type(t)"
   ]
  },
  {
   "cell_type": "code",
   "execution_count": 38,
   "id": "9a79f840-329f-45e1-a1d0-1ce976a6d4dd",
   "metadata": {},
   "outputs": [
    {
     "data": {
      "text/plain": [
       "'! '"
      ]
     },
     "execution_count": 38,
     "metadata": {},
     "output_type": "execute_result"
    }
   ],
   "source": [
    "a = \"! \"\n",
    "a"
   ]
  },
  {
   "cell_type": "code",
   "execution_count": 40,
   "id": "9eaea28a-9cab-490b-9dcf-75ec5cba3447",
   "metadata": {},
   "outputs": [
    {
     "data": {
      "text/plain": [
       "'hello! python'"
      ]
     },
     "execution_count": 40,
     "metadata": {},
     "output_type": "execute_result"
    }
   ],
   "source": [
    "s + a + t"
   ]
  },
  {
   "cell_type": "code",
   "execution_count": 42,
   "id": "cf5ed50a-c737-4d2d-8daa-761146d1e152",
   "metadata": {},
   "outputs": [
    {
     "name": "stdout",
     "output_type": "stream",
     "text": [
      "hello!  python\n"
     ]
    }
   ],
   "source": [
    "print(s+\"! \",t)"
   ]
  },
  {
   "cell_type": "markdown",
   "id": "17047950-60a5-4e15-847c-d66dbffdff29",
   "metadata": {},
   "source": [
    "### 014 파이썬을 이용한 값 계산\r\n"
   ]
  },
  {
   "cell_type": "code",
   "execution_count": 45,
   "id": "cb516bc2-2ce0-40f9-a8e0-4d00c9b98337",
   "metadata": {},
   "outputs": [
    {
     "data": {
      "text/plain": [
       "8"
      ]
     },
     "execution_count": 45,
     "metadata": {},
     "output_type": "execute_result"
    }
   ],
   "source": [
    "2 + 2 * 3 "
   ]
  },
  {
   "cell_type": "markdown",
   "id": "510cba8a-1e32-46a0-be86-45781ab9ede1",
   "metadata": {},
   "source": [
    "### 015 type 함수"
   ]
  },
  {
   "cell_type": "code",
   "execution_count": 48,
   "id": "5ce3ce0f-afce-4015-86c0-33e2c2184138",
   "metadata": {},
   "outputs": [
    {
     "name": "stdout",
     "output_type": "stream",
     "text": [
      "<class 'int'>\n"
     ]
    }
   ],
   "source": [
    "a = 128\n",
    "print (type(a))"
   ]
  },
  {
   "cell_type": "code",
   "execution_count": 50,
   "id": "ea483296-f46d-4c56-9947-c5d1b97c481f",
   "metadata": {},
   "outputs": [
    {
     "data": {
      "text/plain": [
       "('132', str)"
      ]
     },
     "execution_count": 50,
     "metadata": {},
     "output_type": "execute_result"
    }
   ],
   "source": [
    "a = \"132\"\n",
    "a, type(a)"
   ]
  },
  {
   "cell_type": "markdown",
   "id": "0cc86fab-12d9-40d4-ac8f-a1858094df76",
   "metadata": {},
   "source": [
    "### 016 문자열을 정수로 변환"
   ]
  },
  {
   "cell_type": "code",
   "execution_count": 57,
   "id": "bad85ab5-31b9-4cf4-ab19-8c0a049917b4",
   "metadata": {},
   "outputs": [
    {
     "data": {
      "text/plain": [
       "(720, int)"
      ]
     },
     "execution_count": 57,
     "metadata": {},
     "output_type": "execute_result"
    }
   ],
   "source": [
    "num_str = \"720\"\n",
    "num_str = 720\n",
    "num_str, type(num_str)"
   ]
  },
  {
   "cell_type": "markdown",
   "id": "7717e55a-e37a-4430-bdc3-779fb125fc19",
   "metadata": {},
   "source": [
    "### 017 정수를 문자열 100으로 변환\n"
   ]
  },
  {
   "cell_type": "code",
   "execution_count": 62,
   "id": "84000bc1-07e1-498e-8503-51fae255708c",
   "metadata": {},
   "outputs": [
    {
     "data": {
      "text/plain": [
       "(100, int)"
      ]
     },
     "execution_count": 62,
     "metadata": {},
     "output_type": "execute_result"
    }
   ],
   "source": [
    "num = 100\n",
    "num, type(num)"
   ]
  },
  {
   "cell_type": "code",
   "execution_count": 64,
   "id": "3c47bfe2-d846-4eb6-87c8-74b115bee479",
   "metadata": {},
   "outputs": [
    {
     "name": "stdout",
     "output_type": "stream",
     "text": [
      "100 <class 'str'>\n"
     ]
    }
   ],
   "source": [
    "num_str = str(num)\n",
    "print(num_str, type(num_str))"
   ]
  },
  {
   "cell_type": "markdown",
   "id": "584774f6-8544-4736-a2d2-8f40c521b5cd",
   "metadata": {},
   "source": [
    "### 019 문자열을 정수로 변환\r\n"
   ]
  },
  {
   "cell_type": "code",
   "execution_count": 67,
   "id": "88bbca32-812f-4cbd-a8cd-ee83a310da77",
   "metadata": {},
   "outputs": [
    {
     "data": {
      "text/plain": [
       "(2020, int)"
      ]
     },
     "execution_count": 67,
     "metadata": {},
     "output_type": "execute_result"
    }
   ],
   "source": [
    "year = \"2020\"\n",
    "year_int = int(year)\n",
    "year_int, type(year_int)"
   ]
  },
  {
   "cell_type": "code",
   "execution_count": 77,
   "id": "cdf70671-c4ee-47d4-be03-a3ff3f2b2646",
   "metadata": {},
   "outputs": [
    {
     "data": {
      "text/plain": [
       "(2024, 2023, 2022)"
      ]
     },
     "execution_count": 77,
     "metadata": {},
     "output_type": "execute_result"
    }
   ],
   "source": [
    "int(year_int)+4, int(year_int)+3, int(year_int)+2"
   ]
  },
  {
   "cell_type": "markdown",
   "id": "fe4011ff-7e8a-415c-a472-11e250b42203",
   "metadata": {},
   "source": [
    "### 020 파이썬 계산\r\n"
   ]
  },
  {
   "cell_type": "code",
   "execution_count": 80,
   "id": "6a9d1b90-1b4c-483b-a2ad-6547348cc47f",
   "metadata": {},
   "outputs": [
    {
     "data": {
      "text/plain": [
       "1749024"
      ]
     },
     "execution_count": 80,
     "metadata": {},
     "output_type": "execute_result"
    }
   ],
   "source": [
    "Airconditioner = 48584\n",
    "month = 36\n",
    "Airconditioner * month"
   ]
  },
  {
   "cell_type": "markdown",
   "id": "d730de02-e2bd-4b5f-a330-841e5e97ba84",
   "metadata": {},
   "source": [
    "### 021 문자열 인덱싱\r\n"
   ]
  },
  {
   "cell_type": "code",
   "execution_count": 95,
   "id": "b4a6de52-a5be-4286-8250-12ef152d0438",
   "metadata": {},
   "outputs": [
    {
     "data": {
      "text/plain": [
       "('p', 't')"
      ]
     },
     "execution_count": 95,
     "metadata": {},
     "output_type": "execute_result"
    }
   ],
   "source": [
    "letters = 'python'\n",
    "letters[0], letters[2]"
   ]
  },
  {
   "cell_type": "code",
   "execution_count": 107,
   "id": "3effcbb4-e11b-4883-99fd-a8d45da9f3b6",
   "metadata": {},
   "outputs": [
    {
     "data": {
      "text/plain": [
       "'2210'"
      ]
     },
     "execution_count": 107,
     "metadata": {},
     "output_type": "execute_result"
    }
   ],
   "source": [
    "license_plate = \"24가 2210\"\n",
    "license_plate[-4:]"
   ]
  },
  {
   "cell_type": "markdown",
   "id": "9ad9a3d7-f35d-4051-9e7f-e5445fddd638",
   "metadata": {},
   "source": [
    "### 023 문자열 인덱싱\n"
   ]
  },
  {
   "cell_type": "code",
   "execution_count": 114,
   "id": "ba291b76-1ff2-4fa6-a590-5d98417049f7",
   "metadata": {},
   "outputs": [
    {
     "data": {
      "text/plain": [
       "'홀홀홀'"
      ]
     },
     "execution_count": 114,
     "metadata": {},
     "output_type": "execute_result"
    }
   ],
   "source": [
    "string = \"홀짝홀짝홀짝\"\n",
    "string[::2]"
   ]
  },
  {
   "cell_type": "markdown",
   "id": "040ef5db-a8d6-44d0-a3f1-731b8f8f7cad",
   "metadata": {},
   "source": [
    "### 024 문자열 슬라이싱\r\n"
   ]
  },
  {
   "cell_type": "code",
   "execution_count": 117,
   "id": "692a2fbc-35f7-46b2-b93b-000dd82fecdb",
   "metadata": {},
   "outputs": [
    {
     "data": {
      "text/plain": [
       "'NOHTYP'"
      ]
     },
     "execution_count": 117,
     "metadata": {},
     "output_type": "execute_result"
    }
   ],
   "source": [
    "string = \"PYTHON\"\n",
    "string[::-1]"
   ]
  },
  {
   "cell_type": "markdown",
   "id": "7c44b208-f8a2-4b1c-a85b-f29cf987c9d2",
   "metadata": {},
   "source": [
    "### 025 문자열 치환\r\n"
   ]
  },
  {
   "cell_type": "code",
   "execution_count": 134,
   "id": "5531802c-30bd-4311-9050-efbf808e477f",
   "metadata": {},
   "outputs": [
    {
     "data": {
      "text/plain": [
       "'010 1111 2222'"
      ]
     },
     "execution_count": 134,
     "metadata": {},
     "output_type": "execute_result"
    }
   ],
   "source": [
    "phone_number = \"010-1111-2222\"\n",
    "phone_number1 = phone_number.replace(\"-\", \" \")\n",
    "phone_number1"
   ]
  },
  {
   "cell_type": "markdown",
   "id": "23f3c67f-56f0-4a81-b775-dd4405dd59a1",
   "metadata": {},
   "source": [
    "### 026 문자열 다루기\r\n"
   ]
  },
  {
   "cell_type": "code",
   "execution_count": 141,
   "id": "de8ffc0b-ff3d-47d9-b23d-cff59ad8c911",
   "metadata": {},
   "outputs": [
    {
     "data": {
      "text/plain": [
       "'01011112222'"
      ]
     },
     "execution_count": 141,
     "metadata": {},
     "output_type": "execute_result"
    }
   ],
   "source": [
    "phone_number1 = phone_number.replace(\"-\", \"\")\n",
    "phone_number1"
   ]
  },
  {
   "cell_type": "markdown",
   "id": "91912307-0aec-4caf-8001-c0e97accee67",
   "metadata": {},
   "source": [
    "### 027 문자열 다루기\r\n"
   ]
  },
  {
   "cell_type": "code",
   "execution_count": 166,
   "id": "50c0ff19-b289-4879-8c94-dc25d2c54e1f",
   "metadata": {},
   "outputs": [
    {
     "data": {
      "text/plain": [
       "'kr'"
      ]
     },
     "execution_count": 166,
     "metadata": {},
     "output_type": "execute_result"
    }
   ],
   "source": [
    "url = \"http://sharebook.kr\"\n",
    "url[-2:]"
   ]
  },
  {
   "cell_type": "code",
   "execution_count": 174,
   "id": "1adad54c-5bf4-4aed-881f-fbd17e249c9f",
   "metadata": {},
   "outputs": [
    {
     "data": {
      "text/plain": [
       "['http://sharebook', 'kr']"
      ]
     },
     "execution_count": 174,
     "metadata": {},
     "output_type": "execute_result"
    }
   ],
   "source": [
    "a = url.split('.')\n",
    "a"
   ]
  },
  {
   "cell_type": "code",
   "execution_count": 176,
   "id": "f8554c9e-6150-40f7-9f8d-9c5134b14d70",
   "metadata": {},
   "outputs": [
    {
     "data": {
      "text/plain": [
       "'kr'"
      ]
     },
     "execution_count": 176,
     "metadata": {},
     "output_type": "execute_result"
    }
   ],
   "source": [
    "a[1]"
   ]
  },
  {
   "cell_type": "markdown",
   "id": "86e4edcc-3c42-48fe-baa8-db13c4086833",
   "metadata": {},
   "source": [
    "### 028 문자열은 immutable\r\n"
   ]
  },
  {
   "cell_type": "code",
   "execution_count": 191,
   "id": "6fefb7e9-eb8e-4b79-9f56-b2757e701bc4",
   "metadata": {},
   "outputs": [
    {
     "ename": "TypeError",
     "evalue": "'str' object does not support item assignment",
     "output_type": "error",
     "traceback": [
      "\u001b[1;31m---------------------------------------------------------------------------\u001b[0m",
      "\u001b[1;31mTypeError\u001b[0m                                 Traceback (most recent call last)",
      "Cell \u001b[1;32mIn[191], line 2\u001b[0m\n\u001b[0;32m      1\u001b[0m lang \u001b[38;5;241m=\u001b[39m \u001b[38;5;124m'\u001b[39m\u001b[38;5;124mpython\u001b[39m\u001b[38;5;124m'\u001b[39m\n\u001b[1;32m----> 2\u001b[0m lang[\u001b[38;5;241m0\u001b[39m] \u001b[38;5;241m=\u001b[39m \u001b[38;5;124m'\u001b[39m\u001b[38;5;124mP\u001b[39m\u001b[38;5;124m'\u001b[39m\n\u001b[0;32m      3\u001b[0m \u001b[38;5;28mprint\u001b[39m(lang)\n",
      "\u001b[1;31mTypeError\u001b[0m: 'str' object does not support item assignment"
     ]
    }
   ],
   "source": [
    "lang = 'python'\n",
    "lang[0] = 'P'\n",
    "print(lang)"
   ]
  },
  {
   "cell_type": "markdown",
   "id": "2f952874-1956-4d51-86c0-67a2d96029a1",
   "metadata": {},
   "source": [
    "### 029 replace 메서드\n"
   ]
  },
  {
   "cell_type": "code",
   "execution_count": 202,
   "id": "fc6ecb8f-a237-4965-9f42-5cab572a020a",
   "metadata": {},
   "outputs": [
    {
     "data": {
      "text/plain": [
       "'Abcdfe2A354A32A'"
      ]
     },
     "execution_count": 202,
     "metadata": {},
     "output_type": "execute_result"
    }
   ],
   "source": [
    "string = 'abcdfe2a354a32a'\n",
    "a = string.replace('a', 'A')\n",
    "a"
   ]
  },
  {
   "cell_type": "code",
   "execution_count": 204,
   "id": "0c89ef27-8fb3-44ff-abb1-a913f95720f3",
   "metadata": {},
   "outputs": [
    {
     "data": {
      "text/plain": [
       "'abcd'"
      ]
     },
     "execution_count": 204,
     "metadata": {},
     "output_type": "execute_result"
    }
   ],
   "source": [
    "string = 'abcd'\n",
    "string.replace('b', 'B')\n",
    "string"
   ]
  },
  {
   "cell_type": "markdown",
   "id": "846ae34a-46ab-42e1-bfcc-3ce6cb1cb2fb",
   "metadata": {},
   "source": [
    "### 031 문자열 합치기\r\n"
   ]
  },
  {
   "cell_type": "code",
   "execution_count": 211,
   "id": "87cdcf02-0f35-4e66-8bfb-525042d4fd85",
   "metadata": {},
   "outputs": [
    {
     "data": {
      "text/plain": [
       "'34'"
      ]
     },
     "execution_count": 211,
     "metadata": {},
     "output_type": "execute_result"
    }
   ],
   "source": [
    "a = \"3\"\n",
    "b = \"4\"\n",
    "a + b"
   ]
  },
  {
   "cell_type": "code",
   "execution_count": 213,
   "id": "883557b7-88ff-42b2-ae58-78571a6c7195",
   "metadata": {},
   "outputs": [
    {
     "name": "stdout",
     "output_type": "stream",
     "text": [
      "H1H1H1\n"
     ]
    }
   ],
   "source": [
    "print(\"H1\" * 3)"
   ]
  },
  {
   "cell_type": "markdown",
   "id": "dae6e586-4dc4-47a5-8094-9cfbaf01706e",
   "metadata": {},
   "source": [
    "### 033 문자열 곱하기\r\n"
   ]
  },
  {
   "cell_type": "code",
   "execution_count": 216,
   "id": "758a40db-3c56-4070-a3c9-d515a930047e",
   "metadata": {},
   "outputs": [
    {
     "data": {
      "text/plain": [
       "'--------------------------------------------------------------------------------'"
      ]
     },
     "execution_count": 216,
     "metadata": {},
     "output_type": "execute_result"
    }
   ],
   "source": [
    "\"-\"  * 80"
   ]
  },
  {
   "cell_type": "markdown",
   "id": "4a3a6e47-e6a5-461e-83a0-9ef867a35e5b",
   "metadata": {},
   "source": [
    "### 034 문자열 곱하기\r\n"
   ]
  },
  {
   "cell_type": "code",
   "execution_count": 233,
   "id": "ed642d4e-8b48-47a9-b5ed-ac0aa6960385",
   "metadata": {},
   "outputs": [
    {
     "data": {
      "text/plain": [
       "'python java python java python java '"
      ]
     },
     "execution_count": 233,
     "metadata": {},
     "output_type": "execute_result"
    }
   ],
   "source": [
    "t1 = 'python'\n",
    "t2 = 'java'\n",
    "t3 = t1 + ' ' + t2 + ' '\n",
    "t3 * 3"
   ]
  },
  {
   "cell_type": "markdown",
   "id": "cf7be37a-e2a2-42d8-b20d-5f639861245d",
   "metadata": {},
   "source": [
    "### 035 문자열 출력\r\n"
   ]
  },
  {
   "cell_type": "code",
   "execution_count": 238,
   "id": "519c050c-0fee-4c63-a17d-7ec791374987",
   "metadata": {},
   "outputs": [
    {
     "name": "stdout",
     "output_type": "stream",
     "text": [
      "이름: 김민수 나이 : 10\n",
      "이름: 이철희 나이 : 13\n"
     ]
    }
   ],
   "source": [
    "name1 = \"김민수\"\n",
    "age1 = 10\n",
    "name2 = \"이철희\"\n",
    "age2 = 13\n",
    "print(\"이름: %s 나이 : %d\" % (name1, age1))\n",
    "print(\"이름: %s 나이 : %d\" % (name2, age2))"
   ]
  },
  {
   "cell_type": "markdown",
   "id": "7b2c1176-c7da-4d29-8bf5-d1b20900b25c",
   "metadata": {},
   "source": [
    "### 036 문자열 출력\r\n"
   ]
  },
  {
   "cell_type": "code",
   "execution_count": 265,
   "id": "ffcb7ebc-e74d-4dff-9daf-345eba3f32b4",
   "metadata": {},
   "outputs": [
    {
     "data": {
      "text/plain": [
       "('이름: 김민수 나이: 10', '이름: 이철희 나이: 13')"
      ]
     },
     "execution_count": 265,
     "metadata": {},
     "output_type": "execute_result"
    }
   ],
   "source": [
    "\"이름: {} 나이: {}\".format(name1, age1), \"이름: {} 나이: {}\".format(name2, age2)"
   ]
  },
  {
   "cell_type": "markdown",
   "id": "604f6bbc-12b2-46e8-ab3e-5b1ec8ef67cf",
   "metadata": {},
   "source": [
    "### 037 문자열 출력\r\n"
   ]
  },
  {
   "cell_type": "code",
   "execution_count": 269,
   "id": "465f12ce-89fa-4d2a-99d4-eeaccde430ee",
   "metadata": {},
   "outputs": [
    {
     "name": "stdout",
     "output_type": "stream",
     "text": [
      "이름: 김민수 나이: 10\n"
     ]
    }
   ],
   "source": [
    "print(f\"이름: {name1} 나이: {age1}\")"
   ]
  },
  {
   "cell_type": "markdown",
   "id": "64e59c38-d6e9-4775-aba8-85b4f908dc02",
   "metadata": {},
   "source": [
    "### 038 컴마 제거하기\r\n"
   ]
  },
  {
   "cell_type": "code",
   "execution_count": 273,
   "id": "8d056c86-105e-4ccb-a9f4-eca49d9c88d8",
   "metadata": {},
   "outputs": [
    {
     "name": "stdout",
     "output_type": "stream",
     "text": [
      "5969782550 <class 'int'>\n"
     ]
    }
   ],
   "source": [
    "상장주식수 = \"5,969,782,550\"\n",
    "컴마제거 = 상장주식수.replace(\",\", \"\")\n",
    "타입변환 = int(컴마제거)\n",
    "print(타입변환, type(타입변환))"
   ]
  },
  {
   "cell_type": "markdown",
   "id": "2f56b95f-d60c-4c0d-916a-d011071b5d2f",
   "metadata": {},
   "source": [
    "### 039 문자열 슬라이싱\n"
   ]
  },
  {
   "cell_type": "code",
   "execution_count": 278,
   "id": "812d5dce-02ef-4afd-94fd-78c2b7bd3422",
   "metadata": {},
   "outputs": [
    {
     "data": {
      "text/plain": [
       "'2020/03'"
      ]
     },
     "execution_count": 278,
     "metadata": {},
     "output_type": "execute_result"
    }
   ],
   "source": [
    "분기 = \"2020/03(E) (IFRS연결)\"\n",
    "분기[:7]"
   ]
  },
  {
   "cell_type": "markdown",
   "id": "15c7f3df-9850-4700-abb2-a63c2aef860f",
   "metadata": {},
   "source": [
    "### 040 strip 메서드\r\n"
   ]
  },
  {
   "cell_type": "code",
   "execution_count": 283,
   "id": "82ae12fb-86fb-4c3e-8aa9-b53e6859d8d3",
   "metadata": {},
   "outputs": [
    {
     "data": {
      "text/plain": [
       "'삼성전자'"
      ]
     },
     "execution_count": 283,
     "metadata": {},
     "output_type": "execute_result"
    }
   ],
   "source": [
    "data = \"    삼성전자   \"\n",
    "data.strip()"
   ]
  },
  {
   "cell_type": "code",
   "execution_count": null,
   "id": "eb986455-04a3-4bd4-8055-883cecebff9a",
   "metadata": {},
   "outputs": [],
   "source": []
  },
  {
   "cell_type": "code",
   "execution_count": null,
   "id": "1b76a8da-0b39-4670-9199-990b37e61daa",
   "metadata": {},
   "outputs": [],
   "source": []
  },
  {
   "cell_type": "code",
   "execution_count": null,
   "id": "504808bf-09aa-4876-be18-23ccc97c9a61",
   "metadata": {},
   "outputs": [],
   "source": []
  },
  {
   "cell_type": "markdown",
   "id": "77cccca9-f70f-4c23-baae-32a37dcc8d56",
   "metadata": {},
   "source": [
    "### 041 upper 메서드"
   ]
  },
  {
   "cell_type": "code",
   "execution_count": 2,
   "id": "14a8d3f6-cf18-4518-bca3-1fb00335f417",
   "metadata": {},
   "outputs": [
    {
     "data": {
      "text/plain": [
       "'BTC_KRW'"
      ]
     },
     "execution_count": 2,
     "metadata": {},
     "output_type": "execute_result"
    }
   ],
   "source": [
    "ticker = 'btc_krw'\n",
    "ticker.upper()"
   ]
  },
  {
   "cell_type": "markdown",
   "id": "3a48137e-9d0f-49c2-a1e6-e0ed8f2a107e",
   "metadata": {},
   "source": [
    "### 042 lower 메서드\n"
   ]
  },
  {
   "cell_type": "code",
   "execution_count": 8,
   "id": "b9a67772-f212-48cd-814e-8212aba79d63",
   "metadata": {},
   "outputs": [
    {
     "data": {
      "text/plain": [
       "'btc_krw'"
      ]
     },
     "execution_count": 8,
     "metadata": {},
     "output_type": "execute_result"
    }
   ],
   "source": [
    "ticker = \"BTC_KRW\"\n",
    "ticker.lower()"
   ]
  },
  {
   "cell_type": "markdown",
   "id": "e66de283-5a56-4871-8a4e-f0c84e384b25",
   "metadata": {},
   "source": [
    "### 043 capitalize 메서드\n"
   ]
  },
  {
   "cell_type": "code",
   "execution_count": 16,
   "id": "c621ad77-dbfc-4b44-a995-bc1b946623ac",
   "metadata": {},
   "outputs": [
    {
     "data": {
      "text/plain": [
       "'Hello'"
      ]
     },
     "execution_count": 16,
     "metadata": {},
     "output_type": "execute_result"
    }
   ],
   "source": [
    "a =\"hello\"\n",
    "a.capitalize()"
   ]
  },
  {
   "cell_type": "markdown",
   "id": "0bd0d0b1-4a4d-41a7-9941-56ef086b0b41",
   "metadata": {},
   "source": [
    "### 044 endswith 메서드\r\n"
   ]
  },
  {
   "cell_type": "code",
   "execution_count": 42,
   "id": "a659d29c-7e5a-4480-9bc0-4b138ef54642",
   "metadata": {},
   "outputs": [
    {
     "data": {
      "text/plain": [
       "True"
      ]
     },
     "execution_count": 42,
     "metadata": {},
     "output_type": "execute_result"
    }
   ],
   "source": [
    "file_name = \"보고서.xlsx\"\n",
    "file_name.endswith(\"xlsx\")"
   ]
  },
  {
   "cell_type": "markdown",
   "id": "8cbf00ec-068a-4271-9aa9-7002a8e73d56",
   "metadata": {},
   "source": [
    "### 045 endswith 메서드\r\n"
   ]
  },
  {
   "cell_type": "code",
   "execution_count": 40,
   "id": "cd3fb64a-2c2c-4f06-af02-b5bbfc80fbe2",
   "metadata": {},
   "outputs": [
    {
     "data": {
      "text/plain": [
       "True"
      ]
     },
     "execution_count": 40,
     "metadata": {},
     "output_type": "execute_result"
    }
   ],
   "source": [
    "file_name = \"보고서.xlsx\"\n",
    "file_name.endswith((\"xlsx\", \"xls\"))"
   ]
  },
  {
   "cell_type": "markdown",
   "id": "a76da116-06b5-4abc-8198-a99d54287acc",
   "metadata": {},
   "source": [
    "### 046 startswith 메서드\r\n"
   ]
  },
  {
   "cell_type": "code",
   "execution_count": 52,
   "id": "edcd3264-b855-4a0d-a836-a56e024f62fe",
   "metadata": {},
   "outputs": [
    {
     "data": {
      "text/plain": [
       "True"
      ]
     },
     "execution_count": 52,
     "metadata": {},
     "output_type": "execute_result"
    }
   ],
   "source": [
    "file_name = \"2020_보고서.xlsx\"\n",
    "file_name.startswith(\"2020\")"
   ]
  },
  {
   "cell_type": "markdown",
   "id": "3412c554-0c17-4e58-a0b1-039d57dd770c",
   "metadata": {},
   "source": [
    "### 047 split 메서드\r\n"
   ]
  },
  {
   "cell_type": "code",
   "execution_count": 45,
   "id": "e186e9f7-4fa6-4e4b-8769-5fde07d38cb2",
   "metadata": {},
   "outputs": [
    {
     "data": {
      "text/plain": [
       "['hello', 'world']"
      ]
     },
     "execution_count": 45,
     "metadata": {},
     "output_type": "execute_result"
    }
   ],
   "source": [
    "a = \"hello world\"\n",
    "a.split(\" \")"
   ]
  },
  {
   "cell_type": "markdown",
   "id": "5e66bfe1-d375-4dc5-84b7-caad8715ec44",
   "metadata": {},
   "source": [
    "### 048 split 메서드\r\n"
   ]
  },
  {
   "cell_type": "code",
   "execution_count": 54,
   "id": "824642ed-a39b-4127-a190-1b9cb3acc2de",
   "metadata": {},
   "outputs": [
    {
     "data": {
      "text/plain": [
       "['btc', 'krw']"
      ]
     },
     "execution_count": 54,
     "metadata": {},
     "output_type": "execute_result"
    }
   ],
   "source": [
    "ticker = \"btc_krw\"\n",
    "ticker.split(\"_\")"
   ]
  },
  {
   "cell_type": "markdown",
   "id": "6e140879-468e-4d30-8c81-3517343aae69",
   "metadata": {},
   "source": [
    "### 049 split 메서드\r\n"
   ]
  },
  {
   "cell_type": "code",
   "execution_count": 57,
   "id": "fa7ab8a4-d3f1-4018-8cf0-89e39ca46fa8",
   "metadata": {},
   "outputs": [
    {
     "data": {
      "text/plain": [
       "['2020', '05', '01']"
      ]
     },
     "execution_count": 57,
     "metadata": {},
     "output_type": "execute_result"
    }
   ],
   "source": [
    "date = \"2020-05-01\"\n",
    "date.split(\"-\")"
   ]
  },
  {
   "cell_type": "markdown",
   "id": "87e65666-6b11-49b9-b7af-05fd465483f1",
   "metadata": {},
   "source": [
    "### 050 rstrip 메서드\r\n"
   ]
  },
  {
   "cell_type": "code",
   "execution_count": 60,
   "id": "83d94219-3da8-44ea-9ef4-a1a65e73d485",
   "metadata": {},
   "outputs": [
    {
     "data": {
      "text/plain": [
       "'039490'"
      ]
     },
     "execution_count": 60,
     "metadata": {},
     "output_type": "execute_result"
    }
   ],
   "source": [
    "data = \"039490     \"\n",
    "data.rstrip()"
   ]
  },
  {
   "cell_type": "code",
   "execution_count": null,
   "id": "b5978e2f-a883-4eff-8919-305e96787479",
   "metadata": {},
   "outputs": [],
   "source": []
  },
  {
   "cell_type": "markdown",
   "id": "ab16ecb0-532b-49db-b1f4-368916434514",
   "metadata": {},
   "source": [
    "#### 101 파이썬에서 True 혹은 False를 갖는 데이터 타입은 무엇인가?"
   ]
  },
  {
   "cell_type": "code",
   "execution_count": 8,
   "id": "a8f98bf2-ddc4-4f31-8c83-a43010553d94",
   "metadata": {},
   "outputs": [],
   "source": [
    "#BOOL"
   ]
  },
  {
   "cell_type": "markdown",
   "id": "caf6ddd9-b65b-41c5-8fac-11443523c0a8",
   "metadata": {},
   "source": [
    "#### 102 아래 코드의 출력 결과를 예상하라"
   ]
  },
  {
   "cell_type": "code",
   "execution_count": 11,
   "id": "05e24bd6-23f0-4e9b-bd8b-9836cab62a5c",
   "metadata": {},
   "outputs": [
    {
     "name": "stdout",
     "output_type": "stream",
     "text": [
      "False\n"
     ]
    }
   ],
   "source": [
    "print(3 == 5)"
   ]
  },
  {
   "cell_type": "markdown",
   "id": "ff076067-03ad-40d5-8bba-49feadb1358d",
   "metadata": {},
   "source": [
    "#### 103 아래 코드의 출력 결과를 예상하라"
   ]
  },
  {
   "cell_type": "code",
   "execution_count": 21,
   "id": "ec9ee0d9-d465-4cbc-a68d-a7ec7041164d",
   "metadata": {},
   "outputs": [
    {
     "name": "stdout",
     "output_type": "stream",
     "text": [
      "True\n"
     ]
    }
   ],
   "source": [
    "print(3 < 5)"
   ]
  },
  {
   "cell_type": "code",
   "execution_count": 18,
   "id": "0d0341bd-22dd-4dad-b106-c78f3aa65ecc",
   "metadata": {},
   "outputs": [
    {
     "name": "stdout",
     "output_type": "stream",
     "text": [
      "False\n"
     ]
    }
   ],
   "source": [
    "x = 6\n",
    "print(1 < x < 5)"
   ]
  },
  {
   "cell_type": "markdown",
   "id": "9ddea006-de1c-4d97-a544-4d7c651f428f",
   "metadata": {},
   "source": [
    "#### 104"
   ]
  },
  {
   "cell_type": "code",
   "execution_count": null,
   "id": "c53b6604-0679-4a34-b8c4-25e842f50564",
   "metadata": {},
   "outputs": [],
   "source": [
    "x = 4\n",
    "print(1 < x < 5)"
   ]
  },
  {
   "cell_type": "markdown",
   "id": "aae0c1ce-5693-44ae-b1ee-1899b7490a1e",
   "metadata": {},
   "source": [
    "#### 105"
   ]
  },
  {
   "cell_type": "code",
   "execution_count": 24,
   "id": "bde399dd-8455-4f92-89a5-c94d18db773d",
   "metadata": {},
   "outputs": [
    {
     "name": "stdout",
     "output_type": "stream",
     "text": [
      "True\n"
     ]
    }
   ],
   "source": [
    "print ((3 == 3) and (4 != 3)) #TRUE WHY??? "
   ]
  },
  {
   "cell_type": "markdown",
   "id": "af8462de-c98e-4491-8703-1cbf7d4bf72d",
   "metadata": {},
   "source": [
    "#### 106"
   ]
  },
  {
   "cell_type": "code",
   "execution_count": 31,
   "id": "723bb20e-f4a5-490e-a186-c7fb892347b5",
   "metadata": {},
   "outputs": [
    {
     "ename": "SyntaxError",
     "evalue": "expression cannot contain assignment, perhaps you meant \"==\"? (2637246330.py, line 1)",
     "output_type": "error",
     "traceback": [
      "\u001b[1;36m  Cell \u001b[1;32mIn[31], line 1\u001b[1;36m\u001b[0m\n\u001b[1;33m    print(3 => 4) # 연산자가 없다!@!!ㅋㅋㅋㅋㅋㅋ\u001b[0m\n\u001b[1;37m          ^\u001b[0m\n\u001b[1;31mSyntaxError\u001b[0m\u001b[1;31m:\u001b[0m expression cannot contain assignment, perhaps you meant \"==\"?\n"
     ]
    }
   ],
   "source": [
    "print(3 => 4) # 연산자가 없다!@!!ㅋㅋㅋㅋㅋㅋ"
   ]
  },
  {
   "cell_type": "markdown",
   "id": "e59bb1de-5e89-4d1a-b5ba-e4f05f09d51c",
   "metadata": {},
   "source": [
    "#### 107"
   ]
  },
  {
   "cell_type": "code",
   "execution_count": 34,
   "id": "6bcc1a08-1b93-4118-9ff4-28574ea656d1",
   "metadata": {},
   "outputs": [],
   "source": [
    "if 4 < 3:\n",
    "    print(\"Hello World\")"
   ]
  },
  {
   "cell_type": "markdown",
   "id": "a6b94e2d-ee6b-40c3-ae98-35535eadd014",
   "metadata": {},
   "source": [
    "#### 108"
   ]
  },
  {
   "cell_type": "code",
   "execution_count": 39,
   "id": "a98338e4-0a38-44b5-924a-ae91bb96842a",
   "metadata": {},
   "outputs": [
    {
     "name": "stdout",
     "output_type": "stream",
     "text": [
      "Hi, there.\n"
     ]
    }
   ],
   "source": [
    "# 결과??? Hi, there???\n",
    "if 4 < 3:\n",
    "    print(\"Hello World.\")\n",
    "else:\n",
    "    print(\"Hi, there.\")"
   ]
  },
  {
   "cell_type": "markdown",
   "id": "cd9cadc5-0f2c-40dc-9428-8f2e1a93d43c",
   "metadata": {},
   "source": [
    "#### 109"
   ]
  },
  {
   "cell_type": "code",
   "execution_count": 49,
   "id": "cf5a4505-bc8d-45dd-95ad-acf7bffbded0",
   "metadata": {},
   "outputs": [
    {
     "name": "stdout",
     "output_type": "stream",
     "text": [
      "1\n",
      "2\n",
      "4\n"
     ]
    }
   ],
   "source": [
    "# why??? \n",
    "if True :\n",
    "    print (\"1\")\n",
    "    print (\"2\")\n",
    "else :\n",
    "    print(\"3\")\n",
    "print(\"4\")"
   ]
  },
  {
   "cell_type": "markdown",
   "id": "deee5d24-6e16-43b2-9f1e-e8534268ce11",
   "metadata": {},
   "source": [
    "#### 110"
   ]
  },
  {
   "cell_type": "code",
   "execution_count": 45,
   "id": "a1232d00-db5f-4b86-b156-b068cb2a4bc2",
   "metadata": {},
   "outputs": [
    {
     "name": "stdout",
     "output_type": "stream",
     "text": [
      "3\n",
      "5\n"
     ]
    }
   ],
   "source": [
    "# true안의 false\n",
    "if True :\n",
    "    if False:\n",
    "        print(\"1\")\n",
    "        print(\"2\")\n",
    "    else:\n",
    "        print(\"3\")\n",
    "else :\n",
    "    print(\"4\")\n",
    "print(\"5\")"
   ]
  },
  {
   "cell_type": "markdown",
   "id": "9944d962-626d-462b-a00e-67ce9e79a761",
   "metadata": {},
   "source": [
    "#### 111"
   ]
  },
  {
   "cell_type": "code",
   "execution_count": 57,
   "id": "4be55176-caf8-424b-920f-e7ecd9267e35",
   "metadata": {},
   "outputs": [
    {
     "name": "stdin",
     "output_type": "stream",
     "text": [
      "입력: 안녕하세요\n"
     ]
    },
    {
     "data": {
      "text/plain": [
       "'안녕하세요안녕하세요'"
      ]
     },
     "execution_count": 57,
     "metadata": {},
     "output_type": "execute_result"
    }
   ],
   "source": [
    "a = input(\"입력:\")\n",
    "a *2"
   ]
  },
  {
   "cell_type": "markdown",
   "id": "9557dc9d-ba32-42dc-b67d-14ebd73c1a97",
   "metadata": {},
   "source": [
    "#### 112"
   ]
  },
  {
   "cell_type": "code",
   "execution_count": 61,
   "id": "532e2420-e4c7-4f91-8014-037d694b8d93",
   "metadata": {},
   "outputs": [
    {
     "name": "stdin",
     "output_type": "stream",
     "text": [
      "insert number: 50\n"
     ]
    },
    {
     "name": "stdout",
     "output_type": "stream",
     "text": [
      "60\n"
     ]
    }
   ],
   "source": [
    "a = int(input(\"insert number:\"))\n",
    "print(a +10)"
   ]
  },
  {
   "cell_type": "markdown",
   "id": "36ff4e38-a118-49d8-98e2-e1cf00484fba",
   "metadata": {},
   "source": [
    "### 113"
   ]
  },
  {
   "cell_type": "code",
   "execution_count": 85,
   "id": "46c923c7-37fa-4443-ae5e-bc8afc398a54",
   "metadata": {},
   "outputs": [
    {
     "name": "stdin",
     "output_type": "stream",
     "text": [
      "insert number: 5\n"
     ]
    },
    {
     "name": "stdout",
     "output_type": "stream",
     "text": [
      " 5 is odd number\n",
      "5\n"
     ]
    }
   ],
   "source": [
    "user = int(input(\"insert number:\"))\n",
    "if user %2 == 0:\n",
    "    print(f' {user} is even number')\n",
    "else : \n",
    "    print(f' {user} is odd number')\n",
    "print(user)"
   ]
  },
  {
   "cell_type": "markdown",
   "id": "e239a89a-b773-4037-b93c-acc3df42ea60",
   "metadata": {},
   "source": [
    "### 114"
   ]
  },
  {
   "cell_type": "code",
   "execution_count": 117,
   "id": "80808617-99b5-4b4f-967d-c8ef4e7703b7",
   "metadata": {},
   "outputs": [
    {
     "name": "stdin",
     "output_type": "stream",
     "text": [
      " 50\n"
     ]
    },
    {
     "name": "stdout",
     "output_type": "stream",
     "text": [
      "60\n"
     ]
    }
   ],
   "source": [
    "user = int(input())\n",
    "print(user + 10)"
   ]
  },
  {
   "cell_type": "code",
   "execution_count": 136,
   "id": "2f897fab-9478-42cd-9ae2-00c1093a8aa5",
   "metadata": {},
   "outputs": [
    {
     "name": "stdin",
     "output_type": "stream",
     "text": [
      "입력값:  210\n"
     ]
    },
    {
     "name": "stdout",
     "output_type": "stream",
     "text": [
      "230\n"
     ]
    }
   ],
   "source": [
    "user = input(\"입력값: \")\n",
    "num = 20 + int(user)\n",
    "if num > 255:\n",
    "    print(255)\n",
    "else:\n",
    "    print(num)"
   ]
  },
  {
   "cell_type": "markdown",
   "id": "ac4a6214-e4c4-42d5-a9cf-4d1e30966f3e",
   "metadata": {},
   "source": [
    "### 115"
   ]
  },
  {
   "cell_type": "code",
   "execution_count": 150,
   "id": "7d83e70d-28f8-4942-8303-e9069eb5233c",
   "metadata": {},
   "outputs": [
    {
     "name": "stdin",
     "output_type": "stream",
     "text": [
      "input:  15\n"
     ]
    },
    {
     "name": "stdout",
     "output_type": "stream",
     "text": [
      "0\n",
      "-5\n"
     ]
    }
   ],
   "source": [
    "user = input(\"input: \")\n",
    "num = int(user) - 20\n",
    "if num < 0:\n",
    "    print(0)\n",
    "if num > 255:\n",
    "    print(255)\n",
    "else:\n",
    "    print(num)"
   ]
  },
  {
   "cell_type": "markdown",
   "id": "a178027b-6de0-4b17-9f05-6033692d7222",
   "metadata": {},
   "source": [
    "### 116 "
   ]
  },
  {
   "cell_type": "code",
   "execution_count": 156,
   "id": "e5029c6d-51b1-4f5e-b18a-9cf6f48bb4fb",
   "metadata": {},
   "outputs": [
    {
     "name": "stdin",
     "output_type": "stream",
     "text": [
      "Time:  10:00\n"
     ]
    },
    {
     "name": "stdout",
     "output_type": "stream",
     "text": [
      "on time.\n"
     ]
    }
   ],
   "source": [
    "time = input(\"Time: \")\n",
    "if time[-2: ] == \"00\":\n",
    "    print(\"on time.\")\n",
    "else:\n",
    "    print(\"not on time.\")"
   ]
  },
  {
   "cell_type": "markdown",
   "id": "3cc8b3b4-8d80-495c-bfac-1a4b40197e07",
   "metadata": {},
   "source": [
    "### 117"
   ]
  },
  {
   "cell_type": "code",
   "execution_count": 180,
   "id": "e4bcfb53-2ece-432b-a27d-59ba2f25b0a0",
   "metadata": {},
   "outputs": [
    {
     "name": "stdin",
     "output_type": "stream",
     "text": [
      "What's your favorite fruit?:  홍시\n"
     ]
    },
    {
     "name": "stdout",
     "output_type": "stream",
     "text": [
      "Right!\n"
     ]
    }
   ],
   "source": [
    "char = input(\"What's your favorite fruit?: \")\n",
    "fruit = [\"사과\", \"포도\", \"홍시\"]\n",
    "if char in fruit:\n",
    "    print(\"Right!\")\n",
    "else:\n",
    "    print(\"Hmmmm...\")"
   ]
  },
  {
   "cell_type": "markdown",
   "id": "56f796ba-8b8f-404c-880b-a83556666942",
   "metadata": {},
   "source": [
    "### 119"
   ]
  },
  {
   "cell_type": "code",
   "execution_count": 190,
   "id": "42b9f0f6-f621-4087-9ac1-28eaf777b5e6",
   "metadata": {},
   "outputs": [
    {
     "name": "stdin",
     "output_type": "stream",
     "text": [
      "my favorite season is..:  summer\n"
     ]
    },
    {
     "name": "stdout",
     "output_type": "stream",
     "text": [
      "Wow! so do I!\n"
     ]
    }
   ],
   "source": [
    "fruit = {\"spring\" : \"strawberry\", \"summer\" : \"tomato\", \"autumn\" : \"apple\"}\n",
    "answer = input(\"my favorite season is..: \")\n",
    "if answer in fruit:\n",
    "    print(\"Wow! so do I!\")\n",
    "else:\n",
    "    print(\"Oh! you do!\")"
   ]
  },
  {
   "cell_type": "markdown",
   "id": "89cf5766-7732-41f8-b73f-4449699f8e93",
   "metadata": {},
   "source": [
    "### 120"
   ]
  },
  {
   "cell_type": "code",
   "execution_count": 195,
   "id": "c03e9f66-7287-4216-993b-a53fdd9cafc0",
   "metadata": {},
   "outputs": [
    {
     "name": "stdin",
     "output_type": "stream",
     "text": [
      "my favorite fruit is..:  pear\n"
     ]
    },
    {
     "name": "stdout",
     "output_type": "stream",
     "text": [
      "Oh! you do!\n"
     ]
    }
   ],
   "source": [
    "fruit = {\"spring\" : \"strawberry\", \"summer\" : \"tomato\", \"autumn\" : \"apple\"}\n",
    "answer = input(\"my favorite fruit is..: \")\n",
    "if answer in fruit:\n",
    "    print(\"Wow! so do I!\")\n",
    "else:\n",
    "    print(\"Oh! you do!\")"
   ]
  },
  {
   "cell_type": "markdown",
   "id": "0ae57337-0be4-4667-a3bf-ce9f09343687",
   "metadata": {},
   "source": [
    "### 121"
   ]
  },
  {
   "cell_type": "code",
   "execution_count": 206,
   "id": "cd8e7fa5-a3e4-4abc-bbd7-7ac1ffd1a01d",
   "metadata": {},
   "outputs": [
    {
     "name": "stdin",
     "output_type": "stream",
     "text": [
      " S\n"
     ]
    },
    {
     "name": "stdout",
     "output_type": "stream",
     "text": [
      "s\n"
     ]
    }
   ],
   "source": [
    "user = input(\"\")\n",
    "if user.islower():\n",
    "    print(user.upper())\n",
    "else:\n",
    "    print(user.lower())"
   ]
  },
  {
   "cell_type": "markdown",
   "id": "8b9f4b31-d21b-4cd9-83ff-a1b4ad515861",
   "metadata": {},
   "source": [
    "### 122"
   ]
  },
  {
   "cell_type": "code",
   "execution_count": 212,
   "id": "0c53f4c9-8679-4c55-8c78-da4a21a37f39",
   "metadata": {},
   "outputs": [
    {
     "name": "stdin",
     "output_type": "stream",
     "text": [
      "score:  99\n"
     ]
    },
    {
     "name": "stdout",
     "output_type": "stream",
     "text": [
      "grade is A\n"
     ]
    }
   ],
   "source": [
    "score = int(input(\"score: \"))\n",
    "if 81 <= score <= 100:\n",
    "    print(\"grade is A\")\n",
    "elif 61 <= score <= 80:\n",
    "    print(\"grade is B\")\n",
    "elif 41 <= score <= 60:\n",
    "    print(\"grade is C\")\n",
    "elif 21 <= score <= 40:\n",
    "    print(\"grade is D\")\n",
    "else:\n",
    "    print(\"grade is E\")"
   ]
  },
  {
   "cell_type": "markdown",
   "id": "1e9988b8-c660-46aa-ae09-ed95baf767bb",
   "metadata": {},
   "source": [
    "### 123"
   ]
  },
  {
   "cell_type": "code",
   "execution_count": 11,
   "id": "662adce6-0fb8-4ac7-b721-d04f30aedbaa",
   "metadata": {},
   "outputs": [
    {
     "name": "stdin",
     "output_type": "stream",
     "text": [
      "change is:  150 dollar\n"
     ]
    },
    {
     "name": "stdout",
     "output_type": "stream",
     "text": [
      "175050.0 won\n"
     ]
    }
   ],
   "source": [
    "change = {'dollar' : 1167,\n",
    "          'yen' : 1.096,\n",
    "          'euro' : 1268,\n",
    "          'cyn' : 171}\n",
    "user = input('change is: ')\n",
    "num, currency = user.split()\n",
    "print(float(num) * change[currency], 'won')"
   ]
  },
  {
   "cell_type": "markdown",
   "id": "169abb3d-abf0-4a93-86cd-b7ec4b34e81f",
   "metadata": {},
   "source": [
    "### 124"
   ]
  },
  {
   "cell_type": "code",
   "execution_count": 17,
   "id": "b4cdb34f-f844-4f82-b1a3-d2978a801053",
   "metadata": {},
   "outputs": [
    {
     "name": "stdout",
     "output_type": "stream",
     "text": [
      "사과\n",
      "귤\n",
      "수박\n"
     ]
    }
   ],
   "source": [
    "#131\n",
    "과일 = [\"사과\", \"귤\", \"수박\"]\n",
    "for 변수 in 과일:\n",
    "    print(변수)"
   ]
  },
  {
   "cell_type": "code",
   "execution_count": 23,
   "id": "fd0661db-8a94-4604-a5a5-d6e8bc3be2e2",
   "metadata": {},
   "outputs": [
    {
     "name": "stdout",
     "output_type": "stream",
     "text": [
      "출력:  A\n",
      "출력:  B\n",
      "출력:  C\n"
     ]
    }
   ],
   "source": [
    "a = 'A'\n",
    "print('출력: ', a)\n",
    "b = 'B'\n",
    "print('출력: ', b)\n",
    "c = 'C'\n",
    "print('출력: ', c)"
   ]
  },
  {
   "cell_type": "code",
   "execution_count": 29,
   "id": "0f3330b3-885f-4f80-968b-eadaa64a49c3",
   "metadata": {},
   "outputs": [
    {
     "name": "stdout",
     "output_type": "stream",
     "text": [
      "print:  10\n",
      "print:  20\n",
      "print:  30\n"
     ]
    }
   ],
   "source": [
    "for a in [ 10, 20, 30 ]:\n",
    "    print('print: ', a)"
   ]
  },
  {
   "cell_type": "code",
   "execution_count": 39,
   "id": "e691ea2e-3a09-47c7-be98-a1abdf847ef6",
   "metadata": {},
   "outputs": [
    {
     "name": "stdout",
     "output_type": "stream",
     "text": [
      "10\n",
      "-----------\n",
      "20\n",
      "-----------\n",
      "30\n",
      "-----------\n"
     ]
    }
   ],
   "source": [
    "for q in [10, 20, 30]:\n",
    "    print(q)\n",
    "    print(\"-----------\")"
   ]
  },
  {
   "cell_type": "code",
   "execution_count": 43,
   "id": "ff8abc72-659a-4362-9305-20cad2612180",
   "metadata": {},
   "outputs": [
    {
     "name": "stdout",
     "output_type": "stream",
     "text": [
      "++++\n",
      "10\n",
      "20\n",
      "30\n"
     ]
    }
   ],
   "source": [
    "print('++++')\n",
    "for a in [10, 20, 30]:\n",
    "    print(a)"
   ]
  },
  {
   "cell_type": "code",
   "execution_count": 45,
   "id": "31e0ce23-ae0c-4b31-9012-5bb2aa69f5ca",
   "metadata": {},
   "outputs": [
    {
     "name": "stdout",
     "output_type": "stream",
     "text": [
      "-------\n",
      "-------\n",
      "-------\n",
      "-------\n"
     ]
    }
   ],
   "source": [
    "for 변수 in [1, 2, 3, 4]:\n",
    "  print(\"-------\")\n"
   ]
  },
  {
   "cell_type": "code",
   "execution_count": 49,
   "id": "a7d9458f-fb75-4a4b-8c5b-00debc158a0a",
   "metadata": {},
   "outputs": [
    {
     "name": "stdout",
     "output_type": "stream",
     "text": [
      "110\n",
      "210\n",
      "310\n"
     ]
    }
   ],
   "source": [
    "list = [ 100, 200, 300 ]\n",
    "for a in list:\n",
    "    print(a +10)"
   ]
  },
  {
   "cell_type": "code",
   "execution_count": 51,
   "id": "bb784313-43f7-49e7-ae0c-371bf4b6edb2",
   "metadata": {},
   "outputs": [
    {
     "name": "stdout",
     "output_type": "stream",
     "text": [
      "menu del dia:  김밥\n",
      "menu del dia:  라면\n",
      "menu del dia:  튀김\n"
     ]
    }
   ],
   "source": [
    "list = [\"김밥\", \"라면\", \"튀김\"]\n",
    "for a in list:\n",
    "    print('menu del dia: ',a)"
   ]
  },
  {
   "cell_type": "code",
   "execution_count": 59,
   "id": "83320b94-ecad-41b4-8f44-72cd7c084a2a",
   "metadata": {},
   "outputs": [
    {
     "name": "stdout",
     "output_type": "stream",
     "text": [
      "6\n",
      "4\n",
      "4\n"
     ]
    }
   ],
   "source": [
    "list = [\"SK하이닉스\", \"삼성전자\", \"LG전자\"]\n",
    "for a in list:\n",
    "    print(len(a))"
   ]
  },
  {
   "cell_type": "code",
   "execution_count": 61,
   "id": "962f0dc9-e5e0-4d39-8c5d-6beec22678d7",
   "metadata": {},
   "outputs": [
    {
     "name": "stdout",
     "output_type": "stream",
     "text": [
      "dog 3\n",
      "cat 3\n",
      "parrot 6\n"
     ]
    }
   ],
   "source": [
    "list = ['dog', 'cat', 'parrot']\n",
    "for a in list:\n",
    "    print(a, len(a))"
   ]
  },
  {
   "cell_type": "code",
   "execution_count": 63,
   "id": "6f4db339-716e-4cbe-8122-e819a18fa9fb",
   "metadata": {},
   "outputs": [
    {
     "name": "stdout",
     "output_type": "stream",
     "text": [
      "d\n",
      "c\n",
      "p\n"
     ]
    }
   ],
   "source": [
    "list = ['dog', 'cat', 'parrot']\n",
    "for a in list:\n",
    "    print(a[0])"
   ]
  },
  {
   "cell_type": "code",
   "execution_count": 67,
   "id": "71abe518-3cfe-4e25-b406-19962ae55206",
   "metadata": {},
   "outputs": [
    {
     "name": "stdout",
     "output_type": "stream",
     "text": [
      "3 x 1\n",
      "3 x 2\n",
      "3 x 3\n"
     ]
    }
   ],
   "source": [
    "list = [1,2,3]\n",
    "for a in list:\n",
    "    print('3 x',a)"
   ]
  },
  {
   "cell_type": "code",
   "execution_count": 69,
   "id": "f9db3f79-a559-41f6-9b40-8bff828d9fed",
   "metadata": {},
   "outputs": [
    {
     "name": "stdout",
     "output_type": "stream",
     "text": [
      "3 x 1 = 3\n",
      "3 x 2 = 6\n",
      "3 x 3 = 9\n"
     ]
    }
   ],
   "source": [
    "list = [1,2,3]\n",
    "for a in list:\n",
    "    print('3 x {} = {}'.format(a, 3*a))"
   ]
  },
  {
   "cell_type": "code",
   "execution_count": 75,
   "id": "70b94e32-3bda-415a-b7b3-bda1788d5bea",
   "metadata": {},
   "outputs": [
    {
     "name": "stdout",
     "output_type": "stream",
     "text": [
      "나\n",
      "다\n",
      "라\n"
     ]
    }
   ],
   "source": [
    "리스트 = [\"가\", \"나\", \"다\", \"라\"]\n",
    "for 변수 in 리스트[1:]:\n",
    "  print(변수)"
   ]
  },
  {
   "cell_type": "code",
   "execution_count": 85,
   "id": "994bff90-e1e3-429d-8f9b-f33ce81c8119",
   "metadata": {},
   "outputs": [
    {
     "name": "stdout",
     "output_type": "stream",
     "text": [
      "가\n",
      "다\n"
     ]
    }
   ],
   "source": [
    "리스트 = [\"가\", \"나\", \"다\", \"라\"]\n",
    "for 변수 in 리스트[::2]:\n",
    "  print(변수)"
   ]
  },
  {
   "cell_type": "code",
   "execution_count": 89,
   "id": "e93130d4-ae24-4853-a001-20f7d86abdec",
   "metadata": {},
   "outputs": [
    {
     "name": "stdout",
     "output_type": "stream",
     "text": [
      "라\n",
      "다\n",
      "나\n",
      "가\n"
     ]
    }
   ],
   "source": [
    "list = [\"가\", \"나\", \"다\", \"라\"]\n",
    "for a in list[::-1]:\n",
    "    print(a)"
   ]
  },
  {
   "cell_type": "code",
   "execution_count": 97,
   "id": "eaf88569-ec05-4e7a-8d8b-e2ff27353753",
   "metadata": {},
   "outputs": [
    {
     "name": "stdout",
     "output_type": "stream",
     "text": [
      "-20\n",
      "-3\n"
     ]
    }
   ],
   "source": [
    "리스트 = [3, -20, -3, 44]\n",
    "for 변수 in 리스트:\n",
    "  if 변수 < 0:\n",
    "    print(변수)\n"
   ]
  },
  {
   "cell_type": "code",
   "execution_count": 107,
   "id": "ce9a66ae-131e-4bbe-8e16-7b238df64181",
   "metadata": {},
   "outputs": [
    {
     "name": "stdout",
     "output_type": "stream",
     "text": [
      "3\n"
     ]
    }
   ],
   "source": [
    "list = [3, 100, 23, 44]\n",
    "for a in list:\n",
    "    if a % 3 == 0:\n",
    "        print(a)"
   ]
  },
  {
   "cell_type": "code",
   "execution_count": 115,
   "id": "3f2d1b88-5e97-4008-ac72-9a784e0b6ca1",
   "metadata": {},
   "outputs": [
    {
     "name": "stdout",
     "output_type": "stream",
     "text": [
      "12\n",
      "18\n"
     ]
    }
   ],
   "source": [
    "list = [13, 21, 12, 14, 30, 18]\n",
    "for a in list:\n",
    "    if a <20 and a %3 ==0:\n",
    "        print(a)"
   ]
  },
  {
   "cell_type": "code",
   "execution_count": 117,
   "id": "a4c4d61f-fc55-4c8f-9297-b361705f10b7",
   "metadata": {},
   "outputs": [
    {
     "name": "stdout",
     "output_type": "stream",
     "text": [
      "study\n",
      "python\n",
      "language\n"
     ]
    }
   ],
   "source": [
    "list = [\"I\", \"study\", \"python\", \"language\", \"!\"]\n",
    "for a in list:\n",
    "    if len(a) >= 3:\n",
    "        print(a)"
   ]
  },
  {
   "cell_type": "code",
   "execution_count": 141,
   "id": "a9ce87b7-5933-4216-a238-1fc18e51c374",
   "metadata": {},
   "outputs": [
    {
     "name": "stdout",
     "output_type": "stream",
     "text": [
      "A\n",
      "D\n"
     ]
    }
   ],
   "source": [
    "list = [\"A\", \"b\", \"c\", \"D\"]\n",
    "for a in list:\n",
    "    if a.isupper():\n",
    "        print(a)"
   ]
  },
  {
   "cell_type": "code",
   "execution_count": 143,
   "id": "39f6ed0f-3118-453a-8c39-7df5363b4411",
   "metadata": {},
   "outputs": [
    {
     "name": "stdout",
     "output_type": "stream",
     "text": [
      "b\n",
      "c\n"
     ]
    }
   ],
   "source": [
    "list = [\"A\", \"b\", \"c\", \"D\"]\n",
    "for a in list:\n",
    "    if a.isupper() == False:\n",
    "        print(a)"
   ]
  },
  {
   "cell_type": "code",
   "execution_count": 149,
   "id": "3781d154-2239-4a25-9047-a9c9ec445337",
   "metadata": {},
   "outputs": [
    {
     "name": "stdout",
     "output_type": "stream",
     "text": [
      "Dog\n",
      "Cat\n",
      "Parrot\n"
     ]
    }
   ],
   "source": [
    "list = ['dog', 'cat', 'parrot']\n",
    "for a in list:\n",
    "  print(a[0].upper() + a[1:])\n"
   ]
  },
  {
   "cell_type": "code",
   "execution_count": 163,
   "id": "7cc34a93-3281-49a7-a793-5d5aaff3cc73",
   "metadata": {},
   "outputs": [
    {
     "name": "stdout",
     "output_type": "stream",
     "text": [
      "hello\n",
      "ex01\n",
      "intro\n"
     ]
    }
   ],
   "source": [
    "list = ['hello.py', 'ex01.py', 'intro.hwp']\n",
    "for a in list:\n",
    "    split = a.split(\".\")\n",
    "    print(split[0])"
   ]
  },
  {
   "cell_type": "code",
   "execution_count": 171,
   "id": "bd268f20-413a-4086-8138-435bfb5a7486",
   "metadata": {},
   "outputs": [
    {
     "name": "stdout",
     "output_type": "stream",
     "text": [
      "intra.h\n",
      "define.h\n"
     ]
    }
   ],
   "source": [
    "list = ['intra.h', 'intra.c', 'define.h', 'run.py']\n",
    "for a in list:\n",
    "    split = a.split(\".\")\n",
    "    if split[1] == 'h':\n",
    "        print(a)"
   ]
  },
  {
   "cell_type": "code",
   "execution_count": 189,
   "id": "ad3fe901-fe7d-4108-b3b3-9bfa1fb58130",
   "metadata": {},
   "outputs": [
    {
     "name": "stdout",
     "output_type": "stream",
     "text": [
      "intra.h\n",
      "intra.c\n",
      "define.h\n"
     ]
    }
   ],
   "source": [
    "리스트 = ['intra.h', 'intra.c', 'define.h', 'run.py']\n",
    "for 변수 in 리스트:\n",
    "  split = 변수.split(\".\")\n",
    "  if (split[1] == \"h\") or (split[1] == \"c\"):\n",
    "    print(변수)"
   ]
  },
  {
   "cell_type": "code",
   "execution_count": 197,
   "id": "4761e22c-0707-4334-b6eb-1518bc82a11c",
   "metadata": {},
   "outputs": [
    {
     "name": "stdout",
     "output_type": "stream",
     "text": [
      "0\n",
      "1\n",
      "2\n",
      "3\n",
      "4\n",
      "5\n",
      "6\n",
      "7\n",
      "8\n",
      "9\n",
      "10\n",
      "11\n",
      "12\n",
      "13\n",
      "14\n",
      "15\n",
      "16\n",
      "17\n",
      "18\n",
      "19\n",
      "20\n",
      "21\n",
      "22\n",
      "23\n",
      "24\n",
      "25\n",
      "26\n",
      "27\n",
      "28\n",
      "29\n",
      "30\n",
      "31\n",
      "32\n",
      "33\n",
      "34\n",
      "35\n",
      "36\n",
      "37\n",
      "38\n",
      "39\n",
      "40\n",
      "41\n",
      "42\n",
      "43\n",
      "44\n",
      "45\n",
      "46\n",
      "47\n",
      "48\n",
      "49\n",
      "50\n",
      "51\n",
      "52\n",
      "53\n",
      "54\n",
      "55\n",
      "56\n",
      "57\n",
      "58\n",
      "59\n",
      "60\n",
      "61\n",
      "62\n",
      "63\n",
      "64\n",
      "65\n",
      "66\n",
      "67\n",
      "68\n",
      "69\n",
      "70\n",
      "71\n",
      "72\n",
      "73\n",
      "74\n",
      "75\n",
      "76\n",
      "77\n",
      "78\n",
      "79\n",
      "80\n",
      "81\n",
      "82\n",
      "83\n",
      "84\n",
      "85\n",
      "86\n",
      "87\n",
      "88\n",
      "89\n",
      "90\n",
      "91\n",
      "92\n",
      "93\n",
      "94\n",
      "95\n",
      "96\n",
      "97\n",
      "98\n",
      "99\n"
     ]
    }
   ],
   "source": [
    "for a in range(100):\n",
    "    print(a)"
   ]
  },
  {
   "cell_type": "code",
   "execution_count": 199,
   "id": "1d619d1f-22b4-48ca-94ab-0dab7d65d595",
   "metadata": {},
   "outputs": [
    {
     "name": "stdout",
     "output_type": "stream",
     "text": [
      "2002\n",
      "2006\n",
      "2010\n",
      "2014\n",
      "2018\n",
      "2022\n",
      "2026\n",
      "2030\n",
      "2034\n",
      "2038\n",
      "2042\n",
      "2046\n",
      "2050\n"
     ]
    }
   ],
   "source": [
    "for x in range(2002, 2051, 4) :\n",
    "    print (x)"
   ]
  },
  {
   "cell_type": "code",
   "execution_count": 211,
   "id": "e58f65e8-62c2-484e-8d0d-31958b21ffe3",
   "metadata": {},
   "outputs": [
    {
     "name": "stdout",
     "output_type": "stream",
     "text": [
      "3\n",
      "6\n",
      "9\n",
      "12\n",
      "15\n",
      "18\n",
      "21\n",
      "24\n",
      "27\n",
      "30\n"
     ]
    }
   ],
   "source": [
    "for i in range(3, 31, 3):\n",
    "    print(i)"
   ]
  },
  {
   "cell_type": "code",
   "execution_count": 213,
   "id": "74623d42-cfd2-457f-b889-fd5fb76503a2",
   "metadata": {},
   "outputs": [
    {
     "name": "stdout",
     "output_type": "stream",
     "text": [
      "0.0\n",
      "0.1\n",
      "0.2\n",
      "0.3\n",
      "0.4\n",
      "0.5\n",
      "0.6\n",
      "0.7\n",
      "0.8\n",
      "0.9\n"
     ]
    }
   ],
   "source": [
    "for num in range(10) :\n",
    "    print(num / 10)"
   ]
  },
  {
   "cell_type": "code",
   "execution_count": 217,
   "id": "600befa9-57db-43bb-b044-17858464c37b",
   "metadata": {},
   "outputs": [
    {
     "name": "stdout",
     "output_type": "stream",
     "text": [
      "32100\n",
      "32150\n",
      "32000\n",
      "32500\n"
     ]
    }
   ],
   "source": [
    "price_list = [32100, 32150, 32000, 32500]\n",
    "for i in range(len(price_list)):\n",
    "    print(price_list[i])"
   ]
  },
  {
   "cell_type": "code",
   "execution_count": 219,
   "id": "5b0569d3-6334-4826-9031-874aaa580a59",
   "metadata": {},
   "outputs": [
    {
     "name": "stdout",
     "output_type": "stream",
     "text": [
      "0 32100\n",
      "1 32150\n",
      "2 32000\n",
      "3 32500\n"
     ]
    }
   ],
   "source": [
    "price_list = [32100, 32150, 32000, 32500]\n",
    "for i, data in enumerate(price_list):\n",
    "    print(i, data)"
   ]
  },
  {
   "cell_type": "code",
   "execution_count": 223,
   "id": "1a5c1876-dc80-42d5-877f-6f88cce03ba4",
   "metadata": {},
   "outputs": [
    {
     "name": "stdout",
     "output_type": "stream",
     "text": [
      "3 32100\n",
      "2 32150\n",
      "1 32000\n",
      "0 32500\n"
     ]
    }
   ],
   "source": [
    "for i in range(len(price_list)):\n",
    "    print((len(price_list) - 1) - i, price_list[i])"
   ]
  },
  {
   "cell_type": "code",
   "execution_count": 227,
   "id": "dc8b4290-c0d1-4003-9dfd-81ce7aa80efa",
   "metadata": {},
   "outputs": [
    {
     "name": "stdout",
     "output_type": "stream",
     "text": [
      "[['101호', '102호'], ['201호', '202호'], ['301호', '302호']]\n"
     ]
    }
   ],
   "source": [
    "apart = [ [\"101호\", \"102호\"], [\"201호\", \"202호\"], [\"301호\", \"302호\"] ]\n",
    "print(apart)"
   ]
  },
  {
   "cell_type": "code",
   "execution_count": 229,
   "id": "0b926d4b-299a-4c93-84ca-5afae87d0033",
   "metadata": {},
   "outputs": [],
   "source": [
    "stock = [ [\"open\", 100, 200, 300], [\"close\", 80, 210, 330] ]"
   ]
  },
  {
   "cell_type": "code",
   "execution_count": 231,
   "id": "e0536f59-b3e8-476d-85fd-296826dd081a",
   "metadata": {},
   "outputs": [],
   "source": [
    "stock = {\"시가\": [100, 200, 300], \"종가\": [80, 210, 330] }"
   ]
  },
  {
   "cell_type": "code",
   "execution_count": 233,
   "id": "f6c1bcbf-3a52-4b62-a65f-9b875f9e6abc",
   "metadata": {},
   "outputs": [],
   "source": [
    "stock = {\"10/10\": [80, 110, 70, 90], \"10/11\": [210, 230, 190, 200]}"
   ]
  },
  {
   "cell_type": "code",
   "execution_count": 235,
   "id": "6fb0786b-1123-471a-b1c8-d252eddd4bed",
   "metadata": {},
   "outputs": [
    {
     "name": "stdout",
     "output_type": "stream",
     "text": [
      "101 호\n",
      "102 호\n",
      "201 호\n",
      "202 호\n",
      "301 호\n",
      "302 호\n"
     ]
    }
   ],
   "source": [
    "apart = [ [101, 102], [201, 202], [301, 302] ]\n",
    "for row in apart:\n",
    "    for col in row:\n",
    "        print(col, \"호\")"
   ]
  },
  {
   "cell_type": "code",
   "execution_count": 237,
   "id": "85388c14-4d53-4d54-9a53-dd409b5a96c9",
   "metadata": {},
   "outputs": [
    {
     "name": "stdout",
     "output_type": "stream",
     "text": [
      "302 호\n",
      "301 호\n",
      "202 호\n",
      "201 호\n",
      "102 호\n",
      "101 호\n"
     ]
    }
   ],
   "source": [
    "for row in apart[::-1]:\n",
    "    for col in row[::-1]:\n",
    "        print(col, \"호\")\n"
   ]
  },
  {
   "cell_type": "code",
   "execution_count": 239,
   "id": "fee126f7-7fa5-42a0-91c2-7bb5e56d12ea",
   "metadata": {},
   "outputs": [
    {
     "name": "stdout",
     "output_type": "stream",
     "text": [
      "101 호\n",
      "-----\n",
      "102 호\n",
      "-----\n",
      "201 호\n",
      "-----\n",
      "202 호\n",
      "-----\n",
      "301 호\n",
      "-----\n",
      "302 호\n",
      "-----\n"
     ]
    }
   ],
   "source": [
    "for row in apart:\n",
    "    for col in row:\n",
    "        print(col, \"호\")\n",
    "        print(\"-\" * 5)\n"
   ]
  },
  {
   "cell_type": "code",
   "execution_count": 245,
   "id": "1df52e24-8ff0-4b63-966a-6a133842ec75",
   "metadata": {},
   "outputs": [
    {
     "name": "stdout",
     "output_type": "stream",
     "text": [
      "2000.28\n",
      "3050.427\n",
      "2050.2870000000003\n",
      "1980.2772\n",
      "7501.05\n",
      "2050.2870000000003\n",
      "2050.2870000000003\n",
      "1980.2772\n",
      "15452.163\n",
      "15052.107\n",
      "15552.177\n",
      "14902.086000000001\n"
     ]
    }
   ],
   "source": [
    "data = [\n",
    "    [ 2000,  3050,  2050,  1980],\n",
    "    [ 7500,  2050,  2050,  1980],\n",
    "    [15450, 15050, 15550, 14900]\n",
    "]\n",
    "\n",
    "for line in data:\n",
    "    for column in line:\n",
    "        print(column * 1.00014)"
   ]
  },
  {
   "cell_type": "code",
   "execution_count": 247,
   "id": "b845c5c2-ccb6-46bf-a754-26724dab1c18",
   "metadata": {},
   "outputs": [],
   "source": [
    "def print_coin():\n",
    "    print(\"비트코인\")"
   ]
  },
  {
   "cell_type": "code",
   "execution_count": 249,
   "id": "42bb915e-c6cf-4a7e-87d2-a05a2f2abe41",
   "metadata": {},
   "outputs": [
    {
     "name": "stdout",
     "output_type": "stream",
     "text": [
      "비트코인\n"
     ]
    }
   ],
   "source": [
    "print_coin()"
   ]
  },
  {
   "cell_type": "code",
   "execution_count": 253,
   "id": "0e8447ad-67ab-42f0-b7f4-e5bbc69c5b7d",
   "metadata": {},
   "outputs": [
    {
     "name": "stdout",
     "output_type": "stream",
     "text": [
      "비트코인\n",
      "비트코인\n",
      "비트코인\n",
      "비트코인\n",
      "비트코인\n"
     ]
    }
   ],
   "source": [
    "for i in range(5):\n",
    "    print_coin()"
   ]
  },
  {
   "cell_type": "markdown",
   "id": "2f601529-7dd9-44d4-9525-7e228b31d99c",
   "metadata": {},
   "source": [
    "### 211"
   ]
  },
  {
   "cell_type": "code",
   "execution_count": 258,
   "id": "9afd28a4-fc65-4ec6-a2f7-9395217136b1",
   "metadata": {},
   "outputs": [],
   "source": [
    "def print_with_smile (string) :\n",
    "    print ('Hello' + \":D\")"
   ]
  },
  {
   "cell_type": "code",
   "execution_count": 260,
   "id": "705a0c8f-32fc-4726-a687-3dd7ad19b3d7",
   "metadata": {},
   "outputs": [
    {
     "name": "stdout",
     "output_type": "stream",
     "text": [
      "Hello:D\n"
     ]
    }
   ],
   "source": [
    "print_with_smile(\"안녕하세요\")"
   ]
  },
  {
   "cell_type": "code",
   "execution_count": 262,
   "id": "a776c98f-4bfd-45ea-8b97-1ae8fcb71a1b",
   "metadata": {},
   "outputs": [],
   "source": [
    "def print_upper_price(a):\n",
    "    print(a *1.3)"
   ]
  },
  {
   "cell_type": "code",
   "execution_count": 264,
   "id": "e018546a-f2cc-4cca-9141-60e57d047f43",
   "metadata": {},
   "outputs": [
    {
     "name": "stdout",
     "output_type": "stream",
     "text": [
      "9.1\n"
     ]
    }
   ],
   "source": [
    "print_upper_price(7)"
   ]
  },
  {
   "cell_type": "code",
   "execution_count": 270,
   "id": "d3736638-4d46-46a3-a638-62482cecf941",
   "metadata": {},
   "outputs": [],
   "source": [
    "def print_sum (a, b) :\n",
    "    print (a + b)"
   ]
  },
  {
   "cell_type": "code",
   "execution_count": 272,
   "id": "a3520ae7-f682-44af-9040-feb6a871d63a",
   "metadata": {},
   "outputs": [
    {
     "name": "stdout",
     "output_type": "stream",
     "text": [
      "7\n"
     ]
    }
   ],
   "source": [
    "print_sum(3, 4)"
   ]
  },
  {
   "cell_type": "code",
   "execution_count": 274,
   "id": "c12c102b-22ab-4fb8-adf6-10babf45edc0",
   "metadata": {},
   "outputs": [],
   "source": [
    "def print_arithmetic_operation(a, b):\n",
    "    print(a, \"+\", b, \"=\", a + b)\n",
    "    print(a, \"-\", b, \"=\", a - b)\n",
    "    print(a, \"*\", b, \"=\", a * b)\n",
    "    print(a, \"/\", b, \"=\", a / b)"
   ]
  },
  {
   "cell_type": "code",
   "execution_count": 276,
   "id": "5b2f4482-8ba3-4ae8-a015-456caf6898cf",
   "metadata": {},
   "outputs": [
    {
     "name": "stdout",
     "output_type": "stream",
     "text": [
      "54 + 88 = 142\n",
      "54 - 88 = -34\n",
      "54 * 88 = 4752\n",
      "54 / 88 = 0.6136363636363636\n"
     ]
    }
   ],
   "source": [
    "print_arithmetic_operation(54, 88)"
   ]
  },
  {
   "cell_type": "code",
   "execution_count": 278,
   "id": "89537b37-9c6b-453e-9ee1-ee0a3b0cf209",
   "metadata": {},
   "outputs": [
    {
     "name": "stdout",
     "output_type": "stream",
     "text": [
      "45\n"
     ]
    }
   ],
   "source": [
    "def print_max(a, b, c) :\n",
    "    max_val = 0\n",
    "    if a > max_val :\n",
    "        max_val = a\n",
    "    if b > max_val :\n",
    "        max_val = b\n",
    "    if c > max_val :\n",
    "        max_val = c\n",
    "    print(max_val)\n",
    "print_max(5,8,45)"
   ]
  },
  {
   "cell_type": "code",
   "execution_count": 280,
   "id": "a42109ab-0379-4944-9e17-9fc6c48bd2cd",
   "metadata": {},
   "outputs": [],
   "source": [
    "def print_reverse(string):\n",
    "    print(string[::-1])"
   ]
  },
  {
   "cell_type": "code",
   "execution_count": 282,
   "id": "47931153-b493-416e-89c6-2d5ce06b1446",
   "metadata": {},
   "outputs": [
    {
     "name": "stdout",
     "output_type": "stream",
     "text": [
      "nohtyp\n"
     ]
    }
   ],
   "source": [
    "print_reverse(\"python\")"
   ]
  },
  {
   "cell_type": "code",
   "execution_count": 290,
   "id": "6052e91f-c645-471d-b42e-f65ecc3cdc82",
   "metadata": {},
   "outputs": [
    {
     "name": "stdout",
     "output_type": "stream",
     "text": [
      "2.0\n"
     ]
    }
   ],
   "source": [
    "def print_score(score_list) :\n",
    "    print(sum(score_list)/len(score_list))\n",
    "print_score ([1, 2, 3])"
   ]
  },
  {
   "cell_type": "code",
   "execution_count": null,
   "id": "5755573f-5a84-4c22-80be-d6bb175579f1",
   "metadata": {},
   "outputs": [],
   "source": []
  },
  {
   "cell_type": "code",
   "execution_count": null,
   "id": "7dc47f9d-c66f-409f-82ba-efc8d94b8d28",
   "metadata": {},
   "outputs": [],
   "source": []
  },
  {
   "cell_type": "code",
   "execution_count": null,
   "id": "7fd9da54-63eb-4750-b1fd-707e2be7dc5d",
   "metadata": {},
   "outputs": [],
   "source": []
  },
  {
   "cell_type": "code",
   "execution_count": null,
   "id": "1e352cf2-d749-4bc1-87dc-8b0a0504c066",
   "metadata": {},
   "outputs": [],
   "source": []
  },
  {
   "cell_type": "code",
   "execution_count": null,
   "id": "58cddda3-77fb-48df-9333-f6233bed3cc3",
   "metadata": {},
   "outputs": [],
   "source": []
  },
  {
   "cell_type": "code",
   "execution_count": null,
   "id": "6f92aaee-88dc-4971-babb-a41e092c8e0a",
   "metadata": {},
   "outputs": [],
   "source": []
  },
  {
   "cell_type": "code",
   "execution_count": null,
   "id": "d5c6b3bd-7504-4dd3-8efa-9c3c4b8d7011",
   "metadata": {},
   "outputs": [],
   "source": []
  }
 ],
 "metadata": {
  "kernelspec": {
   "display_name": "Python 3 (ipykernel)",
   "language": "python",
   "name": "python3"
  },
  "language_info": {
   "codemirror_mode": {
    "name": "ipython",
    "version": 3
   },
   "file_extension": ".py",
   "mimetype": "text/x-python",
   "name": "python",
   "nbconvert_exporter": "python",
   "pygments_lexer": "ipython3",
   "version": "3.12.4"
  }
 },
 "nbformat": 4,
 "nbformat_minor": 5
}
