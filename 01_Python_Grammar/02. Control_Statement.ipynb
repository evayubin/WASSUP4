{
 "cells": [
  {
   "cell_type": "markdown",
   "id": "da9f2052-069f-478d-a104-44eec6b2b8fe",
   "metadata": {},
   "source": [
    "# IF문\n",
    "#### '돈이 있으면 택시를 타고 가고, 돈이 없으면 걸어간다.'"
   ]
  },
  {
   "cell_type": "code",
   "execution_count": 4,
   "id": "34696a8a-6d08-40dc-abaf-b82b2d65df6b",
   "metadata": {},
   "outputs": [
    {
     "name": "stdout",
     "output_type": "stream",
     "text": [
      "택시를 타고 가라\n"
     ]
    }
   ],
   "source": [
    "money = True\n",
    "if money:\n",
    "    print(\"택시를 타고 가라\")\n",
    "else:\n",
    "    print(\"걸어 가라\")"
   ]
  },
  {
   "cell_type": "code",
   "execution_count": 10,
   "id": "4df749cc-f3ca-4ed8-9b0a-0061be532376",
   "metadata": {},
   "outputs": [
    {
     "ename": "IndentationError",
     "evalue": "unexpected indent (887615223.py, line 6)",
     "output_type": "error",
     "traceback": [
      "\u001b[1;36m  Cell \u001b[1;32mIn[10], line 6\u001b[1;36m\u001b[0m\n\u001b[1;33m    print(\"가라\")\u001b[0m\n\u001b[1;37m    ^\u001b[0m\n\u001b[1;31mIndentationError\u001b[0m\u001b[1;31m:\u001b[0m unexpected indent\n"
     ]
    }
   ],
   "source": [
    "# 코드 블럭 들여쓰기 에러\n",
    "money = True\n",
    "if money:\n",
    "    print(\"택시를\")\n",
    "print(\"타고\")\n",
    "    print(\"가라\")"
   ]
  },
  {
   "cell_type": "code",
   "execution_count": 12,
   "id": "702921aa-c748-4261-a46b-abb3916f5509",
   "metadata": {},
   "outputs": [
    {
     "ename": "IndentationError",
     "evalue": "unexpected indent (32317336.py, line 6)",
     "output_type": "error",
     "traceback": [
      "\u001b[1;36m  Cell \u001b[1;32mIn[12], line 6\u001b[1;36m\u001b[0m\n\u001b[1;33m    print(\"가라\")\u001b[0m\n\u001b[1;37m    ^\u001b[0m\n\u001b[1;31mIndentationError\u001b[0m\u001b[1;31m:\u001b[0m unexpected indent\n"
     ]
    }
   ],
   "source": [
    "# 코드 블럭 들여쓰기 에러\n",
    "money = True\n",
    "if money:\n",
    "    print(\"택시를\")\n",
    "    print(\"타고\")\n",
    "        print(\"가라\")"
   ]
  },
  {
   "cell_type": "markdown",
   "id": "0b52edd0-33ec-4083-b912-009b2bcbb8af",
   "metadata": {},
   "source": [
    "### 비교 연산자\r\n"
   ]
  },
  {
   "cell_type": "code",
   "execution_count": 15,
   "id": "ebcd87a8-40bf-4f21-9916-73c5f2992b91",
   "metadata": {},
   "outputs": [
    {
     "data": {
      "text/plain": [
       "True"
      ]
     },
     "execution_count": 15,
     "metadata": {},
     "output_type": "execute_result"
    }
   ],
   "source": [
    "x = 3\n",
    "y = 2\n",
    "x > y"
   ]
  },
  {
   "cell_type": "code",
   "execution_count": 17,
   "id": "f9657b8a-f6e1-4547-96e7-43d34aa16107",
   "metadata": {},
   "outputs": [
    {
     "data": {
      "text/plain": [
       "False"
      ]
     },
     "execution_count": 17,
     "metadata": {},
     "output_type": "execute_result"
    }
   ],
   "source": [
    "x < y"
   ]
  },
  {
   "cell_type": "code",
   "execution_count": 19,
   "id": "2a8febf6-04af-4828-91ac-69484029ce81",
   "metadata": {},
   "outputs": [
    {
     "data": {
      "text/plain": [
       "True"
      ]
     },
     "execution_count": 19,
     "metadata": {},
     "output_type": "execute_result"
    }
   ],
   "source": [
    "x !=y"
   ]
  },
  {
   "cell_type": "code",
   "execution_count": null,
   "id": "629c6a15-5432-4829-8b01-c98b02455208",
   "metadata": {},
   "outputs": [],
   "source": [
    "# Quiz, 만약 3000원 이상의 돈을 가지고 있으면 택시를 타고 가고, 그렇지 않으면 걸어가라."
   ]
  },
  {
   "cell_type": "code",
   "execution_count": 31,
   "id": "01211f33-6cd9-42ff-b126-d4a819a8852a",
   "metadata": {},
   "outputs": [
    {
     "name": "stdout",
     "output_type": "stream",
     "text": [
      "택시 타고 가라\n"
     ]
    }
   ],
   "source": [
    "money = 3000\n",
    "if money >= 3000:\n",
    "    print(\"택시 타고 가라\")\n",
    "else:\n",
    "    print(\"걸어 가라\")"
   ]
  },
  {
   "cell_type": "code",
   "execution_count": null,
   "id": "4362ea65-f47d-4fe9-b38d-8505888e9050",
   "metadata": {},
   "outputs": [],
   "source": [
    "# Quiz,돈이 3000원 이상 있거나 카드가 있다면 택시를 타고 가고, 그렇지 않으면 걸어가라.\n",
    "\n",
    "# 조건문에서 논리(참 또는 거짓)만 따질 거면 그냥 조건문에 넣어줘도 괜츈"
   ]
  },
  {
   "cell_type": "code",
   "execution_count": 45,
   "id": "f168746c-ebf9-416d-b8fe-23d871bedf2b",
   "metadata": {},
   "outputs": [
    {
     "name": "stdout",
     "output_type": "stream",
     "text": [
      "Taxi\n"
     ]
    }
   ],
   "source": [
    "money = 0\n",
    "card = True\n",
    "if money >= 3000 or card:\n",
    "    print(\"Taxi\")\n",
    "else:\n",
    "    print(\"Walk\")"
   ]
  },
  {
   "cell_type": "code",
   "execution_count": 47,
   "id": "e318db55-85de-43c9-8213-007799897c8a",
   "metadata": {},
   "outputs": [
    {
     "data": {
      "text/plain": [
       "True"
      ]
     },
     "execution_count": 47,
     "metadata": {},
     "output_type": "execute_result"
    }
   ],
   "source": [
    "# in, not in\n",
    "1 in [1, 2, 3]"
   ]
  },
  {
   "cell_type": "code",
   "execution_count": 51,
   "id": "5e2041c8-e965-4feb-82ad-46f84c5205c0",
   "metadata": {},
   "outputs": [
    {
     "data": {
      "text/plain": [
       "False"
      ]
     },
     "execution_count": 51,
     "metadata": {},
     "output_type": "execute_result"
    }
   ],
   "source": [
    "\"a\" not in [ \"a\", \"b\" ]"
   ]
  },
  {
   "cell_type": "code",
   "execution_count": null,
   "id": "9fab3989-1b04-4b3a-af08-0fa93a2f1fb0",
   "metadata": {},
   "outputs": [],
   "source": [
    "# 만약 주머니에 돈이 있으면 택시를 타고 가고, 없으면 걸어가라."
   ]
  },
  {
   "cell_type": "code",
   "execution_count": 61,
   "id": "13eefb5e-0d92-4f1f-9c18-346ae27bef16",
   "metadata": {},
   "outputs": [
    {
     "name": "stdout",
     "output_type": "stream",
     "text": [
      "Taxi\n"
     ]
    }
   ],
   "source": [
    "pocket = [\"money\",\"card\", \"airpod\", \"key\"]\n",
    "if \"money\" in pocket:\n",
    "    print(\"Taxi\")\n",
    "else:\n",
    "    print(\"Walk\")"
   ]
  },
  {
   "cell_type": "markdown",
   "id": "7c7c5e8f-ce8d-4e57-8586-0a4c996db2d9",
   "metadata": {},
   "source": [
    "### pass\n",
    "```\n",
    "- 아무런 일도 하지 않도록 설정\n",
    "\n",
    "```"
   ]
  },
  {
   "cell_type": "code",
   "execution_count": 65,
   "id": "1a34945e-15de-468c-b842-81d920931550",
   "metadata": {},
   "outputs": [],
   "source": [
    "pocket = [\"money\",\"card\", \"airpod\", \"key\"]\n",
    "if \"money\" in pocket:\n",
    "    pass\n",
    "else:\n",
    "    print(\"Walk\")"
   ]
  },
  {
   "cell_type": "markdown",
   "id": "c99eaf9a-8c53-41e9-990f-b15d89a715c9",
   "metadata": {},
   "source": [
    "### Elif\n",
    "```\n",
    "다중 조건문을 판단할 수 있음\n",
    "```"
   ]
  },
  {
   "cell_type": "code",
   "execution_count": 94,
   "id": "862cdf34-036a-4716-9ee5-cf8f24de462d",
   "metadata": {},
   "outputs": [
    {
     "name": "stdout",
     "output_type": "stream",
     "text": [
      "Taxi\n"
     ]
    }
   ],
   "source": [
    "pocket = [\"money\", \"airpod\", \"key\"]\n",
    "if \"money\" in pocket:\n",
    "    print(\"Taxi\")\n",
    "else:\n",
    "    if \"card\" in pocket:\n",
    "        print(\"Taxi\")\n",
    "    else:\n",
    "        print(\"Walk\")"
   ]
  },
  {
   "cell_type": "code",
   "execution_count": 96,
   "id": "4d47955f-9d9d-4abd-b469-8b83dbb4e420",
   "metadata": {},
   "outputs": [
    {
     "name": "stdout",
     "output_type": "stream",
     "text": [
      "Taxi\n"
     ]
    }
   ],
   "source": [
    "if \"money\" in pocket:\n",
    "    print(\"Taxi\")\n",
    "elif \"card\" in pocket:\n",
    "    print(\"Taxi\")\n",
    "else:\n",
    "    print(\"Walk\")"
   ]
  },
  {
   "cell_type": "code",
   "execution_count": 100,
   "id": "758dc0b4-70f4-4ac1-924b-2f5a6ecaf218",
   "metadata": {},
   "outputs": [
    {
     "name": "stdout",
     "output_type": "stream",
     "text": [
      "택시를 타고가라\n"
     ]
    }
   ],
   "source": [
    "pocket = ['paper', 'cellphone']\n",
    "card = True\n",
    "if 'money' in pocket:\n",
    "     print(\"택시를 타고가라\")\n",
    "else:\n",
    "    if card:\n",
    "        print(\"택시를 타고가라\")\n",
    "    else:\n",
    "        print(\"걸어가라\")"
   ]
  },
  {
   "cell_type": "markdown",
   "id": "253f864d-44f9-4606-bd0c-73fbb69d9513",
   "metadata": {},
   "source": [
    "### IF문 한 줄로 작성하기"
   ]
  },
  {
   "cell_type": "code",
   "execution_count": 103,
   "id": "1d6594ff-23ad-4b3b-b961-5f030b76151e",
   "metadata": {},
   "outputs": [
    {
     "name": "stdout",
     "output_type": "stream",
     "text": [
      "card\n"
     ]
    }
   ],
   "source": [
    "if 'money' in pocket:\n",
    "    pass\n",
    "else:\n",
    "    print('card')"
   ]
  },
  {
   "cell_type": "code",
   "execution_count": 105,
   "id": "6afdba9e-892b-4d71-95e8-299ba3e70884",
   "metadata": {},
   "outputs": [
    {
     "name": "stdout",
     "output_type": "stream",
     "text": [
      "card\n"
     ]
    }
   ],
   "source": [
    "if 'money' in pocket: pass\n",
    "else: print('card')"
   ]
  },
  {
   "cell_type": "markdown",
   "id": "432ebdc1-0292-437b-9857-bc0651b835d5",
   "metadata": {},
   "source": [
    "### 조건부 표현식"
   ]
  },
  {
   "cell_type": "code",
   "execution_count": 114,
   "id": "3a4238d0-ac4c-4e85-908c-a526e8199e51",
   "metadata": {},
   "outputs": [
    {
     "name": "stdout",
     "output_type": "stream",
     "text": [
      "failure\n"
     ]
    }
   ],
   "source": [
    "score = 50\n",
    "if score >= 60:\n",
    "    message = \"success\"\n",
    "else:\n",
    "    message = \"failure\"\n",
    "print(message)"
   ]
  },
  {
   "cell_type": "code",
   "execution_count": 118,
   "id": "389e452e-99ff-40ab-915f-1146394a695f",
   "metadata": {},
   "outputs": [],
   "source": [
    "message = 'success' if score >= 60 else \"failure\"\n",
    "#변수 = 조건문이_참인_경우의_값 if 조건문 else 조건문이_거짓인_경우의_값"
   ]
  },
  {
   "cell_type": "markdown",
   "id": "d6d707c2-81c7-4ea9-8303-ca01fd1ae998",
   "metadata": {},
   "source": [
    "# while 반복문"
   ]
  },
  {
   "cell_type": "code",
   "execution_count": 128,
   "id": "4f03740e-0b19-4afe-9ae2-176b42721b4f",
   "metadata": {},
   "outputs": [
    {
     "name": "stdout",
     "output_type": "stream",
     "text": [
      "나무를 1번 찍었습니다.\n",
      "나무를 2번 찍었습니다.\n",
      "나무를 3번 찍었습니다.\n",
      "나무를 4번 찍었습니다.\n",
      "나무를 5번 찍었습니다.\n",
      "나무를 6번 찍었습니다.\n",
      "나무를 7번 찍었습니다.\n",
      "나무를 8번 찍었습니다.\n",
      "나무를 9번 찍었습니다.\n",
      "나무를 10번 찍었습니다.\n",
      "나무 넘어갑니다.\n"
     ]
    }
   ],
   "source": [
    "treeHit = 0\n",
    "while treeHit < 10:\n",
    "    treeHit = treeHit +1\n",
    "    print(\"나무를 %d번 찍었습니다.\" % treeHit)\n",
    "    if treeHit == 10:\n",
    "        print(\"나무 넘어갑니다.\")"
   ]
  },
  {
   "cell_type": "code",
   "execution_count": 134,
   "id": "b7e55179-267f-4b6d-a596-a9515c9ac393",
   "metadata": {},
   "outputs": [],
   "source": [
    "prompt = '''\n",
    "\n",
    "1. Add\n",
    "2. Del\n",
    "3. List\n",
    "4. Quit\n",
    "\n",
    "Enter number : '''"
   ]
  },
  {
   "cell_type": "code",
   "execution_count": 136,
   "id": "f21d1e0e-f132-4f7f-857b-771fc67d2fde",
   "metadata": {},
   "outputs": [
    {
     "data": {
      "text/plain": [
       "'\\n\\n1. Add\\n2. Del\\n3. List\\n4. Quit\\n\\nEnter number : '"
      ]
     },
     "execution_count": 136,
     "metadata": {},
     "output_type": "execute_result"
    }
   ],
   "source": [
    "prompt"
   ]
  },
  {
   "cell_type": "code",
   "execution_count": 140,
   "id": "bae060ca-b434-40f6-b1f7-30b30454dfda",
   "metadata": {},
   "outputs": [
    {
     "name": "stdout",
     "output_type": "stream",
     "text": [
      "\n",
      "\n",
      "1. Add\n",
      "2. Del\n",
      "3. List\n",
      "4. Quit\n",
      "\n",
      "Enter number : \n"
     ]
    }
   ],
   "source": [
    "print(prompt)"
   ]
  },
  {
   "cell_type": "code",
   "execution_count": 142,
   "id": "5aeda428-edbc-4984-9d62-7a0509afe8da",
   "metadata": {},
   "outputs": [
    {
     "name": "stdin",
     "output_type": "stream",
     "text": [
      " Hi~~\n"
     ]
    },
    {
     "data": {
      "text/plain": [
       "'Hi~~'"
      ]
     },
     "execution_count": 142,
     "metadata": {},
     "output_type": "execute_result"
    }
   ],
   "source": [
    "input() ##반드시 문자열로 변환함"
   ]
  },
  {
   "cell_type": "code",
   "execution_count": 146,
   "id": "a50758f0-1cd3-4bc6-a655-24390f77f56f",
   "metadata": {},
   "outputs": [
    {
     "name": "stdout",
     "output_type": "stream",
     "text": [
      "\n",
      "\n",
      "1. Add\n",
      "2. Del\n",
      "3. List\n",
      "4. Quit\n",
      "\n",
      "Enter number : \n"
     ]
    },
    {
     "name": "stdin",
     "output_type": "stream",
     "text": [
      " 2\n"
     ]
    },
    {
     "name": "stdout",
     "output_type": "stream",
     "text": [
      "\n",
      "\n",
      "1. Add\n",
      "2. Del\n",
      "3. List\n",
      "4. Quit\n",
      "\n",
      "Enter number : \n"
     ]
    },
    {
     "name": "stdin",
     "output_type": "stream",
     "text": [
      " 3\n"
     ]
    },
    {
     "name": "stdout",
     "output_type": "stream",
     "text": [
      "\n",
      "\n",
      "1. Add\n",
      "2. Del\n",
      "3. List\n",
      "4. Quit\n",
      "\n",
      "Enter number : \n"
     ]
    },
    {
     "name": "stdin",
     "output_type": "stream",
     "text": [
      " 4\n"
     ]
    }
   ],
   "source": [
    "number = 0\n",
    "while number != 4:\n",
    "    print(prompt)\n",
    "    number = int(input())"
   ]
  },
  {
   "cell_type": "markdown",
   "id": "a471000b-0e94-472a-a7aa-01159b2fd5c7",
   "metadata": {},
   "source": [
    "### while문을 강제로 빠져나가기"
   ]
  },
  {
   "cell_type": "code",
   "execution_count": 149,
   "id": "f18d21b7-2cae-4fe4-b75b-b05fa15e0852",
   "metadata": {},
   "outputs": [
    {
     "name": "stdout",
     "output_type": "stream",
     "text": [
      "돈을 받았으니 커피를 줍니다.\n",
      "남은 커피의 양은 9개입니다.\n",
      "돈을 받았으니 커피를 줍니다.\n",
      "남은 커피의 양은 8개입니다.\n",
      "돈을 받았으니 커피를 줍니다.\n",
      "남은 커피의 양은 7개입니다.\n",
      "돈을 받았으니 커피를 줍니다.\n",
      "남은 커피의 양은 6개입니다.\n",
      "돈을 받았으니 커피를 줍니다.\n",
      "남은 커피의 양은 5개입니다.\n",
      "돈을 받았으니 커피를 줍니다.\n",
      "남은 커피의 양은 4개입니다.\n",
      "돈을 받았으니 커피를 줍니다.\n",
      "남은 커피의 양은 3개입니다.\n",
      "돈을 받았으니 커피를 줍니다.\n",
      "남은 커피의 양은 2개입니다.\n",
      "돈을 받았으니 커피를 줍니다.\n",
      "남은 커피의 양은 1개입니다.\n",
      "돈을 받았으니 커피를 줍니다.\n",
      "남은 커피의 양은 0개입니다.\n",
      "커피가 다 떨어졌습니다. 판매를 중지합니다.\n"
     ]
    }
   ],
   "source": [
    "coffee = 10\n",
    "money = 300\n",
    "while money:\n",
    "    print(\"돈을 받았으니 커피를 줍니다.\")\n",
    "    coffee = coffee -1\n",
    "    print(\"남은 커피의 양은 %d개입니다.\" % coffee)\n",
    "    if coffee == 0:\n",
    "        print(\"커피가 다 떨어졌습니다. 판매를 중지합니다.\")\n",
    "        break"
   ]
  },
  {
   "cell_type": "code",
   "execution_count": 155,
   "id": "5106619b-e0f2-4251-9abc-610ae6c32b0b",
   "metadata": {},
   "outputs": [],
   "source": [
    "prompt = '''\n",
    "\n",
    "1. Add\n",
    "2. Del\n",
    "3. List\n",
    "0. Quit\n",
    "\n",
    "Enter number : '''"
   ]
  },
  {
   "cell_type": "code",
   "execution_count": 157,
   "id": "9b13194d-468c-47e2-8419-ed0dbbe5800a",
   "metadata": {},
   "outputs": [
    {
     "data": {
      "text/plain": [
       "'\\n\\n1. Add\\n2. Del\\n3. List\\n0. Quit\\n\\nEnter number : '"
      ]
     },
     "execution_count": 157,
     "metadata": {},
     "output_type": "execute_result"
    }
   ],
   "source": [
    "prompt"
   ]
  },
  {
   "cell_type": "code",
   "execution_count": 161,
   "id": "ae4c001b-1d4a-4652-9762-26e633d0b515",
   "metadata": {},
   "outputs": [
    {
     "name": "stdout",
     "output_type": "stream",
     "text": [
      "\n",
      "\n",
      "1. Add\n",
      "2. Del\n",
      "3. List\n",
      "0. Quit\n",
      "\n",
      "Enter number : \n"
     ]
    }
   ],
   "source": [
    "print(prompt)"
   ]
  },
  {
   "cell_type": "code",
   "execution_count": 163,
   "id": "8ef68c88-c51e-4ded-9118-6fdddabc3fa0",
   "metadata": {},
   "outputs": [
    {
     "name": "stdin",
     "output_type": "stream",
     "text": [
      " 5000\n"
     ]
    },
    {
     "data": {
      "text/plain": [
       "'5000'"
      ]
     },
     "execution_count": 163,
     "metadata": {},
     "output_type": "execute_result"
    }
   ],
   "source": [
    "input()"
   ]
  },
  {
   "cell_type": "code",
   "execution_count": 169,
   "id": "b2e11db5-2130-4366-862b-5950538065f4",
   "metadata": {},
   "outputs": [
    {
     "name": "stdout",
     "output_type": "stream",
     "text": [
      "\n",
      "\n",
      "1. Add\n",
      "2. Del\n",
      "3. List\n",
      "0. Quit\n",
      "\n",
      "Enter number : \n"
     ]
    },
    {
     "name": "stdin",
     "output_type": "stream",
     "text": [
      " 300\n"
     ]
    }
   ],
   "source": [
    "money = 250\n",
    "\n",
    "while money != 300:\n",
    "    print(prompt)\n",
    "    money = int(input())"
   ]
  },
  {
   "cell_type": "code",
   "execution_count": null,
   "id": "5fb7a723-d488-4e5f-91c3-470fe5e9f6e0",
   "metadata": {},
   "outputs": [],
   "source": [
    "coffee = 10\n",
    "money = 300\n",
    "while money:\n",
    "    print(\"coffee is ready\")\n",
    "    coffee = coffee -1\n",
    "    print(\"남은 커피의 양은 %d개입니다.\" % coffee)\n",
    "    if coffee == 0:\n",
    "        print(\"커피가 다 떨어졌습니다. 판매를 중지합니다.\")\n",
    "        break"
   ]
  },
  {
   "cell_type": "markdown",
   "id": "c07ef8c2-5943-4f7f-a9ee-1e69f9804dcb",
   "metadata": {},
   "source": [
    "사용자 입력 받는\n",
    "커피 자판기 프로그램\n",
    "```\n",
    "프로그램 만들기 전 INPUT, OUTPUT부터 정해야 함.\n",
    "INPUT: 사용자 입력, int(input())\n",
    "OUTPUT: 출력 print()\n",
    "\n",
    "구조를 만들어야 함.\n",
    "프로그램: while\n",
    "\n",
    "3번 조건\n",
    "- 재고 없음\n",
    "- 돈이 부족하다\n",
    "- 돈이 많다 > 거슬러줘야 한다.\n",
    "- 돈이 딱 맞다.\n",
    "```"
   ]
  },
  {
   "cell_type": "code",
   "execution_count": 182,
   "id": "e8d65437-d9e0-4a2c-be1d-8a54f2f05477",
   "metadata": {},
   "outputs": [
    {
     "name": "stdin",
     "output_type": "stream",
     "text": [
      "insert money.:  100\n"
     ]
    },
    {
     "name": "stdout",
     "output_type": "stream",
     "text": [
      "insert more money plz\n",
      " 10 remains.\n"
     ]
    },
    {
     "name": "stdin",
     "output_type": "stream",
     "text": [
      "insert money.:  300\n"
     ]
    },
    {
     "name": "stdout",
     "output_type": "stream",
     "text": [
      "coffee is ready\n",
      " 9 remains.\n"
     ]
    },
    {
     "name": "stdin",
     "output_type": "stream",
     "text": [
      "insert money.:  500\n"
     ]
    },
    {
     "name": "stdout",
     "output_type": "stream",
     "text": [
      "change is 200.\n",
      " 8 remains.\n"
     ]
    },
    {
     "name": "stdin",
     "output_type": "stream",
     "text": [
      "insert money.:  8000\n"
     ]
    },
    {
     "name": "stdout",
     "output_type": "stream",
     "text": [
      "change is 7700.\n",
      " 7 remains.\n"
     ]
    },
    {
     "name": "stdin",
     "output_type": "stream",
     "text": [
      "insert money.:  500\n"
     ]
    },
    {
     "name": "stdout",
     "output_type": "stream",
     "text": [
      "change is 200.\n",
      " 6 remains.\n"
     ]
    },
    {
     "name": "stdin",
     "output_type": "stream",
     "text": [
      "insert money.:  200\n"
     ]
    },
    {
     "name": "stdout",
     "output_type": "stream",
     "text": [
      "insert more money plz\n",
      " 6 remains.\n"
     ]
    },
    {
     "name": "stdin",
     "output_type": "stream",
     "text": [
      "insert money.:  500\n"
     ]
    },
    {
     "name": "stdout",
     "output_type": "stream",
     "text": [
      "change is 200.\n",
      " 5 remains.\n"
     ]
    },
    {
     "name": "stdin",
     "output_type": "stream",
     "text": [
      "insert money.:  500\n"
     ]
    },
    {
     "name": "stdout",
     "output_type": "stream",
     "text": [
      "change is 200.\n",
      " 4 remains.\n"
     ]
    },
    {
     "ename": "KeyboardInterrupt",
     "evalue": "Interrupted by user",
     "output_type": "error",
     "traceback": [
      "\u001b[1;31m-----------------------------------------------\u001b[0m",
      "\u001b[1;31mKeyboardInterrupt\u001b[0mTraceback (most recent call last)",
      "Cell \u001b[1;32mIn[182], line 3\u001b[0m\n\u001b[0;32m      1\u001b[0m coffee \u001b[38;5;241m=\u001b[39m \u001b[38;5;241m10\u001b[39m \n\u001b[0;32m      2\u001b[0m \u001b[38;5;28;01mwhile\u001b[39;00m \u001b[38;5;28;01mTrue\u001b[39;00m : \n\u001b[1;32m----> 3\u001b[0m     money \u001b[38;5;241m=\u001b[39m \u001b[38;5;28mint\u001b[39m(\u001b[38;5;28minput\u001b[39m(\u001b[38;5;124m'\u001b[39m\u001b[38;5;124minsert money.: \u001b[39m\u001b[38;5;124m'\u001b[39m))\n\u001b[0;32m      5\u001b[0m     \u001b[38;5;28;01mif\u001b[39;00m money \u001b[38;5;241m==\u001b[39m \u001b[38;5;241m300\u001b[39m: \n\u001b[0;32m      6\u001b[0m         \u001b[38;5;28mprint\u001b[39m(\u001b[38;5;124m\"\u001b[39m\u001b[38;5;124mcoffee is ready\u001b[39m\u001b[38;5;124m\"\u001b[39m)\n",
      "File \u001b[1;32m~\\anaconda3\\Lib\\site-packages\\ipykernel\\kernelbase.py:1262\u001b[0m, in \u001b[0;36mKernel.raw_input\u001b[1;34m(self, prompt)\u001b[0m\n\u001b[0;32m   1260\u001b[0m     msg \u001b[38;5;241m=\u001b[39m \u001b[38;5;124m\"\u001b[39m\u001b[38;5;124mraw_input was called, but this frontend does not support input requests.\u001b[39m\u001b[38;5;124m\"\u001b[39m\n\u001b[0;32m   1261\u001b[0m     \u001b[38;5;28;01mraise\u001b[39;00m StdinNotImplementedError(msg)\n\u001b[1;32m-> 1262\u001b[0m \u001b[38;5;28;01mreturn\u001b[39;00m \u001b[38;5;28mself\u001b[39m\u001b[38;5;241m.\u001b[39m_input_request(\n\u001b[0;32m   1263\u001b[0m     \u001b[38;5;28mstr\u001b[39m(prompt),\n\u001b[0;32m   1264\u001b[0m     \u001b[38;5;28mself\u001b[39m\u001b[38;5;241m.\u001b[39m_parent_ident[\u001b[38;5;124m\"\u001b[39m\u001b[38;5;124mshell\u001b[39m\u001b[38;5;124m\"\u001b[39m],\n\u001b[0;32m   1265\u001b[0m     \u001b[38;5;28mself\u001b[39m\u001b[38;5;241m.\u001b[39mget_parent(\u001b[38;5;124m\"\u001b[39m\u001b[38;5;124mshell\u001b[39m\u001b[38;5;124m\"\u001b[39m),\n\u001b[0;32m   1266\u001b[0m     password\u001b[38;5;241m=\u001b[39m\u001b[38;5;28;01mFalse\u001b[39;00m,\n\u001b[0;32m   1267\u001b[0m )\n",
      "File \u001b[1;32m~\\anaconda3\\Lib\\site-packages\\ipykernel\\kernelbase.py:1305\u001b[0m, in \u001b[0;36mKernel._input_request\u001b[1;34m(self, prompt, ident, parent, password)\u001b[0m\n\u001b[0;32m   1302\u001b[0m \u001b[38;5;28;01mexcept\u001b[39;00m \u001b[38;5;167;01mKeyboardInterrupt\u001b[39;00m:\n\u001b[0;32m   1303\u001b[0m     \u001b[38;5;66;03m# re-raise KeyboardInterrupt, to truncate traceback\u001b[39;00m\n\u001b[0;32m   1304\u001b[0m     msg \u001b[38;5;241m=\u001b[39m \u001b[38;5;124m\"\u001b[39m\u001b[38;5;124mInterrupted by user\u001b[39m\u001b[38;5;124m\"\u001b[39m\n\u001b[1;32m-> 1305\u001b[0m     \u001b[38;5;28;01mraise\u001b[39;00m \u001b[38;5;167;01mKeyboardInterrupt\u001b[39;00m(msg) \u001b[38;5;28;01mfrom\u001b[39;00m \u001b[38;5;28;01mNone\u001b[39;00m\n\u001b[0;32m   1306\u001b[0m \u001b[38;5;28;01mexcept\u001b[39;00m \u001b[38;5;167;01mException\u001b[39;00m:\n\u001b[0;32m   1307\u001b[0m     \u001b[38;5;28mself\u001b[39m\u001b[38;5;241m.\u001b[39mlog\u001b[38;5;241m.\u001b[39mwarning(\u001b[38;5;124m\"\u001b[39m\u001b[38;5;124mInvalid Message:\u001b[39m\u001b[38;5;124m\"\u001b[39m, exc_info\u001b[38;5;241m=\u001b[39m\u001b[38;5;28;01mTrue\u001b[39;00m)\n",
      "\u001b[1;31mKeyboardInterrupt\u001b[0m: Interrupted by user"
     ]
    }
   ],
   "source": [
    "coffee = 10 \n",
    "while True : \n",
    "    money = int(input('insert money.: '))\n",
    "\n",
    "    if money == 300: #돈을 딱 맞게 받은 경우\n",
    "        print(\"coffee is ready\")\n",
    "        coffee -= 1 #커피 재고 소진\n",
    "        print(f' {coffee} remains.') #커피 재고 알림\n",
    "\n",
    "    elif money > 300: \n",
    "        print(\"change is %d.\"%(money-300)) #거스름돈 계산\n",
    "        coffee -= 1 #커피 재고 소진\n",
    "        print(f' {coffee} remains.') #커피 재고 알림\n",
    "\n",
    "    else:\n",
    "        print(\"insert more money plz\") #돈을 적게 받은 경우\n",
    "        print(f' {coffee} remains.') #커피 재고 알림\n",
    "\n",
    "    if coffee == 0:\n",
    "        print(\"out of stock\")\n",
    "        break"
   ]
  },
  {
   "cell_type": "markdown",
   "id": "77dcaec7-389b-4c88-a816-0bf2bbbd8b1e",
   "metadata": {},
   "source": [
    "### while문 맨 처음으로 돌아가기 continue\n",
    "```\n",
    "    :1부터 10까지의 숫자 중에서 홀수만 출력하는 프로그램을\n",
    "    while문으로 만들어보자\n",
    "```"
   ]
  },
  {
   "cell_type": "code",
   "execution_count": 192,
   "id": "92a42010-09bd-41b8-b9c8-bd51af127bf9",
   "metadata": {},
   "outputs": [
    {
     "name": "stdout",
     "output_type": "stream",
     "text": [
      "1\n",
      "3\n",
      "5\n",
      "7\n",
      "9\n"
     ]
    }
   ],
   "source": [
    "a = 0\n",
    "while a < 10:\n",
    "    a += 1\n",
    "    \n",
    "    if a % 2 == 0:\n",
    "        continue\n",
    "        \n",
    "    print(a)"
   ]
  },
  {
   "cell_type": "markdown",
   "id": "0cc286e3-e8d2-4834-86d1-a0f641c03e17",
   "metadata": {},
   "source": [
    "### for 반복문\n",
    "```\n",
    "- 기본 구조\n",
    "for 변수 in 리스트(또는 튜플, 문자열):\r\n",
    "    수행할_문장1\r\n",
    "    수행할_문 ..\r\n",
    "장2"
   ]
  },
  {
   "cell_type": "code",
   "execution_count": 207,
   "id": "81ba341f-87fc-4bd8-b6a1-0ac52897a706",
   "metadata": {},
   "outputs": [
    {
     "name": "stdout",
     "output_type": "stream",
     "text": [
      "one\n",
      "two\n",
      "three\n"
     ]
    }
   ],
   "source": [
    "# 전형적이 for 문\n",
    "test_list = ['one', 'two', 'three']\n",
    "\n",
    "for i in test_list:\n",
    "    print(i)"
   ]
  },
  {
   "cell_type": "code",
   "execution_count": 209,
   "id": "e3457d1d-1fec-4f49-b3c3-83daee8bb4f1",
   "metadata": {},
   "outputs": [
    {
     "name": "stdout",
     "output_type": "stream",
     "text": [
      "(1, 2)\n",
      "(3, 4)\n",
      "(5, 6)\n"
     ]
    }
   ],
   "source": [
    "a = [(1,2), (3,4), (5,6)]\n",
    "for i in a:\n",
    "    print(i)"
   ]
  },
  {
   "cell_type": "code",
   "execution_count": 211,
   "id": "eced4bab-5758-491b-9d1c-5e9919ab7676",
   "metadata": {},
   "outputs": [
    {
     "name": "stdout",
     "output_type": "stream",
     "text": [
      "3\n",
      "7\n",
      "11\n"
     ]
    }
   ],
   "source": [
    "for first, last in a:\n",
    "    print(first+last)"
   ]
  },
  {
   "cell_type": "code",
   "execution_count": 219,
   "id": "d2339670-0f1e-472c-95a1-fed7a2c18282",
   "metadata": {},
   "outputs": [
    {
     "name": "stdout",
     "output_type": "stream",
     "text": [
      "1번 학생은 90점으로 합격입니다.\n",
      "2번 학생은 65점으로 합격입니다.\n",
      "3번 학생은 85점으로 합격입니다.\n",
      "4번 학생은 25점으로 불합격입니다.\n",
      "5번 학생은 55점으로 불합격입니다.\n"
     ]
    }
   ],
   "source": [
    "# Quiz. 총 5명의 학생이 시험을 보았는데 시험 점수가 60점 이상이면 합격이고 그렇지 않으면 불합격이다. \n",
    "#합격인지, 불합격인지 결과를 보여 주시오.\n",
    "\n",
    "scores = [90, 65, 85, 25, 55]\n",
    "\n",
    "number = 0\n",
    "for s in scores:\n",
    "    number += 1\n",
    "    if s >= 60:\n",
    "        print(f'{number}번 학생은 {s}점으로 합격입니다.')\n",
    "    else:\n",
    "        print(f'{number}번 학생은 {s}점으로 불합격입니다.')"
   ]
  },
  {
   "cell_type": "code",
   "execution_count": null,
   "id": "b37c46ec-d8e4-4853-bfcd-8a4ab838587a",
   "metadata": {},
   "outputs": [],
   "source": []
  },
  {
   "cell_type": "code",
   "execution_count": null,
   "id": "47c4616e-654a-44b3-ae41-ff8801b4cfba",
   "metadata": {},
   "outputs": [],
   "source": []
  },
  {
   "cell_type": "code",
   "execution_count": null,
   "id": "2e6c8160-0195-47f3-8b21-6931136c2177",
   "metadata": {},
   "outputs": [],
   "source": []
  },
  {
   "cell_type": "code",
   "execution_count": null,
   "id": "91fef701-f76c-4884-bda2-498d473dbc71",
   "metadata": {},
   "outputs": [],
   "source": []
  },
  {
   "cell_type": "code",
   "execution_count": null,
   "id": "c7998bfa-4054-48ca-9838-5cd63638f892",
   "metadata": {},
   "outputs": [],
   "source": []
  },
  {
   "cell_type": "code",
   "execution_count": null,
   "id": "1069bb89-79b9-4593-83a1-24a3ad5bb4d6",
   "metadata": {},
   "outputs": [],
   "source": []
  }
 ],
 "metadata": {
  "kernelspec": {
   "display_name": "Python 3 (ipykernel)",
   "language": "python",
   "name": "python3"
  },
  "language_info": {
   "codemirror_mode": {
    "name": "ipython",
    "version": 3
   },
   "file_extension": ".py",
   "mimetype": "text/x-python",
   "name": "python",
   "nbconvert_exporter": "python",
   "pygments_lexer": "ipython3",
   "version": "3.12.4"
  }
 },
 "nbformat": 4,
 "nbformat_minor": 5
}
