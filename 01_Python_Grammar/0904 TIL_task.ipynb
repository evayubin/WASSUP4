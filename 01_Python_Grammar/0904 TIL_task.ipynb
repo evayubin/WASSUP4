{
 "cells": [
  {
   "cell_type": "markdown",
   "id": "81019996-287a-4019-9660-f17bfd120a68",
   "metadata": {},
   "source": [
    "### 001 print 기초\n"
   ]
  },
  {
   "cell_type": "code",
   "execution_count": 2,
   "id": "d8afeade-293f-4d42-b8b3-6350ce31e569",
   "metadata": {},
   "outputs": [
    {
     "name": "stdout",
     "output_type": "stream",
     "text": [
      "Hello world\n"
     ]
    }
   ],
   "source": [
    "a = \"Hello world\"\n",
    "print(a)"
   ]
  },
  {
   "cell_type": "markdown",
   "id": "d81c282a-2e6f-4827-b098-35501a8a8034",
   "metadata": {},
   "source": [
    "### 002 Print 기초"
   ]
  },
  {
   "cell_type": "code",
   "execution_count": 4,
   "id": "045c0429-15a7-4f7a-8f92-1e15eeaa48ed",
   "metadata": {},
   "outputs": [
    {
     "data": {
      "text/plain": [
       "\"mary's cosmetics\""
      ]
     },
     "execution_count": 4,
     "metadata": {},
     "output_type": "execute_result"
    }
   ],
   "source": [
    "a = \"mary's cosmetics\"\n",
    "a"
   ]
  },
  {
   "cell_type": "markdown",
   "id": "6e76c31f-30b4-4532-9ee3-f6d8b8de9a56",
   "metadata": {},
   "source": [
    "### 003 print 기초\r\n"
   ]
  },
  {
   "cell_type": "code",
   "execution_count": 6,
   "id": "00352bb8-8a9c-4bea-929a-57d8267dc5b8",
   "metadata": {},
   "outputs": [
    {
     "data": {
      "text/plain": [
       "'신씨가 소리질렀다. \"도둑이야\".'"
      ]
     },
     "execution_count": 6,
     "metadata": {},
     "output_type": "execute_result"
    }
   ],
   "source": [
    "a = '신씨가 소리질렀다. \"도둑이야\".'\n",
    "a"
   ]
  },
  {
   "cell_type": "markdown",
   "id": "23023574-3411-4e0e-90dd-fd11b52ecc18",
   "metadata": {},
   "source": [
    "### 004 print 기초\r\n"
   ]
  },
  {
   "cell_type": "code",
   "execution_count": 25,
   "id": "a895b8c3-2a63-40d4-a2f8-def51005cb49",
   "metadata": {},
   "outputs": [
    {
     "name": "stdout",
     "output_type": "stream",
     "text": [
      "C:\\Windows\n"
     ]
    },
    {
     "name": "stderr",
     "output_type": "stream",
     "text": [
      "<>:1: SyntaxWarning: invalid escape sequence '\\W'\n",
      "<>:1: SyntaxWarning: invalid escape sequence '\\W'\n",
      "C:\\Users\\USER\\AppData\\Local\\Temp\\ipykernel_14208\\3675048665.py:1: SyntaxWarning: invalid escape sequence '\\W'\n",
      "  a = \"C:\\Windows\"\n"
     ]
    }
   ],
   "source": [
    "a = \"C:\\Windows\"\n",
    "print(a)"
   ]
  },
  {
   "cell_type": "markdown",
   "id": "9c0797f8-1f41-4918-9818-e8fa58c8f431",
   "metadata": {},
   "source": [
    "### 005 print 탭과 줄바꿈\r\n"
   ]
  },
  {
   "cell_type": "code",
   "execution_count": 28,
   "id": "66c036e4-0121-43d6-811c-81ec2751d964",
   "metadata": {},
   "outputs": [
    {
     "name": "stdout",
     "output_type": "stream",
     "text": [
      "안녕하세요.\n",
      "만나서\t\t반갑습니다.\n"
     ]
    }
   ],
   "source": [
    "print(\"안녕하세요.\\n만나서\\t\\t반갑습니다.\")"
   ]
  },
  {
   "cell_type": "markdown",
   "id": "c5925194-05e7-4413-a72f-460c99e8e7e6",
   "metadata": {},
   "source": [
    "### 006 print 여러 데이터 출력\r\n"
   ]
  },
  {
   "cell_type": "code",
   "execution_count": 31,
   "id": "64081966-ea5a-4ac1-b66f-2592ad53d8dd",
   "metadata": {},
   "outputs": [
    {
     "name": "stdout",
     "output_type": "stream",
     "text": [
      "오늘은 일요일\n"
     ]
    }
   ],
   "source": [
    "print (\"오늘은\", \"일요일\")"
   ]
  },
  {
   "cell_type": "markdown",
   "id": "76d63feb-0dcb-4c26-8bdd-2dc9a2154577",
   "metadata": {},
   "source": [
    "### 007 print 기초\r\n"
   ]
  },
  {
   "cell_type": "code",
   "execution_count": 45,
   "id": "bc806e58-26b4-4d70-b5b5-269e3f2ef1d4",
   "metadata": {},
   "outputs": [
    {
     "name": "stdout",
     "output_type": "stream",
     "text": [
      "naver;kakao;sk;samsung\n"
     ]
    }
   ],
   "source": [
    "print(\"naver\",\"kakao\",\"sk\",\"samsung\", sep=\";\")"
   ]
  },
  {
   "cell_type": "markdown",
   "id": "32f81dd6-7685-4446-910b-54bfd4f304b3",
   "metadata": {},
   "source": [
    "### 008 print 기초\r\n"
   ]
  },
  {
   "cell_type": "code",
   "execution_count": 48,
   "id": "7e2e0ec0-63da-471b-bc09-1ab777df1e39",
   "metadata": {},
   "outputs": [
    {
     "name": "stdout",
     "output_type": "stream",
     "text": [
      "naver/kakao/sk/samsung\n"
     ]
    }
   ],
   "source": [
    "print(\"naver\",\"kakao\",\"sk\",\"samsung\", sep=\"/\")"
   ]
  },
  {
   "cell_type": "markdown",
   "id": "76c47b3b-298d-40e3-a68c-ef03b597fd58",
   "metadata": {},
   "source": [
    "### 009 print 줄바꿈\r\n"
   ]
  },
  {
   "cell_type": "code",
   "execution_count": 61,
   "id": "0e5e1c2b-a92f-4f8f-adee-3d034a68527d",
   "metadata": {},
   "outputs": [
    {
     "name": "stdout",
     "output_type": "stream",
     "text": [
      "first second\n"
     ]
    }
   ],
   "source": [
    "print(\"first\", end=\" \");print(\"second\")"
   ]
  },
  {
   "cell_type": "markdown",
   "id": "59c2083d-09f5-4965-94aa-fe01676bd713",
   "metadata": {},
   "source": [
    "### 010 연산 결과 출력\r\n"
   ]
  },
  {
   "cell_type": "code",
   "execution_count": 65,
   "id": "01bb6774-95a6-42e1-adc6-46ee40b60459",
   "metadata": {},
   "outputs": [
    {
     "data": {
      "text/plain": [
       "1.6666666666666667"
      ]
     },
     "execution_count": 65,
     "metadata": {},
     "output_type": "execute_result"
    }
   ],
   "source": [
    "5/3"
   ]
  },
  {
   "cell_type": "markdown",
   "id": "13606ee4-c4c1-4c8c-9c98-7a51234f81e6",
   "metadata": {},
   "source": [
    "### 011 변수 사용하기\r\n"
   ]
  },
  {
   "cell_type": "code",
   "execution_count": 78,
   "id": "9da78cc8-1f0f-40f5-b4a6-d1b88cf397e8",
   "metadata": {},
   "outputs": [
    {
     "name": "stdout",
     "output_type": "stream",
     "text": [
      "500000\n"
     ]
    }
   ],
   "source": [
    "삼성전자 = 50000\n",
    "총평가금액 = 삼성전자 * 10\n",
    "print(총평가금액)"
   ]
  },
  {
   "cell_type": "markdown",
   "id": "8ff0b013-5ba6-4c4e-93ea-82a953687ce3",
   "metadata": {},
   "source": [
    "============================"
   ]
  },
  {
   "cell_type": "markdown",
   "id": "13ec2234-fd3d-4cd6-9cee-4e786229fdf9",
   "metadata": {},
   "source": [
    "### 012 변수 사용하기\r\n"
   ]
  },
  {
   "cell_type": "code",
   "execution_count": 19,
   "id": "404e72c0-2c09-4322-9360-c93ac0ff3bcb",
   "metadata": {},
   "outputs": [
    {
     "name": "stdout",
     "output_type": "stream",
     "text": [
      "298000000000000 <class 'int'>\n",
      "50000 <class 'int'>\n",
      "15.79 <class 'float'>\n"
     ]
    }
   ],
   "source": [
    "시가총액 = 298000000000000\n",
    "현재가 = 50000\n",
    "PER = 15.79\n",
    "print(시가총액, type(시가총액))\n",
    "print(현재가, type(현재가))\n",
    "print(PER, type(PER))"
   ]
  },
  {
   "cell_type": "code",
   "execution_count": 21,
   "id": "f5796534-5e01-453f-93ad-df0c699f13f5",
   "metadata": {},
   "outputs": [
    {
     "data": {
      "text/plain": [
       "(298000000000000, 50000, 15.79)"
      ]
     },
     "execution_count": 21,
     "metadata": {},
     "output_type": "execute_result"
    }
   ],
   "source": [
    "시가총액, 현재가, PER"
   ]
  },
  {
   "cell_type": "markdown",
   "id": "92ae36e0-562a-4af9-ade9-cb4a0de1d125",
   "metadata": {},
   "source": [
    "### 013 문자열 출력\n"
   ]
  },
  {
   "cell_type": "code",
   "execution_count": 36,
   "id": "b452f55b-3a52-4a89-92f2-34c44fc9a657",
   "metadata": {},
   "outputs": [
    {
     "data": {
      "text/plain": [
       "('hello', 'python', str, str)"
      ]
     },
     "execution_count": 36,
     "metadata": {},
     "output_type": "execute_result"
    }
   ],
   "source": [
    "s = \"hello\"\n",
    "t = \"python\"\n",
    "s, t, type(s), type(t)"
   ]
  },
  {
   "cell_type": "code",
   "execution_count": 38,
   "id": "9a79f840-329f-45e1-a1d0-1ce976a6d4dd",
   "metadata": {},
   "outputs": [
    {
     "data": {
      "text/plain": [
       "'! '"
      ]
     },
     "execution_count": 38,
     "metadata": {},
     "output_type": "execute_result"
    }
   ],
   "source": [
    "a = \"! \"\n",
    "a"
   ]
  },
  {
   "cell_type": "code",
   "execution_count": 40,
   "id": "9eaea28a-9cab-490b-9dcf-75ec5cba3447",
   "metadata": {},
   "outputs": [
    {
     "data": {
      "text/plain": [
       "'hello! python'"
      ]
     },
     "execution_count": 40,
     "metadata": {},
     "output_type": "execute_result"
    }
   ],
   "source": [
    "s + a + t"
   ]
  },
  {
   "cell_type": "code",
   "execution_count": 42,
   "id": "cf5ed50a-c737-4d2d-8daa-761146d1e152",
   "metadata": {},
   "outputs": [
    {
     "name": "stdout",
     "output_type": "stream",
     "text": [
      "hello!  python\n"
     ]
    }
   ],
   "source": [
    "print(s+\"! \",t)"
   ]
  },
  {
   "cell_type": "markdown",
   "id": "17047950-60a5-4e15-847c-d66dbffdff29",
   "metadata": {},
   "source": [
    "### 014 파이썬을 이용한 값 계산\r\n"
   ]
  },
  {
   "cell_type": "code",
   "execution_count": 45,
   "id": "cb516bc2-2ce0-40f9-a8e0-4d00c9b98337",
   "metadata": {},
   "outputs": [
    {
     "data": {
      "text/plain": [
       "8"
      ]
     },
     "execution_count": 45,
     "metadata": {},
     "output_type": "execute_result"
    }
   ],
   "source": [
    "2 + 2 * 3 "
   ]
  },
  {
   "cell_type": "markdown",
   "id": "510cba8a-1e32-46a0-be86-45781ab9ede1",
   "metadata": {},
   "source": [
    "### 015 type 함수"
   ]
  },
  {
   "cell_type": "code",
   "execution_count": 48,
   "id": "5ce3ce0f-afce-4015-86c0-33e2c2184138",
   "metadata": {},
   "outputs": [
    {
     "name": "stdout",
     "output_type": "stream",
     "text": [
      "<class 'int'>\n"
     ]
    }
   ],
   "source": [
    "a = 128\n",
    "print (type(a))"
   ]
  },
  {
   "cell_type": "code",
   "execution_count": 50,
   "id": "ea483296-f46d-4c56-9947-c5d1b97c481f",
   "metadata": {},
   "outputs": [
    {
     "data": {
      "text/plain": [
       "('132', str)"
      ]
     },
     "execution_count": 50,
     "metadata": {},
     "output_type": "execute_result"
    }
   ],
   "source": [
    "a = \"132\"\n",
    "a, type(a)"
   ]
  },
  {
   "cell_type": "markdown",
   "id": "0cc86fab-12d9-40d4-ac8f-a1858094df76",
   "metadata": {},
   "source": [
    "### 016 문자열을 정수로 변환"
   ]
  },
  {
   "cell_type": "code",
   "execution_count": 57,
   "id": "bad85ab5-31b9-4cf4-ab19-8c0a049917b4",
   "metadata": {},
   "outputs": [
    {
     "data": {
      "text/plain": [
       "(720, int)"
      ]
     },
     "execution_count": 57,
     "metadata": {},
     "output_type": "execute_result"
    }
   ],
   "source": [
    "num_str = \"720\"\n",
    "num_str = 720\n",
    "num_str, type(num_str)"
   ]
  },
  {
   "cell_type": "markdown",
   "id": "7717e55a-e37a-4430-bdc3-779fb125fc19",
   "metadata": {},
   "source": [
    "### 017 정수를 문자열 100으로 변환\n"
   ]
  },
  {
   "cell_type": "code",
   "execution_count": 62,
   "id": "84000bc1-07e1-498e-8503-51fae255708c",
   "metadata": {},
   "outputs": [
    {
     "data": {
      "text/plain": [
       "(100, int)"
      ]
     },
     "execution_count": 62,
     "metadata": {},
     "output_type": "execute_result"
    }
   ],
   "source": [
    "num = 100\n",
    "num, type(num)"
   ]
  },
  {
   "cell_type": "code",
   "execution_count": 64,
   "id": "3c47bfe2-d846-4eb6-87c8-74b115bee479",
   "metadata": {},
   "outputs": [
    {
     "name": "stdout",
     "output_type": "stream",
     "text": [
      "100 <class 'str'>\n"
     ]
    }
   ],
   "source": [
    "num_str = str(num)\n",
    "print(num_str, type(num_str))"
   ]
  },
  {
   "cell_type": "markdown",
   "id": "584774f6-8544-4736-a2d2-8f40c521b5cd",
   "metadata": {},
   "source": [
    "### 019 문자열을 정수로 변환\r\n"
   ]
  },
  {
   "cell_type": "code",
   "execution_count": 67,
   "id": "88bbca32-812f-4cbd-a8cd-ee83a310da77",
   "metadata": {},
   "outputs": [
    {
     "data": {
      "text/plain": [
       "(2020, int)"
      ]
     },
     "execution_count": 67,
     "metadata": {},
     "output_type": "execute_result"
    }
   ],
   "source": [
    "year = \"2020\"\n",
    "year_int = int(year)\n",
    "year_int, type(year_int)"
   ]
  },
  {
   "cell_type": "code",
   "execution_count": 77,
   "id": "cdf70671-c4ee-47d4-be03-a3ff3f2b2646",
   "metadata": {},
   "outputs": [
    {
     "data": {
      "text/plain": [
       "(2024, 2023, 2022)"
      ]
     },
     "execution_count": 77,
     "metadata": {},
     "output_type": "execute_result"
    }
   ],
   "source": [
    "int(year_int)+4, int(year_int)+3, int(year_int)+2"
   ]
  },
  {
   "cell_type": "markdown",
   "id": "fe4011ff-7e8a-415c-a472-11e250b42203",
   "metadata": {},
   "source": [
    "### 020 파이썬 계산\r\n"
   ]
  },
  {
   "cell_type": "code",
   "execution_count": 80,
   "id": "6a9d1b90-1b4c-483b-a2ad-6547348cc47f",
   "metadata": {},
   "outputs": [
    {
     "data": {
      "text/plain": [
       "1749024"
      ]
     },
     "execution_count": 80,
     "metadata": {},
     "output_type": "execute_result"
    }
   ],
   "source": [
    "Airconditioner = 48584\n",
    "month = 36\n",
    "Airconditioner * month"
   ]
  },
  {
   "cell_type": "markdown",
   "id": "d730de02-e2bd-4b5f-a330-841e5e97ba84",
   "metadata": {},
   "source": [
    "### 021 문자열 인덱싱\r\n"
   ]
  },
  {
   "cell_type": "code",
   "execution_count": 95,
   "id": "b4a6de52-a5be-4286-8250-12ef152d0438",
   "metadata": {},
   "outputs": [
    {
     "data": {
      "text/plain": [
       "('p', 't')"
      ]
     },
     "execution_count": 95,
     "metadata": {},
     "output_type": "execute_result"
    }
   ],
   "source": [
    "letters = 'python'\n",
    "letters[0], letters[2]"
   ]
  },
  {
   "cell_type": "code",
   "execution_count": 107,
   "id": "3effcbb4-e11b-4883-99fd-a8d45da9f3b6",
   "metadata": {},
   "outputs": [
    {
     "data": {
      "text/plain": [
       "'2210'"
      ]
     },
     "execution_count": 107,
     "metadata": {},
     "output_type": "execute_result"
    }
   ],
   "source": [
    "license_plate = \"24가 2210\"\n",
    "license_plate[-4:]"
   ]
  },
  {
   "cell_type": "markdown",
   "id": "9ad9a3d7-f35d-4051-9e7f-e5445fddd638",
   "metadata": {},
   "source": [
    "### 023 문자열 인덱싱\n"
   ]
  },
  {
   "cell_type": "code",
   "execution_count": 114,
   "id": "ba291b76-1ff2-4fa6-a590-5d98417049f7",
   "metadata": {},
   "outputs": [
    {
     "data": {
      "text/plain": [
       "'홀홀홀'"
      ]
     },
     "execution_count": 114,
     "metadata": {},
     "output_type": "execute_result"
    }
   ],
   "source": [
    "string = \"홀짝홀짝홀짝\"\n",
    "string[::2]"
   ]
  },
  {
   "cell_type": "markdown",
   "id": "040ef5db-a8d6-44d0-a3f1-731b8f8f7cad",
   "metadata": {},
   "source": [
    "### 024 문자열 슬라이싱\r\n"
   ]
  },
  {
   "cell_type": "code",
   "execution_count": 117,
   "id": "692a2fbc-35f7-46b2-b93b-000dd82fecdb",
   "metadata": {},
   "outputs": [
    {
     "data": {
      "text/plain": [
       "'NOHTYP'"
      ]
     },
     "execution_count": 117,
     "metadata": {},
     "output_type": "execute_result"
    }
   ],
   "source": [
    "string = \"PYTHON\"\n",
    "string[::-1]"
   ]
  },
  {
   "cell_type": "markdown",
   "id": "7c44b208-f8a2-4b1c-a85b-f29cf987c9d2",
   "metadata": {},
   "source": [
    "### 025 문자열 치환\r\n"
   ]
  },
  {
   "cell_type": "code",
   "execution_count": 134,
   "id": "5531802c-30bd-4311-9050-efbf808e477f",
   "metadata": {},
   "outputs": [
    {
     "data": {
      "text/plain": [
       "'010 1111 2222'"
      ]
     },
     "execution_count": 134,
     "metadata": {},
     "output_type": "execute_result"
    }
   ],
   "source": [
    "phone_number = \"010-1111-2222\"\n",
    "phone_number1 = phone_number.replace(\"-\", \" \")\n",
    "phone_number1"
   ]
  },
  {
   "cell_type": "markdown",
   "id": "23f3c67f-56f0-4a81-b775-dd4405dd59a1",
   "metadata": {},
   "source": [
    "### 026 문자열 다루기\r\n"
   ]
  },
  {
   "cell_type": "code",
   "execution_count": 141,
   "id": "de8ffc0b-ff3d-47d9-b23d-cff59ad8c911",
   "metadata": {},
   "outputs": [
    {
     "data": {
      "text/plain": [
       "'01011112222'"
      ]
     },
     "execution_count": 141,
     "metadata": {},
     "output_type": "execute_result"
    }
   ],
   "source": [
    "phone_number1 = phone_number.replace(\"-\", \"\")\n",
    "phone_number1"
   ]
  },
  {
   "cell_type": "markdown",
   "id": "91912307-0aec-4caf-8001-c0e97accee67",
   "metadata": {},
   "source": [
    "### 027 문자열 다루기\r\n"
   ]
  },
  {
   "cell_type": "code",
   "execution_count": 166,
   "id": "50c0ff19-b289-4879-8c94-dc25d2c54e1f",
   "metadata": {},
   "outputs": [
    {
     "data": {
      "text/plain": [
       "'kr'"
      ]
     },
     "execution_count": 166,
     "metadata": {},
     "output_type": "execute_result"
    }
   ],
   "source": [
    "url = \"http://sharebook.kr\"\n",
    "url[-2:]"
   ]
  },
  {
   "cell_type": "code",
   "execution_count": 174,
   "id": "1adad54c-5bf4-4aed-881f-fbd17e249c9f",
   "metadata": {},
   "outputs": [
    {
     "data": {
      "text/plain": [
       "['http://sharebook', 'kr']"
      ]
     },
     "execution_count": 174,
     "metadata": {},
     "output_type": "execute_result"
    }
   ],
   "source": [
    "a = url.split('.')\n",
    "a"
   ]
  },
  {
   "cell_type": "code",
   "execution_count": 176,
   "id": "f8554c9e-6150-40f7-9f8d-9c5134b14d70",
   "metadata": {},
   "outputs": [
    {
     "data": {
      "text/plain": [
       "'kr'"
      ]
     },
     "execution_count": 176,
     "metadata": {},
     "output_type": "execute_result"
    }
   ],
   "source": [
    "a[1]"
   ]
  },
  {
   "cell_type": "markdown",
   "id": "86e4edcc-3c42-48fe-baa8-db13c4086833",
   "metadata": {},
   "source": [
    "### 028 문자열은 immutable\r\n"
   ]
  },
  {
   "cell_type": "code",
   "execution_count": 191,
   "id": "6fefb7e9-eb8e-4b79-9f56-b2757e701bc4",
   "metadata": {},
   "outputs": [
    {
     "ename": "TypeError",
     "evalue": "'str' object does not support item assignment",
     "output_type": "error",
     "traceback": [
      "\u001b[1;31m---------------------------------------------------------------------------\u001b[0m",
      "\u001b[1;31mTypeError\u001b[0m                                 Traceback (most recent call last)",
      "Cell \u001b[1;32mIn[191], line 2\u001b[0m\n\u001b[0;32m      1\u001b[0m lang \u001b[38;5;241m=\u001b[39m \u001b[38;5;124m'\u001b[39m\u001b[38;5;124mpython\u001b[39m\u001b[38;5;124m'\u001b[39m\n\u001b[1;32m----> 2\u001b[0m lang[\u001b[38;5;241m0\u001b[39m] \u001b[38;5;241m=\u001b[39m \u001b[38;5;124m'\u001b[39m\u001b[38;5;124mP\u001b[39m\u001b[38;5;124m'\u001b[39m\n\u001b[0;32m      3\u001b[0m \u001b[38;5;28mprint\u001b[39m(lang)\n",
      "\u001b[1;31mTypeError\u001b[0m: 'str' object does not support item assignment"
     ]
    }
   ],
   "source": [
    "lang = 'python'\n",
    "lang[0] = 'P'\n",
    "print(lang)"
   ]
  },
  {
   "cell_type": "markdown",
   "id": "2f952874-1956-4d51-86c0-67a2d96029a1",
   "metadata": {},
   "source": [
    "### 029 replace 메서드\n"
   ]
  },
  {
   "cell_type": "code",
   "execution_count": 202,
   "id": "fc6ecb8f-a237-4965-9f42-5cab572a020a",
   "metadata": {},
   "outputs": [
    {
     "data": {
      "text/plain": [
       "'Abcdfe2A354A32A'"
      ]
     },
     "execution_count": 202,
     "metadata": {},
     "output_type": "execute_result"
    }
   ],
   "source": [
    "string = 'abcdfe2a354a32a'\n",
    "a = string.replace('a', 'A')\n",
    "a"
   ]
  },
  {
   "cell_type": "code",
   "execution_count": 204,
   "id": "0c89ef27-8fb3-44ff-abb1-a913f95720f3",
   "metadata": {},
   "outputs": [
    {
     "data": {
      "text/plain": [
       "'abcd'"
      ]
     },
     "execution_count": 204,
     "metadata": {},
     "output_type": "execute_result"
    }
   ],
   "source": [
    "string = 'abcd'\n",
    "string.replace('b', 'B')\n",
    "string"
   ]
  },
  {
   "cell_type": "markdown",
   "id": "846ae34a-46ab-42e1-bfcc-3ce6cb1cb2fb",
   "metadata": {},
   "source": [
    "### 031 문자열 합치기\r\n"
   ]
  },
  {
   "cell_type": "code",
   "execution_count": 211,
   "id": "87cdcf02-0f35-4e66-8bfb-525042d4fd85",
   "metadata": {},
   "outputs": [
    {
     "data": {
      "text/plain": [
       "'34'"
      ]
     },
     "execution_count": 211,
     "metadata": {},
     "output_type": "execute_result"
    }
   ],
   "source": [
    "a = \"3\"\n",
    "b = \"4\"\n",
    "a + b"
   ]
  },
  {
   "cell_type": "code",
   "execution_count": 213,
   "id": "883557b7-88ff-42b2-ae58-78571a6c7195",
   "metadata": {},
   "outputs": [
    {
     "name": "stdout",
     "output_type": "stream",
     "text": [
      "H1H1H1\n"
     ]
    }
   ],
   "source": [
    "print(\"H1\" * 3)"
   ]
  },
  {
   "cell_type": "markdown",
   "id": "dae6e586-4dc4-47a5-8094-9cfbaf01706e",
   "metadata": {},
   "source": [
    "### 033 문자열 곱하기\r\n"
   ]
  },
  {
   "cell_type": "code",
   "execution_count": 216,
   "id": "758a40db-3c56-4070-a3c9-d515a930047e",
   "metadata": {},
   "outputs": [
    {
     "data": {
      "text/plain": [
       "'--------------------------------------------------------------------------------'"
      ]
     },
     "execution_count": 216,
     "metadata": {},
     "output_type": "execute_result"
    }
   ],
   "source": [
    "\"-\"  * 80"
   ]
  },
  {
   "cell_type": "markdown",
   "id": "4a3a6e47-e6a5-461e-83a0-9ef867a35e5b",
   "metadata": {},
   "source": [
    "### 034 문자열 곱하기\r\n"
   ]
  },
  {
   "cell_type": "code",
   "execution_count": 233,
   "id": "ed642d4e-8b48-47a9-b5ed-ac0aa6960385",
   "metadata": {},
   "outputs": [
    {
     "data": {
      "text/plain": [
       "'python java python java python java '"
      ]
     },
     "execution_count": 233,
     "metadata": {},
     "output_type": "execute_result"
    }
   ],
   "source": [
    "t1 = 'python'\n",
    "t2 = 'java'\n",
    "t3 = t1 + ' ' + t2 + ' '\n",
    "t3 * 3"
   ]
  },
  {
   "cell_type": "markdown",
   "id": "cf7be37a-e2a2-42d8-b20d-5f639861245d",
   "metadata": {},
   "source": [
    "### 035 문자열 출력\r\n"
   ]
  },
  {
   "cell_type": "code",
   "execution_count": 238,
   "id": "519c050c-0fee-4c63-a17d-7ec791374987",
   "metadata": {},
   "outputs": [
    {
     "name": "stdout",
     "output_type": "stream",
     "text": [
      "이름: 김민수 나이 : 10\n",
      "이름: 이철희 나이 : 13\n"
     ]
    }
   ],
   "source": [
    "name1 = \"김민수\"\n",
    "age1 = 10\n",
    "name2 = \"이철희\"\n",
    "age2 = 13\n",
    "print(\"이름: %s 나이 : %d\" % (name1, age1))\n",
    "print(\"이름: %s 나이 : %d\" % (name2, age2))"
   ]
  },
  {
   "cell_type": "markdown",
   "id": "7b2c1176-c7da-4d29-8bf5-d1b20900b25c",
   "metadata": {},
   "source": [
    "### 036 문자열 출력\r\n"
   ]
  },
  {
   "cell_type": "code",
   "execution_count": 265,
   "id": "ffcb7ebc-e74d-4dff-9daf-345eba3f32b4",
   "metadata": {},
   "outputs": [
    {
     "data": {
      "text/plain": [
       "('이름: 김민수 나이: 10', '이름: 이철희 나이: 13')"
      ]
     },
     "execution_count": 265,
     "metadata": {},
     "output_type": "execute_result"
    }
   ],
   "source": [
    "\"이름: {} 나이: {}\".format(name1, age1), \"이름: {} 나이: {}\".format(name2, age2)"
   ]
  },
  {
   "cell_type": "markdown",
   "id": "604f6bbc-12b2-46e8-ab3e-5b1ec8ef67cf",
   "metadata": {},
   "source": [
    "### 037 문자열 출력\r\n"
   ]
  },
  {
   "cell_type": "code",
   "execution_count": 269,
   "id": "465f12ce-89fa-4d2a-99d4-eeaccde430ee",
   "metadata": {},
   "outputs": [
    {
     "name": "stdout",
     "output_type": "stream",
     "text": [
      "이름: 김민수 나이: 10\n"
     ]
    }
   ],
   "source": [
    "print(f\"이름: {name1} 나이: {age1}\")"
   ]
  },
  {
   "cell_type": "markdown",
   "id": "64e59c38-d6e9-4775-aba8-85b4f908dc02",
   "metadata": {},
   "source": [
    "### 038 컴마 제거하기\r\n"
   ]
  },
  {
   "cell_type": "code",
   "execution_count": 273,
   "id": "8d056c86-105e-4ccb-a9f4-eca49d9c88d8",
   "metadata": {},
   "outputs": [
    {
     "name": "stdout",
     "output_type": "stream",
     "text": [
      "5969782550 <class 'int'>\n"
     ]
    }
   ],
   "source": [
    "상장주식수 = \"5,969,782,550\"\n",
    "컴마제거 = 상장주식수.replace(\",\", \"\")\n",
    "타입변환 = int(컴마제거)\n",
    "print(타입변환, type(타입변환))"
   ]
  },
  {
   "cell_type": "markdown",
   "id": "2f56b95f-d60c-4c0d-916a-d011071b5d2f",
   "metadata": {},
   "source": [
    "### 039 문자열 슬라이싱\n"
   ]
  },
  {
   "cell_type": "code",
   "execution_count": 278,
   "id": "812d5dce-02ef-4afd-94fd-78c2b7bd3422",
   "metadata": {},
   "outputs": [
    {
     "data": {
      "text/plain": [
       "'2020/03'"
      ]
     },
     "execution_count": 278,
     "metadata": {},
     "output_type": "execute_result"
    }
   ],
   "source": [
    "분기 = \"2020/03(E) (IFRS연결)\"\n",
    "분기[:7]"
   ]
  },
  {
   "cell_type": "markdown",
   "id": "15c7f3df-9850-4700-abb2-a63c2aef860f",
   "metadata": {},
   "source": [
    "### 040 strip 메서드\r\n"
   ]
  },
  {
   "cell_type": "code",
   "execution_count": 283,
   "id": "82ae12fb-86fb-4c3e-8aa9-b53e6859d8d3",
   "metadata": {},
   "outputs": [
    {
     "data": {
      "text/plain": [
       "'삼성전자'"
      ]
     },
     "execution_count": 283,
     "metadata": {},
     "output_type": "execute_result"
    }
   ],
   "source": [
    "data = \"    삼성전자   \"\n",
    "data.strip()"
   ]
  },
  {
   "cell_type": "code",
   "execution_count": null,
   "id": "eb986455-04a3-4bd4-8055-883cecebff9a",
   "metadata": {},
   "outputs": [],
   "source": []
  },
  {
   "cell_type": "code",
   "execution_count": null,
   "id": "1b76a8da-0b39-4670-9199-990b37e61daa",
   "metadata": {},
   "outputs": [],
   "source": []
  },
  {
   "cell_type": "code",
   "execution_count": null,
   "id": "504808bf-09aa-4876-be18-23ccc97c9a61",
   "metadata": {},
   "outputs": [],
   "source": []
  },
  {
   "cell_type": "markdown",
   "id": "77cccca9-f70f-4c23-baae-32a37dcc8d56",
   "metadata": {},
   "source": [
    "### 041 upper 메서드"
   ]
  },
  {
   "cell_type": "code",
   "execution_count": 2,
   "id": "14a8d3f6-cf18-4518-bca3-1fb00335f417",
   "metadata": {},
   "outputs": [
    {
     "data": {
      "text/plain": [
       "'BTC_KRW'"
      ]
     },
     "execution_count": 2,
     "metadata": {},
     "output_type": "execute_result"
    }
   ],
   "source": [
    "ticker = 'btc_krw'\n",
    "ticker.upper()"
   ]
  },
  {
   "cell_type": "markdown",
   "id": "3a48137e-9d0f-49c2-a1e6-e0ed8f2a107e",
   "metadata": {},
   "source": [
    "### 042 lower 메서드\n"
   ]
  },
  {
   "cell_type": "code",
   "execution_count": 8,
   "id": "b9a67772-f212-48cd-814e-8212aba79d63",
   "metadata": {},
   "outputs": [
    {
     "data": {
      "text/plain": [
       "'btc_krw'"
      ]
     },
     "execution_count": 8,
     "metadata": {},
     "output_type": "execute_result"
    }
   ],
   "source": [
    "ticker = \"BTC_KRW\"\n",
    "ticker.lower()"
   ]
  },
  {
   "cell_type": "markdown",
   "id": "e66de283-5a56-4871-8a4e-f0c84e384b25",
   "metadata": {},
   "source": [
    "### 043 capitalize 메서드\n"
   ]
  },
  {
   "cell_type": "code",
   "execution_count": 16,
   "id": "c621ad77-dbfc-4b44-a995-bc1b946623ac",
   "metadata": {},
   "outputs": [
    {
     "data": {
      "text/plain": [
       "'Hello'"
      ]
     },
     "execution_count": 16,
     "metadata": {},
     "output_type": "execute_result"
    }
   ],
   "source": [
    "a =\"hello\"\n",
    "a.capitalize()"
   ]
  },
  {
   "cell_type": "markdown",
   "id": "0bd0d0b1-4a4d-41a7-9941-56ef086b0b41",
   "metadata": {},
   "source": [
    "### 044 endswith 메서드\r\n"
   ]
  },
  {
   "cell_type": "code",
   "execution_count": 42,
   "id": "a659d29c-7e5a-4480-9bc0-4b138ef54642",
   "metadata": {},
   "outputs": [
    {
     "data": {
      "text/plain": [
       "True"
      ]
     },
     "execution_count": 42,
     "metadata": {},
     "output_type": "execute_result"
    }
   ],
   "source": [
    "file_name = \"보고서.xlsx\"\n",
    "file_name.endswith(\"xlsx\")"
   ]
  },
  {
   "cell_type": "markdown",
   "id": "8cbf00ec-068a-4271-9aa9-7002a8e73d56",
   "metadata": {},
   "source": [
    "### 045 endswith 메서드\r\n"
   ]
  },
  {
   "cell_type": "code",
   "execution_count": 40,
   "id": "cd3fb64a-2c2c-4f06-af02-b5bbfc80fbe2",
   "metadata": {},
   "outputs": [
    {
     "data": {
      "text/plain": [
       "True"
      ]
     },
     "execution_count": 40,
     "metadata": {},
     "output_type": "execute_result"
    }
   ],
   "source": [
    "file_name = \"보고서.xlsx\"\n",
    "file_name.endswith((\"xlsx\", \"xls\"))"
   ]
  },
  {
   "cell_type": "markdown",
   "id": "a76da116-06b5-4abc-8198-a99d54287acc",
   "metadata": {},
   "source": [
    "### 046 startswith 메서드\r\n"
   ]
  },
  {
   "cell_type": "code",
   "execution_count": 52,
   "id": "edcd3264-b855-4a0d-a836-a56e024f62fe",
   "metadata": {},
   "outputs": [
    {
     "data": {
      "text/plain": [
       "True"
      ]
     },
     "execution_count": 52,
     "metadata": {},
     "output_type": "execute_result"
    }
   ],
   "source": [
    "file_name = \"2020_보고서.xlsx\"\n",
    "file_name.startswith(\"2020\")"
   ]
  },
  {
   "cell_type": "markdown",
   "id": "3412c554-0c17-4e58-a0b1-039d57dd770c",
   "metadata": {},
   "source": [
    "### 047 split 메서드\r\n"
   ]
  },
  {
   "cell_type": "code",
   "execution_count": 45,
   "id": "e186e9f7-4fa6-4e4b-8769-5fde07d38cb2",
   "metadata": {},
   "outputs": [
    {
     "data": {
      "text/plain": [
       "['hello', 'world']"
      ]
     },
     "execution_count": 45,
     "metadata": {},
     "output_type": "execute_result"
    }
   ],
   "source": [
    "a = \"hello world\"\n",
    "a.split(\" \")"
   ]
  },
  {
   "cell_type": "markdown",
   "id": "5e66bfe1-d375-4dc5-84b7-caad8715ec44",
   "metadata": {},
   "source": [
    "### 048 split 메서드\r\n"
   ]
  },
  {
   "cell_type": "code",
   "execution_count": 54,
   "id": "824642ed-a39b-4127-a190-1b9cb3acc2de",
   "metadata": {},
   "outputs": [
    {
     "data": {
      "text/plain": [
       "['btc', 'krw']"
      ]
     },
     "execution_count": 54,
     "metadata": {},
     "output_type": "execute_result"
    }
   ],
   "source": [
    "ticker = \"btc_krw\"\n",
    "ticker.split(\"_\")"
   ]
  },
  {
   "cell_type": "markdown",
   "id": "6e140879-468e-4d30-8c81-3517343aae69",
   "metadata": {},
   "source": [
    "### 049 split 메서드\r\n"
   ]
  },
  {
   "cell_type": "code",
   "execution_count": 57,
   "id": "fa7ab8a4-d3f1-4018-8cf0-89e39ca46fa8",
   "metadata": {},
   "outputs": [
    {
     "data": {
      "text/plain": [
       "['2020', '05', '01']"
      ]
     },
     "execution_count": 57,
     "metadata": {},
     "output_type": "execute_result"
    }
   ],
   "source": [
    "date = \"2020-05-01\"\n",
    "date.split(\"-\")"
   ]
  },
  {
   "cell_type": "markdown",
   "id": "87e65666-6b11-49b9-b7af-05fd465483f1",
   "metadata": {},
   "source": [
    "### 050 rstrip 메서드\r\n"
   ]
  },
  {
   "cell_type": "code",
   "execution_count": 60,
   "id": "83d94219-3da8-44ea-9ef4-a1a65e73d485",
   "metadata": {},
   "outputs": [
    {
     "data": {
      "text/plain": [
       "'039490'"
      ]
     },
     "execution_count": 60,
     "metadata": {},
     "output_type": "execute_result"
    }
   ],
   "source": [
    "data = \"039490     \"\n",
    "data.rstrip()"
   ]
  },
  {
   "cell_type": "code",
   "execution_count": null,
   "id": "b5978e2f-a883-4eff-8919-305e96787479",
   "metadata": {},
   "outputs": [],
   "source": []
  },
  {
   "cell_type": "code",
   "execution_count": null,
   "id": "d6db3b65-fd5a-4779-a35f-9b43b762a382",
   "metadata": {},
   "outputs": [],
   "source": []
  }
 ],
 "metadata": {
  "kernelspec": {
   "display_name": "Python 3 (ipykernel)",
   "language": "python",
   "name": "python3"
  },
  "language_info": {
   "codemirror_mode": {
    "name": "ipython",
    "version": 3
   },
   "file_extension": ".py",
   "mimetype": "text/x-python",
   "name": "python",
   "nbconvert_exporter": "python",
   "pygments_lexer": "ipython3",
   "version": "3.12.4"
  }
 },
 "nbformat": 4,
 "nbformat_minor": 5
}
