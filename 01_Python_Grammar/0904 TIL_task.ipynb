{
 "cells": [
  {
   "cell_type": "markdown",
   "id": "81019996-287a-4019-9660-f17bfd120a68",
   "metadata": {},
   "source": [
    "### 001 print 기초\n"
   ]
  },
  {
   "cell_type": "code",
   "execution_count": 2,
   "id": "d8afeade-293f-4d42-b8b3-6350ce31e569",
   "metadata": {},
   "outputs": [
    {
     "name": "stdout",
     "output_type": "stream",
     "text": [
      "Hello world\n"
     ]
    }
   ],
   "source": [
    "a = \"Hello world\"\n",
    "print(a)"
   ]
  },
  {
   "cell_type": "markdown",
   "id": "d81c282a-2e6f-4827-b098-35501a8a8034",
   "metadata": {},
   "source": [
    "### 002 Print 기초"
   ]
  },
  {
   "cell_type": "code",
   "execution_count": 4,
   "id": "045c0429-15a7-4f7a-8f92-1e15eeaa48ed",
   "metadata": {},
   "outputs": [
    {
     "data": {
      "text/plain": [
       "\"mary's cosmetics\""
      ]
     },
     "execution_count": 4,
     "metadata": {},
     "output_type": "execute_result"
    }
   ],
   "source": [
    "a = \"mary's cosmetics\"\n",
    "a"
   ]
  },
  {
   "cell_type": "markdown",
   "id": "6e76c31f-30b4-4532-9ee3-f6d8b8de9a56",
   "metadata": {},
   "source": [
    "### 003 print 기초\r\n"
   ]
  },
  {
   "cell_type": "code",
   "execution_count": 6,
   "id": "00352bb8-8a9c-4bea-929a-57d8267dc5b8",
   "metadata": {},
   "outputs": [
    {
     "data": {
      "text/plain": [
       "'신씨가 소리질렀다. \"도둑이야\".'"
      ]
     },
     "execution_count": 6,
     "metadata": {},
     "output_type": "execute_result"
    }
   ],
   "source": [
    "a = '신씨가 소리질렀다. \"도둑이야\".'\n",
    "a"
   ]
  },
  {
   "cell_type": "markdown",
   "id": "23023574-3411-4e0e-90dd-fd11b52ecc18",
   "metadata": {},
   "source": [
    "### 004 print 기초\r\n"
   ]
  },
  {
   "cell_type": "code",
   "execution_count": 25,
   "id": "a895b8c3-2a63-40d4-a2f8-def51005cb49",
   "metadata": {},
   "outputs": [
    {
     "name": "stdout",
     "output_type": "stream",
     "text": [
      "C:\\Windows\n"
     ]
    },
    {
     "name": "stderr",
     "output_type": "stream",
     "text": [
      "<>:1: SyntaxWarning: invalid escape sequence '\\W'\n",
      "<>:1: SyntaxWarning: invalid escape sequence '\\W'\n",
      "C:\\Users\\USER\\AppData\\Local\\Temp\\ipykernel_14208\\3675048665.py:1: SyntaxWarning: invalid escape sequence '\\W'\n",
      "  a = \"C:\\Windows\"\n"
     ]
    }
   ],
   "source": [
    "a = \"C:\\Windows\"\n",
    "print(a)"
   ]
  },
  {
   "cell_type": "markdown",
   "id": "9c0797f8-1f41-4918-9818-e8fa58c8f431",
   "metadata": {},
   "source": [
    "### 005 print 탭과 줄바꿈\r\n"
   ]
  },
  {
   "cell_type": "code",
   "execution_count": 28,
   "id": "66c036e4-0121-43d6-811c-81ec2751d964",
   "metadata": {},
   "outputs": [
    {
     "name": "stdout",
     "output_type": "stream",
     "text": [
      "안녕하세요.\n",
      "만나서\t\t반갑습니다.\n"
     ]
    }
   ],
   "source": [
    "print(\"안녕하세요.\\n만나서\\t\\t반갑습니다.\")"
   ]
  },
  {
   "cell_type": "markdown",
   "id": "c5925194-05e7-4413-a72f-460c99e8e7e6",
   "metadata": {},
   "source": [
    "### 006 print 여러 데이터 출력\r\n"
   ]
  },
  {
   "cell_type": "code",
   "execution_count": 31,
   "id": "64081966-ea5a-4ac1-b66f-2592ad53d8dd",
   "metadata": {},
   "outputs": [
    {
     "name": "stdout",
     "output_type": "stream",
     "text": [
      "오늘은 일요일\n"
     ]
    }
   ],
   "source": [
    "print (\"오늘은\", \"일요일\")"
   ]
  },
  {
   "cell_type": "markdown",
   "id": "76d63feb-0dcb-4c26-8bdd-2dc9a2154577",
   "metadata": {},
   "source": [
    "### 007 print 기초\r\n"
   ]
  },
  {
   "cell_type": "code",
   "execution_count": 45,
   "id": "bc806e58-26b4-4d70-b5b5-269e3f2ef1d4",
   "metadata": {},
   "outputs": [
    {
     "name": "stdout",
     "output_type": "stream",
     "text": [
      "naver;kakao;sk;samsung\n"
     ]
    }
   ],
   "source": [
    "print(\"naver\",\"kakao\",\"sk\",\"samsung\", sep=\";\")"
   ]
  },
  {
   "cell_type": "markdown",
   "id": "32f81dd6-7685-4446-910b-54bfd4f304b3",
   "metadata": {},
   "source": [
    "### 008 print 기초\r\n"
   ]
  },
  {
   "cell_type": "code",
   "execution_count": 48,
   "id": "7e2e0ec0-63da-471b-bc09-1ab777df1e39",
   "metadata": {},
   "outputs": [
    {
     "name": "stdout",
     "output_type": "stream",
     "text": [
      "naver/kakao/sk/samsung\n"
     ]
    }
   ],
   "source": [
    "print(\"naver\",\"kakao\",\"sk\",\"samsung\", sep=\"/\")"
   ]
  },
  {
   "cell_type": "markdown",
   "id": "76c47b3b-298d-40e3-a68c-ef03b597fd58",
   "metadata": {},
   "source": [
    "### 009 print 줄바꿈\r\n"
   ]
  },
  {
   "cell_type": "code",
   "execution_count": 61,
   "id": "0e5e1c2b-a92f-4f8f-adee-3d034a68527d",
   "metadata": {},
   "outputs": [
    {
     "name": "stdout",
     "output_type": "stream",
     "text": [
      "first second\n"
     ]
    }
   ],
   "source": [
    "print(\"first\", end=\" \");print(\"second\")"
   ]
  },
  {
   "cell_type": "markdown",
   "id": "59c2083d-09f5-4965-94aa-fe01676bd713",
   "metadata": {},
   "source": [
    "### 010 연산 결과 출력\r\n"
   ]
  },
  {
   "cell_type": "code",
   "execution_count": 65,
   "id": "01bb6774-95a6-42e1-adc6-46ee40b60459",
   "metadata": {},
   "outputs": [
    {
     "data": {
      "text/plain": [
       "1.6666666666666667"
      ]
     },
     "execution_count": 65,
     "metadata": {},
     "output_type": "execute_result"
    }
   ],
   "source": [
    "5/3"
   ]
  },
  {
   "cell_type": "markdown",
   "id": "13606ee4-c4c1-4c8c-9c98-7a51234f81e6",
   "metadata": {},
   "source": [
    "### 011 변수 사용하기\r\n"
   ]
  },
  {
   "cell_type": "code",
   "execution_count": 78,
   "id": "9da78cc8-1f0f-40f5-b4a6-d1b88cf397e8",
   "metadata": {},
   "outputs": [
    {
     "name": "stdout",
     "output_type": "stream",
     "text": [
      "500000\n"
     ]
    }
   ],
   "source": [
    "삼성전자 = 50000\n",
    "총평가금액 = 삼성전자 * 10\n",
    "print(총평가금액)"
   ]
  },
  {
   "cell_type": "markdown",
   "id": "13ec2234-fd3d-4cd6-9cee-4e786229fdf9",
   "metadata": {},
   "source": [
    "### 012 변수 사용하기\r\n"
   ]
  },
  {
   "cell_type": "code",
   "execution_count": null,
   "id": "404e72c0-2c09-4322-9360-c93ac0ff3bcb",
   "metadata": {},
   "outputs": [],
   "source": []
  },
  {
   "cell_type": "code",
   "execution_count": null,
   "id": "f5796534-5e01-453f-93ad-df0c699f13f5",
   "metadata": {},
   "outputs": [],
   "source": []
  },
  {
   "cell_type": "code",
   "execution_count": null,
   "id": "a24e90de-5816-4345-b843-d945c98ec3bd",
   "metadata": {},
   "outputs": [],
   "source": []
  },
  {
   "cell_type": "code",
   "execution_count": null,
   "id": "b452f55b-3a52-4a89-92f2-34c44fc9a657",
   "metadata": {},
   "outputs": [],
   "source": []
  },
  {
   "cell_type": "code",
   "execution_count": null,
   "id": "9a79f840-329f-45e1-a1d0-1ce976a6d4dd",
   "metadata": {},
   "outputs": [],
   "source": []
  },
  {
   "cell_type": "code",
   "execution_count": null,
   "id": "9eaea28a-9cab-490b-9dcf-75ec5cba3447",
   "metadata": {},
   "outputs": [],
   "source": []
  },
  {
   "cell_type": "code",
   "execution_count": null,
   "id": "cf5ed50a-c737-4d2d-8daa-761146d1e152",
   "metadata": {},
   "outputs": [],
   "source": []
  },
  {
   "cell_type": "code",
   "execution_count": null,
   "id": "f88a3b79-49f2-447d-aee7-c6384d54504b",
   "metadata": {},
   "outputs": [],
   "source": []
  },
  {
   "cell_type": "code",
   "execution_count": null,
   "id": "cb516bc2-2ce0-40f9-a8e0-4d00c9b98337",
   "metadata": {},
   "outputs": [],
   "source": []
  },
  {
   "cell_type": "code",
   "execution_count": null,
   "id": "bb56e444-089a-4709-89b4-86aa656b547c",
   "metadata": {},
   "outputs": [],
   "source": []
  },
  {
   "cell_type": "code",
   "execution_count": null,
   "id": "5ce3ce0f-afce-4015-86c0-33e2c2184138",
   "metadata": {},
   "outputs": [],
   "source": []
  },
  {
   "cell_type": "code",
   "execution_count": null,
   "id": "ea483296-f46d-4c56-9947-c5d1b97c481f",
   "metadata": {},
   "outputs": [],
   "source": []
  },
  {
   "cell_type": "code",
   "execution_count": null,
   "id": "4e461b3b-5e7e-477e-ae82-4c43e72b8b8a",
   "metadata": {},
   "outputs": [],
   "source": []
  },
  {
   "cell_type": "code",
   "execution_count": null,
   "id": "bad85ab5-31b9-4cf4-ab19-8c0a049917b4",
   "metadata": {},
   "outputs": [],
   "source": []
  },
  {
   "cell_type": "code",
   "execution_count": null,
   "id": "504808bf-09aa-4876-be18-23ccc97c9a61",
   "metadata": {},
   "outputs": [],
   "source": []
  },
  {
   "cell_type": "markdown",
   "id": "77cccca9-f70f-4c23-baae-32a37dcc8d56",
   "metadata": {},
   "source": [
    "### 041 upper 메서드"
   ]
  },
  {
   "cell_type": "code",
   "execution_count": 2,
   "id": "14a8d3f6-cf18-4518-bca3-1fb00335f417",
   "metadata": {},
   "outputs": [
    {
     "data": {
      "text/plain": [
       "'BTC_KRW'"
      ]
     },
     "execution_count": 2,
     "metadata": {},
     "output_type": "execute_result"
    }
   ],
   "source": [
    "ticker = 'btc_krw'\n",
    "ticker.upper()"
   ]
  },
  {
   "cell_type": "markdown",
   "id": "3a48137e-9d0f-49c2-a1e6-e0ed8f2a107e",
   "metadata": {},
   "source": [
    "### 042 lower 메서드\n"
   ]
  },
  {
   "cell_type": "code",
   "execution_count": 8,
   "id": "b9a67772-f212-48cd-814e-8212aba79d63",
   "metadata": {},
   "outputs": [
    {
     "data": {
      "text/plain": [
       "'btc_krw'"
      ]
     },
     "execution_count": 8,
     "metadata": {},
     "output_type": "execute_result"
    }
   ],
   "source": [
    "ticker = \"BTC_KRW\"\n",
    "ticker.lower()"
   ]
  },
  {
   "cell_type": "markdown",
   "id": "e66de283-5a56-4871-8a4e-f0c84e384b25",
   "metadata": {},
   "source": [
    "### 043 capitalize 메서드\n"
   ]
  },
  {
   "cell_type": "code",
   "execution_count": 16,
   "id": "c621ad77-dbfc-4b44-a995-bc1b946623ac",
   "metadata": {},
   "outputs": [
    {
     "data": {
      "text/plain": [
       "'Hello'"
      ]
     },
     "execution_count": 16,
     "metadata": {},
     "output_type": "execute_result"
    }
   ],
   "source": [
    "a =\"hello\"\n",
    "a.capitalize()"
   ]
  },
  {
   "cell_type": "markdown",
   "id": "0bd0d0b1-4a4d-41a7-9941-56ef086b0b41",
   "metadata": {},
   "source": [
    "### 044 endswith 메서드\r\n"
   ]
  },
  {
   "cell_type": "code",
   "execution_count": 42,
   "id": "a659d29c-7e5a-4480-9bc0-4b138ef54642",
   "metadata": {},
   "outputs": [
    {
     "data": {
      "text/plain": [
       "True"
      ]
     },
     "execution_count": 42,
     "metadata": {},
     "output_type": "execute_result"
    }
   ],
   "source": [
    "file_name = \"보고서.xlsx\"\n",
    "file_name.endswith(\"xlsx\")"
   ]
  },
  {
   "cell_type": "markdown",
   "id": "8cbf00ec-068a-4271-9aa9-7002a8e73d56",
   "metadata": {},
   "source": [
    "### 045 endswith 메서드\r\n"
   ]
  },
  {
   "cell_type": "code",
   "execution_count": 40,
   "id": "cd3fb64a-2c2c-4f06-af02-b5bbfc80fbe2",
   "metadata": {},
   "outputs": [
    {
     "data": {
      "text/plain": [
       "True"
      ]
     },
     "execution_count": 40,
     "metadata": {},
     "output_type": "execute_result"
    }
   ],
   "source": [
    "file_name = \"보고서.xlsx\"\n",
    "file_name.endswith((\"xlsx\", \"xls\"))"
   ]
  },
  {
   "cell_type": "markdown",
   "id": "a76da116-06b5-4abc-8198-a99d54287acc",
   "metadata": {},
   "source": [
    "### 046 startswith 메서드\r\n"
   ]
  },
  {
   "cell_type": "code",
   "execution_count": 52,
   "id": "edcd3264-b855-4a0d-a836-a56e024f62fe",
   "metadata": {},
   "outputs": [
    {
     "data": {
      "text/plain": [
       "True"
      ]
     },
     "execution_count": 52,
     "metadata": {},
     "output_type": "execute_result"
    }
   ],
   "source": [
    "file_name = \"2020_보고서.xlsx\"\n",
    "file_name.startswith(\"2020\")"
   ]
  },
  {
   "cell_type": "markdown",
   "id": "3412c554-0c17-4e58-a0b1-039d57dd770c",
   "metadata": {},
   "source": [
    "### 047 split 메서드\r\n"
   ]
  },
  {
   "cell_type": "code",
   "execution_count": 45,
   "id": "e186e9f7-4fa6-4e4b-8769-5fde07d38cb2",
   "metadata": {},
   "outputs": [
    {
     "data": {
      "text/plain": [
       "['hello', 'world']"
      ]
     },
     "execution_count": 45,
     "metadata": {},
     "output_type": "execute_result"
    }
   ],
   "source": [
    "a = \"hello world\"\n",
    "a.split(\" \")"
   ]
  },
  {
   "cell_type": "markdown",
   "id": "5e66bfe1-d375-4dc5-84b7-caad8715ec44",
   "metadata": {},
   "source": [
    "### 048 split 메서드\r\n"
   ]
  },
  {
   "cell_type": "code",
   "execution_count": 54,
   "id": "824642ed-a39b-4127-a190-1b9cb3acc2de",
   "metadata": {},
   "outputs": [
    {
     "data": {
      "text/plain": [
       "['btc', 'krw']"
      ]
     },
     "execution_count": 54,
     "metadata": {},
     "output_type": "execute_result"
    }
   ],
   "source": [
    "ticker = \"btc_krw\"\n",
    "ticker.split(\"_\")"
   ]
  },
  {
   "cell_type": "markdown",
   "id": "6e140879-468e-4d30-8c81-3517343aae69",
   "metadata": {},
   "source": [
    "### 049 split 메서드\r\n"
   ]
  },
  {
   "cell_type": "code",
   "execution_count": 57,
   "id": "fa7ab8a4-d3f1-4018-8cf0-89e39ca46fa8",
   "metadata": {},
   "outputs": [
    {
     "data": {
      "text/plain": [
       "['2020', '05', '01']"
      ]
     },
     "execution_count": 57,
     "metadata": {},
     "output_type": "execute_result"
    }
   ],
   "source": [
    "date = \"2020-05-01\"\n",
    "date.split(\"-\")"
   ]
  },
  {
   "cell_type": "markdown",
   "id": "87e65666-6b11-49b9-b7af-05fd465483f1",
   "metadata": {},
   "source": [
    "### 050 rstrip 메서드\r\n"
   ]
  },
  {
   "cell_type": "code",
   "execution_count": 60,
   "id": "83d94219-3da8-44ea-9ef4-a1a65e73d485",
   "metadata": {},
   "outputs": [
    {
     "data": {
      "text/plain": [
       "'039490'"
      ]
     },
     "execution_count": 60,
     "metadata": {},
     "output_type": "execute_result"
    }
   ],
   "source": [
    "data = \"039490     \"\n",
    "data.rstrip()"
   ]
  },
  {
   "cell_type": "code",
   "execution_count": null,
   "id": "b5978e2f-a883-4eff-8919-305e96787479",
   "metadata": {},
   "outputs": [],
   "source": []
  },
  {
   "cell_type": "code",
   "execution_count": null,
   "id": "d6db3b65-fd5a-4779-a35f-9b43b762a382",
   "metadata": {},
   "outputs": [],
   "source": []
  }
 ],
 "metadata": {
  "kernelspec": {
   "display_name": "Python 3 (ipykernel)",
   "language": "python",
   "name": "python3"
  },
  "language_info": {
   "codemirror_mode": {
    "name": "ipython",
    "version": 3
   },
   "file_extension": ".py",
   "mimetype": "text/x-python",
   "name": "python",
   "nbconvert_exporter": "python",
   "pygments_lexer": "ipython3",
   "version": "3.12.4"
  }
 },
 "nbformat": 4,
 "nbformat_minor": 5
}
