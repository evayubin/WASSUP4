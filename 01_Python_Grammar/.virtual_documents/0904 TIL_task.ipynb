


a = "Hello world"
print(a)





a = "mary's cosmetics"
a





a = '신씨가 소리질렀다. "도둑이야".'
a





a = "C:\Windows"
print(a)





print("안녕하세요.\n만나서\t\t반갑습니다.")





print ("오늘은", "일요일")





print("naver","kakao","sk","samsung", sep=";")





print("naver","kakao","sk","samsung", sep="/")





print("first", end=" ");print("second")





5/3





삼성전자 = 50000
총평가금액 = 삼성전자 * 10
print(총평가금액)








시가총액 = 298000000000000
현재가 = 50000
PER = 15.79
print(시가총액, type(시가총액))
print(현재가, type(현재가))
print(PER, type(PER))


시가총액, 현재가, PER





s = "hello"
t = "python"
s, t, type(s), type(t)


a = "! "
a


s + a + t


print(s+"! ",t)





2 + 2 * 3 





a = 128
print (type(a))


a = "132"
a, type(a)





num_str = "720"
num_str = 720
num_str, type(num_str)





num = 100
num, type(num)


num_str = str(num)
print(num_str, type(num_str))





year = "2020"
year_int = int(year)
year_int, type(year_int)


int(year_int)+4, int(year_int)+3, int(year_int)+2





Airconditioner = 48584
month = 36
Airconditioner * month





letters = 'python'
letters[0], letters[2]


license_plate = "24가 2210"
license_plate[-4:]





string = "홀짝홀짝홀짝"
string[::2]





string = "PYTHON"
string[::-1]





phone_number = "010-1111-2222"
phone_number1 = phone_number.replace("-", " ")
phone_number1





phone_number1 = phone_number.replace("-", "")
phone_number1





url = "http://sharebook.kr"
url[-2:]


a = url.split('.')
a


a[1]





lang = 'python'
lang[0] = 'P'
print(lang)





string = 'abcdfe2a354a32a'
a = string.replace('a', 'A')
a


string = 'abcd'
string.replace('b', 'B')
string





a = "3"
b = "4"
a + b


print("H1" * 3)





"-"  * 80





t1 = 'python'
t2 = 'java'
t3 = t1 + ' ' + t2 + ' '
t3 * 3





name1 = "김민수"
age1 = 10
name2 = "이철희"
age2 = 13
print("이름: %s 나이 : %d" % (name1, age1))
print("이름: %s 나이 : %d" % (name2, age2))





"이름: {} 나이: {}".format(name1, age1), "이름: {} 나이: {}".format(name2, age2)





print(f"이름: {name1} 나이: {age1}")





상장주식수 = "5,969,782,550"
컴마제거 = 상장주식수.replace(",", "")
타입변환 = int(컴마제거)
print(타입변환, type(타입변환))





분기 = "2020/03(E) (IFRS연결)"
분기[:7]





data = "    삼성전자   "
data.strip()














ticker = 'btc_krw'
ticker.upper()





ticker = "BTC_KRW"
ticker.lower()





a ="hello"
a.capitalize()





file_name = "보고서.xlsx"
file_name.endswith("xlsx")





file_name = "보고서.xlsx"
file_name.endswith(("xlsx", "xls"))





file_name = "2020_보고서.xlsx"
file_name.startswith("2020")





a = "hello world"
a.split(" ")





ticker = "btc_krw"
ticker.split("_")





date = "2020-05-01"
date.split("-")





data = "039490     "
data.rstrip()






