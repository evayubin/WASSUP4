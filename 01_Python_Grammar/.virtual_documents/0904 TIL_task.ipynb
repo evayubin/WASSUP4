


a = "Hello world"
print(a)





a = "mary's cosmetics"
a





a = '신씨가 소리질렀다. "도둑이야".'
a





a = "C:\Windows"
print(a)





print("안녕하세요.\n만나서\t\t반갑습니다.")





print ("오늘은", "일요일")





print("naver","kakao","sk","samsung", sep=";")





print("naver","kakao","sk","samsung", sep="/")





print("first", end=" ");print("second")





5/3





삼성전자 = 50000
총평가금액 = 삼성전자 * 10
print(총평가금액)
























































ticker = 'btc_krw'
ticker.upper()





ticker = "BTC_KRW"
ticker.lower()





a ="hello"
a.capitalize()





file_name = "보고서.xlsx"
file_name.endswith("xlsx")





file_name = "보고서.xlsx"
file_name.endswith(("xlsx", "xls"))





file_name = "2020_보고서.xlsx"
file_name.startswith("2020")





a = "hello world"
a.split(" ")





ticker = "btc_krw"
ticker.split("_")





date = "2020-05-01"
date.split("-")





data = "039490     "
data.rstrip()






