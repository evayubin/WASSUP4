


a = "Hello world"
print(a)





a = "mary's cosmetics"
a





a = '신씨가 소리질렀다. "도둑이야".'
a





a = "C:\Windows"
print(a)





print("안녕하세요.\n만나서\t\t반갑습니다.")





print ("오늘은", "일요일")





print("naver","kakao","sk","samsung", sep=";")





print("naver","kakao","sk","samsung", sep="/")





print("first", end=" ");print("second")





5/3





삼성전자 = 50000
총평가금액 = 삼성전자 * 10
print(총평가금액)








시가총액 = 298000000000000
현재가 = 50000
PER = 15.79
print(시가총액, type(시가총액))
print(현재가, type(현재가))
print(PER, type(PER))


시가총액, 현재가, PER





s = "hello"
t = "python"
s, t, type(s), type(t)


a = "! "
a


s + a + t


print(s+"! ",t)





2 + 2 * 3 





a = 128
print (type(a))


a = "132"
a, type(a)





num_str = "720"
num_str = 720
num_str, type(num_str)





num = 100
num, type(num)


num_str = str(num)
print(num_str, type(num_str))





year = "2020"
year_int = int(year)
year_int, type(year_int)


int(year_int)+4, int(year_int)+3, int(year_int)+2





Airconditioner = 48584
month = 36
Airconditioner * month





letters = 'python'
letters[0], letters[2]


license_plate = "24가 2210"
license_plate[-4:]





string = "홀짝홀짝홀짝"
string[::2]





string = "PYTHON"
string[::-1]





phone_number = "010-1111-2222"
phone_number1 = phone_number.replace("-", " ")
phone_number1





phone_number1 = phone_number.replace("-", "")
phone_number1





url = "http://sharebook.kr"
url[-2:]


a = url.split('.')
a


a[1]





lang = 'python'
lang[0] = 'P'
print(lang)





string = 'abcdfe2a354a32a'
a = string.replace('a', 'A')
a


string = 'abcd'
string.replace('b', 'B')
string





a = "3"
b = "4"
a + b


print("H1" * 3)





"-"  * 80





t1 = 'python'
t2 = 'java'
t3 = t1 + ' ' + t2 + ' '
t3 * 3





name1 = "김민수"
age1 = 10
name2 = "이철희"
age2 = 13
print("이름: %s 나이 : %d" % (name1, age1))
print("이름: %s 나이 : %d" % (name2, age2))





"이름: {} 나이: {}".format(name1, age1), "이름: {} 나이: {}".format(name2, age2)





print(f"이름: {name1} 나이: {age1}")





상장주식수 = "5,969,782,550"
컴마제거 = 상장주식수.replace(",", "")
타입변환 = int(컴마제거)
print(타입변환, type(타입변환))





분기 = "2020/03(E) (IFRS연결)"
분기[:7]





data = "    삼성전자   "
data.strip()














ticker = 'btc_krw'
ticker.upper()





ticker = "BTC_KRW"
ticker.lower()





a ="hello"
a.capitalize()





file_name = "보고서.xlsx"
file_name.endswith("xlsx")





file_name = "보고서.xlsx"
file_name.endswith(("xlsx", "xls"))





file_name = "2020_보고서.xlsx"
file_name.startswith("2020")





a = "hello world"
a.split(" ")





ticker = "btc_krw"
ticker.split("_")





date = "2020-05-01"
date.split("-")





data = "039490     "
data.rstrip()








#BOOL





print(3 == 5)





print(3 < 5)


x = 6
print(1 < x < 5)





x = 4
print(1 < x < 5)





print ((3 == 3) and (4 != 3)) #TRUE WHY??? 





print(3 => 4) # 연산자가 없다!@!!ㅋㅋㅋㅋㅋㅋ





if 4 < 3:
    print("Hello World")





# 결과??? Hi, there???
if 4 < 3:
    print("Hello World.")
else:
    print("Hi, there.")





# why??? 
if True :
    print ("1")
    print ("2")
else :
    print("3")
print("4")





# true안의 false
if True :
    if False:
        print("1")
        print("2")
    else:
        print("3")
else :
    print("4")
print("5")





a = input("입력:")
a *2





a = int(input("insert number:"))
print(a +10)





user = int(input("insert number:"))
if user %2 == 0:
    print(f' {user} is even number')
else : 
    print(f' {user} is odd number')
print(user)





user = int(input())
print(user + 10)


user = input("입력값: ")
num = 20 + int(user)
if num > 255:
    print(255)
else:
    print(num)





user = input("input: ")
num = int(user) - 20
if num < 0:
    print(0)
if num > 255:
    print(255)
else:
    print(num)





time = input("Time: ")
if time[-2: ] == "00":
    print("on time.")
else:
    print("not on time.")





char = input("What's your favorite fruit?: ")
fruit = ["사과", "포도", "홍시"]
if char in fruit:
    print("Right!")
else:
    print("Hmmmm...")





fruit = {"spring" : "strawberry", "summer" : "tomato", "autumn" : "apple"}
answer = input("my favorite season is..: ")
if answer in fruit:
    print("Wow! so do I!")
else:
    print("Oh! you do!")





fruit = {"spring" : "strawberry", "summer" : "tomato", "autumn" : "apple"}
answer = input("my favorite fruit is..: ")
if answer in fruit:
    print("Wow! so do I!")
else:
    print("Oh! you do!")





user = input("")
if user.islower():
    print(user.upper())
else:
    print(user.lower())





score = int(input("score: "))
if 81 <= score <= 100:
    print("grade is A")
elif 61 <= score <= 80:
    print("grade is B")
elif 41 <= score <= 60:
    print("grade is C")
elif 21 <= score <= 40:
    print("grade is D")
else:
    print("grade is E")





















