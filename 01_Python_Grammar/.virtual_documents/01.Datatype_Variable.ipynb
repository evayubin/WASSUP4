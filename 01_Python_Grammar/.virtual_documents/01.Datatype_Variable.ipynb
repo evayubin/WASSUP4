





a = 1
print(a)


b = 'python'
b


c = [1, 2, 3]
c


a = [1, 2, 3]
a


id(a)


b = a
b


id(b)


b[1] = 9
b


a


a is b





a[:]


a, a[:]


b = a[:]
b


id(b)


a is b


b[0] = 9
b


a


# copy 모듈 이용하기


from copy import copy
a = [1, 2, 3]
b = copy(a)


b is a


id(a), id(b)


a is b


c = a.copy()
a is c


a, b = ('python', 'life')


a


b


[a,b] = ['python', 'life']


a


a = b= 'python'


b


a


a = 3
b = 5
a, b = b, a


a


b








# 정수형
a = 123
a


a = -178
a


a = 0
a


# 실수형
a = 1.2
b = -3.45
a,b


a = 4.24E10
a


a = 4.24e-10
a


# 8진수와 16진수
a = 0o177
print(a)


>>> a = 0x8ff
>>> b = 0xABC
>>> print(b)





# 사칙연산
a =3
b = 4
a + b


a-b, a*b, a/b


# x의 Y제곱을 나타내는 ** 연산자
a ** b


# 나눗셈 후 나머지를 리턴
7 % 3, 3 % 7


# 나눗셈 후 몫을 리턴
7 // 4


# 복합 연산자
a = a + 1
a


a +=1 # a = a + 1 과 같음
a


a -= 1
a


a *= 1
a


a //= 1
a





" Hello World "


'Python is fun'


"""Life is TOO short, You need Python"""


'''Life is TOO short, You need Python'''





"Python's favorite food is perl"





'"Python is very easy." he says.'





food = 'Python\'s favorite food is perl' # 역슬래쉬 뒤는 무효로 해.
food


say = "\"Python is very easy.\" he says."
say








a = 'Life is too short You need python'
a


multiline = "Life is too short\nYou need python"
multiline


multiline = "Life is too short\nYou need python" # 잘 안나온다 싶으면 print(문자열) 써라
print(multiline)





'''
Life is too short
You need python
'''


"""
Life is too short
You need python
"""


multiline = '''
Life is too short
You need Python
'''
print(multiline)


multiline = """
Life is too short
You need Python
"""
print(multiline)








head = "Python"
tail = " is fun!"
head + tail





print("=" * 50)
print("My Program")
print("=" * 50)


a = "Life is too short"
len(a) # 어떤 값을 넣어줘.. 함수는 무조건 ()괄호가 있다!!





a = "Life is too short, You need Python"
a[3] #내가 찾고자 하는 인덱스 번호가 나옴


a[17]


a[-1]


a[-6]


a[-0]


a[0]





a[0] + a[1] + a[2] + a[3]


a[start:end+1]


a[0:3+1]


a[0:5]


a[12:19]


a[12: ]


a[ :17] #기준 그 앞의 문자 다 뽑기


a[ : ]


a[19 : -7] #앞에서의 글자 부터 뒤에 까지 보여줘





a = "20240904Sunny"
date = a[:-5]
weather = a[8:]
date, weather


year=a[:4]
day=a[4:8]
year,day





#문자열은 변경할 수 있을까?
a = pithon
a[1]
#문자열을 ‘변경 불가능한(immutable) 자료형’


a = 'Pithon'
b = a[ 1: 2]
b


a[0] + 'y' + a[2:]





"I eat %d apples"%3 #%d 는 변수야. 그리고 %3 을 해주면 그게 들어감


"I eat %s apples"%"fives"


number = 3
"I eat %d apples"%number


number = 10
day = "three"
"I ate %d apples. so I was sick for %s days." % (number, day)





# Error is 98%
"Error is %d%"%98 # %를 두개 넣어야 %문자열을 인식함


"Error is %d%%"%98





"%0.4f"%3.421334234





"I eat {0} apples".format(3)


"I eat {0} apples".format("five")


"I eat {0} apples".format(number) #변수도 가능함





"I ate {0} apples. so I was sick for {1} days.".format(number, day)


"I ate {a} apples. so I was sick for {b} days.".format(a=number, b=day)


"I ate {a} apples. so I was sick for {b} days.".format(b=day, a=number, )


y = 3.4123455
"{0:0.4f}".format(y) #{0:0.4f}을 {:0.4f} 이렇게 해도 나옴


"{{and}}".format()





name = "홍길동"
age = 30
'나의 이름은 {a}입니다. 나이는 {b}입니다.'.format(a=name, b=age)


f'나의 이름은 {name}입니다. 나이는 {age}입니다.'


f'나의 이름은 {name}입니다. 나이는 {age+7}입니다.'


d = {'name':'홍길동', 'age':30}
d


d['name']


f"나의 이름은 {d['name']}입니다. 나이는 {d['age']}입니다."


y
f'{y:0.4f}' #f'{}' {}안을 포맷해줄꺼야


f'{y:10.4f}'





a = 'hobby'
len(a)


# 특정 문자열 개수를 세기
a.count('b') #()괄호 안의 단어를 세어줘!!!


# 위치 알려주기
a = 'Python is the best choice'
a.find('b')


a = 'Python is the best choice'
a.find('a')


# Docstring > 내장되어 있는 함수 설명을 해줌


a.find?


help(a.find)





a = 'Life is too short'
a.index('t'), a.find('t')


# 문자열 삽입 JOIN
'abcd'


# 반드시 문자열로 변환한다.
','.join('abcd')


a = "hi"
a.upper()


a.lower()


# 공백 지우기
a = " hi "
a.rstrip()
# 공백이 생기는 이유는 스키마를 고정해두는 경우


a


a.lstrip()


a.strip()


# 문자열 바꾸기 REPLACE
a = 'Life is too short'
a.replace("Life", "Your leg")


# 문자열 나누기 SPLIT
a.split() # 리스트로 변환해줌


b = "a:b:c:d"
b.split(':') #split할거야. ()안의 기준을 중심으로 SPLIT 해줘.








odd = [1,2,5,7,9]
odd


a = []
b = [1,2,3]
c = ['Life', 'is', 'too', 'short']
d = [1,2, 'life', 'is']
e = [1,2,['life', 'is']]
f = list()
print(a,b,c,d,e,f)


type(a) #list 는 어떤 자료형도 포함 가능함!!!





a = [1, 2, 3]
a


a[0]


a[0]+a[2]


a = [1,2,3, ['a', 'b', 'c']]
a


len(a)


a[-1]


a[-1][1] #한번 더 인덱싱하면됨


a = [1, 2, ['a', 'b', ['Life', 'is']]]
a


a[2][2][0]





a = [1, 2, 3, 4, 5]


a[0:2]


a = [1, 2, 3, ['a', 'b', 'c'], 4, 5]
a


a[2:5]


a[3][0:2]





a = [1, 2, 3]
b = [4, 5, 6]
a + b


type(a[0]) # element wise 요소별 연산, 서로 연산하려면 어떻게 해야 함?? >>> ARRAY


a *3


str(a[2]) + "hi"





a = [1, 2, 3]
a[2] = 4
a


# 삭제는 주의!! 삭제할 땐 반드시 내장함수인 DELETE를 사용해서 삭제해야 함
del a[1]
a


a = [1, 2, 3, 4, 5]
del a[2:]
a





# 리스트에 요소 추가하기 APPEND
a = [1, 2, 3]
a.append(4)
a


a.append([5, 6])
a


# 리스트 정렬하기 
a = [1, 4, 3, 2]
a.sort() # 모든 값이 가능하고 오리진을 수정함. 역행은 불가해서 오름차순이 디폴트다.
a


a = ['a', 'c', 'b']
a.sort()
a


a.sort(reverse=True)
a


# 리스트 뒤집기 REVERSE
a = ['a', 'b', 'c']
a.reverse()
a


# 인덱스 반환 index
a = [1, 2, 3]
a.index(3)


# 리스트 요소 삽입 INSERT
# APPEND는 무조건 맨 뒤에 추가해줌. 보통 데이터는 누적이라서 더 많이 사용함.
# INSERT는 원하는 위치에 넣을 수 있음.


a = [1, 2, 3]
a.insert(0, 4)
a


a.insert(3, 5)
a


# 리스트 요소 제거 remove
a = [1, 2, 3, 1, 2, 3]
a.remove(3)
a


a.remove(3)
a


# 리스트 요소 꺼내기 - pop
# 맨 마지막 요소를 리턴하고 그 요소를 삭제함


a = [1, 2, 3]
a.pop()


a


# 리스트에 포함된 요소 x의 개수 세기  COUNT
a = [1, 2, 3, 1]
a.count(1)


# list확장 EXTEND
a = [1, 2, 3]
a.extend([4, 5])
a


[1, 2, 3] + [4, 5]





# 튜플은 () 를 사용함
# t2 = (1,)처럼 단지 1개의 요소만을 가질 때는 요소 뒤에 쉼표(,)를 반드시 붙여야 한다는 것
# t4 = 1, 2, 3처럼 소괄호(())를 생략해도 된다는 점


t1 = ()
t2 = (1,)
t3 = (1, 2, 3)
t4 = 1, 2, 3
t5 = ('a', 'b', ('ab', 'cd'))
t1, t2, t3, t4, t5


type(t1), type(t2), type(t3), type(t4), type(t5)


t6 = (1)
t6, type(t6)


# 튜플 요솟값을 삭제하려 할 때
t1 = (1, 2, 'a', 'b')
t1





t1[0]


t1[1:]


t2 = (3, 4)
t1 + t2 # 더하기는 됨. 뒤에 붙음


t2 * 3


t2.count(2) # 요소를 갯수를 셈


len(t1)





dic = {'name' : 'eva', 'phone' : '010-3501-7766', 'birth' : '1214'}
dic


a = {'a': [1, 2, 3]}
a





a = {1:'a'}
a


a[2] = 'b' # 딕셔너리 a에 Key와 Value가 각각 2와 'b'인 {2: 'b'} 딕셔너리 쌍이 추가
a


a['name'] = 'eva'
a


a[3] = [1, 2, 3]
a


del a[1]
a





# key를 사용해서 value 얻기
grade = {'eva':10, 'julliet':99}
grade['eva']


grade['julliet']


dic


dic.keys() #dic에 있는 목차만 따로 뽑고 싶으면 KEYS를 통해서 사용가능함


for k in dic.keys():
    print(k)


for k in dic.keys():
    print(dic[k])


type(dic.keys())


list(dic.keys())


# Value 리스트 만들기 - valuesdic.values()



# Key, Value 쌍 얻기 - items
dic.items()


# Key: Value 쌍 모두 지우기 - clear
dic.clear()
dic


# Key로 Value 얻기 - get
a = {'name': 'pey', 'phone': '010-9999-1234', 'birth': '1118'}
a


a['name']


a.get('name')


'defaultkey'


'name'in a


'email' in a





s1 = set([1, 2, 3])
s1, type(s1)


# 중복을 제거할때도 사용함
s2 = set("Hello")
s2


s1[0]


l1 = list(s1)
l1


l1[0]


tuple(s1)


# 교집합 구하기



s1 = set([1,2,3,4,5,6])
s2 = set([4,5,6,7,8,9])


s1 & s2


s1.intersection(s2)


# 합집합 구하기
s1 | s2


s1.union(s2)


# 차집합 구하기
s1 - s2


s1.difference(s2)


s2 -s1


s2.difference(s1)


# 값 1개 추가하기 ADD
# 자동으로 정렬해줌(값이면)
s1.add(0)
s1


# 값 여러 개 추가하기 - update
s1.update([7,8,9])
s1


# 특정 값 제거하기 - remove
s1.remove(0)
s1





True, type(True)


a = True
b = False
type(a), type(b)


1 == 1 # ==이 두개면 비교다.


2 > 1 # 내가 어떤 특정 조건을 주고 컴퓨터가 맞는지 틀린지 비교해서 알려줌.


2< 1


# 문자열에 값이 존재하면 True, 없으면 False
# 리스트 안에 요소가 있으면 T, 없으면 F
# 1 = True / 0 = False


a = [1, 2, 3, 4]
while a : #while은 반복문 뒤에 조건문을 써줘야함. 이 조건문을 실행하는 동안 반복해줘.
    print(a.pop())


a = [1, 2, 3, 4]
while a :
    print(a)
    print(a, a.pop())


#if 조건문:
 #   print('참')
#else : 
 #   print('거짓')


if [1, 2, 3]:
    print('참')
else : 
    print('거짓')


# 불의 논리연산
bool('python')


bool("")



























