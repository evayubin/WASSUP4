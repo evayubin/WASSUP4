


money = True
if money:
    print("택시를 타고 가라")
else:
    print("걸어 가라")


# 코드 블럭 들여쓰기 에러
money = True
if money:
    print("택시를")
print("타고")
    print("가라")


# 코드 블럭 들여쓰기 에러
money = True
if money:
    print("택시를")
    print("타고")
        print("가라")





x = 3
y = 2
x > y


x < y


x !=y


# Quiz, 만약 3000원 이상의 돈을 가지고 있으면 택시를 타고 가고, 그렇지 않으면 걸어가라.


money = 3000
if money >= 3000:
    print("택시 타고 가라")
else:
    print("걸어 가라")


# Quiz,돈이 3000원 이상 있거나 카드가 있다면 택시를 타고 가고, 그렇지 않으면 걸어가라.

# 조건문에서 논리(참 또는 거짓)만 따질 거면 그냥 조건문에 넣어줘도 괜츈


money = 0
card = True
if money >= 3000 or card:
    print("Taxi")
else:
    print("Walk")


# in, not in
1 in [1, 2, 3]


"a" not in [ "a", "b" ]


# 만약 주머니에 돈이 있으면 택시를 타고 가고, 없으면 걸어가라.


pocket = ["money","card", "airpod", "key"]
if "money" in pocket:
    print("Taxi")
else:
    print("Walk")





pocket = ["money","card", "airpod", "key"]
if "money" in pocket:
    pass
else:
    print("Walk")





pocket = ["airpod", "key"]
if "money" or "card" in pocket:
    print("Taxi")
else:
    print("Walk")












