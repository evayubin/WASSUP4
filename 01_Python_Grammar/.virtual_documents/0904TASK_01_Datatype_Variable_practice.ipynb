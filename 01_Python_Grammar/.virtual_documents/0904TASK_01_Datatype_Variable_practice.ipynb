


홍길동 = {'korean': 80, 'english': 75, 'mathematics': 89}
평균점수 = sum(홍길동.values()) / len(홍길동)
평균점수





a = 13//3 #3으로 나눴을 때 나머지의 몫이 짝수가 되면 홀수다.
a





pin = '881120-1068234'
yyyymmdd = 881120
num = 1068234
print(yyyymmdd)
print(num)





pin = "881120-1068234"
pin[7]





a = "a:b:c:d"
b = a.replace(":","#")
b





a = [1, 3, 5, 4, 2]
a.sort()
a.reverse()
a





a = ['Life', 'is', 'too', 'short']
result = 





a = (1, 2, 3)
a + "4"





a[('a',)] = 'python'
a





a = {'A': 90, 'B':80, 'C':70}
result = a.values()
print(result["B"])





a = [1, 1, 1, 2, 2, 3, 3, 3, 4, 4, 5]
a.remove(1)
a





a = b = [1, 2, 3] #WHY???
a[1] =4
b



