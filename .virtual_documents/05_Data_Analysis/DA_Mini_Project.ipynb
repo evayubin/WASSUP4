





import pandas as pd


data = pd.read_csv("C:/workspace/python/WASSUP4/05_Data_Analysis/data/mini.csv")


data.head()


data.tail()


data.info()


data.describe(include='all')





# 결측치 확인하기
data.isnull().sum()





#구독기간 14개월 이상인 데이터 정리
vipuser_data = data[data['subscription_duration'] >= 14 ]





# 구독연장여부
sub_counts = vipuser_data['target'].value_counts(normalize=True)

#구독률 60% 이상 및 이하
high_subscription = vipuser_data[vipuser_data['target'] ==1 ]
low_subscription = vipuser_data[vipuser_data['target'] ==0 ]

print(f'구독율: {sub_counts}')
print(f'구독율 60% 이상: {len(high_subscription)}, 이하: {len(low_subscription)}')


import matplotlib.pyplot as plt
import seaborn as sns
import numpy as np
import koreanize_matplotlib


# 바그래프 그리기 
# 구독 유지여부에 따른 사용자 수(60%이상, 60%이하)비교

#plt.figure(width, height) 
plt.figure(figsize=(8,6))

#각각 어떤 값이 들어가야 하는지 입력해 볼까요?
#plt.bar(X축값, Y축값)
plt.bar(sub_counts.index , sub_counts.values)
# plt.bar(access_media.index, access_media.values, color = ['gold', 'b', '#FF0000', 'green','orange','red','#000000'], alpha = 0.3)

#그래프의 제목
plt.title('구독유지에 따른 각 사용자 수(60% 이상 vs 이하)')

#그래프의 x축 라벨 이름
plt.xlabel('구독 유지 여부(1:yes, 2:no)')

#그래프의 y축 라벨 이름
plt.ylabel('수강생 수')

#x축 눈금의 글씨의 각도 변경을 위해 plt.xticks(rotation="원하는 각도")를 이용해요!
#x축 눈금의 글씨를 45도 회전
# plt.xticks(rotation=45)

#그래프를 화면에 나타나도록 합니다.
plt.show()


# 구독기간이 14개월이상인데 최근 3개월 결제이력이 없는 유저?
# vipuser_payment_7_3


#구독유지자중에서 구독을 유지할 가능성이 높은 사람을 결제패턴기준으로 정함. 3개월 결제이력있거나(7), 직전 2개월 결제(3)


vipuser_payment_7_3 = vipuser_data[vipuser_data['payment_pattern'].isin([7,3])]
print(vipuser_payment_7_3)


# 구독 기간을 구간으로 나누기 (0-6개월, 6-12개월, 12-24개월 등)
data['subscription_group'] = pd.cut(data['subscription_duration'], 
                                    bins=[0, 6, 12, 24, 36], 
                                    labels=['0-6 months', '6-12 months', '12-24 months', '24-36 months'])

# 결과 확인
print(data[['subscription_duration', 'subscription_group']].head())


subscription_group_counts = data['subscription_group'].value_counts()
subscription_group_counts.plot(kind='pie', autopct='%1.1f%%', figsize=(8, 8), colormap='Pastel1')
plt.title('구독 기간 그룹별 사용자 비율')
plt.ylabel('')  # y축 라벨 제거
plt.show()


# 결제 패턴별 사용자 수 계산
payment_pattern_counts = vipuser_data['payment_pattern'].value_counts()
print(payment_pattern_counts)


# 바그래프 그리기 

#plt.figure(width, height) 
plt.figure(figsize=(8,6))

#각각 어떤 값이 들어가야 하는지 입력해 볼까요?
#plt.bar(X축값, Y축값)
plt.bar(payment_pattern_counts.index , payment_pattern_counts.values)
# plt.bar(access_media.index, access_media.values, color = ['gold', 'b', '#FF0000', 'green','orange','red','#000000'], alpha = 0.3)

#그래프의 제목
plt.title('결제패턴에 따른 사용자 수')

#그래프의 x축 라벨 이름
plt.xlabel('구독유지자 7 or 3')

#그래프의 y축 라벨 이름
plt.ylabel('수강생 수')

#x축 눈금의 글씨의 각도 변경을 위해 plt.xticks(rotation="원하는 각도")를 이용해요!
#x축 눈금의 글씨를 45도 회전
# plt.xticks(rotation=45)

#그래프를 화면에 나타나도록 합니다.
plt.show()


# 고수준자기주도학습자정의
proactive_learners = data[
    (data['subscription_duration'] >= 14) &
    (data['monthly_active_learning_days'] >= 18) &
    (data['payment_pattern'].isin([7,3]))
]


# 고수준자기주도학습자 수 출력
proactive_learners_count = proactive_learners.shape[0]
total_users = vipuser_payment_7_3.shape[0]
proactive_learners_percentage = proactive_learners_count/total_users *100
print("고수준자기주도학습자 수:", proactive_learners_count)
print("고수준자기주도학습자 비율:", proactive_learners_percentage)


# 완료한 코스 수, 커뮤니티 참여도
mean_completed_courses_proactivelearners = proactive_learners['total_completed_courses'].mean()
mean_engagement_proactivelearners = proactive_learners['community_engagement_level'].mean()


print("고수준자기주도학습자의 평균 완료 코스 수:", mean_completed_courses_proactivelearners)
print("고수준자기주도학습자의 평균 커뮤니티 참여도:", mean_engagement_proactivelearners)


## 커뮤니티 참여도는 평균이하이고 코스 수는 전체 평균 수준이다. 전체 평균을 봐야할까?
## 아니다. 나의 데이터 기준은 구독 기간이 14개월 이상인 사람과 결제이력7,3인 유저이다. 그럼?


mean_completed_courses_vipusers = vipuser_payment_7_3['total_completed_courses'].mean()
mean_engagement_vipusers = vipuser_payment_7_3['community_engagement_level'].mean()


print("구독유지자들의 평균 완료 코스 수:", mean_completed_courses_vipusers)
print("구독유지자들의 평균 커뮤니티 참여도:", mean_engagement_vipusers)


mean_recent_learning_achievment_pro = proactive_learners['recent_learning_achievement'].mean()
print("고수준자기주도학습자들의 평균 학습성취도:", mean_recent_learning_achievment_pro)


mean_recent_learning_achievment_vipuser = vipuser_payment_7_3['recent_learning_achievement'].mean()
print("구독유지자들의 평균 학습성취도:", mean_recent_learning_achievment_vipuser)


len(vipuser_payment_7_3)


len(proactive_learners)


mean_learning_time_pro =proactive_learners['average_time_per_learning_session'].mean()
mean_learning_time_vipusers = vipuser_payment_7_3['average_time_per_learning_session'].mean()
print("고수준자기주도학습자들의 평균 학습 세션 시간:", mean_learning_time_pro)
print("구독유지자들의 평균 학습 세션 시간:", mean_learning_time_vipusers)


import pandas as pd


# 중수준 자기주도 학습자 정의
medium_learners = data.query(
    'subscription_duration >= 10 and subscription_duration < 14 and monthly_active_learning_days >= 12 and payment_pattern in [7, 3, 6]'
).loc[
    ~data['user_id'].isin(proactive_learners['user_id'])  # 고수준자 제외
]


# 저수준 자기주도 학습자 정의
low_learners = data.query(
    'subscription_duration < 10 and monthly_active_learning_days < 12 and payment_pattern in [2, 1, 0]'
).loc[
    ~data['user_id'].isin(proactive_learners['user_id']) &  # 고수준자 제외
    ~data['user_id'].isin(medium_learners['user_id'])  # 중수준자 제외
]


# 각 그룹의 평균 학습 세션 시간과 성취도 계산
def compute_average_metrics(group):
    avg_session_time = group['average_time_per_learning_session'].mean()
    avg_achievement = group['recent_learning_achievement'].mean()
    return avg_session_time, avg_achievement


# 결과 저장
results = {
    "고수준 자기주도 학습자": compute_average_metrics(proactive_learners),
    "중수준 자기주도 학습자": compute_average_metrics(medium_learners),
    "저수준 자기주도 학습자": compute_average_metrics(low_learners),
    "구독 유지자": compute_average_metrics(vipuser_data),
}

# 결과 출력
for category, metrics in results.items():
    print(f"{category} 평균 학습 세션 시간: {metrics[0]}, 평균 학습 성취도: {metrics[1]}")


# 그룹별 학습 세션 시간 
# 그룹 생성
data['viplearners_level'] = pd.cut(data['monthly_active_learning_days'], 
                                      bins=[1, 7, 18, 30], 
                                      labels=['Low', 'Medium', 'High'])

# 박스 플롯 시각화
plt.figure(figsize=(10, 6))
sns.boxplot(x='viplearners_level', y='average_time_per_learning_session', data=data)
plt.title('그룹별 학습 세션 시간')
plt.xlabel('구독유지자 중 자기주도학습수준')
plt.ylabel('학습 세션 시간 (분)')
plt.show()





# 각 그룹의 평균 학습 세션 시간과 평균 학습 성취도를 저장할 데이터프레임 생성
results_df = pd.DataFrame.from_dict(results, orient='index', columns=['average_session_time', 'average_achievement'])
results_df.reset_index(inplace=True)
results_df.rename(columns={'index': 'learner_category'}, inplace=True)

# 피봇 테이블 생성
pivot_table = results_df.pivot_table(
    index='learner_category', 
    values=['average_session_time', 'average_achievement'], 
    aggfunc='mean'
)

# 결과 출력
print(pivot_table)


plt.figure(figsize=(10,6))

sns.pointplot(data=results_df, x='learner_category', y='average_session_time', marker='o', color='blue', label='Session Time')
sns.pointplot(data=results_df, x='learner_category', y='average_achievement', marker='s', color='orange', label='Achievement')

plt.title('사용자별 평균학습시간과 성취도')
plt.ylabel('Value')
plt.xlabel('Learner Category')
plt.legend()
plt.show() 





# 구독 기간에 따라 그룹화하고 평균 학습 세션 시간 계산
avg_time_per_session_by_subscription_low = low_learners.groupby('subscription_duration')['average_time_per_learning_session'].mean()

# 결과 출력
print("구독 기간에 따른 저수준 학습자의 평균 학습 세션 시간:")
print(avg_time_per_session_by_subscription_low)


vipuser_payment_7_3


# 구독유지자의 구독 기간에 따른 평균 학습 세션 시간
# 구독 기간에 따라 그룹화하고 평균 학습 세션 시간 계산
avg_time_per_session_by_subscription_vipusers = vipuser_payment_7_3.groupby('subscription_duration')['average_time_per_learning_session'].mean()

# 결과 출력
print("구독 기간에 따른 수준별 학습자의 평균 학습 세션 시간:")
print(avg_time_per_session_by_subscription_vipusers)


# 선 그래프
avg_time_per_session_by_subscription_vipusers.plot(kind='line', marker='o', color='orange')
plt.title('구독기간별 자기주도 학습자 평균 학습 세션 시간')
plt.xlabel('구독 기간 (개월)')
plt.ylabel('평균 학습 세션 시간 (분)')
plt.grid()
plt.show()


# 15개월차와 24개월차가 가장 낮다.
# 18개월차가 가장 높다. 그 이유는? 
# 구독이 쭉 이어져 왔는지는 모르겠지만 최근 3개월과 직전 2개월은 꾸준히 구독을 유지함.


plt.figure(figsize=(10, 6))
sns.scatterplot(x='average_time_per_learning_session', y='recent_learning_achievement', hue='target', data=vipuser_data)
plt.title('월별학습시간 vs 학습성취도')
plt.xlabel('평균 학습 시간 (minutes)')
plt.ylabel('학습 성취도')
plt.legend(title='Subscription Status', labels=['Cancel', 'Renew'])
plt.show()

































