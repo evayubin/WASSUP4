


pip install selenium


from selenium import webdriver
from selenium.webdriver.common.by import By
from selenium.webdriver.chrome.options import Options
import time

options = Options()
options


#특정함수안에서  드라이버 생성시 함수종료될 때 브라우저 같이 종료되는 문제 대응
options.add_experimental_option("detach", True)





url = 'https://naver.com'
driver = webdriver.Chrome(options=options)


driver.get(url)
time.sleep(2) 





driver.back()


driver.forward()


driver.refresh()





driver.find_element?


driver.find_element(By.ID, 'query')


# key 입력
driver.find_element(By.ID, 'query').send_keys('뉴진스')


driver.find_element(By.CLASS_NAME, 'search_input').send_keys('블랙핑크')


driver.find_element(By.NAME, 'query').send_keys('르세라핌')


driver.find_element(By.CSS_SELECTOR, '#query').send_keys('에스파')


driver.find_element(By.CSS_SELECTOR, '.search_input').send_keys('세븐틴')


driver.find_element(By.CSS_SELECTOR, "[title='검색어를 입력해 주세요.']").send_keys('트와이스')


# 최후의 보루 XPATH(경로다!)
# Full XPATH /html/body/div[2]/div[1]/div/div[3]/div/div/form/fieldset/div/input
driver.find_element(By.XPATH, '//*[@id="query"]').send_keys('BTS')


driver.find_element(By.LINK_TEXT, '쇼핑')


# 일부 매핑
driver.find_element(By.PARTIAL_LINK_TEXT, '쇼핑').click()


# 태그로 찾기 
# 태그는 요소가 너무 많으므로 정확하게 대상을 찾을 때에는 권장 안함
driver.find_element(By.TAG_NAME, 'div')


# 여러개의 요소를 찾을 때
driver.find_elements(By.CSS_SELECTOR, '.link_service')


#url 다 뽑기
driver.find_elements(By.LINK_TEXT, 'link_service')


# driver.find_elements(By.CSS_SELECTOR, '.link_service')[0].get_attribute('href')
# 'https://mail.naver.com/'
# links = driver.find_elements(By.CSS_SELECTOR, '.link_service')
# for link in links:
#     print(link.get_attribute('href'))


driver.find_elements(By.CSS_SELECTOR, '.link_service')[0].get_attribute('href')
'https://mail.naver.com/'


links = driver.find_elements(By.CSS_SELECTOR, '.link_service')
for link in links:
    print(link.get_attribute('href'))





# 테스트용 html
url = 'file:///C:/Users/USER/Desktop/WASSUP4/02_Data_Collection/sample/signin.html'
driver = webdriver.Chrome(options = options)
driver.get(url)
time.sleep(2)


username = driver.find_element(By.NAME, 'username')
username.send_keys('korea')


username = driver.find_element(By.NAME, 'password')
username.send_keys('1234')


login = driver.find_element(By.XPATH, '//*[@id="loginForm"]/input[3]')
login.click()


driver.back()


login = driver.find_elements(By.CSS_SELECTOR, '[value=Login]')
login.click()


username.clear()


username = driver.find_element(By.NAME, 'username')
username.send_keys('korea')
password = driver.find_element(By.NAME, 'password')
password.send_keys('1234')


username.submit()


driver.back()


driver.find_element(By.TAG_NAME, 'P').text


# html 소스 추출
driver.page_source


driver.close()








url = 'http://naver.com'
driver = webdriver.Chrome(options=options)
driver.get(url)
time.sleep(2)


print(driver.title)


driver.close()





from selenium import webdriver
from selenium.webdriver.common.by import By
from selenium.webdriver.chrome.options import Options
import time

options = Options()
# options.add_argument("--start-maximized")
# options.add_argument("--headless=new") 
options.add_experimental_option("detach", True) #

url = 'http://naver.com'
driver = webdriver.Chrome(options=options)
driver.get(url)
time.sleep(2)


#창의 너비/높이 구하기
size = driver.get_window_size()
width = size.get('width')
height = size.get('height')
print(width, height)


#창크기 조절
driver.set_window_size(800,600)


#스크린 상에서의 창좌표 (원하는 위치에 옮기기)
position = driver.get_window_position()
x = position.get('x')
y = position.get('y')
print(x,y)


driver.set_window_position(0,0)


# 창크기 최대화
driver.maximize_window()


#minimize
driver.minimize_window()


#fullscreen
driver.fullscreen_window()


#screenshot
driver.save_screenshot('./image.png')


driver.quit()

































