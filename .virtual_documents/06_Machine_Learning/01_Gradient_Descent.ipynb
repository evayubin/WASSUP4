


import warnings
warnings.filterwarnings('ignore')





import numpy as np





def Machine(x, w, b):
    y_hat = (w * x) + b
    return y_hat





x = np.array([1, 3, 5, 7, 9])
w = 2
b = 1





Machine(x, w, b)





def Gradient(x, y, w, b):
    y_hat = Machine(x, w, b)

    dw = np.mean((y - y_hat) * (-2 * x)) # 편미분
    db = np.mean((y - y_hat) * (-2)) # 편미분

    return dw, db





y = np.array([2, 4, 6, 8, 10])

dw, db = Gradient(x, y, w, b)


print('dw is ', dw) # 기울기 변화량
print('db is ', db) # 절편 변화량





def Learning(x, y, w, b, step):
    dw, db = Gradient(x, y, w, b)
    
    uw = w - step * dw
    ub = b - step * db
    
    return uw, ub





step = 0.05

uw, ub = Learning(x, y, w, b, step)


print('Updated_w is ', '%.3f' % uw)
print('Updated_b is ', '%.3f' % ub)








import pandas as pd
import matplotlib.pyplot as plt





url = 'https://raw.githubusercontent.com/rusita-ai/pyData/master/testData.csv'

DATA = pd.read_csv(url)





DATA.info()


DATA.head()





plt.scatter(DATA.inputs, DATA.outputs, s = 0.5)
plt.show()





w = 2
b = 3
step = 0.05 


for i in range(0, 1500):
    uw, ub = Learning(DATA.inputs, DATA.outputs, w, b, step)
    w = uw
    b = ub


print('Learned_w is ', '%.3f' % w)
print('Learned_b is ', '%.3f' % b)





X = np.linspace(0, 1, 100)
Y = (w * X) + b

plt.scatter(DATA.inputs, DATA.outputs, s = 0.3)
plt.plot(X, Y, '-r', linewidth = 1.5)
plt.show()








def Gradient(x, y, w, b):
    y_hat = Machine(x, w, b)
    
    dw = np.mean((y - y_hat) * (-2 * x))
    db = np.mean((y - y_hat) * (-2))
    MSE = np.mean((y - y_hat)**2)

    return dw, db, MSE





def Learning(x, y, w, b, step):
    dw, db, MSE = Gradient(x, y, w, b)
    
    uw = w - step * dw
    ub = b - step * db

    return uw, ub, MSE





w = 2
b = 3
step = 0.001
mse = []


for i in range(0, 1500):
    uw, ub, MSE = Learning(DATA.inputs, DATA.outputs, w, b, step)

    w = uw
    b = ub
    mse.append(MSE)





mse[0:10]


plt.plot(mse)
plt.show()


plt.plot(mse[0:50], '.')
plt.show()


plt.plot(mse[1450:1500], '.')
plt.show()



