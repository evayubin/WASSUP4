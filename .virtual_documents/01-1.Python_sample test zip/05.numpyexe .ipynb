


import numpy as np
a = np.arange(15) #1차원 데이터
print(a)
a = a.reshape(3, 5)  #2차원 데이터
print(a)


b = [-1, 2, 5, 0, -3 ]
b = np.array(b)
#array를 하는 이유는 리스트 연산 불가라, 연산이 가능한 숫자로 변형하기 위함.

t = ( 0,3,4,5,6,)
t = np.array(t)

s = {2,4,5,6,7}
s = np.array(s)
# 딕셔너리 호환은 안됨.
# set은 가능


print(b.shape)
print(b.ndim)
print(b.dtype)
print(np.abs(b)) #절대값
# print(np.sqrt(b)) #제곱근을 구하는 함수
print(np.sqrt(np.abs(b)))
print(np.square(b)) # 제곱
print(np.isnan(b)) # nan여부를 묻는 함수 true or false(데이터가 없는 지 있는지 확인함)
print(np.mean(b)) #평균
print(np.max(b)) #최대값
print(np.min(b)) #최소값
print(np.argmax(b)) #최대값 인덱스
print(np.argmin(b)) #최소값 인덱스
print(np.sort(b)) #정렬 오름차순
print(np.sort(b)[::1]) #정렬 내림차순
print(np.median(b)) #중앙값


c = [ [ 1, 2, 3, ], [4, 5, 6] ] #2차원이라 대괄호 2개
print(c, type(c))
c = np.array(c)
print(type(c))
print(c)

print(np.sum(c))
print(np.sum(c, axis=0))  #행끼리
print(np.sum(c, axis=1))

print(np.mean(c))
print(np.mean(c, axis=0))

print(np.median(c))
print(np.median(c, axis=0))
print(np.median(c, axis=1))

print(np.max(c)    )  
print(np.max(c, axis=0))

#표준편차 구할 때 
print(np.std(c))
#분산 구할 때
print(np.var(c))


# element wise
d = [10, 20, 30, 40, 50]
# print(d+2) list는 연산안됨. 그래서 np하는거임
d = np.array(d)
print(d+2)

e = np.array( [1, 2, 3, 4, 5] ) 
print(d+e)
print(d**2) #제곱 연산자
print(e**2)
print( d* np.sin(d)) #요소별로 계산도 가능함
print( d > 35 ) #비교 연산자는 논리값(숫자값이 아닌)이 나옴. 

print(np.add(d,e))
print(np.subtract(d,e))
print(np.multiply(d,e))
print(np.divide(d,e))


f = np.array( [ [0, 1] , [1, 1] ] )
g = np.array( [ [2, 0] , [3, 4] ] )

#행렬곱을 연산한다???
print(f * g) #그냥 곱셈
print( f @ g ) #행렬곱을 구하는 것

print(np.dot(f,g)) # 행렬곱 함수
print(f.dot(g))


h = np.zeros(10)
print(h)
i = np.zeros((5, 5))
print(i)
j = np.ones(10)
print(j)

# np.random.random   0~1 사이의 난수 발생
# np.random.randint  균일 분포의 정수 난수 발생
# np.random.rand     0~1 사이의 균일 분포 난수 matrix array 생성
# np.random.randn    가우시안 표준 정규 분포 난수 matrix array 생성
# np.random.normal   평균, 표준편차, sample 개수

k = np.random.random(10)
print(type(k))

# 반복문(for) 만들어서 10개짜리 데이터 만들기
k = np.random.random(10) * 100
# list만드는 문법: k(10개짜리 데이터)를 
# i에 하나씩 넣어서 그냥 i값을 바로쓸고야~~
k = [ int(i) for i in k ] 
print(type(k))
print(k)

k = np.array( [int(i) for i in k ] )
print(type(k))
print(k)

print(np.random.randint(10, 20))
print(np.random.rand(5,2))


#슬라이싱
m = [ i for i in range(10, 20) ]

# [start : end -1 : space,간격 ]
print( m[0:5] )
print( m[0:5:2] )
print( m[:] )
print(m[5:])
print(m[:-1])
print(m[::-1])

# ndarray
w = np.arange(10, 20)
print( w[0:5])
print( w[0:5:2])
print(w[:-2])



# list 값
r = [ [1, 2, 3, 4, 5], [6, 7, 8, 9, 10], [11, 12, 13, 14, 15] ]
print( r[2][2] )  #인덱스가 2번인 행에서 인덱스가 2번인 값
print(r[:][:])
print(r[2][:])
print(r[1][:2])

# 앞에도 2까지 뒤에서도 2까지
print(r[:2][:2]) #앞과 뒤가 열이라는 보장이 없음.

# print(r[:, :]) #error 리스트는 에러남.

s = np.arange(1, 16).reshape(3, 5) #1~16까지의 숫자를 3행 5열로 나타내라
print(s)
print(s[2][2])
print(s[:][:])
print(s[2][:])
print(s[1][:2])
print(s[:2][:1])     #[[2차원도 똑같다]]

print( s[:2, :2 ])
print( s[:, :])
print( s[:-1, :-1]) #[[1 2 3 4][6 7 8 9]]
print(s[2,2])
print(s[::-1, ::-1] )

print(s[[0, 2]])


# 전치 행렬

print(s)  #3행 5열
print(s.T) #5행 3열


#결합 / 분리
a = [1, 2, 3]
b = [4, 5, 6]
for ab in zip(a, b):
    print(ab)
print(list(zip(a,b)))
print(a+b)    #list합칠 때 그대로 연산자 사용가능함_그냥 붙임, 계산은 안됨.
# print(a + 1) #연산은 안됨
print(a*2)


c = np.random.rand(2,2) * 100
print (c)


# 합치기
c = np.floor(np.random.rand(2,2) * 100)
print(c)
d = np.floor(np.random. rand(2,2) *100)
print(d)
print(np.hstack((c,d)))
print(np.vstack((c,d)))
print(c + 2)


# 분할, 나누기
e = np.floor( np.random.rand(2, 15)* 100)
print(e)

print( np.hsplit( e, 3 ))               # 3개로 잘라라.
for arr in np.hsplit( e, 3):
    print("hsplit", arr)
for arr in np.hsplit( e, ( 3, 7 )):     # [0:3]까지, [3:7] 까지, [7:0]까지 튜플로 자를 위치를 입력함.
    print("hsplit2", arr)


f = np.array( [ 1, 2, 3, 4, 5] )
g = np.array( [ 'A', 'B', 'C', 'D', 'E'] )
h = np.array( [ True, True, False, False, True ] )
# 삼항연산           조건? 참 : 거짓
                     # 참if 조건 else 거짓
for x, y, z in zip(f, g, h):
    print(x, y, z)

print( [x if z else y for x, y, z in zip(f, g, h) ] )

#간결한 함수 where
print(np.where(h,f,g)) # 맨 앞(h)이 조건이고 나머지가 값임.( 조건, 참일때, 거짓일때)
print( np.where( f < 3, 'small', 'big'))
print( np.where( h, 'true', 'false'))


help(np.where)


# 파일 생성하기
i = np.arange( 10 ) # 0~9
np.save( 'i.npy', i )
# 파일 빼내기
ii = np.load( 'i.npy' )
print(type(ii))

j = np.arange(10)
k = np.arange(20)
np.savez( 'jk.npz', x=j, y=k )
jk = np.load( 'jk.npz' )
print( type( jk ))
print( jk['x'] )
print( jk['y'] )










































