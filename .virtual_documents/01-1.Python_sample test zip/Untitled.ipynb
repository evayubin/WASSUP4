


import numpy as np
a = np.arange(15) #1차원 데이터
print(a)
a = a.reshape(3, 5)  #2차원 데이터
print(a)


b = [-1, 2, 5, 0, -3 ]
b = np.array(b)
#array를 하는 이유는 리스트 연산 불가라, 연산이 가능한 숫자로 변형하기 위함.

t = ( 0,3,4,5,6,)
t = np.array(t)

s = {2,4,5,6,7}
s = np.array(s)
# 딕셔너리 호환은 안됨.
# set은 가능


print(b.shape)
print(b.ndim)
print(b.dtype)
print(np.abs(b)) #절대값
# print(np.sqrt(b)) #제곱근을 구하는 함수
print(np.sqrt(np.abs(b)))
print(np.square(b)) # 제곱
print(np.isnan(b)) # nan여부를 묻는 함수 true or false(데이터가 없는 지 있는지 확인함)












