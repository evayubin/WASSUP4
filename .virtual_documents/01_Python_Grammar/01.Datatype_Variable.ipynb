





a = 1
print(a)


b = 'python'
b


c = [1, 2, 3]
c





# 정수형
a = 123
a


a = -178
a


a = 0
a


# 실수형
a = 1.2
b = -3.45
a,b


a = 4.24E10
a


a = 4.24e-10
a


# 8진수와 16진수
a = 0o177
print(a)


>>> a = 0x8ff
>>> b = 0xABC
>>> print(b)





# 사칙연산
a =3
b = 4
a + b


a-b, a*b, a/b


# x의 Y제곱을 나타내는 ** 연산자
a ** b


# 나눗셈 후 나머지를 리턴
7 % 3, 3 % 7


# 나눗셈 후 몫을 리턴
7 // 4


# 복합 연산자
a = a + 1
a


a +=1 # a = a + 1 과 같음
a


a -= 1
a


a *= 1
a


a //= 1
a





" Hello World "


'Python is fun'


"""Life is TOO short, You need Python"""


'''Life is TOO short, You need Python'''





"Python's favorite food is perl"





'"Python is very easy." he says.'





food = 'Python\'s favorite food is perl' # 역슬래쉬 뒤는 무효로 해.
food


say = "\"Python is very easy.\" he says."
say








a = 'Life is too short You need python'
a


multiline = "Life is too short\nYou need python"
multiline


multiline = "Life is too short\nYou need python" # 잘 안나온다 싶으면 print(문자열) 써라
print(multiline)





'''
Life is too short
You need python
'''


"""
Life is too short
You need python
"""


multiline = '''
Life is too short
You need Python
'''
print(multiline)


multiline = """
Life is too short
You need Python
"""
print(multiline)








head = "Python"
tail = " is fun!"
head + tail





print("=" * 50)
print("My Program")
print("=" * 50)


a = "Life is too short"
len(a) # 어떤 값을 넣어줘.. 함수는 무조건 ()괄호가 있다!!





a = "Life is too short, You need Python"
a[3] #내가 찾고자 하는 인덱스 번호가 나옴


a[17]


a[-1]


a[-6]


a[-0]


a[0]





a[0] + a[1] + a[2] + a[3]


a[start:end+1]


a[0:3+1]


a[0:5]


a[12:19]


a[12: ]


a[ :17] #기준 그 앞의 문자 다 뽑기


a[ : ]


a[19 : -7] #앞에서의 글자 부터 뒤에 까지 보여줘





a = "20240904Sunny"
date = a[:-5]
weather = a[8:]
date, weather


year=a[:4]
day=a[4:8]
year,day





#문자열은 변경할 수 있을까?
a = pithon
a[1]
#문자열을 ‘변경 불가능한(immutable) 자료형’


a = 'Pithon'
b = a[ 1: 2]
b


a[0] + 'y' + a[2:]





"I eat %d apples"%3 #%d 는 변수야. 그리고 %3 을 해주면 그게 들어감


"I eat %s apples"%"fives"


number = 3
"I eat %d apples"%number


number = 10
day = "three"
"I ate %d apples. so I was sick for %s days." % (number, day)





# Error is 98%
"Error is %d%"%98 # %를 두개 넣어야 %문자열을 인식함


"Error is %d%%"%98





"%0.4f"%3.421334234





"I eat {0} apples".format(3)


"I eat {0} apples".format("five")


"I eat {0} apples".format(number) #변수도 가능함





"I ate {0} apples. so I was sick for {1} days.".format(number, day)


"I ate {a} apples. so I was sick for {b} days.".format(a=number, b=day)


"I ate {a} apples. so I was sick for {b} days.".format(b=day, a=number, )


y = 3.4123455
"{0:0.4f}".format(y) #{0:0.4f}을 {:0.4f} 이렇게 해도 나옴


"{{and}}".format()





name = "홍길동"
age = 30
'나의 이름은 {a}입니다. 나이는 {b}입니다.'.format(a=name, b=age)


f'나의 이름은 {name}입니다. 나이는 {age}입니다.'


f'나의 이름은 {name}입니다. 나이는 {age+7}입니다.'


d = {'name':'홍길동', 'age':30}
d


d['name']


f"나의 이름은 {d['name']}입니다. 나이는 {d['age']}입니다."


y
f'{y:0.4f}' #f'{}' {}안을 포맷해줄꺼야


f'{y:10.4f}'





a = 'hobby'
len(a)


# 특정 문자열 개수를 세기
a.count('b') #()괄호 안의 단어를 세어줘!!!


# 위치 알려주기
a = 'Python is the best choice'
a.find('b')


a = 'Python is the best choice'
a.find('a')


# Docstring > 내장되어 있는 함수 설명을 해줌


a.find?


help(a.find)





a = 'Life is too short'
a.index('t'), a.find('t')


# 문자열 삽입 JOIN
'abcd'


# 반드시 문자열로 변환한다.
','.join('abcd')


a = "hi"
a.upper()


a.lower()


# 공백 지우기
a = " hi "
a.rstrip()
# 공백이 생기는 이유는 스키마를 고정해두는 경우


a


a.lstrip()


a.strip()


# 문자열 바꾸기 REPLACE
a = 'Life is too short'
a.replace("Life", "Your leg")


# 문자열 나누기 SPLIT
a.split() # 리스트로 변환해줌


b = "a:b:c:d"
b.split(':') #split할거야. ()안의 기준을 중심으로 SPLIT 해줘.








odd = [1,2,5,7,9]
odd


a = []
b = [1,2,3]
c = ['Life', 'is', 'too', 'short']
d = [1,2, 'life', 'is']
e = [1,2,['life', 'is']]
f = list()
print(a,b,c,d,e,f)


type(a) #list 는 어떤 자료형도 포함 가능함!!!





a = [1, 2, 3]
a


a[0]


a[0]+a[2]


a = [1,2,3, ['a', 'b', 'c']]
a


len(a)


a[-1]


a[-1][1] #한번 더 인덱싱하면됨


a = [1, 2, ['a', 'b', ['Life', 'is']]]
a


a[2][2][0]





a = [1, 2, 3, 4, 5]


a[0:2]


a = [1, 2, 3, ['a', 'b', 'c'], 4, 5]
a


a[2:5]


a[3][0:2]





a = [1, 2, 3]
b = [4, 5, 6]
a + b


type(a[0]) # element wise 요소별 연산, 서로 연산하려면 어떻게 해야 함?? >>> ARRAY


a *3


str(a[2]) + "hi"





a = [1, 2, 3]
a[2] = 4
a


# 삭제는 주의!! 삭제할 땐 반드시 내장함수인 DELETE를 사용해서 삭제해야 함
del a[1]
a


a = [1, 2, 3, 4, 5]
del a[2:]
a





# 리스트에 요소 추가하기 APPEND
a = [1, 2, 3]
a.append(4)
a


a.append([5, 6])
a


# 리스트 정렬하기 
a = [1, 4, 3, 2]
a.sort() # 모든 값이 가능하고 오리진을 수정함. 역행은 불가해서 오름차순이 디폴트다.
a



























