


# numpy
# numerical python
# 고성능 수치 계산을 위한 라이브러리
# 벡터나 행렬 연산에 편리한 기능 제공
# 모든 원소는 같은 지료형만 가능


import numpy as np
a = np.arange(15) #1차원 데이터
print(a)
a = a.reshape(3, 5)  #2차원 데이터
print(a)


import numpy as np
a = np.arange(15)
a = a.reshape(3, 5)  #2차원 데이터
print(a)
print(type(a))
print(a.shape)
print(a.dtype)
print(a.ndim)
print(a.size) #data갯수

# print(dir(np))


b = np.array( [-1, 2, 5, -3, 0, 7, -9, 6, -4, -8] ) #list나 튜플로 호환가능
print(b, type(b))
#array 하는 이유는 리스트는 연산이 안되니까 연산하기 위함. 숫자로만 받음.



print(b.shape)
print(b.ndim)
print(b.dtype)
print(np.abs(b)) #절대값
# print(np.sqrt(b)) #제곱근을 구하는 함수
print(np.sqrt(np.abs(b)))
print(np.square(b)) # 제곱
print(np.isnan(b)) # nan여부를 묻는 함수 true or false(데이터가 없는 지 있는지 확인함).
print(np.sum(b)) #합계
print(np.mean(b)) #평균
print(np.max(b)) #최대값
print(np.min(b)) #최솟값
print(np.argmax(b)) #최대값의 인덱스를 알려줌
print(np.argmin(b)) #최대값의 인덱스를 알려줌
print(np.sort(b)) # 정렬 오름차순
print(np.sort(b)[::-1]) # 정렬 내림차순 [시작: 끝 : ]일부 데이터만 꺼내 올때 슬라이싱 기법ㄱㄱ






























