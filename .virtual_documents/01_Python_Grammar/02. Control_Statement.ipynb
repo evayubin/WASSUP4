


money = True
if money:
    print("택시를 타고 가라")
else:
    print("걸어 가라")


# 코드 블럭 들여쓰기 에러
money = True
if money:
    print("택시를")
print("타고")
    print("가라")


# 코드 블럭 들여쓰기 에러
money = True
if money:
    print("택시를")
    print("타고")
        print("가라")





x = 3
y = 2
x > y


x < y


x !=y


# Quiz, 만약 3000원 이상의 돈을 가지고 있으면 택시를 타고 가고, 그렇지 않으면 걸어가라.


money = 3000
if money >= 3000:
    print("택시 타고 가라")
else:
    print("걸어 가라")


# Quiz,돈이 3000원 이상 있거나 카드가 있다면 택시를 타고 가고, 그렇지 않으면 걸어가라.

# 조건문에서 논리(참 또는 거짓)만 따질 거면 그냥 조건문에 넣어줘도 괜츈


money = 0
card = True
if money >= 3000 or card:
    print("Taxi")
else:
    print("Walk")


# in, not in
1 in [1, 2, 3]


"a" not in [ "a", "b" ]


# 만약 주머니에 돈이 있으면 택시를 타고 가고, 없으면 걸어가라.


pocket = ["money","card", "airpod", "key"]
if "money" in pocket:
    print("Taxi")
else:
    print("Walk")





pocket = ["money","card", "airpod", "key"]
if "money" in pocket:
    pass
else:
    print("Walk")





pocket = ["money", "airpod", "key"]
if "money" in pocket:
    print("Taxi")
else:
    if "card" in pocket:
        print("Taxi")
    else:
        print("Walk")


if "money" in pocket:
    print("Taxi")
elif "card" in pocket:
    print("Taxi")
else:
    print("Walk")


pocket = ['paper', 'cellphone']
card = True
if 'money' in pocket:
     print("택시를 타고가라")
else:
    if card:
        print("택시를 타고가라")
    else:
        print("걸어가라")





if 'money' in pocket:
    pass
else:
    print('card')


if 'money' in pocket: pass
else: print('card')





score = 50
if score >= 60:
    message = "success"
else:
    message = "failure"
print(message)


message = 'success' if score >= 60 else "failure"
#변수 = 조건문이_참인_경우의_값 if 조건문 else 조건문이_거짓인_경우의_값





treeHit = 0
while treeHit < 10:
    treeHit = treeHit +1
    print("나무를 %d번 찍었습니다." % treeHit)
    if treeHit == 10:
        print("나무 넘어갑니다.")


prompt = '''

1. Add
2. Del
3. List
4. Quit

Enter number : '''


prompt


print(prompt)


input() ##반드시 문자열로 변환함


number = 0
while number != 4:
    print(prompt)
    number = int(input())





coffee = 10
money = 300
while money:
    print("돈을 받았으니 커피를 줍니다.")
    coffee = coffee -1
    print("남은 커피의 양은 %d개입니다." % coffee)
    if coffee == 0:
        print("커피가 다 떨어졌습니다. 판매를 중지합니다.")
        break


prompt = '''

1. Add
2. Del
3. List
0. Quit

Enter number : '''


prompt


print(prompt)


input()


money = 250

while money != 300:
    print(prompt)
    money = int(input())


coffee = 10
money = 300
while money:
    print("coffee is ready")
    coffee = coffee -1
    print("남은 커피의 양은 %d개입니다." % coffee)
    if coffee == 0:
        print("커피가 다 떨어졌습니다. 판매를 중지합니다.")
        break





coffee = 10 
while True : 
    money = int(input('insert money.: '))

    if money == 300: #돈을 딱 맞게 받은 경우
        print("coffee is ready")
        coffee -= 1 #커피 재고 소진
        print(f' {coffee} remains.') #커피 재고 알림

    elif money > 300: 
        print("change is %d."%(money-300)) #거스름돈 계산
        coffee -= 1 #커피 재고 소진
        print(f' {coffee} remains.') #커피 재고 알림

    else:
        print("insert more money plz") #돈을 적게 받은 경우
        print(f' {coffee} remains.') #커피 재고 알림

    if coffee == 0:
        print("out of stock")
        break





a = 0
while a < 10:
    a += 1
    
    if a % 2 == 0:
        continue
        
    print(a)





# 전형적이 for 문
test_list = ['one', 'two', 'three']

for i in test_list:
    print(i)


a = [(1,2), (3,4), (5,6)]
for i in a:
    print(i)


for first, last in a:
    print(first+last)


# Quiz. 총 5명의 학생이 시험을 보았는데 시험 점수가 60점 이상이면 합격이고 그렇지 않으면 불합격이다. 
#합격인지, 불합격인지 결과를 보여 주시오.

scores = [90, 65, 85, 25, 55]

number = 0
for s in scores:
    number += 1
    if s >= 60:
        print(f'{number}번 학생은 {s}점으로 합격입니다.')
    else:
        print(f'{number}번 학생은 {s}점으로 불합격입니다.')





scores = [90, 25, 67, 45, 80]

number = 0
for s in scores:
    number += 1
    if s < 60:
        continue
    print(f"{number}번 학생 축하합니다. 합격입니다.")





range(10)


type(range(10))


for i in range(10):
    print(i)


for i in range(1,11): #범위를 지정해줘서, for문과 함께 쓰임.
    print(i)


sum = 0
for i in range(1,11):
    sum += i
print(sum)


scores = [90, 25, 67, 45, 80]

for s in range(len(scores)): #값이 아니라 인덱스가 나옴.
    
    if scores[s] < 60:
        continue
    print(f"{s+1}번 학생 축하합니다. 합격입니다.")





for i in range(2, 10):
    for j in range(1, 10):
        print (i*j, end =" ") #print 문의 end 매개변수에는 줄바꿈 문자(\n)가 기본값으로 설정되어 있다.
    print('') 


for i in range(2, 10):
    print('='*10)
    print(f'{i}단')
    for j in range(1, 10):
        print(f"{i}x{j}={i*j}")










































