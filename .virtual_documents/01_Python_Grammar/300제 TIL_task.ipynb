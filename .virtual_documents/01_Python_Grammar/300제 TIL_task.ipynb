


a = "Hello world"
print(a)





a = "mary's cosmetics"
a





a = '신씨가 소리질렀다. "도둑이야".'
a





a = "C:\Windows"
print(a)





print("안녕하세요.\n만나서\t\t반갑습니다.")





print ("오늘은", "일요일")





print("naver","kakao","sk","samsung", sep=";")





print("naver","kakao","sk","samsung", sep="/")





print("first", end=" ");print("second")





5/3





삼성전자 = 50000
총평가금액 = 삼성전자 * 10
print(총평가금액)








시가총액 = 298000000000000
현재가 = 50000
PER = 15.79
print(시가총액, type(시가총액))
print(현재가, type(현재가))
print(PER, type(PER))


시가총액, 현재가, PER





s = "hello"
t = "python"
s, t, type(s), type(t)


a = "! "
a


s + a + t


print(s+"! ",t)





2 + 2 * 3 





a = 128
print (type(a))


a = "132"
a, type(a)





num_str = "720"
num_str = 720
num_str, type(num_str)





num = 100
num, type(num)


num_str = str(num)
print(num_str, type(num_str))





year = "2020"
year_int = int(year)
year_int, type(year_int)


int(year_int)+4, int(year_int)+3, int(year_int)+2





Airconditioner = 48584
month = 36
Airconditioner * month





letters = 'python'
letters[0], letters[2]


license_plate = "24가 2210"
license_plate[-4:]





string = "홀짝홀짝홀짝"
string[::2]





string = "PYTHON"
string[::-1]





phone_number = "010-1111-2222"
phone_number1 = phone_number.replace("-", " ")
phone_number1





phone_number1 = phone_number.replace("-", "")
phone_number1





url = "http://sharebook.kr"
url[-2:]


a = url.split('.')
a


a[1]





lang = 'python'
lang[0] = 'P'
print(lang)





string = 'abcdfe2a354a32a'
a = string.replace('a', 'A')
a


string = 'abcd'
string.replace('b', 'B')
string





a = "3"
b = "4"
a + b


print("H1" * 3)





"-"  * 80





t1 = 'python'
t2 = 'java'
t3 = t1 + ' ' + t2 + ' '
t3 * 3





name1 = "김민수"
age1 = 10
name2 = "이철희"
age2 = 13
print("이름: %s 나이 : %d" % (name1, age1))
print("이름: %s 나이 : %d" % (name2, age2))





"이름: {} 나이: {}".format(name1, age1), "이름: {} 나이: {}".format(name2, age2)





print(f"이름: {name1} 나이: {age1}")





상장주식수 = "5,969,782,550"
컴마제거 = 상장주식수.replace(",", "")
타입변환 = int(컴마제거)
print(타입변환, type(타입변환))





분기 = "2020/03(E) (IFRS연결)"
분기[:7]





data = "    삼성전자   "
data.strip()














ticker = 'btc_krw'
ticker.upper()





ticker = "BTC_KRW"
ticker.lower()





a ="hello"
a.capitalize()





file_name = "보고서.xlsx"
file_name.endswith("xlsx")





file_name = "보고서.xlsx"
file_name.endswith(("xlsx", "xls"))





file_name = "2020_보고서.xlsx"
file_name.startswith("2020")





a = "hello world"
a.split(" ")





ticker = "btc_krw"
ticker.split("_")





date = "2020-05-01"
date.split("-")





data = "039490     "
data.rstrip()








#BOOL





print(3 == 5)





print(3 < 5)


x = 6
print(1 < x < 5)





x = 4
print(1 < x < 5)





print ((3 == 3) and (4 != 3)) #TRUE WHY??? 





print(3 => 4) # 연산자가 없다!@!!ㅋㅋㅋㅋㅋㅋ





if 4 < 3:
    print("Hello World")





# 결과??? Hi, there???
if 4 < 3:
    print("Hello World.")
else:
    print("Hi, there.")





# why??? 
if True :
    print ("1")
    print ("2")
else :
    print("3")
print("4")





# true안의 false
if True :
    if False:
        print("1")
        print("2")
    else:
        print("3")
else :
    print("4")
print("5")





a = input("입력:")
a *2





a = int(input("insert number:"))
print(a +10)





user = int(input("insert number:"))
if user %2 == 0:
    print(f' {user} is even number')
else : 
    print(f' {user} is odd number')
print(user)





user = int(input())
print(user + 10)


user = input("입력값: ")
num = 20 + int(user)
if num > 255:
    print(255)
else:
    print(num)





user = input("input: ")
num = int(user) - 20
if num < 0:
    print(0)
if num > 255:
    print(255)
else:
    print(num)





time = input("Time: ")
if time[-2: ] == "00":
    print("on time.")
else:
    print("not on time.")





char = input("What's your favorite fruit?: ")
fruit = ["사과", "포도", "홍시"]
if char in fruit:
    print("Right!")
else:
    print("Hmmmm...")





fruit = {"spring" : "strawberry", "summer" : "tomato", "autumn" : "apple"}
answer = input("my favorite season is..: ")
if answer in fruit:
    print("Wow! so do I!")
else:
    print("Oh! you do!")





fruit = {"spring" : "strawberry", "summer" : "tomato", "autumn" : "apple"}
answer = input("my favorite fruit is..: ")
if answer in fruit:
    print("Wow! so do I!")
else:
    print("Oh! you do!")





user = input("")
if user.islower():
    print(user.upper())
else:
    print(user.lower())





score = int(input("score: "))
if 81 <= score <= 100:
    print("grade is A")
elif 61 <= score <= 80:
    print("grade is B")
elif 41 <= score <= 60:
    print("grade is C")
elif 21 <= score <= 40:
    print("grade is D")
else:
    print("grade is E")





change = {'dollar' : 1167,
          'yen' : 1.096,
          'euro' : 1268,
          'cyn' : 171}
user = input('change is: ')
num, currency = user.split()
print(float(num) * change[currency], 'won')





#131
과일 = ["사과", "귤", "수박"]
for 변수 in 과일:
    print(변수)


a = 'A'
print('출력: ', a)
b = 'B'
print('출력: ', b)
c = 'C'
print('출력: ', c)


for a in [ 10, 20, 30 ]:
    print('print: ', a)


for q in [10, 20, 30]:
    print(q)
    print("-----------")


print('++++')
for a in [10, 20, 30]:
    print(a)


for 변수 in [1, 2, 3, 4]:
  print("-------")



list = [ 100, 200, 300 ]
for a in list:
    print(a +10)


list = ["김밥", "라면", "튀김"]
for a in list:
    print('menu del dia: ',a)


list = ["SK하이닉스", "삼성전자", "LG전자"]
for a in list:
    print(len(a))


list = ['dog', 'cat', 'parrot']
for a in list:
    print(a, len(a))


list = ['dog', 'cat', 'parrot']
for a in list:
    print(a[0])


list = [1,2,3]
for a in list:
    print('3 x',a)


list = [1,2,3]
for a in list:
    print('3 x {} = {}'.format(a, 3*a))


리스트 = ["가", "나", "다", "라"]
for 변수 in 리스트[1:]:
  print(변수)


리스트 = ["가", "나", "다", "라"]
for 변수 in 리스트[::2]:
  print(변수)


list = ["가", "나", "다", "라"]
for a in list[::-1]:
    print(a)


리스트 = [3, -20, -3, 44]
for 변수 in 리스트:
  if 변수 < 0:
    print(변수)



list = [3, 100, 23, 44]
for a in list:
    if a % 3 == 0:
        print(a)


list = [13, 21, 12, 14, 30, 18]
for a in list:
    if a <20 and a %3 ==0:
        print(a)


list = ["I", "study", "python", "language", "!"]
for a in list:
    if len(a) >= 3:
        print(a)


list = ["A", "b", "c", "D"]
for a in list:
    if a.isupper():
        print(a)


list = ["A", "b", "c", "D"]
for a in list:
    if a.isupper() == False:
        print(a)


list = ['dog', 'cat', 'parrot']
for a in list:
  print(a[0].upper() + a[1:])



list = ['hello.py', 'ex01.py', 'intro.hwp']
for a in list:
    split = a.split(".")
    print(split[0])


list = ['intra.h', 'intra.c', 'define.h', 'run.py']
for a in list:
    split = a.split(".")
    if split[1] == 'h':
        print(a)


리스트 = ['intra.h', 'intra.c', 'define.h', 'run.py']
for 변수 in 리스트:
  split = 변수.split(".")
  if (split[1] == "h") or (split[1] == "c"):
    print(변수)


for a in range(100):
    print(a)


for x in range(2002, 2051, 4) :
    print (x)


for i in range(3, 31, 3):
    print(i)


for num in range(10) :
    print(num / 10)


price_list = [32100, 32150, 32000, 32500]
for i in range(len(price_list)):
    print(price_list[i])


price_list = [32100, 32150, 32000, 32500]
for i, data in enumerate(price_list):
    print(i, data)


for i in range(len(price_list)):
    print((len(price_list) - 1) - i, price_list[i])


apart = [ ["101호", "102호"], ["201호", "202호"], ["301호", "302호"] ]
print(apart)


stock = [ ["open", 100, 200, 300], ["close", 80, 210, 330] ]


stock = {"시가": [100, 200, 300], "종가": [80, 210, 330] }


stock = {"10/10": [80, 110, 70, 90], "10/11": [210, 230, 190, 200]}


apart = [ [101, 102], [201, 202], [301, 302] ]
for row in apart:
    for col in row:
        print(col, "호")


for row in apart[::-1]:
    for col in row[::-1]:
        print(col, "호")



for row in apart:
    for col in row:
        print(col, "호")
        print("-" * 5)



data = [
    [ 2000,  3050,  2050,  1980],
    [ 7500,  2050,  2050,  1980],
    [15450, 15050, 15550, 14900]
]

for line in data:
    for column in line:
        print(column * 1.00014)


def print_coin():
    print("비트코인")


print_coin()


for i in range(5):
    print_coin()





def print_with_smile (string) :
    print ('Hello' + ":D")


print_with_smile("안녕하세요")


def print_upper_price(a):
    print(a *1.3)


print_upper_price(7)


def print_sum (a, b) :
    print (a + b)


print_sum(3, 4)


def print_arithmetic_operation(a, b):
    print(a, "+", b, "=", a + b)
    print(a, "-", b, "=", a - b)
    print(a, "*", b, "=", a * b)
    print(a, "/", b, "=", a / b)


print_arithmetic_operation(54, 88)


def print_max(a, b, c) :
    max_val = 0
    if a > max_val :
        max_val = a
    if b > max_val :
        max_val = b
    if c > max_val :
        max_val = c
    print(max_val)
print_max(5,8,45)


def print_reverse(string):
    print(string[::-1])


print_reverse("python")


def print_score(score_list) :
    print(sum(score_list)/len(score_list))
print_score ([1, 2, 3])





















