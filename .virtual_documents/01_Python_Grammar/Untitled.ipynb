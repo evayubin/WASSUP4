


#정해진 형식의 N차원 배열 생성
import numpy as np


# np.zeros()
arr = np.zeros([2,2])
print(arr)

# np.ones()
arr = np.ones([3,5])
print(arr)

# np.full()
arr = np.full((2,3), 5)
print(arr)

# np.eye()
arr = np.eye(3,4,k=0) #k는 대각선위치 1은 오른쪽으로 -1은 왼쪽으로 | n값을 하나로 지정하면 정방형으로 만들어짐
print(arr)


arr = np.array([[1,2,3],
               [4,5,6]])

#np.zeros_like()
arr_z = np.zeros_like(arr)
print(arr_z)

#np.ones_like()
arr_o = np.ones_like(arr)
print(arr_o)

#np.full_like()
arr_f = np.full_like(arr, 9)
print(arr_f)


# 특정 범위의 값을 가지는 N차원 배열 생성하기



lst = list(range(0, 9, 2))
print(lst)


# arr = np.arange(start, stop, step) #step은 단계, 수준을 의미함
arr = np.arange(9)
arr = np.arange(3,13, 3)
print(arr)

arr = np.arange(start=2,stop=11, step=2)
print(arr)


# np.linspace()
arr = np.linspace(0, 100, 11) #0~100까지 균등한 간격으로 출력됨. #stop값까지 출력함. arange와 차이점!!
print(arr)


#np.logspace()  #log값이 나옴.
arr = np.linspace(1,10,10)
print(arr, end="\n\n")

arr = np.logspace(1, 10,10, base =2)
print(arr)


#난수로 이루어진 N차원 배열 생성하기


# arr = np.random.normal() 정규분포 함수에서 밀도를 추출함.
# arr = np.random.normal(log. scale, size)
arr = np.random.normal(0, 1, 10)
print(arr)
arr = np.random.normal(0, 1, (2,3))
print(arr)


import matplotlib.pyplot as plt





arr = np.random.normal(0,1,1000) #1000개의 난수와 100개 구간으로 갯수를 늘린다.
plt.hist(arr, bins=100)
plt.show()


# np.random.rand()
arr = np.random.rand(100)
plt.hist(arr, bins=100)
plt.show()


#np.random.randn()
arr = np.random.randn(1000)
plt.hist(arr, bins = 100)
plt.show()


# np.random.randint()
arr = np.random.randint(low=1, high=5, size=10) #low~high 까지 size 로 만들어줌.
print(arr)
arr = np.random.randint(low=1, high=5, size=(3,3)) #low~high 까지 size(배열형성도가능) 로 만들어줌.
print(arr)
arr = np.random.randint(5)
print(arr)


arr = np.random.randint(100,200,1000)
plt.hist(arr, bins=100)
plt.show()


Seed값을 통한 난수 생성제어


arr = np.random.rand(10)
print("난수 발생1 \n", arr)

arr = np.random.rand(10)
print("난수 발생2 \n", arr)


# seed 값만 같으면 동일한 값 나옴
np.random.seed(1)
arr = np.random.rand(10)
print("난수 발생1 \n", arr)

np.random.seed(1)
arr = np.random.rand(10)
print("난수 발생2 \n", arr)


# 배열 index 접근하기
# 특정범위 탐색하기


# 1차원 배열
arr = np.arange(10)
print(arr)
#index
print(arr[3])
print(arr[9])
print(arr[-1])


#2차원 배열
arr = np.array([[1,2,3,4],
                [5,6,7,8],
                [9,10,11,12]])
print(arr, arr.shape, arr.ndim)
print(arr[0,3])


arr = np.array([0,1,2,3,4,5,6,7,8,9,10])
print(arr[3:5])
print(arr[:-1])


arr = np.array([[1,2,3,4],
                [5,6,7,8],
                [9,10,11,12]])
print(arr[0, :]) #0번째 행의 모든 요소
print(arr[:, 1]) #모든 행의 두번재 열 요소


print(arr[:3, :])
print(arr[:2, 2:])


#배열의 fancy 인덱싱
# 특정인덱스를 여러개 선택해서 탐색하는 방법임


# 1차원배열
arr = np.array([5,10,15,20,25,30])
print(arr[[0,2,4]])


#2차원 배열
arr = np.array([[5,10,15,20],
                [25,30,35,40],
                [45,50,55,60]])
print(arr[[0,2],2:])


#boolean인덱싱 true or false
arr = np.array([1,2,3,4])
print(arr[[True, False, True, True]])


arr = np.array([[1,2,3,4],
                [5,6,7,8]])
print(arr[[True, False], True]) #0행만 가져오고, 1행은 안가져오고, 열은 모두 가져온다.


# 배열의 연산, shape가 같아야함.
arr1 = np.array([[1,2,3,4],
                 [5,6,7,8],
                 [9,10,11,12]])
arr2 = np.full((3,4),2)
print(arr1)
print(arr2)


print(arr1 * arr2)

































