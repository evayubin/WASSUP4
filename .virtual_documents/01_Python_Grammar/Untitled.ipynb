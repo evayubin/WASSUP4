


import pandas as pd
import numpy as np

# Series - index를 따로 지정하지 않는 경우
s = pd.Series( [1, 2, 3, 4, 5, 6, 7, 8, 9] )
print( type( s ) )
print( s.index )
print( s.dtype )
print( s )


# Series - index를 따로 지정하는 경우
s = pd.Series( [1, 2, 3, 4, 5, 6, 7, 8, 9] )
s.index = [ 'A', 'B', 'C', 'D', 'E', 'F', 'G', 'H', 'I' ]
print(s)


s = pd.Series( [1, 2, 3, 4, 5, 6, 7, 8, 9], [ 'A', 'B', 'C', 'D', 'E', 'F', 'G', 'H', 'I' ] )
print(s)
print( s.index )       #index export
print( s.values )      #valuses export
# print( s[0] ) error~!~
print( s['A'] )
print(s.A)
print( s[0:5] )
print( s['A' : 'D'] )





d = { 'A':10, 'D':20, 'F':30, 'H':40 }
print(type(d))

for key, value in d.items() : #모든 key, value를 튜플로 받아서 꺼내줌.
    print( key, ":", value )


print( d['A'] )
# print( d.A )  # ERROR!!!

s = pd.Series( d )   #dictionary를 pandas로 바꾸기!(Series)
print( s.index )
print( s.values )
print( s[ 'A' ])
print( s.A )










































