{
 "cells": [
  {
   "cell_type": "markdown",
   "id": "140f0300-b964-4b6e-a7bd-1720842d70e7",
   "metadata": {},
   "source": [
    "# NUMPY / PANDAS"
   ]
  },
  {
   "cell_type": "code",
   "execution_count": 2,
   "id": "cd8ab1fe-2391-4d6c-8f80-b9021f5e956f",
   "metadata": {},
   "outputs": [
    {
     "name": "stdout",
     "output_type": "stream",
     "text": [
      "[ 0  1  2  3  4  5  6  7  8  9 10 11 12 13 14]\n",
      "[[ 0  1  2  3  4]\n",
      " [ 5  6  7  8  9]\n",
      " [10 11 12 13 14]]\n"
     ]
    }
   ],
   "source": [
    "import numpy as np\n",
    "a = np.arange(15) #1차원 데이터\n",
    "print(a)\n",
    "a = a.reshape(3, 5)  #2차원 데이터\n",
    "print(a)"
   ]
  },
  {
   "cell_type": "code",
   "execution_count": 14,
   "id": "0b726168-a95d-4658-b02d-5ade09982726",
   "metadata": {},
   "outputs": [],
   "source": [
    "b = [-1, 2, 5, 0, -3 ]\n",
    "b = np.array(b)\n",
    "#array를 하는 이유는 리스트 연산 불가라, 연산이 가능한 숫자로 변형하기 위함.\n",
    "\n",
    "t = ( 0,3,4,5,6,)\n",
    "t = np.array(t)\n",
    "\n",
    "s = {2,4,5,6,7}\n",
    "s = np.array(s)\n",
    "# 딕셔너리 호환은 안됨.\n",
    "# set은 가능"
   ]
  },
  {
   "cell_type": "code",
   "execution_count": 12,
   "id": "e03c7d68-1502-48d4-ac22-d38319571ade",
   "metadata": {},
   "outputs": [
    {
     "name": "stdout",
     "output_type": "stream",
     "text": [
      "(5,)\n",
      "1\n",
      "int32\n",
      "[1 2 5 0 3]\n",
      "[1.         1.41421356 2.23606798 0.         1.73205081]\n",
      "[ 1  4 25  0  9]\n",
      "[False False False False False]\n"
     ]
    }
   ],
   "source": [
    "print(b.shape)\n",
    "print(b.ndim)\n",
    "print(b.dtype)\n",
    "print(np.abs(b)) #절대값\n",
    "# print(np.sqrt(b)) #제곱근을 구하는 함수\n",
    "print(np.sqrt(np.abs(b)))\n",
    "print(np.square(b)) # 제곱\n",
    "print(np.isnan(b)) # nan여부를 묻는 함수 true or false(데이터가 없는 지 있는지 확인함)"
   ]
  },
  {
   "cell_type": "code",
   "execution_count": null,
   "id": "e9dd02b2-b71a-4d21-a6bc-6fcd6f7b54b2",
   "metadata": {},
   "outputs": [],
   "source": []
  },
  {
   "cell_type": "code",
   "execution_count": null,
   "id": "9c0bffda-c610-4b4c-8c85-9f02f28cfc86",
   "metadata": {},
   "outputs": [],
   "source": []
  },
  {
   "cell_type": "code",
   "execution_count": null,
   "id": "bf58a1e4-d434-4f95-974d-8b301477a4f7",
   "metadata": {},
   "outputs": [],
   "source": []
  },
  {
   "cell_type": "code",
   "execution_count": null,
   "id": "9e1b8bd2-b6cd-4398-ae4b-7bbbfbec802a",
   "metadata": {},
   "outputs": [],
   "source": []
  }
 ],
 "metadata": {
  "kernelspec": {
   "display_name": "Python 3 (ipykernel)",
   "language": "python",
   "name": "python3"
  },
  "language_info": {
   "codemirror_mode": {
    "name": "ipython",
    "version": 3
   },
   "file_extension": ".py",
   "mimetype": "text/x-python",
   "name": "python",
   "nbconvert_exporter": "python",
   "pygments_lexer": "ipython3",
   "version": "3.12.4"
  }
 },
 "nbformat": 4,
 "nbformat_minor": 5
}
