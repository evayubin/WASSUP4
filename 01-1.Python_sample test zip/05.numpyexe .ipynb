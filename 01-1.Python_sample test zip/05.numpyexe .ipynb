{
 "cells": [
  {
   "cell_type": "markdown",
   "id": "140f0300-b964-4b6e-a7bd-1720842d70e7",
   "metadata": {},
   "source": [
    "# NUMPY / PANDAS"
   ]
  },
  {
   "cell_type": "code",
   "execution_count": 3,
   "id": "cd8ab1fe-2391-4d6c-8f80-b9021f5e956f",
   "metadata": {},
   "outputs": [
    {
     "name": "stdout",
     "output_type": "stream",
     "text": [
      "[ 0  1  2  3  4  5  6  7  8  9 10 11 12 13 14]\n",
      "[[ 0  1  2  3  4]\n",
      " [ 5  6  7  8  9]\n",
      " [10 11 12 13 14]]\n"
     ]
    }
   ],
   "source": [
    "import numpy as np\n",
    "a = np.arange(15) #1차원 데이터\n",
    "print(a)\n",
    "a = a.reshape(3, 5)  #2차원 데이터\n",
    "print(a)"
   ]
  },
  {
   "cell_type": "code",
   "execution_count": 5,
   "id": "0b726168-a95d-4658-b02d-5ade09982726",
   "metadata": {},
   "outputs": [],
   "source": [
    "b = [-1, 2, 5, 0, -3 ]\n",
    "b = np.array(b)\n",
    "#array를 하는 이유는 리스트 연산 불가라, 연산이 가능한 숫자로 변형하기 위함.\n",
    "\n",
    "t = ( 0,3,4,5,6,)\n",
    "t = np.array(t)\n",
    "\n",
    "s = {2,4,5,6,7}\n",
    "s = np.array(s)\n",
    "# 딕셔너리 호환은 안됨.\n",
    "# set은 가능"
   ]
  },
  {
   "cell_type": "code",
   "execution_count": 13,
   "id": "e03c7d68-1502-48d4-ac22-d38319571ade",
   "metadata": {},
   "outputs": [
    {
     "name": "stdout",
     "output_type": "stream",
     "text": [
      "(5,)\n",
      "1\n",
      "int32\n",
      "[1 2 5 0 3]\n",
      "[1.         1.41421356 2.23606798 0.         1.73205081]\n",
      "[ 1  4 25  0  9]\n",
      "[False False False False False]\n",
      "0.6\n",
      "5\n",
      "-3\n",
      "2\n",
      "4\n",
      "[-3 -1  0  2  5]\n",
      "[-3 -1  0  2  5]\n",
      "0.0\n"
     ]
    }
   ],
   "source": [
    "print(b.shape)\n",
    "print(b.ndim)\n",
    "print(b.dtype)\n",
    "print(np.abs(b)) #절대값\n",
    "# print(np.sqrt(b)) #제곱근을 구하는 함수\n",
    "print(np.sqrt(np.abs(b)))\n",
    "print(np.square(b)) # 제곱\n",
    "print(np.isnan(b)) # nan여부를 묻는 함수 true or false(데이터가 없는 지 있는지 확인함)\n",
    "print(np.mean(b)) #평균\n",
    "print(np.max(b)) #최대값\n",
    "print(np.min(b)) #최소값\n",
    "print(np.argmax(b)) #최대값 인덱스\n",
    "print(np.argmin(b)) #최소값 인덱스\n",
    "print(np.sort(b)) #정렬 오름차순\n",
    "print(np.sort(b)[::1]) #정렬 내림차순\n",
    "print(np.median(b)) #중앙값"
   ]
  },
  {
   "cell_type": "code",
   "execution_count": 33,
   "id": "e9dd02b2-b71a-4d21-a6bc-6fcd6f7b54b2",
   "metadata": {},
   "outputs": [
    {
     "name": "stdout",
     "output_type": "stream",
     "text": [
      "[[1, 2, 3], [4, 5, 6]] <class 'list'>\n",
      "<class 'numpy.ndarray'>\n",
      "[[1 2 3]\n",
      " [4 5 6]]\n",
      "21\n",
      "[5 7 9]\n",
      "[ 6 15]\n",
      "3.5\n",
      "[2.5 3.5 4.5]\n",
      "3.5\n",
      "[2.5 3.5 4.5]\n",
      "[2. 5.]\n",
      "6\n",
      "[4 5 6]\n",
      "1.707825127659933\n",
      "2.9166666666666665\n"
     ]
    }
   ],
   "source": [
    "c = [ [ 1, 2, 3, ], [4, 5, 6] ] #2차원이라 대괄호 2개\n",
    "print(c, type(c))\n",
    "c = np.array(c)\n",
    "print(type(c))\n",
    "print(c)\n",
    "\n",
    "print(np.sum(c))\n",
    "print(np.sum(c, axis=0))  #행끼리\n",
    "print(np.sum(c, axis=1))\n",
    "\n",
    "print(np.mean(c))\n",
    "print(np.mean(c, axis=0))\n",
    "\n",
    "print(np.median(c))\n",
    "print(np.median(c, axis=0))\n",
    "print(np.median(c, axis=1))\n",
    "\n",
    "print(np.max(c)    )  \n",
    "print(np.max(c, axis=0))\n",
    "\n",
    "#표준편차 구할 때 \n",
    "print(np.std(c))\n",
    "#분산 구할 때\n",
    "print(np.var(c))"
   ]
  },
  {
   "cell_type": "code",
   "execution_count": 49,
   "id": "ff4dd9cb-8447-4677-a09c-44baf5a13d7d",
   "metadata": {},
   "outputs": [
    {
     "name": "stdout",
     "output_type": "stream",
     "text": [
      "[12 22 32 42 52]\n",
      "[11 22 33 44 55]\n",
      "[ 100  400  900 1600 2500]\n",
      "[ 1  4  9 16 25]\n",
      "[ -5.44021111  18.25890501 -29.64094872  29.80452642 -13.11874269]\n",
      "[False False False  True  True]\n",
      "[11 22 33 44 55]\n",
      "[ 9 18 27 36 45]\n",
      "[ 10  40  90 160 250]\n",
      "[10. 10. 10. 10. 10.]\n"
     ]
    }
   ],
   "source": [
    "# element wise\n",
    "d = [10, 20, 30, 40, 50]\n",
    "# print(d+2) list는 연산안됨. 그래서 np하는거임\n",
    "d = np.array(d)\n",
    "print(d+2)\n",
    "\n",
    "e = np.array( [1, 2, 3, 4, 5] ) \n",
    "print(d+e)\n",
    "print(d**2) #제곱 연산자\n",
    "print(e**2)\n",
    "print( d* np.sin(d)) #요소별로 계산도 가능함\n",
    "print( d > 35 ) #비교 연산자는 논리값(숫자값이 아닌)이 나옴. \n",
    "\n",
    "print(np.add(d,e))\n",
    "print(np.subtract(d,e))\n",
    "print(np.multiply(d,e))\n",
    "print(np.divide(d,e))"
   ]
  },
  {
   "cell_type": "code",
   "execution_count": 59,
   "id": "63f2b5eb-a4bb-4997-8d88-2ab476698161",
   "metadata": {},
   "outputs": [
    {
     "name": "stdout",
     "output_type": "stream",
     "text": [
      "[[0 0]\n",
      " [3 4]]\n",
      "[[3 4]\n",
      " [5 4]]\n",
      "[[3 4]\n",
      " [5 4]]\n",
      "[[3 4]\n",
      " [5 4]]\n"
     ]
    }
   ],
   "source": [
    "f = np.array( [ [0, 1] , [1, 1] ] )\n",
    "g = np.array( [ [2, 0] , [3, 4] ] )\n",
    "\n",
    "#행렬곱을 연산한다???\n",
    "print(f * g) #그냥 곱셈\n",
    "print( f @ g ) #행렬곱을 구하는 것\n",
    "\n",
    "print(np.dot(f,g)) # 행렬곱 함수\n",
    "print(f.dot(g))"
   ]
  },
  {
   "cell_type": "code",
   "execution_count": 77,
   "id": "4d834b08-00b9-43c3-b7d7-bdc6b904e79f",
   "metadata": {},
   "outputs": [
    {
     "name": "stdout",
     "output_type": "stream",
     "text": [
      "[0. 0. 0. 0. 0. 0. 0. 0. 0. 0.]\n",
      "[[0. 0. 0. 0. 0.]\n",
      " [0. 0. 0. 0. 0.]\n",
      " [0. 0. 0. 0. 0.]\n",
      " [0. 0. 0. 0. 0.]\n",
      " [0. 0. 0. 0. 0.]]\n",
      "[1. 1. 1. 1. 1. 1. 1. 1. 1. 1.]\n",
      "<class 'numpy.ndarray'>\n",
      "<class 'list'>\n",
      "[4, 41, 5, 35, 13, 42, 67, 40, 37, 81]\n",
      "<class 'numpy.ndarray'>\n",
      "[ 4 41  5 35 13 42 67 40 37 81]\n",
      "14\n",
      "[[0.85518269 0.76611295]\n",
      " [0.38330836 0.34137981]\n",
      " [0.03413639 0.28965958]\n",
      " [0.98339696 0.07520937]\n",
      " [0.50097329 0.66706742]]\n"
     ]
    }
   ],
   "source": [
    "h = np.zeros(10)\n",
    "print(h)\n",
    "i = np.zeros((5, 5))\n",
    "print(i)\n",
    "j = np.ones(10)\n",
    "print(j)\n",
    "\n",
    "# np.random.random   0~1 사이의 난수 발생\n",
    "# np.random.randint  균일 분포의 정수 난수 발생\n",
    "# np.random.rand     0~1 사이의 균일 분포 난수 matrix array 생성\n",
    "# np.random.randn    가우시안 표준 정규 분포 난수 matrix array 생성\n",
    "# np.random.normal   평균, 표준편차, sample 개수\n",
    "\n",
    "k = np.random.random(10)\n",
    "print(type(k))\n",
    "\n",
    "# 반복문(for) 만들어서 10개짜리 데이터 만들기\n",
    "k = np.random.random(10) * 100\n",
    "# list만드는 문법: k(10개짜리 데이터)를 \n",
    "# i에 하나씩 넣어서 그냥 i값을 바로쓸고야~~\n",
    "k = [ int(i) for i in k ] \n",
    "print(type(k))\n",
    "print(k)\n",
    "\n",
    "k = np.array( [int(i) for i in k ] )\n",
    "print(type(k))\n",
    "print(k)\n",
    "\n",
    "print(np.random.randint(10, 20))\n",
    "print(np.random.rand(5,2))"
   ]
  },
  {
   "cell_type": "code",
   "execution_count": 111,
   "id": "548ceaba-99ef-4e9b-a36e-91a521794a34",
   "metadata": {},
   "outputs": [
    {
     "name": "stdout",
     "output_type": "stream",
     "text": [
      "[10, 11, 12, 13, 14]\n",
      "[10, 12, 14]\n",
      "[10, 11, 12, 13, 14, 15, 16, 17, 18, 19]\n",
      "[15, 16, 17, 18, 19]\n",
      "[10, 11, 12, 13, 14, 15, 16, 17, 18]\n",
      "[19, 18, 17, 16, 15, 14, 13, 12, 11, 10]\n",
      "[10 11 12 13 14]\n",
      "[10 12 14]\n",
      "[10 11 12 13 14 15 16 17]\n"
     ]
    }
   ],
   "source": [
    "#슬라이싱\n",
    "m = [ i for i in range(10, 20) ]\n",
    "\n",
    "# [start : end -1 : space,간격 ]\n",
    "print( m[0:5] )\n",
    "print( m[0:5:2] )\n",
    "print( m[:] )\n",
    "print(m[5:])\n",
    "print(m[:-1])\n",
    "print(m[::-1])\n",
    "\n",
    "# ndarray\n",
    "w = np.arange(10, 20)\n",
    "print( w[0:5])\n",
    "print( w[0:5:2])\n",
    "print(w[:-2])\n"
   ]
  },
  {
   "cell_type": "code",
   "execution_count": 139,
   "id": "21ac7ebb-62d9-4422-bf28-aa009ca35e68",
   "metadata": {},
   "outputs": [
    {
     "name": "stdout",
     "output_type": "stream",
     "text": [
      "13\n",
      "[[1, 2, 3, 4, 5], [6, 7, 8, 9, 10], [11, 12, 13, 14, 15]]\n",
      "[11, 12, 13, 14, 15]\n",
      "[6, 7]\n",
      "[[1, 2, 3, 4, 5], [6, 7, 8, 9, 10]]\n",
      "[[ 1  2  3  4  5]\n",
      " [ 6  7  8  9 10]\n",
      " [11 12 13 14 15]]\n",
      "13\n",
      "[[ 1  2  3  4  5]\n",
      " [ 6  7  8  9 10]\n",
      " [11 12 13 14 15]]\n",
      "[11 12 13 14 15]\n",
      "[6 7]\n",
      "[[1 2 3 4 5]]\n",
      "[[1 2]\n",
      " [6 7]]\n",
      "[[ 1  2  3  4  5]\n",
      " [ 6  7  8  9 10]\n",
      " [11 12 13 14 15]]\n",
      "[[1 2 3 4]\n",
      " [6 7 8 9]]\n",
      "13\n",
      "[[15 14 13 12 11]\n",
      " [10  9  8  7  6]\n",
      " [ 5  4  3  2  1]]\n",
      "[[ 1  2  3  4  5]\n",
      " [11 12 13 14 15]]\n"
     ]
    }
   ],
   "source": [
    "# list 값\n",
    "r = [ [1, 2, 3, 4, 5], [6, 7, 8, 9, 10], [11, 12, 13, 14, 15] ]\n",
    "print( r[2][2] )  #인덱스가 2번인 행에서 인덱스가 2번인 값\n",
    "print(r[:][:])\n",
    "print(r[2][:])\n",
    "print(r[1][:2])\n",
    "\n",
    "# 앞에도 2까지 뒤에서도 2까지\n",
    "print(r[:2][:2]) #앞과 뒤가 열이라는 보장이 없음.\n",
    "\n",
    "# print(r[:, :]) #error 리스트는 에러남.\n",
    "\n",
    "s = np.arange(1, 16).reshape(3, 5) #1~16까지의 숫자를 3행 5열로 나타내라\n",
    "print(s)\n",
    "print(s[2][2])\n",
    "print(s[:][:])\n",
    "print(s[2][:])\n",
    "print(s[1][:2])\n",
    "print(s[:2][:1])     #[[2차원도 똑같다]]\n",
    "\n",
    "print( s[:2, :2 ])\n",
    "print( s[:, :])\n",
    "print( s[:-1, :-1]) #[[1 2 3 4][6 7 8 9]]\n",
    "print(s[2,2])\n",
    "print(s[::-1, ::-1] )\n",
    "\n",
    "print(s[[0, 2]])"
   ]
  },
  {
   "cell_type": "code",
   "execution_count": 141,
   "id": "8a4280ca-8b22-43ad-ae9a-31336e445ee9",
   "metadata": {},
   "outputs": [
    {
     "name": "stdout",
     "output_type": "stream",
     "text": [
      "[[ 1  2  3  4  5]\n",
      " [ 6  7  8  9 10]\n",
      " [11 12 13 14 15]]\n",
      "[[ 1  6 11]\n",
      " [ 2  7 12]\n",
      " [ 3  8 13]\n",
      " [ 4  9 14]\n",
      " [ 5 10 15]]\n"
     ]
    }
   ],
   "source": [
    "# 전치 행렬\n",
    "\n",
    "print(s)  #3행 5열\n",
    "print(s.T) #5행 3열"
   ]
  },
  {
   "cell_type": "code",
   "execution_count": 173,
   "id": "3a6e95f9-a06f-47cc-8578-a35548713496",
   "metadata": {},
   "outputs": [
    {
     "name": "stdout",
     "output_type": "stream",
     "text": [
      "(1, 4)\n",
      "(2, 5)\n",
      "(3, 6)\n",
      "[(1, 4), (2, 5), (3, 6)]\n",
      "[1, 2, 3, 4, 5, 6]\n",
      "[1, 2, 3, 1, 2, 3]\n"
     ]
    }
   ],
   "source": [
    "#결합 / 분리\n",
    "a = [1, 2, 3]\n",
    "b = [4, 5, 6]\n",
    "for ab in zip(a, b):\n",
    "    print(ab)\n",
    "print(list(zip(a,b)))\n",
    "print(a+b)    #list합칠 때 그대로 연산자 사용가능함_그냥 붙임, 계산은 안됨.\n",
    "# print(a + 1) #연산은 안됨\n",
    "print(a*2)"
   ]
  },
  {
   "cell_type": "code",
   "execution_count": 161,
   "id": "9512c746-2567-4a74-bdeb-3a2634187fbc",
   "metadata": {},
   "outputs": [
    {
     "name": "stdout",
     "output_type": "stream",
     "text": [
      "[[ 0.87807282  5.03277529]\n",
      " [38.29901113 41.69566793]]\n"
     ]
    }
   ],
   "source": [
    "c = np.random.rand(2,2) * 100\n",
    "print (c)"
   ]
  },
  {
   "cell_type": "code",
   "execution_count": 177,
   "id": "640beb9b-c450-479d-85c5-3515a5506b90",
   "metadata": {},
   "outputs": [
    {
     "name": "stdout",
     "output_type": "stream",
     "text": [
      "[[13. 85.]\n",
      " [68. 62.]]\n",
      "[[ 8. 29.]\n",
      " [97. 91.]]\n",
      "[[13. 85.  8. 29.]\n",
      " [68. 62. 97. 91.]]\n",
      "[[13. 85.]\n",
      " [68. 62.]\n",
      " [ 8. 29.]\n",
      " [97. 91.]]\n",
      "[[15. 87.]\n",
      " [70. 64.]]\n"
     ]
    }
   ],
   "source": [
    "# 합치기\n",
    "c = np.floor(np.random.rand(2,2) * 100)\n",
    "print(c)\n",
    "d = np.floor(np.random. rand(2,2) *100)\n",
    "print(d)\n",
    "print(np.hstack((c,d)))\n",
    "print(np.vstack((c,d)))\n",
    "print(c + 2)"
   ]
  },
  {
   "cell_type": "code",
   "execution_count": 199,
   "id": "3451ef64-ad12-4f8a-9752-ef0e684d89d2",
   "metadata": {},
   "outputs": [
    {
     "name": "stdout",
     "output_type": "stream",
     "text": [
      "[[79. 40. 65. 92. 24. 72. 70. 88. 81. 48. 27. 11. 76.  8. 31.]\n",
      " [60. 86. 63.  5. 74. 60.  1. 42. 20. 86. 60. 64.  0. 78. 18.]]\n",
      "[array([[79., 40., 65., 92., 24.],\n",
      "       [60., 86., 63.,  5., 74.]]), array([[72., 70., 88., 81., 48.],\n",
      "       [60.,  1., 42., 20., 86.]]), array([[27., 11., 76.,  8., 31.],\n",
      "       [60., 64.,  0., 78., 18.]])]\n",
      "hsplit [[79. 40. 65. 92. 24.]\n",
      " [60. 86. 63.  5. 74.]]\n",
      "hsplit [[72. 70. 88. 81. 48.]\n",
      " [60.  1. 42. 20. 86.]]\n",
      "hsplit [[27. 11. 76.  8. 31.]\n",
      " [60. 64.  0. 78. 18.]]\n",
      "hsplit2 [[79. 40. 65.]\n",
      " [60. 86. 63.]]\n",
      "hsplit2 [[92. 24. 72. 70.]\n",
      " [ 5. 74. 60.  1.]]\n",
      "hsplit2 [[88. 81. 48. 27. 11. 76.  8. 31.]\n",
      " [42. 20. 86. 60. 64.  0. 78. 18.]]\n"
     ]
    }
   ],
   "source": [
    "# 분할, 나누기\n",
    "e = np.floor( np.random.rand(2, 15)* 100)\n",
    "print(e)\n",
    "\n",
    "print( np.hsplit( e, 3 ))               # 3개로 잘라라.\n",
    "for arr in np.hsplit( e, 3):\n",
    "    print(\"hsplit\", arr)\n",
    "for arr in np.hsplit( e, ( 3, 7 )):     # [0:3]까지, [3:7] 까지, [7:0]까지 튜플로 자를 위치를 입력함.\n",
    "    print(\"hsplit2\", arr)"
   ]
  },
  {
   "cell_type": "code",
   "execution_count": 219,
   "id": "6fde48a3-a0e4-4a6d-b5c0-427ff557923a",
   "metadata": {},
   "outputs": [
    {
     "name": "stdout",
     "output_type": "stream",
     "text": [
      "1 A True\n",
      "2 B True\n",
      "3 C False\n",
      "4 D False\n",
      "5 E True\n",
      "[1, 2, 'C', 'D', 5]\n",
      "['1' '2' 'C' 'D' '5']\n",
      "['small' 'small' 'big' 'big' 'big']\n",
      "['true' 'true' 'false' 'false' 'true']\n"
     ]
    }
   ],
   "source": [
    "f = np.array( [ 1, 2, 3, 4, 5] )\n",
    "g = np.array( [ 'A', 'B', 'C', 'D', 'E'] )\n",
    "h = np.array( [ True, True, False, False, True ] )\n",
    "# 삼항연산           조건? 참 : 거짓\n",
    "                     # 참if 조건 else 거짓\n",
    "for x, y, z in zip(f, g, h):\n",
    "    print(x, y, z)\n",
    "\n",
    "print( [x if z else y for x, y, z in zip(f, g, h) ] )\n",
    "\n",
    "#간결한 함수 where\n",
    "print(np.where(h,f,g)) # 맨 앞(h)이 조건이고 나머지가 값임.( 조건, 참일때, 거짓일때)\n",
    "print( np.where( f < 3, 'small', 'big'))\n",
    "print( np.where( h, 'true', 'false'))"
   ]
  },
  {
   "cell_type": "code",
   "execution_count": 225,
   "id": "a309432e-cecd-4023-b2b0-f4527972727b",
   "metadata": {},
   "outputs": [
    {
     "name": "stdout",
     "output_type": "stream",
     "text": [
      "Help on _ArrayFunctionDispatcher in module numpy:\n",
      "\n",
      "where(...)\n",
      "    where(condition, [x, y], /)\n",
      "\n",
      "    Return elements chosen from `x` or `y` depending on `condition`.\n",
      "\n",
      "    .. note::\n",
      "        When only `condition` is provided, this function is a shorthand for\n",
      "        ``np.asarray(condition).nonzero()``. Using `nonzero` directly should be\n",
      "        preferred, as it behaves correctly for subclasses. The rest of this\n",
      "        documentation covers only the case where all three arguments are\n",
      "        provided.\n",
      "\n",
      "    Parameters\n",
      "    ----------\n",
      "    condition : array_like, bool\n",
      "        Where True, yield `x`, otherwise yield `y`.\n",
      "    x, y : array_like\n",
      "        Values from which to choose. `x`, `y` and `condition` need to be\n",
      "        broadcastable to some shape.\n",
      "\n",
      "    Returns\n",
      "    -------\n",
      "    out : ndarray\n",
      "        An array with elements from `x` where `condition` is True, and elements\n",
      "        from `y` elsewhere.\n",
      "\n",
      "    See Also\n",
      "    --------\n",
      "    choose\n",
      "    nonzero : The function that is called when x and y are omitted\n",
      "\n",
      "    Notes\n",
      "    -----\n",
      "    If all the arrays are 1-D, `where` is equivalent to::\n",
      "\n",
      "        [xv if c else yv\n",
      "         for c, xv, yv in zip(condition, x, y)]\n",
      "\n",
      "    Examples\n",
      "    --------\n",
      "    >>> a = np.arange(10)\n",
      "    >>> a\n",
      "    array([0, 1, 2, 3, 4, 5, 6, 7, 8, 9])\n",
      "    >>> np.where(a < 5, a, 10*a)\n",
      "    array([ 0,  1,  2,  3,  4, 50, 60, 70, 80, 90])\n",
      "\n",
      "    This can be used on multidimensional arrays too:\n",
      "\n",
      "    >>> np.where([[True, False], [True, True]],\n",
      "    ...          [[1, 2], [3, 4]],\n",
      "    ...          [[9, 8], [7, 6]])\n",
      "    array([[1, 8],\n",
      "           [3, 4]])\n",
      "\n",
      "    The shapes of x, y, and the condition are broadcast together:\n",
      "\n",
      "    >>> x, y = np.ogrid[:3, :4]\n",
      "    >>> np.where(x < y, x, 10 + y)  # both x and 10+y are broadcast\n",
      "    array([[10,  0,  0,  0],\n",
      "           [10, 11,  1,  1],\n",
      "           [10, 11, 12,  2]])\n",
      "\n",
      "    >>> a = np.array([[0, 1, 2],\n",
      "    ...               [0, 2, 4],\n",
      "    ...               [0, 3, 6]])\n",
      "    >>> np.where(a < 4, a, -1)  # -1 is broadcast\n",
      "    array([[ 0,  1,  2],\n",
      "           [ 0,  2, -1],\n",
      "           [ 0,  3, -1]])\n",
      "\n"
     ]
    }
   ],
   "source": [
    "help(np.where)"
   ]
  },
  {
   "cell_type": "code",
   "execution_count": 237,
   "id": "c7fdabdc-5bb8-47d9-9dcf-4252e898e6a1",
   "metadata": {},
   "outputs": [
    {
     "name": "stdout",
     "output_type": "stream",
     "text": [
      "<class 'numpy.ndarray'>\n",
      "<class 'numpy.lib.npyio.NpzFile'>\n",
      "[0 1 2 3 4 5 6 7 8 9]\n",
      "[ 0  1  2  3  4  5  6  7  8  9 10 11 12 13 14 15 16 17 18 19]\n"
     ]
    }
   ],
   "source": [
    "# 파일 생성하기\n",
    "i = np.arange( 10 ) # 0~9\n",
    "np.save( 'i.npy', i )\n",
    "# 파일 빼내기\n",
    "ii = np.load( 'i.npy' )\n",
    "print(type(ii))\n",
    "\n",
    "j = np.arange(10)\n",
    "k = np.arange(20)\n",
    "np.savez( 'jk.npz', x=j, y=k )\n",
    "jk = np.load( 'jk.npz' )\n",
    "print( type( jk ))\n",
    "print( jk['x'] )\n",
    "print( jk['y'] )"
   ]
  },
  {
   "cell_type": "code",
   "execution_count": null,
   "id": "37896bd2-80a1-46a7-90c7-b5c65c4b84e4",
   "metadata": {},
   "outputs": [],
   "source": []
  },
  {
   "cell_type": "code",
   "execution_count": null,
   "id": "b5b924b7-727a-4f6c-b587-8e5416d6ee1f",
   "metadata": {},
   "outputs": [],
   "source": []
  },
  {
   "cell_type": "code",
   "execution_count": null,
   "id": "dad94c95-48c9-4266-8bf9-149117115f28",
   "metadata": {},
   "outputs": [],
   "source": []
  },
  {
   "cell_type": "code",
   "execution_count": null,
   "id": "5ef52e2d-3873-4a5e-87c1-783f44f8b440",
   "metadata": {},
   "outputs": [],
   "source": []
  },
  {
   "cell_type": "code",
   "execution_count": null,
   "id": "9c0bffda-c610-4b4c-8c85-9f02f28cfc86",
   "metadata": {},
   "outputs": [],
   "source": []
  },
  {
   "cell_type": "code",
   "execution_count": null,
   "id": "83417b13-470c-4725-a3d6-e3f63d4d8a95",
   "metadata": {},
   "outputs": [],
   "source": []
  },
  {
   "cell_type": "code",
   "execution_count": null,
   "id": "62418f3e-1b05-4b47-b11b-2424d3a5ec68",
   "metadata": {},
   "outputs": [],
   "source": []
  },
  {
   "cell_type": "code",
   "execution_count": null,
   "id": "38aac3eb-bb4e-4ad7-b519-cc663526e2f8",
   "metadata": {},
   "outputs": [],
   "source": []
  },
  {
   "cell_type": "code",
   "execution_count": null,
   "id": "c1cffd8f-228c-4419-bb09-c14c800be78f",
   "metadata": {},
   "outputs": [],
   "source": []
  },
  {
   "cell_type": "code",
   "execution_count": null,
   "id": "9d19cc08-5aba-454a-9a03-a7a681aabe1f",
   "metadata": {},
   "outputs": [],
   "source": []
  },
  {
   "cell_type": "code",
   "execution_count": null,
   "id": "d11518e7-1f79-4682-aac7-9b2ff8ffc9ed",
   "metadata": {},
   "outputs": [],
   "source": []
  },
  {
   "cell_type": "code",
   "execution_count": null,
   "id": "ee85b961-59cc-4be8-adf1-cd8eb03db3df",
   "metadata": {},
   "outputs": [],
   "source": []
  },
  {
   "cell_type": "code",
   "execution_count": null,
   "id": "bf58a1e4-d434-4f95-974d-8b301477a4f7",
   "metadata": {},
   "outputs": [],
   "source": []
  },
  {
   "cell_type": "code",
   "execution_count": null,
   "id": "9e1b8bd2-b6cd-4398-ae4b-7bbbfbec802a",
   "metadata": {},
   "outputs": [],
   "source": []
  }
 ],
 "metadata": {
  "kernelspec": {
   "display_name": "Python 3 (ipykernel)",
   "language": "python",
   "name": "python3"
  },
  "language_info": {
   "codemirror_mode": {
    "name": "ipython",
    "version": 3
   },
   "file_extension": ".py",
   "mimetype": "text/x-python",
   "name": "python",
   "nbconvert_exporter": "python",
   "pygments_lexer": "ipython3",
   "version": "3.12.4"
  }
 },
 "nbformat": 4,
 "nbformat_minor": 5
}
